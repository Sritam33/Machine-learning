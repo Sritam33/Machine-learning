{
 "cells": [
  {
   "cell_type": "code",
   "execution_count": 1,
   "id": "3db0c7f9",
   "metadata": {
    "execution": {
     "iopub.execute_input": "2023-12-19T16:37:49.938679Z",
     "iopub.status.busy": "2023-12-19T16:37:49.937881Z",
     "iopub.status.idle": "2023-12-19T16:37:49.952597Z",
     "shell.execute_reply": "2023-12-19T16:37:49.951691Z"
    },
    "papermill": {
     "duration": 0.025868,
     "end_time": "2023-12-19T16:37:49.954656",
     "exception": false,
     "start_time": "2023-12-19T16:37:49.928788",
     "status": "completed"
    },
    "tags": []
   },
   "outputs": [
    {
     "data": {
      "text/plain": [
       "'\\nstep 1 : importing the libraries\\nstep 2 : read the data\\nstep 3 : check the shape of the data\\nstep 4 : view the smples\\nstep 5 : basic eda\\nstep 6 : to check the null value\\nstep 7 : data preprocesing - converting categorical into numerical\\nstep 8 : train test split\\nstep 9 : traininig the model\\nstep 10 : test the model\\nstep 11 :  calculating the mean squared error loss and accuracy(R2 square)\\n'"
      ]
     },
     "execution_count": 1,
     "metadata": {},
     "output_type": "execute_result"
    }
   ],
   "source": [
    "'''\n",
    "step 1 : importing the libraries\n",
    "step 2 : read the data\n",
    "step 3 : check the shape of the data\n",
    "step 4 : view the smples\n",
    "step 5 : basic eda\n",
    "step 6 : to check the null value\n",
    "step 7 : data preprocesing - converting categorical into numerical\n",
    "step 8 : train test split\n",
    "step 9 : traininig the model\n",
    "step 10 : test the model\n",
    "step 11 :  calculating the mean squared error loss and accuracy(R2 square)\n",
    "'''"
   ]
  },
  {
   "cell_type": "markdown",
   "id": "326dfef9",
   "metadata": {
    "papermill": {
     "duration": 0.006998,
     "end_time": "2023-12-19T16:37:49.968747",
     "exception": false,
     "start_time": "2023-12-19T16:37:49.961749",
     "status": "completed"
    },
    "tags": []
   },
   "source": [
    "## importing libraries"
   ]
  },
  {
   "cell_type": "code",
   "execution_count": 2,
   "id": "0f3e0160",
   "metadata": {
    "execution": {
     "iopub.execute_input": "2023-12-19T16:37:49.984303Z",
     "iopub.status.busy": "2023-12-19T16:37:49.983910Z",
     "iopub.status.idle": "2023-12-19T16:37:52.085164Z",
     "shell.execute_reply": "2023-12-19T16:37:52.084072Z"
    },
    "papermill": {
     "duration": 2.111718,
     "end_time": "2023-12-19T16:37:52.087516",
     "exception": false,
     "start_time": "2023-12-19T16:37:49.975798",
     "status": "completed"
    },
    "tags": []
   },
   "outputs": [],
   "source": [
    "import pandas as pd\n",
    "import seaborn as sns \n",
    "import matplotlib.pyplot as plt\n",
    "import numpy as np\n",
    "##sklearn\n",
    "from sklearn.model_selection import train_test_split\n",
    "from sklearn.linear_model import LinearRegression \n",
    "from sklearn.metrics import mean_squared_error\n",
    "# set figure size\n",
    "plt.rcParams['figure.figsize'] = [8,5]"
   ]
  },
  {
   "cell_type": "markdown",
   "id": "4a6f6781",
   "metadata": {
    "papermill": {
     "duration": 0.006663,
     "end_time": "2023-12-19T16:37:52.101525",
     "exception": false,
     "start_time": "2023-12-19T16:37:52.094862",
     "status": "completed"
    },
    "tags": []
   },
   "source": [
    "## data read"
   ]
  },
  {
   "cell_type": "code",
   "execution_count": 3,
   "id": "111ef5b3",
   "metadata": {
    "execution": {
     "iopub.execute_input": "2023-12-19T16:37:52.117144Z",
     "iopub.status.busy": "2023-12-19T16:37:52.116632Z",
     "iopub.status.idle": "2023-12-19T16:37:52.171633Z",
     "shell.execute_reply": "2023-12-19T16:37:52.170661Z"
    },
    "papermill": {
     "duration": 0.065089,
     "end_time": "2023-12-19T16:37:52.173654",
     "exception": false,
     "start_time": "2023-12-19T16:37:52.108565",
     "status": "completed"
    },
    "tags": []
   },
   "outputs": [
    {
     "data": {
      "text/html": [
       "<div>\n",
       "<style scoped>\n",
       "    .dataframe tbody tr th:only-of-type {\n",
       "        vertical-align: middle;\n",
       "    }\n",
       "\n",
       "    .dataframe tbody tr th {\n",
       "        vertical-align: top;\n",
       "    }\n",
       "\n",
       "    .dataframe thead th {\n",
       "        text-align: right;\n",
       "    }\n",
       "</style>\n",
       "<table border=\"1\" class=\"dataframe\">\n",
       "  <thead>\n",
       "    <tr style=\"text-align: right;\">\n",
       "      <th></th>\n",
       "      <th>age</th>\n",
       "      <th>sex</th>\n",
       "      <th>bmi</th>\n",
       "      <th>children</th>\n",
       "      <th>smoker</th>\n",
       "      <th>region</th>\n",
       "      <th>charges</th>\n",
       "    </tr>\n",
       "  </thead>\n",
       "  <tbody>\n",
       "    <tr>\n",
       "      <th>0</th>\n",
       "      <td>19</td>\n",
       "      <td>female</td>\n",
       "      <td>27.900</td>\n",
       "      <td>0</td>\n",
       "      <td>yes</td>\n",
       "      <td>southwest</td>\n",
       "      <td>16884.92400</td>\n",
       "    </tr>\n",
       "    <tr>\n",
       "      <th>1</th>\n",
       "      <td>18</td>\n",
       "      <td>male</td>\n",
       "      <td>33.770</td>\n",
       "      <td>1</td>\n",
       "      <td>no</td>\n",
       "      <td>southeast</td>\n",
       "      <td>1725.55230</td>\n",
       "    </tr>\n",
       "    <tr>\n",
       "      <th>2</th>\n",
       "      <td>28</td>\n",
       "      <td>male</td>\n",
       "      <td>33.000</td>\n",
       "      <td>3</td>\n",
       "      <td>no</td>\n",
       "      <td>southeast</td>\n",
       "      <td>4449.46200</td>\n",
       "    </tr>\n",
       "    <tr>\n",
       "      <th>3</th>\n",
       "      <td>33</td>\n",
       "      <td>male</td>\n",
       "      <td>22.705</td>\n",
       "      <td>0</td>\n",
       "      <td>no</td>\n",
       "      <td>northwest</td>\n",
       "      <td>21984.47061</td>\n",
       "    </tr>\n",
       "    <tr>\n",
       "      <th>4</th>\n",
       "      <td>32</td>\n",
       "      <td>male</td>\n",
       "      <td>28.880</td>\n",
       "      <td>0</td>\n",
       "      <td>no</td>\n",
       "      <td>northwest</td>\n",
       "      <td>3866.85520</td>\n",
       "    </tr>\n",
       "    <tr>\n",
       "      <th>...</th>\n",
       "      <td>...</td>\n",
       "      <td>...</td>\n",
       "      <td>...</td>\n",
       "      <td>...</td>\n",
       "      <td>...</td>\n",
       "      <td>...</td>\n",
       "      <td>...</td>\n",
       "    </tr>\n",
       "    <tr>\n",
       "      <th>1333</th>\n",
       "      <td>50</td>\n",
       "      <td>male</td>\n",
       "      <td>30.970</td>\n",
       "      <td>3</td>\n",
       "      <td>no</td>\n",
       "      <td>northwest</td>\n",
       "      <td>10600.54830</td>\n",
       "    </tr>\n",
       "    <tr>\n",
       "      <th>1334</th>\n",
       "      <td>18</td>\n",
       "      <td>female</td>\n",
       "      <td>31.920</td>\n",
       "      <td>0</td>\n",
       "      <td>no</td>\n",
       "      <td>northeast</td>\n",
       "      <td>2205.98080</td>\n",
       "    </tr>\n",
       "    <tr>\n",
       "      <th>1335</th>\n",
       "      <td>18</td>\n",
       "      <td>female</td>\n",
       "      <td>36.850</td>\n",
       "      <td>0</td>\n",
       "      <td>no</td>\n",
       "      <td>southeast</td>\n",
       "      <td>1629.83350</td>\n",
       "    </tr>\n",
       "    <tr>\n",
       "      <th>1336</th>\n",
       "      <td>21</td>\n",
       "      <td>female</td>\n",
       "      <td>25.800</td>\n",
       "      <td>0</td>\n",
       "      <td>no</td>\n",
       "      <td>southwest</td>\n",
       "      <td>2007.94500</td>\n",
       "    </tr>\n",
       "    <tr>\n",
       "      <th>1337</th>\n",
       "      <td>61</td>\n",
       "      <td>female</td>\n",
       "      <td>29.070</td>\n",
       "      <td>0</td>\n",
       "      <td>yes</td>\n",
       "      <td>northwest</td>\n",
       "      <td>29141.36030</td>\n",
       "    </tr>\n",
       "  </tbody>\n",
       "</table>\n",
       "<p>1338 rows × 7 columns</p>\n",
       "</div>"
      ],
      "text/plain": [
       "      age     sex     bmi  children smoker     region      charges\n",
       "0      19  female  27.900         0    yes  southwest  16884.92400\n",
       "1      18    male  33.770         1     no  southeast   1725.55230\n",
       "2      28    male  33.000         3     no  southeast   4449.46200\n",
       "3      33    male  22.705         0     no  northwest  21984.47061\n",
       "4      32    male  28.880         0     no  northwest   3866.85520\n",
       "...   ...     ...     ...       ...    ...        ...          ...\n",
       "1333   50    male  30.970         3     no  northwest  10600.54830\n",
       "1334   18  female  31.920         0     no  northeast   2205.98080\n",
       "1335   18  female  36.850         0     no  southeast   1629.83350\n",
       "1336   21  female  25.800         0     no  southwest   2007.94500\n",
       "1337   61  female  29.070         0    yes  northwest  29141.36030\n",
       "\n",
       "[1338 rows x 7 columns]"
      ]
     },
     "execution_count": 3,
     "metadata": {},
     "output_type": "execute_result"
    }
   ],
   "source": [
    "df=pd.read_csv(\"/kaggle/input/insurance/insurance.csv\")\n",
    "df"
   ]
  },
  {
   "cell_type": "code",
   "execution_count": 4,
   "id": "92fe2591",
   "metadata": {
    "execution": {
     "iopub.execute_input": "2023-12-19T16:37:52.191473Z",
     "iopub.status.busy": "2023-12-19T16:37:52.190672Z",
     "iopub.status.idle": "2023-12-19T16:37:52.197239Z",
     "shell.execute_reply": "2023-12-19T16:37:52.196266Z"
    },
    "papermill": {
     "duration": 0.01741,
     "end_time": "2023-12-19T16:37:52.199285",
     "exception": false,
     "start_time": "2023-12-19T16:37:52.181875",
     "status": "completed"
    },
    "tags": []
   },
   "outputs": [
    {
     "data": {
      "text/plain": [
       "(1338, 7)"
      ]
     },
     "execution_count": 4,
     "metadata": {},
     "output_type": "execute_result"
    }
   ],
   "source": [
    "df.shape"
   ]
  },
  {
   "cell_type": "code",
   "execution_count": 5,
   "id": "5a29101d",
   "metadata": {
    "execution": {
     "iopub.execute_input": "2023-12-19T16:37:52.216370Z",
     "iopub.status.busy": "2023-12-19T16:37:52.216006Z",
     "iopub.status.idle": "2023-12-19T16:37:52.229784Z",
     "shell.execute_reply": "2023-12-19T16:37:52.228679Z"
    },
    "papermill": {
     "duration": 0.024839,
     "end_time": "2023-12-19T16:37:52.231731",
     "exception": false,
     "start_time": "2023-12-19T16:37:52.206892",
     "status": "completed"
    },
    "tags": []
   },
   "outputs": [
    {
     "data": {
      "text/html": [
       "<div>\n",
       "<style scoped>\n",
       "    .dataframe tbody tr th:only-of-type {\n",
       "        vertical-align: middle;\n",
       "    }\n",
       "\n",
       "    .dataframe tbody tr th {\n",
       "        vertical-align: top;\n",
       "    }\n",
       "\n",
       "    .dataframe thead th {\n",
       "        text-align: right;\n",
       "    }\n",
       "</style>\n",
       "<table border=\"1\" class=\"dataframe\">\n",
       "  <thead>\n",
       "    <tr style=\"text-align: right;\">\n",
       "      <th></th>\n",
       "      <th>age</th>\n",
       "      <th>sex</th>\n",
       "      <th>bmi</th>\n",
       "      <th>children</th>\n",
       "      <th>smoker</th>\n",
       "      <th>region</th>\n",
       "      <th>charges</th>\n",
       "    </tr>\n",
       "  </thead>\n",
       "  <tbody>\n",
       "    <tr>\n",
       "      <th>0</th>\n",
       "      <td>19</td>\n",
       "      <td>female</td>\n",
       "      <td>27.900</td>\n",
       "      <td>0</td>\n",
       "      <td>yes</td>\n",
       "      <td>southwest</td>\n",
       "      <td>16884.92400</td>\n",
       "    </tr>\n",
       "    <tr>\n",
       "      <th>1</th>\n",
       "      <td>18</td>\n",
       "      <td>male</td>\n",
       "      <td>33.770</td>\n",
       "      <td>1</td>\n",
       "      <td>no</td>\n",
       "      <td>southeast</td>\n",
       "      <td>1725.55230</td>\n",
       "    </tr>\n",
       "    <tr>\n",
       "      <th>2</th>\n",
       "      <td>28</td>\n",
       "      <td>male</td>\n",
       "      <td>33.000</td>\n",
       "      <td>3</td>\n",
       "      <td>no</td>\n",
       "      <td>southeast</td>\n",
       "      <td>4449.46200</td>\n",
       "    </tr>\n",
       "    <tr>\n",
       "      <th>3</th>\n",
       "      <td>33</td>\n",
       "      <td>male</td>\n",
       "      <td>22.705</td>\n",
       "      <td>0</td>\n",
       "      <td>no</td>\n",
       "      <td>northwest</td>\n",
       "      <td>21984.47061</td>\n",
       "    </tr>\n",
       "    <tr>\n",
       "      <th>4</th>\n",
       "      <td>32</td>\n",
       "      <td>male</td>\n",
       "      <td>28.880</td>\n",
       "      <td>0</td>\n",
       "      <td>no</td>\n",
       "      <td>northwest</td>\n",
       "      <td>3866.85520</td>\n",
       "    </tr>\n",
       "  </tbody>\n",
       "</table>\n",
       "</div>"
      ],
      "text/plain": [
       "   age     sex     bmi  children smoker     region      charges\n",
       "0   19  female  27.900         0    yes  southwest  16884.92400\n",
       "1   18    male  33.770         1     no  southeast   1725.55230\n",
       "2   28    male  33.000         3     no  southeast   4449.46200\n",
       "3   33    male  22.705         0     no  northwest  21984.47061\n",
       "4   32    male  28.880         0     no  northwest   3866.85520"
      ]
     },
     "execution_count": 5,
     "metadata": {},
     "output_type": "execute_result"
    }
   ],
   "source": [
    "df.head()"
   ]
  },
  {
   "cell_type": "markdown",
   "id": "9eca32f6",
   "metadata": {
    "papermill": {
     "duration": 0.007383,
     "end_time": "2023-12-19T16:37:52.246832",
     "exception": false,
     "start_time": "2023-12-19T16:37:52.239449",
     "status": "completed"
    },
    "tags": []
   },
   "source": [
    "## EDA and bmi and charges(bmi - body mass index)"
   ]
  },
  {
   "cell_type": "code",
   "execution_count": 6,
   "id": "20831201",
   "metadata": {
    "execution": {
     "iopub.execute_input": "2023-12-19T16:37:52.264021Z",
     "iopub.status.busy": "2023-12-19T16:37:52.263138Z",
     "iopub.status.idle": "2023-12-19T16:37:52.937775Z",
     "shell.execute_reply": "2023-12-19T16:37:52.936962Z"
    },
    "papermill": {
     "duration": 0.68547,
     "end_time": "2023-12-19T16:37:52.939776",
     "exception": false,
     "start_time": "2023-12-19T16:37:52.254306",
     "status": "completed"
    },
    "tags": []
   },
   "outputs": [
    {
     "data": {
      "text/plain": [
       "Text(0.5, 1.0, 'BMI vs charges ')"
      ]
     },
     "execution_count": 6,
     "metadata": {},
     "output_type": "execute_result"
    },
    {
     "data": {
      "image/png": "[encoded data removed]",
      "text/plain": [
       "<Figure size 500x500 with 1 Axes>"
      ]
     },
     "metadata": {},
     "output_type": "display_data"
    }
   ],
   "source": [
    "## plotting between  bmi(continueous) and charges(continueous)\n",
    "sns.lmplot( x = 'bmi', y = 'charges',data = df)\n",
    "plt.xlabel(\"BMI\")\n",
    "plt.ylabel(\"charges\")\n",
    "plt.title('BMI vs charges ')"
   ]
  },
  {
   "cell_type": "code",
   "execution_count": 7,
   "id": "31e8a3b8",
   "metadata": {
    "execution": {
     "iopub.execute_input": "2023-12-19T16:37:52.960186Z",
     "iopub.status.busy": "2023-12-19T16:37:52.959545Z",
     "iopub.status.idle": "2023-12-19T16:37:52.979923Z",
     "shell.execute_reply": "2023-12-19T16:37:52.979112Z"
    },
    "papermill": {
     "duration": 0.033033,
     "end_time": "2023-12-19T16:37:52.982099",
     "exception": false,
     "start_time": "2023-12-19T16:37:52.949066",
     "status": "completed"
    },
    "tags": []
   },
   "outputs": [
    {
     "data": {
      "text/html": [
       "<div>\n",
       "<style scoped>\n",
       "    .dataframe tbody tr th:only-of-type {\n",
       "        vertical-align: middle;\n",
       "    }\n",
       "\n",
       "    .dataframe tbody tr th {\n",
       "        vertical-align: top;\n",
       "    }\n",
       "\n",
       "    .dataframe thead th {\n",
       "        text-align: right;\n",
       "    }\n",
       "</style>\n",
       "<table border=\"1\" class=\"dataframe\">\n",
       "  <thead>\n",
       "    <tr style=\"text-align: right;\">\n",
       "      <th></th>\n",
       "      <th>age</th>\n",
       "      <th>bmi</th>\n",
       "      <th>children</th>\n",
       "      <th>charges</th>\n",
       "    </tr>\n",
       "  </thead>\n",
       "  <tbody>\n",
       "    <tr>\n",
       "      <th>count</th>\n",
       "      <td>1338.000000</td>\n",
       "      <td>1338.000000</td>\n",
       "      <td>1338.000000</td>\n",
       "      <td>1338.000000</td>\n",
       "    </tr>\n",
       "    <tr>\n",
       "      <th>mean</th>\n",
       "      <td>39.207025</td>\n",
       "      <td>30.663397</td>\n",
       "      <td>1.094918</td>\n",
       "      <td>13270.422265</td>\n",
       "    </tr>\n",
       "    <tr>\n",
       "      <th>std</th>\n",
       "      <td>14.049960</td>\n",
       "      <td>6.098187</td>\n",
       "      <td>1.205493</td>\n",
       "      <td>12110.011237</td>\n",
       "    </tr>\n",
       "    <tr>\n",
       "      <th>min</th>\n",
       "      <td>18.000000</td>\n",
       "      <td>15.960000</td>\n",
       "      <td>0.000000</td>\n",
       "      <td>1121.873900</td>\n",
       "    </tr>\n",
       "    <tr>\n",
       "      <th>25%</th>\n",
       "      <td>27.000000</td>\n",
       "      <td>26.296250</td>\n",
       "      <td>0.000000</td>\n",
       "      <td>4740.287150</td>\n",
       "    </tr>\n",
       "    <tr>\n",
       "      <th>50%</th>\n",
       "      <td>39.000000</td>\n",
       "      <td>30.400000</td>\n",
       "      <td>1.000000</td>\n",
       "      <td>9382.033000</td>\n",
       "    </tr>\n",
       "    <tr>\n",
       "      <th>75%</th>\n",
       "      <td>51.000000</td>\n",
       "      <td>34.693750</td>\n",
       "      <td>2.000000</td>\n",
       "      <td>16639.912515</td>\n",
       "    </tr>\n",
       "    <tr>\n",
       "      <th>max</th>\n",
       "      <td>64.000000</td>\n",
       "      <td>53.130000</td>\n",
       "      <td>5.000000</td>\n",
       "      <td>63770.428010</td>\n",
       "    </tr>\n",
       "  </tbody>\n",
       "</table>\n",
       "</div>"
      ],
      "text/plain": [
       "               age          bmi     children       charges\n",
       "count  1338.000000  1338.000000  1338.000000   1338.000000\n",
       "mean     39.207025    30.663397     1.094918  13270.422265\n",
       "std      14.049960     6.098187     1.205493  12110.011237\n",
       "min      18.000000    15.960000     0.000000   1121.873900\n",
       "25%      27.000000    26.296250     0.000000   4740.287150\n",
       "50%      39.000000    30.400000     1.000000   9382.033000\n",
       "75%      51.000000    34.693750     2.000000  16639.912515\n",
       "max      64.000000    53.130000     5.000000  63770.428010"
      ]
     },
     "execution_count": 7,
     "metadata": {},
     "output_type": "execute_result"
    }
   ],
   "source": [
    "df.describe()"
   ]
  },
  {
   "cell_type": "code",
   "execution_count": 8,
   "id": "643e8c8c",
   "metadata": {
    "execution": {
     "iopub.execute_input": "2023-12-19T16:37:53.002347Z",
     "iopub.status.busy": "2023-12-19T16:37:53.001977Z",
     "iopub.status.idle": "2023-12-19T16:37:53.009387Z",
     "shell.execute_reply": "2023-12-19T16:37:53.008691Z"
    },
    "papermill": {
     "duration": 0.019745,
     "end_time": "2023-12-19T16:37:53.011277",
     "exception": false,
     "start_time": "2023-12-19T16:37:52.991532",
     "status": "completed"
    },
    "tags": []
   },
   "outputs": [
    {
     "data": {
      "text/plain": [
       "age         0\n",
       "sex         0\n",
       "bmi         0\n",
       "children    0\n",
       "smoker      0\n",
       "region      0\n",
       "charges     0\n",
       "dtype: int64"
      ]
     },
     "execution_count": 8,
     "metadata": {},
     "output_type": "execute_result"
    }
   ],
   "source": [
    "df.isnull().sum()"
   ]
  },
  {
   "cell_type": "code",
   "execution_count": 9,
   "id": "4210b8b8",
   "metadata": {
    "execution": {
     "iopub.execute_input": "2023-12-19T16:37:53.032632Z",
     "iopub.status.busy": "2023-12-19T16:37:53.032207Z",
     "iopub.status.idle": "2023-12-19T16:37:53.392684Z",
     "shell.execute_reply": "2023-12-19T16:37:53.391561Z"
    },
    "papermill": {
     "duration": 0.37492,
     "end_time": "2023-12-19T16:37:53.395623",
     "exception": false,
     "start_time": "2023-12-19T16:37:53.020703",
     "status": "completed"
    },
    "tags": []
   },
   "outputs": [
    {
     "data": {
      "text/plain": [
       "<Axes: >"
      ]
     },
     "execution_count": 9,
     "metadata": {},
     "output_type": "execute_result"
    },
    {
     "data": {
      "image/png": "[encoded data removed]",
      "text/plain": [
       "<Figure size 800x500 with 2 Axes>"
      ]
     },
     "metadata": {},
     "output_type": "display_data"
    }
   ],
   "source": [
    "## correlation plot\n",
    "corr = df.corr(numeric_only=True)\n",
    "sns.heatmap(corr,cmap='Wistia',annot= True)"
   ]
  },
  {
   "cell_type": "code",
   "execution_count": 10,
   "id": "bad79a47",
   "metadata": {
    "execution": {
     "iopub.execute_input": "2023-12-19T16:37:53.421529Z",
     "iopub.status.busy": "2023-12-19T16:37:53.420462Z",
     "iopub.status.idle": "2023-12-19T16:37:54.179519Z",
     "shell.execute_reply": "2023-12-19T16:37:54.178403Z"
    },
    "papermill": {
     "duration": 0.774173,
     "end_time": "2023-12-19T16:37:54.182905",
     "exception": false,
     "start_time": "2023-12-19T16:37:53.408732",
     "status": "completed"
    },
    "tags": []
   },
   "outputs": [
    {
     "data": {
      "text/plain": [
       "<Axes: xlabel='charges', ylabel='Count'>"
      ]
     },
     "execution_count": 10,
     "metadata": {},
     "output_type": "execute_result"
    },
    {
     "data": {
      "image/png": "[encoded data removed]",
      "text/plain": [
       "<Figure size 800x500 with 2 Axes>"
      ]
     },
     "metadata": {},
     "output_type": "display_data"
    }
   ],
   "source": [
    "fig,(ax1,ax2) = plt.subplots(ncols=2)\n",
    "## target variable\n",
    "sns.histplot(df['charges'],kde = True,bins = 50,fill= True,ax = ax1)\n",
    "# data is rightskewed\n",
    "# to correct the skewness in the data ,we perform log transformation\n",
    "sns.histplot(np.log10(df['charges']),kde = True,bins = 50,fill= True,ax = ax2)"
   ]
  },
  {
   "cell_type": "code",
   "execution_count": 11,
   "id": "ce49dacf",
   "metadata": {
    "execution": {
     "iopub.execute_input": "2023-12-19T16:37:54.213085Z",
     "iopub.status.busy": "2023-12-19T16:37:54.212454Z",
     "iopub.status.idle": "2023-12-19T16:37:54.578824Z",
     "shell.execute_reply": "2023-12-19T16:37:54.577570Z"
    },
    "papermill": {
     "duration": 0.381026,
     "end_time": "2023-12-19T16:37:54.581201",
     "exception": false,
     "start_time": "2023-12-19T16:37:54.200175",
     "status": "completed"
    },
    "tags": []
   },
   "outputs": [
    {
     "data": {
      "text/plain": [
       "<Axes: xlabel='smoker', ylabel='charges'>"
      ]
     },
     "execution_count": 11,
     "metadata": {},
     "output_type": "execute_result"
    },
    {
     "data": {
      "image/png": "[encoded data removed]",
      "text/plain": [
       "<Figure size 800x500 with 2 Axes>"
      ]
     },
     "metadata": {},
     "output_type": "display_data"
    }
   ],
   "source": [
    "# plot smoker with charges and sex with charges\n",
    "fig,(ax1,ax2) = plt.subplots(ncols=2)\n",
    "sns.boxplot(x='sex',y='charges',data=df,ax=ax1)\n",
    "sns.boxplot(x='smoker',y='charges',data=df,ax=ax2)"
   ]
  },
  {
   "cell_type": "code",
   "execution_count": 12,
   "id": "834adc91",
   "metadata": {
    "execution": {
     "iopub.execute_input": "2023-12-19T16:37:54.606222Z",
     "iopub.status.busy": "2023-12-19T16:37:54.605825Z",
     "iopub.status.idle": "2023-12-19T16:37:54.610492Z",
     "shell.execute_reply": "2023-12-19T16:37:54.609668Z"
    },
    "papermill": {
     "duration": 0.019989,
     "end_time": "2023-12-19T16:37:54.612559",
     "exception": false,
     "start_time": "2023-12-19T16:37:54.592570",
     "status": "completed"
    },
    "tags": []
   },
   "outputs": [],
   "source": [
    "## children vs charges"
   ]
  },
  {
   "cell_type": "code",
   "execution_count": 13,
   "id": "45452ac5",
   "metadata": {
    "execution": {
     "iopub.execute_input": "2023-12-19T16:37:54.637819Z",
     "iopub.status.busy": "2023-12-19T16:37:54.637175Z",
     "iopub.status.idle": "2023-12-19T16:37:54.928517Z",
     "shell.execute_reply": "2023-12-19T16:37:54.927410Z"
    },
    "papermill": {
     "duration": 0.306548,
     "end_time": "2023-12-19T16:37:54.930636",
     "exception": false,
     "start_time": "2023-12-19T16:37:54.624088",
     "status": "completed"
    },
    "tags": []
   },
   "outputs": [
    {
     "data": {
      "text/plain": [
       "<Axes: xlabel='children', ylabel='charges'>"
      ]
     },
     "execution_count": 13,
     "metadata": {},
     "output_type": "execute_result"
    },
    {
     "data": {
      "image/png": "[encoded data removed]",
      "text/plain": [
       "<Figure size 800x500 with 1 Axes>"
      ]
     },
     "metadata": {},
     "output_type": "display_data"
    }
   ],
   "source": [
    "df['children'].unique()\n",
    "sns.boxplot(x='children',y='charges',data=df)"
   ]
  },
  {
   "cell_type": "markdown",
   "id": "9b7e832d",
   "metadata": {
    "papermill": {
     "duration": 0.01306,
     "end_time": "2023-12-19T16:37:54.956163",
     "exception": false,
     "start_time": "2023-12-19T16:37:54.943103",
     "status": "completed"
    },
    "tags": []
   },
   "source": [
    "## Data Preprocesing - Encoding"
   ]
  },
  {
   "cell_type": "code",
   "execution_count": 14,
   "id": "77ef0048",
   "metadata": {
    "execution": {
     "iopub.execute_input": "2023-12-19T16:37:54.982753Z",
     "iopub.status.busy": "2023-12-19T16:37:54.981663Z",
     "iopub.status.idle": "2023-12-19T16:37:54.992330Z",
     "shell.execute_reply": "2023-12-19T16:37:54.991554Z"
    },
    "papermill": {
     "duration": 0.026032,
     "end_time": "2023-12-19T16:37:54.994452",
     "exception": false,
     "start_time": "2023-12-19T16:37:54.968420",
     "status": "completed"
    },
    "tags": []
   },
   "outputs": [],
   "source": [
    "categorical_columns = ['sex','children','smoker','region']\n",
    "# one hot encoding\n",
    "df_encoded = pd.get_dummies(data = df,prefix ='OHE',prefix_sep = '_',columns = categorical_columns,drop_first=True,dtype ='int8')"
   ]
  },
  {
   "cell_type": "code",
   "execution_count": 15,
   "id": "26fee58e",
   "metadata": {
    "execution": {
     "iopub.execute_input": "2023-12-19T16:37:55.020408Z",
     "iopub.status.busy": "2023-12-19T16:37:55.019768Z",
     "iopub.status.idle": "2023-12-19T16:37:55.025470Z",
     "shell.execute_reply": "2023-12-19T16:37:55.024500Z"
    },
    "papermill": {
     "duration": 0.021424,
     "end_time": "2023-12-19T16:37:55.027761",
     "exception": false,
     "start_time": "2023-12-19T16:37:55.006337",
     "status": "completed"
    },
    "tags": []
   },
   "outputs": [],
   "source": [
    "df_encoded.head()\n",
    "df_encoded['charges'] = np.log10(df_encoded['charges'])\n"
   ]
  },
  {
   "cell_type": "code",
   "execution_count": 16,
   "id": "4cc53892",
   "metadata": {
    "execution": {
     "iopub.execute_input": "2023-12-19T16:37:55.053795Z",
     "iopub.status.busy": "2023-12-19T16:37:55.053366Z",
     "iopub.status.idle": "2023-12-19T16:37:55.068008Z",
     "shell.execute_reply": "2023-12-19T16:37:55.067171Z"
    },
    "papermill": {
     "duration": 0.030223,
     "end_time": "2023-12-19T16:37:55.069917",
     "exception": false,
     "start_time": "2023-12-19T16:37:55.039694",
     "status": "completed"
    },
    "tags": []
   },
   "outputs": [
    {
     "data": {
      "text/html": [
       "<div>\n",
       "<style scoped>\n",
       "    .dataframe tbody tr th:only-of-type {\n",
       "        vertical-align: middle;\n",
       "    }\n",
       "\n",
       "    .dataframe tbody tr th {\n",
       "        vertical-align: top;\n",
       "    }\n",
       "\n",
       "    .dataframe thead th {\n",
       "        text-align: right;\n",
       "    }\n",
       "</style>\n",
       "<table border=\"1\" class=\"dataframe\">\n",
       "  <thead>\n",
       "    <tr style=\"text-align: right;\">\n",
       "      <th></th>\n",
       "      <th>age</th>\n",
       "      <th>bmi</th>\n",
       "      <th>charges</th>\n",
       "      <th>OHE_male</th>\n",
       "      <th>OHE_1</th>\n",
       "      <th>OHE_2</th>\n",
       "      <th>OHE_3</th>\n",
       "      <th>OHE_4</th>\n",
       "      <th>OHE_5</th>\n",
       "      <th>OHE_yes</th>\n",
       "      <th>OHE_northwest</th>\n",
       "      <th>OHE_southeast</th>\n",
       "      <th>OHE_southwest</th>\n",
       "    </tr>\n",
       "  </thead>\n",
       "  <tbody>\n",
       "    <tr>\n",
       "      <th>0</th>\n",
       "      <td>19</td>\n",
       "      <td>27.900</td>\n",
       "      <td>4.227499</td>\n",
       "      <td>0</td>\n",
       "      <td>0</td>\n",
       "      <td>0</td>\n",
       "      <td>0</td>\n",
       "      <td>0</td>\n",
       "      <td>0</td>\n",
       "      <td>1</td>\n",
       "      <td>0</td>\n",
       "      <td>0</td>\n",
       "      <td>1</td>\n",
       "    </tr>\n",
       "    <tr>\n",
       "      <th>1</th>\n",
       "      <td>18</td>\n",
       "      <td>33.770</td>\n",
       "      <td>3.236928</td>\n",
       "      <td>1</td>\n",
       "      <td>1</td>\n",
       "      <td>0</td>\n",
       "      <td>0</td>\n",
       "      <td>0</td>\n",
       "      <td>0</td>\n",
       "      <td>0</td>\n",
       "      <td>0</td>\n",
       "      <td>1</td>\n",
       "      <td>0</td>\n",
       "    </tr>\n",
       "    <tr>\n",
       "      <th>2</th>\n",
       "      <td>28</td>\n",
       "      <td>33.000</td>\n",
       "      <td>3.648308</td>\n",
       "      <td>1</td>\n",
       "      <td>0</td>\n",
       "      <td>0</td>\n",
       "      <td>1</td>\n",
       "      <td>0</td>\n",
       "      <td>0</td>\n",
       "      <td>0</td>\n",
       "      <td>0</td>\n",
       "      <td>1</td>\n",
       "      <td>0</td>\n",
       "    </tr>\n",
       "    <tr>\n",
       "      <th>3</th>\n",
       "      <td>33</td>\n",
       "      <td>22.705</td>\n",
       "      <td>4.342116</td>\n",
       "      <td>1</td>\n",
       "      <td>0</td>\n",
       "      <td>0</td>\n",
       "      <td>0</td>\n",
       "      <td>0</td>\n",
       "      <td>0</td>\n",
       "      <td>0</td>\n",
       "      <td>1</td>\n",
       "      <td>0</td>\n",
       "      <td>0</td>\n",
       "    </tr>\n",
       "    <tr>\n",
       "      <th>4</th>\n",
       "      <td>32</td>\n",
       "      <td>28.880</td>\n",
       "      <td>3.587358</td>\n",
       "      <td>1</td>\n",
       "      <td>0</td>\n",
       "      <td>0</td>\n",
       "      <td>0</td>\n",
       "      <td>0</td>\n",
       "      <td>0</td>\n",
       "      <td>0</td>\n",
       "      <td>1</td>\n",
       "      <td>0</td>\n",
       "      <td>0</td>\n",
       "    </tr>\n",
       "  </tbody>\n",
       "</table>\n",
       "</div>"
      ],
      "text/plain": [
       "   age     bmi   charges  OHE_male  OHE_1  OHE_2  OHE_3  OHE_4  OHE_5  \\\n",
       "0   19  27.900  4.227499         0      0      0      0      0      0   \n",
       "1   18  33.770  3.236928         1      1      0      0      0      0   \n",
       "2   28  33.000  3.648308         1      0      0      1      0      0   \n",
       "3   33  22.705  4.342116         1      0      0      0      0      0   \n",
       "4   32  28.880  3.587358         1      0      0      0      0      0   \n",
       "\n",
       "   OHE_yes  OHE_northwest  OHE_southeast  OHE_southwest  \n",
       "0        1              0              0              1  \n",
       "1        0              0              1              0  \n",
       "2        0              0              1              0  \n",
       "3        0              1              0              0  \n",
       "4        0              1              0              0  "
      ]
     },
     "execution_count": 16,
     "metadata": {},
     "output_type": "execute_result"
    }
   ],
   "source": [
    "df_encoded.head()"
   ]
  },
  {
   "cell_type": "code",
   "execution_count": 17,
   "id": "8fb09a1e",
   "metadata": {
    "execution": {
     "iopub.execute_input": "2023-12-19T16:37:55.096522Z",
     "iopub.status.busy": "2023-12-19T16:37:55.095435Z",
     "iopub.status.idle": "2023-12-19T16:37:55.103305Z",
     "shell.execute_reply": "2023-12-19T16:37:55.102556Z"
    },
    "papermill": {
     "duration": 0.023242,
     "end_time": "2023-12-19T16:37:55.105285",
     "exception": false,
     "start_time": "2023-12-19T16:37:55.082043",
     "status": "completed"
    },
    "tags": []
   },
   "outputs": [],
   "source": [
    "x = df_encoded.drop(['charges'],axis=1) #input  features\n",
    "y = df_encoded['charges']# target variable"
   ]
  },
  {
   "cell_type": "code",
   "execution_count": 18,
   "id": "6c404849",
   "metadata": {
    "execution": {
     "iopub.execute_input": "2023-12-19T16:37:55.131880Z",
     "iopub.status.busy": "2023-12-19T16:37:55.131436Z",
     "iopub.status.idle": "2023-12-19T16:37:55.138761Z",
     "shell.execute_reply": "2023-12-19T16:37:55.137826Z"
    },
    "papermill": {
     "duration": 0.023549,
     "end_time": "2023-12-19T16:37:55.141036",
     "exception": false,
     "start_time": "2023-12-19T16:37:55.117487",
     "status": "completed"
    },
    "tags": []
   },
   "outputs": [],
   "source": [
    "x_train,x_test,y_train,y_test = train_test_split(x,y,test_size = 0.3,random_state = 23)"
   ]
  },
  {
   "cell_type": "markdown",
   "id": "3307f00f",
   "metadata": {
    "papermill": {
     "duration": 0.012066,
     "end_time": "2023-12-19T16:37:55.165750",
     "exception": false,
     "start_time": "2023-12-19T16:37:55.153684",
     "status": "completed"
    },
    "tags": []
   },
   "source": [
    "## training the model"
   ]
  },
  {
   "cell_type": "code",
   "execution_count": 19,
   "id": "84676f64",
   "metadata": {
    "execution": {
     "iopub.execute_input": "2023-12-19T16:37:55.192839Z",
     "iopub.status.busy": "2023-12-19T16:37:55.192071Z",
     "iopub.status.idle": "2023-12-19T16:37:55.224608Z",
     "shell.execute_reply": "2023-12-19T16:37:55.223387Z"
    },
    "papermill": {
     "duration": 0.04853,
     "end_time": "2023-12-19T16:37:55.226774",
     "exception": false,
     "start_time": "2023-12-19T16:37:55.178244",
     "status": "completed"
    },
    "tags": []
   },
   "outputs": [
    {
     "data": {
      "text/html": [
       "<style>#sk-container-id-1 {color: black;background-color: white;}#sk-container-id-1 pre{padding: 0;}#sk-container-id-1 div.sk-toggleable {background-color: white;}#sk-container-id-1 label.sk-toggleable__label {cursor: pointer;display: block;width: 100%;margin-bottom: 0;padding: 0.3em;box-sizing: border-box;text-align: center;}#sk-container-id-1 label.sk-toggleable__label-arrow:before {content: \"▸\";float: left;margin-right: 0.25em;color: #696969;}#sk-container-id-1 label.sk-toggleable__label-arrow:hover:before {color: black;}#sk-container-id-1 div.sk-estimator:hover label.sk-toggleable__label-arrow:before {color: black;}#sk-container-id-1 div.sk-toggleable__content {max-height: 0;max-width: 0;overflow: hidden;text-align: left;background-color: #f0f8ff;}#sk-container-id-1 div.sk-toggleable__content pre {margin: 0.2em;color: black;border-radius: 0.25em;background-color: #f0f8ff;}#sk-container-id-1 input.sk-toggleable__control:checked~div.sk-toggleable__content {max-height: 200px;max-width: 100%;overflow: auto;}#sk-container-id-1 input.sk-toggleable__control:checked~label.sk-toggleable__label-arrow:before {content: \"▾\";}#sk-container-id-1 div.sk-estimator input.sk-toggleable__control:checked~label.sk-toggleable__label {background-color: #d4ebff;}#sk-container-id-1 div.sk-label input.sk-toggleable__control:checked~label.sk-toggleable__label {background-color: #d4ebff;}#sk-container-id-1 input.sk-hidden--visually {border: 0;clip: rect(1px 1px 1px 1px);clip: rect(1px, 1px, 1px, 1px);height: 1px;margin: -1px;overflow: hidden;padding: 0;position: absolute;width: 1px;}#sk-container-id-1 div.sk-estimator {font-family: monospace;background-color: #f0f8ff;border: 1px dotted black;border-radius: 0.25em;box-sizing: border-box;margin-bottom: 0.5em;}#sk-container-id-1 div.sk-estimator:hover {background-color: #d4ebff;}#sk-container-id-1 div.sk-parallel-item::after {content: \"\";width: 100%;border-bottom: 1px solid gray;flex-grow: 1;}#sk-container-id-1 div.sk-label:hover label.sk-toggleable__label {background-color: #d4ebff;}#sk-container-id-1 div.sk-serial::before {content: \"\";position: absolute;border-left: 1px solid gray;box-sizing: border-box;top: 0;bottom: 0;left: 50%;z-index: 0;}#sk-container-id-1 div.sk-serial {display: flex;flex-direction: column;align-items: center;background-color: white;padding-right: 0.2em;padding-left: 0.2em;position: relative;}#sk-container-id-1 div.sk-item {position: relative;z-index: 1;}#sk-container-id-1 div.sk-parallel {display: flex;align-items: stretch;justify-content: center;background-color: white;position: relative;}#sk-container-id-1 div.sk-item::before, #sk-container-id-1 div.sk-parallel-item::before {content: \"\";position: absolute;border-left: 1px solid gray;box-sizing: border-box;top: 0;bottom: 0;left: 50%;z-index: -1;}#sk-container-id-1 div.sk-parallel-item {display: flex;flex-direction: column;z-index: 1;position: relative;background-color: white;}#sk-container-id-1 div.sk-parallel-item:first-child::after {align-self: flex-end;width: 50%;}#sk-container-id-1 div.sk-parallel-item:last-child::after {align-self: flex-start;width: 50%;}#sk-container-id-1 div.sk-parallel-item:only-child::after {width: 0;}#sk-container-id-1 div.sk-dashed-wrapped {border: 1px dashed gray;margin: 0 0.4em 0.5em 0.4em;box-sizing: border-box;padding-bottom: 0.4em;background-color: white;}#sk-container-id-1 div.sk-label label {font-family: monospace;font-weight: bold;display: inline-block;line-height: 1.2em;}#sk-container-id-1 div.sk-label-container {text-align: center;}#sk-container-id-1 div.sk-container {/* jupyter's `normalize.less` sets `[hidden] { display: none; }` but bootstrap.min.css set `[hidden] { display: none !important; }` so we also need the `!important` here to be able to override the default hidden behavior on the sphinx rendered scikit-learn.org. See: https://github.com/scikit-learn/scikit-learn/issues/21755 */display: inline-block !important;position: relative;}#sk-container-id-1 div.sk-text-repr-fallback {display: none;}</style><div id=\"sk-container-id-1\" class=\"sk-top-container\"><div class=\"sk-text-repr-fallback\"><pre>LinearRegression()</pre><b>In a Jupyter environment, please rerun this cell to show the HTML representation or trust the notebook. <br />On GitHub, the HTML representation is unable to render, please try loading this page with nbviewer.org.</b></div><div class=\"sk-container\" hidden><div class=\"sk-item\"><div class=\"sk-estimator sk-toggleable\"><input class=\"sk-toggleable__control sk-hidden--visually\" id=\"sk-estimator-id-1\" type=\"checkbox\" checked><label for=\"sk-estimator-id-1\" class=\"sk-toggleable__label sk-toggleable__label-arrow\">LinearRegression</label><div class=\"sk-toggleable__content\"><pre>LinearRegression()</pre></div></div></div></div></div>"
      ],
      "text/plain": [
       "LinearRegression()"
      ]
     },
     "execution_count": 19,
     "metadata": {},
     "output_type": "execute_result"
    }
   ],
   "source": [
    "lin_reg = LinearRegression()\n",
    "lin_reg.fit(x_train,y_train)\n"
   ]
  },
  {
   "cell_type": "code",
   "execution_count": 20,
   "id": "546ebaf5",
   "metadata": {
    "execution": {
     "iopub.execute_input": "2023-12-19T16:37:55.318807Z",
     "iopub.status.busy": "2023-12-19T16:37:55.318251Z",
     "iopub.status.idle": "2023-12-19T16:37:55.325372Z",
     "shell.execute_reply": "2023-12-19T16:37:55.324284Z"
    },
    "papermill": {
     "duration": 0.087314,
     "end_time": "2023-12-19T16:37:55.327638",
     "exception": false,
     "start_time": "2023-12-19T16:37:55.240324",
     "status": "completed"
    },
    "tags": []
   },
   "outputs": [
    {
     "data": {
      "text/plain": [
       "array([ 0.01439002,  0.00587029, -0.02943099,  0.06490821,  0.11852708,\n",
       "        0.10600906,  0.22728308,  0.20239429,  0.67336524, -0.02425312,\n",
       "       -0.06365815, -0.05798184])"
      ]
     },
     "execution_count": 20,
     "metadata": {},
     "output_type": "execute_result"
    }
   ],
   "source": [
    "lin_reg.coef_"
   ]
  },
  {
   "cell_type": "code",
   "execution_count": 21,
   "id": "fb54688f",
   "metadata": {
    "execution": {
     "iopub.execute_input": "2023-12-19T16:37:55.356862Z",
     "iopub.status.busy": "2023-12-19T16:37:55.356069Z",
     "iopub.status.idle": "2023-12-19T16:37:55.362966Z",
     "shell.execute_reply": "2023-12-19T16:37:55.361878Z"
    },
    "papermill": {
     "duration": 0.023838,
     "end_time": "2023-12-19T16:37:55.365071",
     "exception": false,
     "start_time": "2023-12-19T16:37:55.341233",
     "status": "completed"
    },
    "tags": []
   },
   "outputs": [
    {
     "data": {
      "text/plain": [
       "3.0657592155426676"
      ]
     },
     "execution_count": 21,
     "metadata": {},
     "output_type": "execute_result"
    }
   ],
   "source": [
    "lin_reg.intercept_"
   ]
  },
  {
   "cell_type": "markdown",
   "id": "1640ce21",
   "metadata": {
    "papermill": {
     "duration": 0.013225,
     "end_time": "2023-12-19T16:37:55.391600",
     "exception": false,
     "start_time": "2023-12-19T16:37:55.378375",
     "status": "completed"
    },
    "tags": []
   },
   "source": [
    "## test the model"
   ]
  },
  {
   "cell_type": "code",
   "execution_count": 22,
   "id": "629baae9",
   "metadata": {
    "execution": {
     "iopub.execute_input": "2023-12-19T16:37:55.420288Z",
     "iopub.status.busy": "2023-12-19T16:37:55.419499Z",
     "iopub.status.idle": "2023-12-19T16:37:55.426395Z",
     "shell.execute_reply": "2023-12-19T16:37:55.425495Z"
    },
    "papermill": {
     "duration": 0.023775,
     "end_time": "2023-12-19T16:37:55.428704",
     "exception": false,
     "start_time": "2023-12-19T16:37:55.404929",
     "status": "completed"
    },
    "tags": []
   },
   "outputs": [],
   "source": [
    "y_pred = lin_reg.predict(x_test)"
   ]
  },
  {
   "cell_type": "code",
   "execution_count": 23,
   "id": "3c0df1d1",
   "metadata": {
    "execution": {
     "iopub.execute_input": "2023-12-19T16:37:55.457469Z",
     "iopub.status.busy": "2023-12-19T16:37:55.456825Z",
     "iopub.status.idle": "2023-12-19T16:37:55.466642Z",
     "shell.execute_reply": "2023-12-19T16:37:55.465563Z"
    },
    "papermill": {
     "duration": 0.026784,
     "end_time": "2023-12-19T16:37:55.468706",
     "exception": false,
     "start_time": "2023-12-19T16:37:55.441922",
     "status": "completed"
    },
    "tags": []
   },
   "outputs": [
    {
     "data": {
      "text/plain": [
       "array([4.05111071, 3.76323003, 4.49471303, 3.94587129, 3.65154412,\n",
       "       3.90016511, 4.66880948, 3.71809718, 4.11984569, 4.75822147,\n",
       "       3.5298516 , 4.79365531, 3.5607964 , 4.1019963 , 3.82468072,\n",
       "       3.7059901 , 3.74948038, 3.52244257, 4.53481197, 4.53638645,\n",
       "       4.86542784, 3.9776379 , 3.84918757, 3.99032979, 4.59907446,\n",
       "       3.69570472, 3.71458617, 4.17578721, 3.46744487, 3.96034688,\n",
       "       4.07722567, 3.54699262, 3.65033397, 4.10456405, 3.81135188,\n",
       "       4.26711922, 4.06901467, 3.92135685, 3.99900304, 3.64326587,\n",
       "       3.99441526, 4.6013979 , 3.99161371, 4.58591857, 4.02182527,\n",
       "       4.03845297, 3.67917003, 3.71615623, 3.93688137, 3.77572784,\n",
       "       4.08868301, 3.84225304, 3.96881833, 3.6052219 , 3.66610261,\n",
       "       4.06214373, 4.0207601 , 3.98127049, 3.83175689, 4.17762365,\n",
       "       4.32177717, 3.6886493 , 3.43380444, 3.66598796, 3.53355203,\n",
       "       3.74664171, 3.48583603, 3.45059346, 3.66158078, 4.10661913,\n",
       "       3.76913543, 4.59179609, 3.94060076, 4.48647861, 3.48334307,\n",
       "       3.69458351, 3.98199946, 3.69676827, 3.63311358, 3.61420588,\n",
       "       4.01745512, 3.50341141, 4.33321887, 4.18021467, 3.86374099,\n",
       "       3.89581328, 4.1312606 , 4.8349056 , 3.49939808, 4.69050355,\n",
       "       3.68371087, 4.04057657, 3.49788845, 3.86309641, 4.6317341 ,\n",
       "       3.4610716 , 3.44888494, 3.4911806 , 4.25400019, 3.36798846,\n",
       "       4.05659553, 3.75035209, 3.53707957, 3.95803003, 4.10784607,\n",
       "       3.99781051, 3.91290163, 3.51281214, 3.59504499, 3.81257202,\n",
       "       4.18573344, 3.86254943, 3.67531919, 3.97329032, 3.84793613,\n",
       "       3.49405681, 4.80145835, 4.09958583, 4.27096011, 3.52125708,\n",
       "       4.03208865, 3.93408295, 3.68486329, 3.74991128, 3.55975161,\n",
       "       3.50311589, 3.64669816, 4.54260117, 3.90701571, 4.26140429,\n",
       "       4.5382145 , 3.41377671, 3.97665686, 3.70491234, 3.83836279,\n",
       "       3.52502855, 3.48435711, 3.96353261, 3.51515779, 3.48808576,\n",
       "       4.13656765, 4.15554965, 4.15872062, 3.99796925, 3.77148252,\n",
       "       3.89741886, 4.63535774, 3.54493266, 3.41110987, 3.71850118,\n",
       "       3.94090856, 4.16346127, 3.56253493, 4.12346727, 4.23448888,\n",
       "       3.52644465, 3.65106631, 3.83695108, 3.67028132, 3.5809546 ,\n",
       "       3.5459207 , 3.78510341, 3.48994361, 4.17960165, 3.82030936,\n",
       "       3.69436656, 4.51079714, 3.61967842, 3.52370544, 3.91141061,\n",
       "       3.6270769 , 4.11443879, 3.42734712, 3.53568817, 3.51307974,\n",
       "       3.89049046, 3.90839722, 3.65075571, 4.03133254, 3.56123476,\n",
       "       3.85258475, 3.91392087, 4.46098584, 3.46142121, 4.05022235,\n",
       "       4.12049142, 3.5072757 , 3.95170033, 4.18873819, 4.19423312,\n",
       "       3.95651167, 4.49351583, 3.97979634, 3.82497525, 3.80913227,\n",
       "       4.62394327, 3.83773858, 3.95803566, 3.94692961, 4.0113989 ,\n",
       "       4.31182895, 4.48434704, 3.43935399, 3.45956495, 3.7172682 ,\n",
       "       3.56173961, 4.35266791, 4.04671581, 4.51516735, 3.99874104,\n",
       "       4.3515831 , 3.68598784, 3.82507425, 3.58085919, 3.74653528,\n",
       "       4.44461534, 4.15446956, 3.69158199, 4.00910647, 4.05774637,\n",
       "       4.11516797, 4.23321044, 3.59901378, 4.55245576, 3.70783297,\n",
       "       3.89499719, 3.71318275, 4.07243339, 3.45612232, 4.26724507,\n",
       "       4.29181874, 4.32708086, 3.84730477, 3.61748635, 3.6899454 ,\n",
       "       3.91220373, 3.7759306 , 3.80638956, 3.4974592 , 4.63240476,\n",
       "       3.56215135, 3.88661041, 3.79899868, 4.12416277, 3.99620412,\n",
       "       4.01676689, 4.50150216, 3.65928223, 3.92171923, 3.70293075,\n",
       "       3.4303065 , 3.88828957, 3.56067708, 3.7238485 , 3.76153359,\n",
       "       4.33265632, 4.00082115, 4.01873388, 3.76583869, 4.69022151,\n",
       "       4.07293158, 4.57667992, 3.93208996, 4.43941923, 3.5798144 ,\n",
       "       4.48069392, 4.09420434, 3.3831647 , 3.79687332, 3.98875922,\n",
       "       3.69093482, 3.86961001, 3.53095524, 4.10102378, 3.56406596,\n",
       "       3.53156674, 3.98266068, 3.77626918, 4.53827656, 4.28837881,\n",
       "       3.68802411, 3.89631746, 3.78004411, 3.80262519, 4.11833402,\n",
       "       3.60208494, 3.80868987, 3.55473618, 3.69077006, 4.23492659,\n",
       "       3.83234089, 3.80790268, 4.3375117 , 3.77629694, 3.41821269,\n",
       "       3.55946186, 3.80545555, 3.86670776, 3.45369466, 3.86682162,\n",
       "       3.78326928, 3.97642728, 3.7151727 , 4.11005346, 3.77563479,\n",
       "       3.9287823 , 3.40862091, 4.20338816, 4.08881024, 4.21094743,\n",
       "       3.81511517, 4.01989207, 4.71289702, 3.80230971, 3.38809812,\n",
       "       3.76171967, 3.69612903, 3.85260366, 4.20494324, 4.39816472,\n",
       "       3.91363875, 4.02800992, 3.63950688, 3.75960905, 3.74463192,\n",
       "       3.9561829 , 3.65802167, 3.99159299, 3.95893381, 3.9625692 ,\n",
       "       3.62023065, 4.69079271, 4.2181758 , 3.48580635, 4.03006252,\n",
       "       3.59178919, 4.28015213, 3.83626841, 3.93606927, 4.27579682,\n",
       "       3.87167731, 3.42138366, 3.949832  , 3.98262356, 3.85030075,\n",
       "       3.47458889, 4.31996959, 3.46505759, 3.85211634, 3.99291843,\n",
       "       4.20568475, 3.90673225, 4.16811412, 4.66076665, 4.59716539,\n",
       "       3.54614311, 3.71123505, 3.69578079, 4.09530417, 3.8482193 ,\n",
       "       3.85169967, 3.81701129, 3.58261131, 3.84799587, 4.03345312,\n",
       "       3.85308658, 3.70936594, 3.45083906, 3.85967168, 4.90437099,\n",
       "       4.06992131, 4.00598476, 4.12749069, 4.02238625, 4.12949999,\n",
       "       4.03562297, 3.56331298, 4.3959445 , 4.58068228, 3.99461345,\n",
       "       3.98064378, 4.29063338, 3.91383529, 3.92516242, 4.07036237,\n",
       "       3.51000874, 4.00734045, 4.03033552, 4.11232381, 3.85729989,\n",
       "       4.13093317, 3.89908309, 3.79852247, 3.4670058 , 3.95731458,\n",
       "       4.62757177, 4.57170886, 3.55453807, 3.84836636, 4.55217396,\n",
       "       3.42928432, 3.5828377 ])"
      ]
     },
     "execution_count": 23,
     "metadata": {},
     "output_type": "execute_result"
    }
   ],
   "source": [
    "y_pred"
   ]
  },
  {
   "cell_type": "code",
   "execution_count": 24,
   "id": "4441d199",
   "metadata": {
    "execution": {
     "iopub.execute_input": "2023-12-19T16:37:55.497450Z",
     "iopub.status.busy": "2023-12-19T16:37:55.496828Z",
     "iopub.status.idle": "2023-12-19T16:37:55.503906Z",
     "shell.execute_reply": "2023-12-19T16:37:55.502912Z"
    },
    "papermill": {
     "duration": 0.023991,
     "end_time": "2023-12-19T16:37:55.505887",
     "exception": false,
     "start_time": "2023-12-19T16:37:55.481896",
     "status": "completed"
    },
    "tags": []
   },
   "outputs": [
    {
     "data": {
      "text/plain": [
       "0.03532625850724222"
      ]
     },
     "execution_count": 24,
     "metadata": {},
     "output_type": "execute_result"
    }
   ],
   "source": [
    "mean_squared_error(y_pred,y_test)"
   ]
  },
  {
   "cell_type": "markdown",
   "id": "d627b286",
   "metadata": {
    "papermill": {
     "duration": 0.013003,
     "end_time": "2023-12-19T16:37:55.532100",
     "exception": false,
     "start_time": "2023-12-19T16:37:55.519097",
     "status": "completed"
    },
    "tags": []
   },
   "source": [
    "##R2 square"
   ]
  },
  {
   "cell_type": "code",
   "execution_count": 25,
   "id": "d2a000e1",
   "metadata": {
    "execution": {
     "iopub.execute_input": "2023-12-19T16:37:55.561297Z",
     "iopub.status.busy": "2023-12-19T16:37:55.560660Z",
     "iopub.status.idle": "2023-12-19T16:37:55.569909Z",
     "shell.execute_reply": "2023-12-19T16:37:55.568817Z"
    },
    "papermill": {
     "duration": 0.026332,
     "end_time": "2023-12-19T16:37:55.571947",
     "exception": false,
     "start_time": "2023-12-19T16:37:55.545615",
     "status": "completed"
    },
    "tags": []
   },
   "outputs": [
    {
     "data": {
      "text/plain": [
       "0.7795687545055319"
      ]
     },
     "execution_count": 25,
     "metadata": {},
     "output_type": "execute_result"
    }
   ],
   "source": [
    "lin_reg.score(x_test,y_test)# 0.779*100 =77.9 % accurate"
   ]
  },
  {
   "cell_type": "code",
   "execution_count": null,
   "id": "92aee8be",
   "metadata": {
    "papermill": {
     "duration": 0.013454,
     "end_time": "2023-12-19T16:37:55.598809",
     "exception": false,
     "start_time": "2023-12-19T16:37:55.585355",
     "status": "completed"
    },
    "tags": []
   },
   "outputs": [],
   "source": []
  }
 ],
 "metadata": {
  "kaggle": {
   "accelerator": "none",
   "dataSources": [
    {
     "datasetId": 13720,
     "sourceId": 18513,
     "sourceType": "datasetVersion"
    }
   ],
   "dockerImageVersionId": 30626,
   "isGpuEnabled": false,
   "isInternetEnabled": false,
   "language": "python",
   "sourceType": "notebook"
  },
  "kernelspec": {
   "display_name": "Python 3",
   "language": "python",
   "name": "python3"
  },
  "language_info": {
   "codemirror_mode": {
    "name": "ipython",
    "version": 3
   },
   "file_extension": ".py",
   "mimetype": "text/x-python",
   "name": "python",
   "nbconvert_exporter": "python",
   "pygments_lexer": "ipython3",
   "version": "3.10.12"
  },
  "papermill": {
   "default_parameters": {},
   "duration": 9.339532,
   "end_time": "2023-12-19T16:37:56.232768",
   "environment_variables": {},
   "exception": null,
   "input_path": "__notebook__.ipynb",
   "output_path": "__notebook__.ipynb",
   "parameters": {},
   "start_time": "2023-12-19T16:37:46.893236",
   "version": "2.4.0"
  }
 },
 "nbformat": 4,
 "nbformat_minor": 5
}
