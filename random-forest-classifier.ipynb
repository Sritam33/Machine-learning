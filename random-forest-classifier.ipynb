{
 "cells": [
  {
   "cell_type": "code",
   "execution_count": 1,
   "id": "ad82a2c2",
   "metadata": {
    "execution": {
     "iopub.execute_input": "2023-12-31T06:52:05.025876Z",
     "iopub.status.busy": "2023-12-31T06:52:05.025348Z",
     "iopub.status.idle": "2023-12-31T06:52:07.072137Z",
     "shell.execute_reply": "2023-12-31T06:52:07.070590Z"
    },
    "papermill": {
     "duration": 2.066144,
     "end_time": "2023-12-31T06:52:07.075554",
     "exception": false,
     "start_time": "2023-12-31T06:52:05.009410",
     "status": "completed"
    },
    "tags": []
   },
   "outputs": [],
   "source": [
    "import numpy as np\n",
    "import pandas as pd\n",
    "import seaborn as sns \n",
    "import matplotlib.pyplot as plt"
   ]
  },
  {
   "cell_type": "code",
   "execution_count": 2,
   "id": "ef79dcdd",
   "metadata": {
    "execution": {
     "iopub.execute_input": "2023-12-31T06:52:07.104873Z",
     "iopub.status.busy": "2023-12-31T06:52:07.104158Z",
     "iopub.status.idle": "2023-12-31T06:52:07.129868Z",
     "shell.execute_reply": "2023-12-31T06:52:07.128678Z"
    },
    "papermill": {
     "duration": 0.043723,
     "end_time": "2023-12-31T06:52:07.133001",
     "exception": false,
     "start_time": "2023-12-31T06:52:07.089278",
     "status": "completed"
    },
    "tags": []
   },
   "outputs": [],
   "source": [
    "df = pd.read_csv(\"/kaggle/input/car-evaluationcsv/car_evaluation.csv\")"
   ]
  },
  {
   "cell_type": "code",
   "execution_count": 3,
   "id": "2b3cc785",
   "metadata": {
    "execution": {
     "iopub.execute_input": "2023-12-31T06:52:07.162660Z",
     "iopub.status.busy": "2023-12-31T06:52:07.162187Z",
     "iopub.status.idle": "2023-12-31T06:52:07.189975Z",
     "shell.execute_reply": "2023-12-31T06:52:07.188580Z"
    },
    "papermill": {
     "duration": 0.045938,
     "end_time": "2023-12-31T06:52:07.193177",
     "exception": false,
     "start_time": "2023-12-31T06:52:07.147239",
     "status": "completed"
    },
    "tags": []
   },
   "outputs": [
    {
     "data": {
      "text/html": [
       "<div>\n",
       "<style scoped>\n",
       "    .dataframe tbody tr th:only-of-type {\n",
       "        vertical-align: middle;\n",
       "    }\n",
       "\n",
       "    .dataframe tbody tr th {\n",
       "        vertical-align: top;\n",
       "    }\n",
       "\n",
       "    .dataframe thead th {\n",
       "        text-align: right;\n",
       "    }\n",
       "</style>\n",
       "<table border=\"1\" class=\"dataframe\">\n",
       "  <thead>\n",
       "    <tr style=\"text-align: right;\">\n",
       "      <th></th>\n",
       "      <th>vhigh</th>\n",
       "      <th>vhigh.1</th>\n",
       "      <th>2</th>\n",
       "      <th>2.1</th>\n",
       "      <th>small</th>\n",
       "      <th>low</th>\n",
       "      <th>unacc</th>\n",
       "    </tr>\n",
       "  </thead>\n",
       "  <tbody>\n",
       "    <tr>\n",
       "      <th>0</th>\n",
       "      <td>vhigh</td>\n",
       "      <td>vhigh</td>\n",
       "      <td>2</td>\n",
       "      <td>2</td>\n",
       "      <td>small</td>\n",
       "      <td>med</td>\n",
       "      <td>unacc</td>\n",
       "    </tr>\n",
       "    <tr>\n",
       "      <th>1</th>\n",
       "      <td>vhigh</td>\n",
       "      <td>vhigh</td>\n",
       "      <td>2</td>\n",
       "      <td>2</td>\n",
       "      <td>small</td>\n",
       "      <td>high</td>\n",
       "      <td>unacc</td>\n",
       "    </tr>\n",
       "    <tr>\n",
       "      <th>2</th>\n",
       "      <td>vhigh</td>\n",
       "      <td>vhigh</td>\n",
       "      <td>2</td>\n",
       "      <td>2</td>\n",
       "      <td>med</td>\n",
       "      <td>low</td>\n",
       "      <td>unacc</td>\n",
       "    </tr>\n",
       "    <tr>\n",
       "      <th>3</th>\n",
       "      <td>vhigh</td>\n",
       "      <td>vhigh</td>\n",
       "      <td>2</td>\n",
       "      <td>2</td>\n",
       "      <td>med</td>\n",
       "      <td>med</td>\n",
       "      <td>unacc</td>\n",
       "    </tr>\n",
       "    <tr>\n",
       "      <th>4</th>\n",
       "      <td>vhigh</td>\n",
       "      <td>vhigh</td>\n",
       "      <td>2</td>\n",
       "      <td>2</td>\n",
       "      <td>med</td>\n",
       "      <td>high</td>\n",
       "      <td>unacc</td>\n",
       "    </tr>\n",
       "  </tbody>\n",
       "</table>\n",
       "</div>"
      ],
      "text/plain": [
       "   vhigh vhigh.1  2 2.1  small   low  unacc\n",
       "0  vhigh   vhigh  2   2  small   med  unacc\n",
       "1  vhigh   vhigh  2   2  small  high  unacc\n",
       "2  vhigh   vhigh  2   2    med   low  unacc\n",
       "3  vhigh   vhigh  2   2    med   med  unacc\n",
       "4  vhigh   vhigh  2   2    med  high  unacc"
      ]
     },
     "execution_count": 3,
     "metadata": {},
     "output_type": "execute_result"
    }
   ],
   "source": [
    "df.head()"
   ]
  },
  {
   "cell_type": "code",
   "execution_count": 4,
   "id": "6d0a07bf",
   "metadata": {
    "execution": {
     "iopub.execute_input": "2023-12-31T06:52:07.222600Z",
     "iopub.status.busy": "2023-12-31T06:52:07.222094Z",
     "iopub.status.idle": "2023-12-31T06:52:07.232533Z",
     "shell.execute_reply": "2023-12-31T06:52:07.231199Z"
    },
    "papermill": {
     "duration": 0.028056,
     "end_time": "2023-12-31T06:52:07.235038",
     "exception": false,
     "start_time": "2023-12-31T06:52:07.206982",
     "status": "completed"
    },
    "tags": []
   },
   "outputs": [
    {
     "data": {
      "text/plain": [
       "['buying', 'maint', 'doors', 'persons', 'lug_boot', 'safety', 'class']"
      ]
     },
     "execution_count": 4,
     "metadata": {},
     "output_type": "execute_result"
    }
   ],
   "source": [
    "col_names = ['buying', 'maint', 'doors', 'persons', 'lug_boot', 'safety', 'class']\n",
    "df.columns = col_names\n",
    "col_names"
   ]
  },
  {
   "cell_type": "code",
   "execution_count": 5,
   "id": "5a2abadb",
   "metadata": {
    "execution": {
     "iopub.execute_input": "2023-12-31T06:52:07.264938Z",
     "iopub.status.busy": "2023-12-31T06:52:07.264149Z",
     "iopub.status.idle": "2023-12-31T06:52:07.279157Z",
     "shell.execute_reply": "2023-12-31T06:52:07.277811Z"
    },
    "papermill": {
     "duration": 0.03338,
     "end_time": "2023-12-31T06:52:07.282106",
     "exception": false,
     "start_time": "2023-12-31T06:52:07.248726",
     "status": "completed"
    },
    "tags": []
   },
   "outputs": [
    {
     "data": {
      "text/html": [
       "<div>\n",
       "<style scoped>\n",
       "    .dataframe tbody tr th:only-of-type {\n",
       "        vertical-align: middle;\n",
       "    }\n",
       "\n",
       "    .dataframe tbody tr th {\n",
       "        vertical-align: top;\n",
       "    }\n",
       "\n",
       "    .dataframe thead th {\n",
       "        text-align: right;\n",
       "    }\n",
       "</style>\n",
       "<table border=\"1\" class=\"dataframe\">\n",
       "  <thead>\n",
       "    <tr style=\"text-align: right;\">\n",
       "      <th></th>\n",
       "      <th>buying</th>\n",
       "      <th>maint</th>\n",
       "      <th>doors</th>\n",
       "      <th>persons</th>\n",
       "      <th>lug_boot</th>\n",
       "      <th>safety</th>\n",
       "      <th>class</th>\n",
       "    </tr>\n",
       "  </thead>\n",
       "  <tbody>\n",
       "    <tr>\n",
       "      <th>0</th>\n",
       "      <td>vhigh</td>\n",
       "      <td>vhigh</td>\n",
       "      <td>2</td>\n",
       "      <td>2</td>\n",
       "      <td>small</td>\n",
       "      <td>med</td>\n",
       "      <td>unacc</td>\n",
       "    </tr>\n",
       "    <tr>\n",
       "      <th>1</th>\n",
       "      <td>vhigh</td>\n",
       "      <td>vhigh</td>\n",
       "      <td>2</td>\n",
       "      <td>2</td>\n",
       "      <td>small</td>\n",
       "      <td>high</td>\n",
       "      <td>unacc</td>\n",
       "    </tr>\n",
       "    <tr>\n",
       "      <th>2</th>\n",
       "      <td>vhigh</td>\n",
       "      <td>vhigh</td>\n",
       "      <td>2</td>\n",
       "      <td>2</td>\n",
       "      <td>med</td>\n",
       "      <td>low</td>\n",
       "      <td>unacc</td>\n",
       "    </tr>\n",
       "    <tr>\n",
       "      <th>3</th>\n",
       "      <td>vhigh</td>\n",
       "      <td>vhigh</td>\n",
       "      <td>2</td>\n",
       "      <td>2</td>\n",
       "      <td>med</td>\n",
       "      <td>med</td>\n",
       "      <td>unacc</td>\n",
       "    </tr>\n",
       "    <tr>\n",
       "      <th>4</th>\n",
       "      <td>vhigh</td>\n",
       "      <td>vhigh</td>\n",
       "      <td>2</td>\n",
       "      <td>2</td>\n",
       "      <td>med</td>\n",
       "      <td>high</td>\n",
       "      <td>unacc</td>\n",
       "    </tr>\n",
       "  </tbody>\n",
       "</table>\n",
       "</div>"
      ],
      "text/plain": [
       "  buying  maint doors persons lug_boot safety  class\n",
       "0  vhigh  vhigh     2       2    small    med  unacc\n",
       "1  vhigh  vhigh     2       2    small   high  unacc\n",
       "2  vhigh  vhigh     2       2      med    low  unacc\n",
       "3  vhigh  vhigh     2       2      med    med  unacc\n",
       "4  vhigh  vhigh     2       2      med   high  unacc"
      ]
     },
     "execution_count": 5,
     "metadata": {},
     "output_type": "execute_result"
    }
   ],
   "source": [
    "df.head()"
   ]
  },
  {
   "cell_type": "code",
   "execution_count": 6,
   "id": "007e99d2",
   "metadata": {
    "execution": {
     "iopub.execute_input": "2023-12-31T06:52:07.313484Z",
     "iopub.status.busy": "2023-12-31T06:52:07.312058Z",
     "iopub.status.idle": "2023-12-31T06:52:07.466432Z",
     "shell.execute_reply": "2023-12-31T06:52:07.464568Z"
    },
    "papermill": {
     "duration": 0.173395,
     "end_time": "2023-12-31T06:52:07.469538",
     "exception": false,
     "start_time": "2023-12-31T06:52:07.296143",
     "status": "completed"
    },
    "tags": []
   },
   "outputs": [
    {
     "name": "stdout",
     "output_type": "stream",
     "text": [
      "<class 'pandas.core.frame.DataFrame'>\n",
      "RangeIndex: 1727 entries, 0 to 1726\n",
      "Data columns (total 7 columns):\n",
      " #   Column    Non-Null Count  Dtype \n",
      "---  ------    --------------  ----- \n",
      " 0   buying    1727 non-null   object\n",
      " 1   maint     1727 non-null   object\n",
      " 2   doors     1727 non-null   object\n",
      " 3   persons   1727 non-null   object\n",
      " 4   lug_boot  1727 non-null   object\n",
      " 5   safety    1727 non-null   object\n",
      " 6   class     1727 non-null   object\n",
      "dtypes: object(7)\n",
      "memory usage: 94.6+ KB\n"
     ]
    }
   ],
   "source": [
    "# view summary of data set\n",
    "df.info()"
   ]
  },
  {
   "cell_type": "code",
   "execution_count": 7,
   "id": "25343bce",
   "metadata": {
    "execution": {
     "iopub.execute_input": "2023-12-31T06:52:07.503220Z",
     "iopub.status.busy": "2023-12-31T06:52:07.502403Z",
     "iopub.status.idle": "2023-12-31T06:52:07.520694Z",
     "shell.execute_reply": "2023-12-31T06:52:07.519019Z"
    },
    "papermill": {
     "duration": 0.040944,
     "end_time": "2023-12-31T06:52:07.525011",
     "exception": false,
     "start_time": "2023-12-31T06:52:07.484067",
     "status": "completed"
    },
    "tags": []
   },
   "outputs": [
    {
     "name": "stdout",
     "output_type": "stream",
     "text": [
      "buying\n",
      "high     432\n",
      "med      432\n",
      "low      432\n",
      "vhigh    431\n",
      "Name: count, dtype: int64\n",
      "maint\n",
      "high     432\n",
      "med      432\n",
      "low      432\n",
      "vhigh    431\n",
      "Name: count, dtype: int64\n",
      "doors\n",
      "3        432\n",
      "4        432\n",
      "5more    432\n",
      "2        431\n",
      "Name: count, dtype: int64\n",
      "persons\n",
      "4       576\n",
      "more    576\n",
      "2       575\n",
      "Name: count, dtype: int64\n",
      "lug_boot\n",
      "med      576\n",
      "big      576\n",
      "small    575\n",
      "Name: count, dtype: int64\n",
      "safety\n",
      "med     576\n",
      "high    576\n",
      "low     575\n",
      "Name: count, dtype: int64\n",
      "class\n",
      "unacc    1209\n",
      "acc       384\n",
      "good       69\n",
      "vgood      65\n",
      "Name: count, dtype: int64\n"
     ]
    }
   ],
   "source": [
    "col_names = ['buying', 'maint', 'doors', 'persons', 'lug_boot', 'safety', 'class']\n",
    "for col in col_names:\n",
    "    print(df[col].value_counts())"
   ]
  },
  {
   "cell_type": "markdown",
   "id": "d916db6d",
   "metadata": {
    "papermill": {
     "duration": 0.014535,
     "end_time": "2023-12-31T06:52:07.554910",
     "exception": false,
     "start_time": "2023-12-31T06:52:07.540375",
     "status": "completed"
    },
    "tags": []
   },
   "source": [
    "We can see that the doors and persons are categorical in nature. So, I will treat them as categorical variables."
   ]
  },
  {
   "cell_type": "markdown",
   "id": "4fa109ce",
   "metadata": {
    "papermill": {
     "duration": 0.014811,
     "end_time": "2023-12-31T06:52:07.585072",
     "exception": false,
     "start_time": "2023-12-31T06:52:07.570261",
     "status": "completed"
    },
    "tags": []
   },
   "source": [
    "# explore class variable"
   ]
  },
  {
   "cell_type": "code",
   "execution_count": 8,
   "id": "dc09c1a8",
   "metadata": {
    "execution": {
     "iopub.execute_input": "2023-12-31T06:52:07.617559Z",
     "iopub.status.busy": "2023-12-31T06:52:07.616222Z",
     "iopub.status.idle": "2023-12-31T06:52:07.627784Z",
     "shell.execute_reply": "2023-12-31T06:52:07.626713Z"
    },
    "papermill": {
     "duration": 0.030132,
     "end_time": "2023-12-31T06:52:07.630365",
     "exception": false,
     "start_time": "2023-12-31T06:52:07.600233",
     "status": "completed"
    },
    "tags": []
   },
   "outputs": [
    {
     "data": {
      "text/plain": [
       "class\n",
       "unacc    1209\n",
       "acc       384\n",
       "good       69\n",
       "vgood      65\n",
       "Name: count, dtype: int64"
      ]
     },
     "execution_count": 8,
     "metadata": {},
     "output_type": "execute_result"
    }
   ],
   "source": [
    "df[\"class\"].value_counts()"
   ]
  },
  {
   "cell_type": "code",
   "execution_count": 9,
   "id": "db8d03cb",
   "metadata": {
    "execution": {
     "iopub.execute_input": "2023-12-31T06:52:07.661758Z",
     "iopub.status.busy": "2023-12-31T06:52:07.661017Z",
     "iopub.status.idle": "2023-12-31T06:52:07.672302Z",
     "shell.execute_reply": "2023-12-31T06:52:07.670805Z"
    },
    "papermill": {
     "duration": 0.030491,
     "end_time": "2023-12-31T06:52:07.675176",
     "exception": false,
     "start_time": "2023-12-31T06:52:07.644685",
     "status": "completed"
    },
    "tags": []
   },
   "outputs": [
    {
     "data": {
      "text/plain": [
       "buying      0\n",
       "maint       0\n",
       "doors       0\n",
       "persons     0\n",
       "lug_boot    0\n",
       "safety      0\n",
       "class       0\n",
       "dtype: int64"
      ]
     },
     "execution_count": 9,
     "metadata": {},
     "output_type": "execute_result"
    }
   ],
   "source": [
    "# check missing values in variables\n",
    "df.isnull().sum()"
   ]
  },
  {
   "cell_type": "markdown",
   "id": "cd5eba76",
   "metadata": {
    "papermill": {
     "duration": 0.014391,
     "end_time": "2023-12-31T06:52:07.704254",
     "exception": false,
     "start_time": "2023-12-31T06:52:07.689863",
     "status": "completed"
    },
    "tags": []
   },
   "source": [
    "# declare feature vector and target variable"
   ]
  },
  {
   "cell_type": "code",
   "execution_count": 10,
   "id": "eae94e6f",
   "metadata": {
    "execution": {
     "iopub.execute_input": "2023-12-31T06:52:07.737675Z",
     "iopub.status.busy": "2023-12-31T06:52:07.736957Z",
     "iopub.status.idle": "2023-12-31T06:52:07.746808Z",
     "shell.execute_reply": "2023-12-31T06:52:07.745778Z"
    },
    "papermill": {
     "duration": 0.029809,
     "end_time": "2023-12-31T06:52:07.749733",
     "exception": false,
     "start_time": "2023-12-31T06:52:07.719924",
     "status": "completed"
    },
    "tags": []
   },
   "outputs": [],
   "source": [
    "x = df.drop([\"class\"],axis = 1)\n",
    "y = df[\"class\"]"
   ]
  },
  {
   "cell_type": "markdown",
   "id": "9e4482d9",
   "metadata": {
    "papermill": {
     "duration": 0.014222,
     "end_time": "2023-12-31T06:52:07.778580",
     "exception": false,
     "start_time": "2023-12-31T06:52:07.764358",
     "status": "completed"
    },
    "tags": []
   },
   "source": [
    "# split data separate training and test set"
   ]
  },
  {
   "cell_type": "code",
   "execution_count": 11,
   "id": "5c2cb0b6",
   "metadata": {
    "execution": {
     "iopub.execute_input": "2023-12-31T06:52:07.811509Z",
     "iopub.status.busy": "2023-12-31T06:52:07.810793Z",
     "iopub.status.idle": "2023-12-31T06:52:08.168173Z",
     "shell.execute_reply": "2023-12-31T06:52:08.166739Z"
    },
    "papermill": {
     "duration": 0.377786,
     "end_time": "2023-12-31T06:52:08.171437",
     "exception": false,
     "start_time": "2023-12-31T06:52:07.793651",
     "status": "completed"
    },
    "tags": []
   },
   "outputs": [],
   "source": [
    "from sklearn.model_selection import train_test_split\n",
    "x_train,x_test,y_train,y_test = train_test_split(x,y,test_size = 0.33,random_state = 45)"
   ]
  },
  {
   "cell_type": "code",
   "execution_count": 12,
   "id": "3fc7c40e",
   "metadata": {
    "execution": {
     "iopub.execute_input": "2023-12-31T06:52:08.203089Z",
     "iopub.status.busy": "2023-12-31T06:52:08.202605Z",
     "iopub.status.idle": "2023-12-31T06:52:08.210263Z",
     "shell.execute_reply": "2023-12-31T06:52:08.209023Z"
    },
    "papermill": {
     "duration": 0.026806,
     "end_time": "2023-12-31T06:52:08.212937",
     "exception": false,
     "start_time": "2023-12-31T06:52:08.186131",
     "status": "completed"
    },
    "tags": []
   },
   "outputs": [
    {
     "data": {
      "text/plain": [
       "((1157, 6), (570, 6))"
      ]
     },
     "execution_count": 12,
     "metadata": {},
     "output_type": "execute_result"
    }
   ],
   "source": [
    "# check the shape of x_train and x_test\n",
    "x_train.shape,x_test.shape"
   ]
  },
  {
   "cell_type": "markdown",
   "id": "9374ad2e",
   "metadata": {
    "papermill": {
     "duration": 0.015023,
     "end_time": "2023-12-31T06:52:08.243222",
     "exception": false,
     "start_time": "2023-12-31T06:52:08.228199",
     "status": "completed"
    },
    "tags": []
   },
   "source": [
    "# feature enginering\n",
    "   Feature Engineering is the process of transforming raw data into useful features that help us to understand our model better and increase its predictive power. I will carry out feature engineering on different types of variables.\n",
    "   "
   ]
  },
  {
   "cell_type": "code",
   "execution_count": 13,
   "id": "5d8366fd",
   "metadata": {
    "execution": {
     "iopub.execute_input": "2023-12-31T06:52:08.275638Z",
     "iopub.status.busy": "2023-12-31T06:52:08.275127Z",
     "iopub.status.idle": "2023-12-31T06:52:08.284906Z",
     "shell.execute_reply": "2023-12-31T06:52:08.283565Z"
    },
    "papermill": {
     "duration": 0.029778,
     "end_time": "2023-12-31T06:52:08.287580",
     "exception": false,
     "start_time": "2023-12-31T06:52:08.257802",
     "status": "completed"
    },
    "tags": []
   },
   "outputs": [
    {
     "data": {
      "text/plain": [
       "buying      object\n",
       "maint       object\n",
       "doors       object\n",
       "persons     object\n",
       "lug_boot    object\n",
       "safety      object\n",
       "dtype: object"
      ]
     },
     "execution_count": 13,
     "metadata": {},
     "output_type": "execute_result"
    }
   ],
   "source": [
    "# check data types in x_train\n",
    "x_train.dtypes"
   ]
  },
  {
   "cell_type": "markdown",
   "id": "ab3347dd",
   "metadata": {
    "papermill": {
     "duration": 0.016484,
     "end_time": "2023-12-31T06:52:08.414816",
     "exception": false,
     "start_time": "2023-12-31T06:52:08.398332",
     "status": "completed"
    },
    "tags": []
   },
   "source": [
    "# encode categorical variables"
   ]
  },
  {
   "cell_type": "code",
   "execution_count": 14,
   "id": "50ccac35",
   "metadata": {
    "execution": {
     "iopub.execute_input": "2023-12-31T06:52:08.449274Z",
     "iopub.status.busy": "2023-12-31T06:52:08.448777Z",
     "iopub.status.idle": "2023-12-31T06:52:08.465020Z",
     "shell.execute_reply": "2023-12-31T06:52:08.463485Z"
    },
    "papermill": {
     "duration": 0.037081,
     "end_time": "2023-12-31T06:52:08.467864",
     "exception": false,
     "start_time": "2023-12-31T06:52:08.430783",
     "status": "completed"
    },
    "tags": []
   },
   "outputs": [
    {
     "data": {
      "text/html": [
       "<div>\n",
       "<style scoped>\n",
       "    .dataframe tbody tr th:only-of-type {\n",
       "        vertical-align: middle;\n",
       "    }\n",
       "\n",
       "    .dataframe tbody tr th {\n",
       "        vertical-align: top;\n",
       "    }\n",
       "\n",
       "    .dataframe thead th {\n",
       "        text-align: right;\n",
       "    }\n",
       "</style>\n",
       "<table border=\"1\" class=\"dataframe\">\n",
       "  <thead>\n",
       "    <tr style=\"text-align: right;\">\n",
       "      <th></th>\n",
       "      <th>buying</th>\n",
       "      <th>maint</th>\n",
       "      <th>doors</th>\n",
       "      <th>persons</th>\n",
       "      <th>lug_boot</th>\n",
       "      <th>safety</th>\n",
       "    </tr>\n",
       "  </thead>\n",
       "  <tbody>\n",
       "    <tr>\n",
       "      <th>1478</th>\n",
       "      <td>low</td>\n",
       "      <td>high</td>\n",
       "      <td>4</td>\n",
       "      <td>more</td>\n",
       "      <td>med</td>\n",
       "      <td>low</td>\n",
       "    </tr>\n",
       "    <tr>\n",
       "      <th>47</th>\n",
       "      <td>vhigh</td>\n",
       "      <td>vhigh</td>\n",
       "      <td>3</td>\n",
       "      <td>more</td>\n",
       "      <td>med</td>\n",
       "      <td>low</td>\n",
       "    </tr>\n",
       "    <tr>\n",
       "      <th>1230</th>\n",
       "      <td>med</td>\n",
       "      <td>low</td>\n",
       "      <td>3</td>\n",
       "      <td>4</td>\n",
       "      <td>big</td>\n",
       "      <td>med</td>\n",
       "    </tr>\n",
       "    <tr>\n",
       "      <th>909</th>\n",
       "      <td>med</td>\n",
       "      <td>vhigh</td>\n",
       "      <td>3</td>\n",
       "      <td>more</td>\n",
       "      <td>small</td>\n",
       "      <td>med</td>\n",
       "    </tr>\n",
       "    <tr>\n",
       "      <th>308</th>\n",
       "      <td>vhigh</td>\n",
       "      <td>med</td>\n",
       "      <td>5more</td>\n",
       "      <td>4</td>\n",
       "      <td>med</td>\n",
       "      <td>low</td>\n",
       "    </tr>\n",
       "  </tbody>\n",
       "</table>\n",
       "</div>"
      ],
      "text/plain": [
       "     buying  maint  doors persons lug_boot safety\n",
       "1478    low   high      4    more      med    low\n",
       "47    vhigh  vhigh      3    more      med    low\n",
       "1230    med    low      3       4      big    med\n",
       "909     med  vhigh      3    more    small    med\n",
       "308   vhigh    med  5more       4      med    low"
      ]
     },
     "execution_count": 14,
     "metadata": {},
     "output_type": "execute_result"
    }
   ],
   "source": [
    "x_train.head()"
   ]
  },
  {
   "cell_type": "markdown",
   "id": "9f478567",
   "metadata": {
    "papermill": {
     "duration": 0.016434,
     "end_time": "2023-12-31T06:52:08.499729",
     "exception": false,
     "start_time": "2023-12-31T06:52:08.483295",
     "status": "completed"
    },
    "tags": []
   },
   "source": [
    "We can see that all the variables are ordinal categorical data type."
   ]
  },
  {
   "cell_type": "code",
   "execution_count": 15,
   "id": "3a31cd97",
   "metadata": {
    "execution": {
     "iopub.execute_input": "2023-12-31T06:52:08.533524Z",
     "iopub.status.busy": "2023-12-31T06:52:08.532965Z",
     "iopub.status.idle": "2023-12-31T06:52:09.057436Z",
     "shell.execute_reply": "2023-12-31T06:52:09.055919Z"
    },
    "papermill": {
     "duration": 0.545547,
     "end_time": "2023-12-31T06:52:09.060819",
     "exception": false,
     "start_time": "2023-12-31T06:52:08.515272",
     "status": "completed"
    },
    "tags": []
   },
   "outputs": [],
   "source": [
    "# import category encoders\n",
    "import category_encoders as ce"
   ]
  },
  {
   "cell_type": "code",
   "execution_count": 16,
   "id": "62261dd0",
   "metadata": {
    "execution": {
     "iopub.execute_input": "2023-12-31T06:52:09.095362Z",
     "iopub.status.busy": "2023-12-31T06:52:09.094878Z",
     "iopub.status.idle": "2023-12-31T06:52:09.144291Z",
     "shell.execute_reply": "2023-12-31T06:52:09.142932Z"
    },
    "papermill": {
     "duration": 0.070796,
     "end_time": "2023-12-31T06:52:09.147532",
     "exception": false,
     "start_time": "2023-12-31T06:52:09.076736",
     "status": "completed"
    },
    "tags": []
   },
   "outputs": [],
   "source": [
    "# encode categorical variables with ordinal encoding\n",
    "encoder = ce.OrdinalEncoder(cols=['buying', 'maint', 'doors', 'persons', 'lug_boot', 'safety'])\n",
    "x_train = encoder.fit_transform(x_train)\n",
    "x_test = encoder.transform(x_test)"
   ]
  },
  {
   "cell_type": "code",
   "execution_count": 17,
   "id": "13e0a757",
   "metadata": {
    "execution": {
     "iopub.execute_input": "2023-12-31T06:52:09.180682Z",
     "iopub.status.busy": "2023-12-31T06:52:09.180218Z",
     "iopub.status.idle": "2023-12-31T06:52:09.194276Z",
     "shell.execute_reply": "2023-12-31T06:52:09.192930Z"
    },
    "papermill": {
     "duration": 0.033957,
     "end_time": "2023-12-31T06:52:09.197014",
     "exception": false,
     "start_time": "2023-12-31T06:52:09.163057",
     "status": "completed"
    },
    "tags": []
   },
   "outputs": [
    {
     "data": {
      "text/html": [
       "<div>\n",
       "<style scoped>\n",
       "    .dataframe tbody tr th:only-of-type {\n",
       "        vertical-align: middle;\n",
       "    }\n",
       "\n",
       "    .dataframe tbody tr th {\n",
       "        vertical-align: top;\n",
       "    }\n",
       "\n",
       "    .dataframe thead th {\n",
       "        text-align: right;\n",
       "    }\n",
       "</style>\n",
       "<table border=\"1\" class=\"dataframe\">\n",
       "  <thead>\n",
       "    <tr style=\"text-align: right;\">\n",
       "      <th></th>\n",
       "      <th>buying</th>\n",
       "      <th>maint</th>\n",
       "      <th>doors</th>\n",
       "      <th>persons</th>\n",
       "      <th>lug_boot</th>\n",
       "      <th>safety</th>\n",
       "    </tr>\n",
       "  </thead>\n",
       "  <tbody>\n",
       "    <tr>\n",
       "      <th>1478</th>\n",
       "      <td>1</td>\n",
       "      <td>1</td>\n",
       "      <td>1</td>\n",
       "      <td>1</td>\n",
       "      <td>1</td>\n",
       "      <td>1</td>\n",
       "    </tr>\n",
       "    <tr>\n",
       "      <th>47</th>\n",
       "      <td>2</td>\n",
       "      <td>2</td>\n",
       "      <td>2</td>\n",
       "      <td>1</td>\n",
       "      <td>1</td>\n",
       "      <td>1</td>\n",
       "    </tr>\n",
       "    <tr>\n",
       "      <th>1230</th>\n",
       "      <td>3</td>\n",
       "      <td>3</td>\n",
       "      <td>2</td>\n",
       "      <td>2</td>\n",
       "      <td>2</td>\n",
       "      <td>2</td>\n",
       "    </tr>\n",
       "    <tr>\n",
       "      <th>909</th>\n",
       "      <td>3</td>\n",
       "      <td>2</td>\n",
       "      <td>2</td>\n",
       "      <td>1</td>\n",
       "      <td>3</td>\n",
       "      <td>2</td>\n",
       "    </tr>\n",
       "    <tr>\n",
       "      <th>308</th>\n",
       "      <td>2</td>\n",
       "      <td>4</td>\n",
       "      <td>3</td>\n",
       "      <td>2</td>\n",
       "      <td>1</td>\n",
       "      <td>1</td>\n",
       "    </tr>\n",
       "  </tbody>\n",
       "</table>\n",
       "</div>"
      ],
      "text/plain": [
       "      buying  maint  doors  persons  lug_boot  safety\n",
       "1478       1      1      1        1         1       1\n",
       "47         2      2      2        1         1       1\n",
       "1230       3      3      2        2         2       2\n",
       "909        3      2      2        1         3       2\n",
       "308        2      4      3        2         1       1"
      ]
     },
     "execution_count": 17,
     "metadata": {},
     "output_type": "execute_result"
    }
   ],
   "source": [
    "x_train.head()"
   ]
  },
  {
   "cell_type": "code",
   "execution_count": 18,
   "id": "d7ccaf1f",
   "metadata": {
    "execution": {
     "iopub.execute_input": "2023-12-31T06:52:09.230635Z",
     "iopub.status.busy": "2023-12-31T06:52:09.230169Z",
     "iopub.status.idle": "2023-12-31T06:52:09.242883Z",
     "shell.execute_reply": "2023-12-31T06:52:09.241475Z"
    },
    "papermill": {
     "duration": 0.032573,
     "end_time": "2023-12-31T06:52:09.245460",
     "exception": false,
     "start_time": "2023-12-31T06:52:09.212887",
     "status": "completed"
    },
    "tags": []
   },
   "outputs": [
    {
     "data": {
      "text/html": [
       "<div>\n",
       "<style scoped>\n",
       "    .dataframe tbody tr th:only-of-type {\n",
       "        vertical-align: middle;\n",
       "    }\n",
       "\n",
       "    .dataframe tbody tr th {\n",
       "        vertical-align: top;\n",
       "    }\n",
       "\n",
       "    .dataframe thead th {\n",
       "        text-align: right;\n",
       "    }\n",
       "</style>\n",
       "<table border=\"1\" class=\"dataframe\">\n",
       "  <thead>\n",
       "    <tr style=\"text-align: right;\">\n",
       "      <th></th>\n",
       "      <th>buying</th>\n",
       "      <th>maint</th>\n",
       "      <th>doors</th>\n",
       "      <th>persons</th>\n",
       "      <th>lug_boot</th>\n",
       "      <th>safety</th>\n",
       "    </tr>\n",
       "  </thead>\n",
       "  <tbody>\n",
       "    <tr>\n",
       "      <th>467</th>\n",
       "      <td>4</td>\n",
       "      <td>2</td>\n",
       "      <td>2</td>\n",
       "      <td>2</td>\n",
       "      <td>3</td>\n",
       "      <td>1</td>\n",
       "    </tr>\n",
       "    <tr>\n",
       "      <th>617</th>\n",
       "      <td>4</td>\n",
       "      <td>1</td>\n",
       "      <td>1</td>\n",
       "      <td>1</td>\n",
       "      <td>2</td>\n",
       "      <td>1</td>\n",
       "    </tr>\n",
       "    <tr>\n",
       "      <th>229</th>\n",
       "      <td>2</td>\n",
       "      <td>4</td>\n",
       "      <td>4</td>\n",
       "      <td>2</td>\n",
       "      <td>1</td>\n",
       "      <td>3</td>\n",
       "    </tr>\n",
       "    <tr>\n",
       "      <th>1473</th>\n",
       "      <td>1</td>\n",
       "      <td>1</td>\n",
       "      <td>1</td>\n",
       "      <td>2</td>\n",
       "      <td>2</td>\n",
       "      <td>2</td>\n",
       "    </tr>\n",
       "    <tr>\n",
       "      <th>872</th>\n",
       "      <td>3</td>\n",
       "      <td>2</td>\n",
       "      <td>4</td>\n",
       "      <td>2</td>\n",
       "      <td>3</td>\n",
       "      <td>1</td>\n",
       "    </tr>\n",
       "  </tbody>\n",
       "</table>\n",
       "</div>"
      ],
      "text/plain": [
       "      buying  maint  doors  persons  lug_boot  safety\n",
       "467        4      2      2        2         3       1\n",
       "617        4      1      1        1         2       1\n",
       "229        2      4      4        2         1       3\n",
       "1473       1      1      1        2         2       2\n",
       "872        3      2      4        2         3       1"
      ]
     },
     "execution_count": 18,
     "metadata": {},
     "output_type": "execute_result"
    }
   ],
   "source": [
    "x_test.head()"
   ]
  },
  {
   "cell_type": "markdown",
   "id": "027a8a69",
   "metadata": {
    "papermill": {
     "duration": 0.015368,
     "end_time": "2023-12-31T06:52:09.277381",
     "exception": false,
     "start_time": "2023-12-31T06:52:09.262013",
     "status": "completed"
    },
    "tags": []
   },
   "source": [
    "We now have training and test set ready for model building."
   ]
  },
  {
   "cell_type": "markdown",
   "id": "7edd6a0b",
   "metadata": {
    "papermill": {
     "duration": 0.015597,
     "end_time": "2023-12-31T06:52:09.308904",
     "exception": false,
     "start_time": "2023-12-31T06:52:09.293307",
     "status": "completed"
    },
    "tags": []
   },
   "source": [
    "# Random Forest Classifier model with default parameters "
   ]
  },
  {
   "cell_type": "code",
   "execution_count": 19,
   "id": "cb112bdd",
   "metadata": {
    "execution": {
     "iopub.execute_input": "2023-12-31T06:52:09.343600Z",
     "iopub.status.busy": "2023-12-31T06:52:09.343125Z",
     "iopub.status.idle": "2023-12-31T06:52:09.743611Z",
     "shell.execute_reply": "2023-12-31T06:52:09.742657Z"
    },
    "papermill": {
     "duration": 0.422694,
     "end_time": "2023-12-31T06:52:09.747527",
     "exception": false,
     "start_time": "2023-12-31T06:52:09.324833",
     "status": "completed"
    },
    "tags": []
   },
   "outputs": [
    {
     "name": "stdout",
     "output_type": "stream",
     "text": [
      "model accuracy score with 10 decision trees:0.9211\n"
     ]
    }
   ],
   "source": [
    "# import random forest classifier\n",
    "from sklearn.ensemble import RandomForestClassifier\n",
    "# instantiate the classifier\n",
    "rfc = RandomForestClassifier(n_estimators = 10,random_state =1)\n",
    "# fit the model\n",
    "rfc.fit(x_train,y_train)\n",
    "# predict test set results  \n",
    "y_pred = rfc.predict(x_test)\n",
    "# check accuracy score\n",
    "from sklearn.metrics import accuracy_score\n",
    "print(\"model accuracy score with 10 decision trees:{0:0.4f}\".format(accuracy_score(y_test,y_pred)))"
   ]
  },
  {
   "cell_type": "markdown",
   "id": "e6096f58",
   "metadata": {
    "papermill": {
     "duration": 0.01601,
     "end_time": "2023-12-31T06:52:09.783659",
     "exception": false,
     "start_time": "2023-12-31T06:52:09.767649",
     "status": "completed"
    },
    "tags": []
   },
   "source": [
    "# Random Forest Classifier model with parameter n_estimators=100"
   ]
  },
  {
   "cell_type": "code",
   "execution_count": 20,
   "id": "647d8e18",
   "metadata": {
    "execution": {
     "iopub.execute_input": "2023-12-31T06:52:09.819026Z",
     "iopub.status.busy": "2023-12-31T06:52:09.817599Z",
     "iopub.status.idle": "2023-12-31T06:52:10.167546Z",
     "shell.execute_reply": "2023-12-31T06:52:10.166095Z"
    },
    "papermill": {
     "duration": 0.371045,
     "end_time": "2023-12-31T06:52:10.170779",
     "exception": false,
     "start_time": "2023-12-31T06:52:09.799734",
     "status": "completed"
    },
    "tags": []
   },
   "outputs": [
    {
     "name": "stdout",
     "output_type": "stream",
     "text": [
      "model accuracy score with 100 decision trees:0.9439\n"
     ]
    }
   ],
   "source": [
    "# instantiate the classifier with n_estimators = 100\n",
    "rfc_100 = RandomForestClassifier(n_estimators = 100, random_state = 0)\n",
    "# fit the model to the training set\n",
    "rfc_100.fit(x_train,y_train)\n",
    "# predict on the test set results\n",
    "y_pred_100 = rfc_100.predict(x_test)\n",
    "# check accuracy score\n",
    "print(\"model accuracy score with 100 decision trees:{0:0.4f}\".format(accuracy_score(y_test,y_pred_100)))"
   ]
  },
  {
   "cell_type": "markdown",
   "id": "aa039b42",
   "metadata": {
    "papermill": {
     "duration": 0.015961,
     "end_time": "2023-12-31T06:52:10.203038",
     "exception": false,
     "start_time": "2023-12-31T06:52:10.187077",
     "status": "completed"
    },
    "tags": []
   },
   "source": [
    "#  Find important features with Random Forest model "
   ]
  },
  {
   "cell_type": "code",
   "execution_count": 21,
   "id": "c8d18906",
   "metadata": {
    "execution": {
     "iopub.execute_input": "2023-12-31T06:52:10.237438Z",
     "iopub.status.busy": "2023-12-31T06:52:10.236845Z",
     "iopub.status.idle": "2023-12-31T06:52:10.537340Z",
     "shell.execute_reply": "2023-12-31T06:52:10.535836Z"
    },
    "papermill": {
     "duration": 0.321374,
     "end_time": "2023-12-31T06:52:10.540440",
     "exception": false,
     "start_time": "2023-12-31T06:52:10.219066",
     "status": "completed"
    },
    "tags": []
   },
   "outputs": [
    {
     "data": {
      "text/html": [
       "<style>#sk-container-id-1 {color: black;background-color: white;}#sk-container-id-1 pre{padding: 0;}#sk-container-id-1 div.sk-toggleable {background-color: white;}#sk-container-id-1 label.sk-toggleable__label {cursor: pointer;display: block;width: 100%;margin-bottom: 0;padding: 0.3em;box-sizing: border-box;text-align: center;}#sk-container-id-1 label.sk-toggleable__label-arrow:before {content: \"▸\";float: left;margin-right: 0.25em;color: #696969;}#sk-container-id-1 label.sk-toggleable__label-arrow:hover:before {color: black;}#sk-container-id-1 div.sk-estimator:hover label.sk-toggleable__label-arrow:before {color: black;}#sk-container-id-1 div.sk-toggleable__content {max-height: 0;max-width: 0;overflow: hidden;text-align: left;background-color: #f0f8ff;}#sk-container-id-1 div.sk-toggleable__content pre {margin: 0.2em;color: black;border-radius: 0.25em;background-color: #f0f8ff;}#sk-container-id-1 input.sk-toggleable__control:checked~div.sk-toggleable__content {max-height: 200px;max-width: 100%;overflow: auto;}#sk-container-id-1 input.sk-toggleable__control:checked~label.sk-toggleable__label-arrow:before {content: \"▾\";}#sk-container-id-1 div.sk-estimator input.sk-toggleable__control:checked~label.sk-toggleable__label {background-color: #d4ebff;}#sk-container-id-1 div.sk-label input.sk-toggleable__control:checked~label.sk-toggleable__label {background-color: #d4ebff;}#sk-container-id-1 input.sk-hidden--visually {border: 0;clip: rect(1px 1px 1px 1px);clip: rect(1px, 1px, 1px, 1px);height: 1px;margin: -1px;overflow: hidden;padding: 0;position: absolute;width: 1px;}#sk-container-id-1 div.sk-estimator {font-family: monospace;background-color: #f0f8ff;border: 1px dotted black;border-radius: 0.25em;box-sizing: border-box;margin-bottom: 0.5em;}#sk-container-id-1 div.sk-estimator:hover {background-color: #d4ebff;}#sk-container-id-1 div.sk-parallel-item::after {content: \"\";width: 100%;border-bottom: 1px solid gray;flex-grow: 1;}#sk-container-id-1 div.sk-label:hover label.sk-toggleable__label {background-color: #d4ebff;}#sk-container-id-1 div.sk-serial::before {content: \"\";position: absolute;border-left: 1px solid gray;box-sizing: border-box;top: 0;bottom: 0;left: 50%;z-index: 0;}#sk-container-id-1 div.sk-serial {display: flex;flex-direction: column;align-items: center;background-color: white;padding-right: 0.2em;padding-left: 0.2em;position: relative;}#sk-container-id-1 div.sk-item {position: relative;z-index: 1;}#sk-container-id-1 div.sk-parallel {display: flex;align-items: stretch;justify-content: center;background-color: white;position: relative;}#sk-container-id-1 div.sk-item::before, #sk-container-id-1 div.sk-parallel-item::before {content: \"\";position: absolute;border-left: 1px solid gray;box-sizing: border-box;top: 0;bottom: 0;left: 50%;z-index: -1;}#sk-container-id-1 div.sk-parallel-item {display: flex;flex-direction: column;z-index: 1;position: relative;background-color: white;}#sk-container-id-1 div.sk-parallel-item:first-child::after {align-self: flex-end;width: 50%;}#sk-container-id-1 div.sk-parallel-item:last-child::after {align-self: flex-start;width: 50%;}#sk-container-id-1 div.sk-parallel-item:only-child::after {width: 0;}#sk-container-id-1 div.sk-dashed-wrapped {border: 1px dashed gray;margin: 0 0.4em 0.5em 0.4em;box-sizing: border-box;padding-bottom: 0.4em;background-color: white;}#sk-container-id-1 div.sk-label label {font-family: monospace;font-weight: bold;display: inline-block;line-height: 1.2em;}#sk-container-id-1 div.sk-label-container {text-align: center;}#sk-container-id-1 div.sk-container {/* jupyter's `normalize.less` sets `[hidden] { display: none; }` but bootstrap.min.css set `[hidden] { display: none !important; }` so we also need the `!important` here to be able to override the default hidden behavior on the sphinx rendered scikit-learn.org. See: https://github.com/scikit-learn/scikit-learn/issues/21755 */display: inline-block !important;position: relative;}#sk-container-id-1 div.sk-text-repr-fallback {display: none;}</style><div id=\"sk-container-id-1\" class=\"sk-top-container\"><div class=\"sk-text-repr-fallback\"><pre>RandomForestClassifier(random_state=0)</pre><b>In a Jupyter environment, please rerun this cell to show the HTML representation or trust the notebook. <br />On GitHub, the HTML representation is unable to render, please try loading this page with nbviewer.org.</b></div><div class=\"sk-container\" hidden><div class=\"sk-item\"><div class=\"sk-estimator sk-toggleable\"><input class=\"sk-toggleable__control sk-hidden--visually\" id=\"sk-estimator-id-1\" type=\"checkbox\" checked><label for=\"sk-estimator-id-1\" class=\"sk-toggleable__label sk-toggleable__label-arrow\">RandomForestClassifier</label><div class=\"sk-toggleable__content\"><pre>RandomForestClassifier(random_state=0)</pre></div></div></div></div></div>"
      ],
      "text/plain": [
       "RandomForestClassifier(random_state=0)"
      ]
     },
     "execution_count": 21,
     "metadata": {},
     "output_type": "execute_result"
    }
   ],
   "source": [
    "# create the classifier with n_estimators = 100\n",
    "clf = RandomForestClassifier(n_estimators=100, random_state=0)\n",
    "# fit the model to the training set\n",
    "clf.fit(x_train,y_train)"
   ]
  },
  {
   "cell_type": "code",
   "execution_count": 22,
   "id": "75e782ef",
   "metadata": {
    "execution": {
     "iopub.execute_input": "2023-12-31T06:52:10.577174Z",
     "iopub.status.busy": "2023-12-31T06:52:10.576653Z",
     "iopub.status.idle": "2023-12-31T06:52:10.597079Z",
     "shell.execute_reply": "2023-12-31T06:52:10.595785Z"
    },
    "papermill": {
     "duration": 0.042402,
     "end_time": "2023-12-31T06:52:10.599869",
     "exception": false,
     "start_time": "2023-12-31T06:52:10.557467",
     "status": "completed"
    },
    "tags": []
   },
   "outputs": [
    {
     "data": {
      "text/plain": [
       "safety      0.289972\n",
       "persons     0.244606\n",
       "buying      0.194339\n",
       "maint       0.119668\n",
       "lug_boot    0.078183\n",
       "doors       0.073233\n",
       "dtype: float64"
      ]
     },
     "execution_count": 22,
     "metadata": {},
     "output_type": "execute_result"
    }
   ],
   "source": [
    "# view the feature scores\n",
    "feature_scores = pd.Series(clf.feature_importances_,index = x_train.columns).sort_values(ascending = False)\n",
    "feature_scores"
   ]
  },
  {
   "cell_type": "markdown",
   "id": "45f50b53",
   "metadata": {
    "papermill": {
     "duration": 0.016271,
     "end_time": "2023-12-31T06:52:10.633394",
     "exception": false,
     "start_time": "2023-12-31T06:52:10.617123",
     "status": "completed"
    },
    "tags": []
   },
   "source": [
    "# Visualize feature scores of the features"
   ]
  },
  {
   "cell_type": "code",
   "execution_count": 23,
   "id": "35e941b6",
   "metadata": {
    "execution": {
     "iopub.execute_input": "2023-12-31T06:52:10.670819Z",
     "iopub.status.busy": "2023-12-31T06:52:10.670275Z",
     "iopub.status.idle": "2023-12-31T06:52:10.974234Z",
     "shell.execute_reply": "2023-12-31T06:52:10.972808Z"
    },
    "papermill": {
     "duration": 0.327973,
     "end_time": "2023-12-31T06:52:10.977950",
     "exception": false,
     "start_time": "2023-12-31T06:52:10.649977",
     "status": "completed"
    },
    "tags": []
   },
   "outputs": [
    {
     "data": {
      "image/png": "[encoded data removed]",
      "text/plain": [
       "<Figure size 640x480 with 1 Axes>"
      ]
     },
     "metadata": {},
     "output_type": "display_data"
    }
   ],
   "source": [
    "# creating a seaborn barplot\n",
    "sns.barplot(x=feature_scores,y = feature_scores.index)\n",
    "# add labels to the graph\n",
    "plt.xlabel(\"feature importance score\")\n",
    "plt.ylabel(\"features\")\n",
    "# add title to the graph\n",
    "plt.title(\"visualizing important features\")\n",
    "# visualize the graph\n",
    "plt.show()"
   ]
  },
  {
   "cell_type": "markdown",
   "id": "10469cf6",
   "metadata": {
    "papermill": {
     "duration": 0.017303,
     "end_time": "2023-12-31T06:52:11.013120",
     "exception": false,
     "start_time": "2023-12-31T06:52:10.995817",
     "status": "completed"
    },
    "tags": []
   },
   "source": [
    "# Build Random Forest model on selected features "
   ]
  },
  {
   "cell_type": "markdown",
   "id": "ecf969f4",
   "metadata": {
    "papermill": {
     "duration": 0.016772,
     "end_time": "2023-12-31T06:52:11.047658",
     "exception": false,
     "start_time": "2023-12-31T06:52:11.030886",
     "status": "completed"
    },
    "tags": []
   },
   "source": [
    "Now, I will drop the least important feature doors from the model, rebuild the model and check its effect on accuracy."
   ]
  },
  {
   "cell_type": "code",
   "execution_count": 24,
   "id": "7034fc73",
   "metadata": {
    "execution": {
     "iopub.execute_input": "2023-12-31T06:52:11.084269Z",
     "iopub.status.busy": "2023-12-31T06:52:11.083769Z",
     "iopub.status.idle": "2023-12-31T06:52:11.090468Z",
     "shell.execute_reply": "2023-12-31T06:52:11.089489Z"
    },
    "papermill": {
     "duration": 0.028227,
     "end_time": "2023-12-31T06:52:11.093060",
     "exception": false,
     "start_time": "2023-12-31T06:52:11.064833",
     "status": "completed"
    },
    "tags": []
   },
   "outputs": [],
   "source": [
    "# declare feature vector and target variable\n",
    "x = df.drop([\"class\",\"doors\"],axis =1)\n",
    "y = df[\"class\"]"
   ]
  },
  {
   "cell_type": "code",
   "execution_count": 25,
   "id": "0f009644",
   "metadata": {
    "execution": {
     "iopub.execute_input": "2023-12-31T06:52:11.131654Z",
     "iopub.status.busy": "2023-12-31T06:52:11.130425Z",
     "iopub.status.idle": "2023-12-31T06:52:11.139575Z",
     "shell.execute_reply": "2023-12-31T06:52:11.138540Z"
    },
    "papermill": {
     "duration": 0.030988,
     "end_time": "2023-12-31T06:52:11.142448",
     "exception": false,
     "start_time": "2023-12-31T06:52:11.111460",
     "status": "completed"
    },
    "tags": []
   },
   "outputs": [],
   "source": [
    "# split data into training and testing sets\n",
    "from sklearn.model_selection import train_test_split\n",
    "x_train,x_test,y_train,y_test = train_test_split(x,y,test_size = 0.33,random_state =1)"
   ]
  },
  {
   "cell_type": "code",
   "execution_count": 26,
   "id": "44eb1b22",
   "metadata": {
    "execution": {
     "iopub.execute_input": "2023-12-31T06:52:11.179823Z",
     "iopub.status.busy": "2023-12-31T06:52:11.178910Z",
     "iopub.status.idle": "2023-12-31T06:52:11.219062Z",
     "shell.execute_reply": "2023-12-31T06:52:11.217516Z"
    },
    "papermill": {
     "duration": 0.062283,
     "end_time": "2023-12-31T06:52:11.222408",
     "exception": false,
     "start_time": "2023-12-31T06:52:11.160125",
     "status": "completed"
    },
    "tags": []
   },
   "outputs": [],
   "source": [
    "# encode categorical variables with ordinal encoding\n",
    "encoder = ce.OrdinalEncoder(cols=['buying', 'maint', 'persons', 'lug_boot', 'safety'])\n",
    "x_train = encoder.fit_transform(x_train)\n",
    "x_test = encoder.transform(x_test)"
   ]
  },
  {
   "cell_type": "code",
   "execution_count": 27,
   "id": "8c99134e",
   "metadata": {
    "execution": {
     "iopub.execute_input": "2023-12-31T06:52:11.259911Z",
     "iopub.status.busy": "2023-12-31T06:52:11.259059Z",
     "iopub.status.idle": "2023-12-31T06:52:11.553742Z",
     "shell.execute_reply": "2023-12-31T06:52:11.551848Z"
    },
    "papermill": {
     "duration": 0.316427,
     "end_time": "2023-12-31T06:52:11.556737",
     "exception": false,
     "start_time": "2023-12-31T06:52:11.240310",
     "status": "completed"
    },
    "tags": []
   },
   "outputs": [
    {
     "name": "stdout",
     "output_type": "stream",
     "text": [
      "model accuracy score with doors variable removed:0.9298\n"
     ]
    }
   ],
   "source": [
    "# instantiate the classifier with n_estimators =100\n",
    "clf = RandomForestClassifier(random_state = 0)\n",
    "# fit the model to the training set\n",
    "clf.fit(x_train,y_train)\n",
    "# predict on the test set results\n",
    "y_pred = clf.predict(x_test)\n",
    "# check accuracy score\n",
    "print(\"model accuracy score with doors variable removed:{0:0.4f}\".format(accuracy_score(y_test,y_pred)))"
   ]
  },
  {
   "cell_type": "code",
   "execution_count": 28,
   "id": "c6ec8a2e",
   "metadata": {
    "execution": {
     "iopub.execute_input": "2023-12-31T06:52:11.594484Z",
     "iopub.status.busy": "2023-12-31T06:52:11.593987Z",
     "iopub.status.idle": "2023-12-31T06:52:11.606093Z",
     "shell.execute_reply": "2023-12-31T06:52:11.604903Z"
    },
    "papermill": {
     "duration": 0.034398,
     "end_time": "2023-12-31T06:52:11.608627",
     "exception": false,
     "start_time": "2023-12-31T06:52:11.574229",
     "status": "completed"
    },
    "tags": []
   },
   "outputs": [
    {
     "name": "stdout",
     "output_type": "stream",
     "text": [
      "confusion matrix\n",
      " [[119   2   4   0]\n",
      " [  3  16   3   2]\n",
      " [ 18   1 373   0]\n",
      " [  2   5   0  22]]\n"
     ]
    }
   ],
   "source": [
    "# Print the Confusion Matrix and slice it into four pieces\n",
    "from sklearn.metrics import confusion_matrix\n",
    "cm = confusion_matrix(y_test,y_pred)\n",
    "print(\"confusion matrix\\n\",cm)"
   ]
  },
  {
   "cell_type": "markdown",
   "id": "3d56251b",
   "metadata": {
    "papermill": {
     "duration": 0.017045,
     "end_time": "2023-12-31T06:52:11.642839",
     "exception": false,
     "start_time": "2023-12-31T06:52:11.625794",
     "status": "completed"
    },
    "tags": []
   },
   "source": [
    "# classification report"
   ]
  },
  {
   "cell_type": "code",
   "execution_count": 29,
   "id": "e3e11594",
   "metadata": {
    "execution": {
     "iopub.execute_input": "2023-12-31T06:52:11.680040Z",
     "iopub.status.busy": "2023-12-31T06:52:11.678767Z",
     "iopub.status.idle": "2023-12-31T06:52:11.721501Z",
     "shell.execute_reply": "2023-12-31T06:52:11.719977Z"
    },
    "papermill": {
     "duration": 0.064533,
     "end_time": "2023-12-31T06:52:11.724622",
     "exception": false,
     "start_time": "2023-12-31T06:52:11.660089",
     "status": "completed"
    },
    "tags": []
   },
   "outputs": [
    {
     "name": "stdout",
     "output_type": "stream",
     "text": [
      "              precision    recall  f1-score   support\n",
      "\n",
      "         acc       0.84      0.95      0.89       125\n",
      "        good       0.67      0.67      0.67        24\n",
      "       unacc       0.98      0.95      0.97       392\n",
      "       vgood       0.92      0.76      0.83        29\n",
      "\n",
      "    accuracy                           0.93       570\n",
      "   macro avg       0.85      0.83      0.84       570\n",
      "weighted avg       0.93      0.93      0.93       570\n",
      "\n"
     ]
    }
   ],
   "source": [
    "from sklearn.metrics import classification_report\n",
    "print(classification_report(y_test,y_pred))"
   ]
  },
  {
   "cell_type": "code",
   "execution_count": null,
   "id": "015509b3",
   "metadata": {
    "papermill": {
     "duration": 0.017141,
     "end_time": "2023-12-31T06:52:11.759448",
     "exception": false,
     "start_time": "2023-12-31T06:52:11.742307",
     "status": "completed"
    },
    "tags": []
   },
   "outputs": [],
   "source": []
  }
 ],
 "metadata": {
  "kaggle": {
   "accelerator": "none",
   "dataSources": [
    {
     "datasetId": 1311367,
     "sourceId": 2184423,
     "sourceType": "datasetVersion"
    }
   ],
   "dockerImageVersionId": 30626,
   "isGpuEnabled": false,
   "isInternetEnabled": false,
   "language": "python",
   "sourceType": "notebook"
  },
  "kernelspec": {
   "display_name": "Python 3",
   "language": "python",
   "name": "python3"
  },
  "language_info": {
   "codemirror_mode": {
    "name": "ipython",
    "version": 3
   },
   "file_extension": ".py",
   "mimetype": "text/x-python",
   "name": "python",
   "nbconvert_exporter": "python",
   "pygments_lexer": "ipython3",
   "version": "3.10.12"
  },
  "papermill": {
   "default_parameters": {},
   "duration": 11.571242,
   "end_time": "2023-12-31T06:52:12.702905",
   "environment_variables": {},
   "exception": null,
   "input_path": "__notebook__.ipynb",
   "output_path": "__notebook__.ipynb",
   "parameters": {},
   "start_time": "2023-12-31T06:52:01.131663",
   "version": "2.4.0"
  }
 },
 "nbformat": 4,
 "nbformat_minor": 5
}
