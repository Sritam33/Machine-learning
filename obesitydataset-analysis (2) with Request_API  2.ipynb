{
 "cells": [
  {
   "cell_type": "code",
   "execution_count": 6,
   "id": "c69f30a1",
   "metadata": {},
   "outputs": [],
   "source": [
    "import pickle"
   ]
  },
  {
   "cell_type": "code",
   "execution_count": 7,
   "id": "a70d6c42",
   "metadata": {},
   "outputs": [],
   "source": [
    "f1= open(r\"C:\\Users\\srita\\OneDrive\\Desktop\\internship\\model_13apr24.sav\",\"rb\")"
   ]
  },
  {
   "cell_type": "code",
   "execution_count": 8,
   "id": "2596de23",
   "metadata": {},
   "outputs": [],
   "source": [
    "model = pickle.load(f1)"
   ]
  },
  {
   "cell_type": "code",
   "execution_count": 9,
   "id": "52e68de2",
   "metadata": {},
   "outputs": [],
   "source": [
    "import pandas as pd"
   ]
  },
  {
   "cell_type": "code",
   "execution_count": 10,
   "id": "635b04b5",
   "metadata": {},
   "outputs": [],
   "source": [
    "df = pd.DataFrame({\"Age\":[1.739233],\"Gender\":[0.0],\"Height\":[0.984614],\"Weight\":[-0.063280],\"CALC\":[1.0],\"FAVC\":[0.0],\"FCVC\":[0.211682],\"NCP\":[-0.391945],\"SCC\":[0.0],\"SMOKE\":[0.0],\"CH2O\":[-0.158451],\"family_history_with_overweight\":[-1.0],\"FAF\":[0.686885],\"TUE\":[-0.194607],\"CAEC\":[0.0],\"MTRANS\":[-3.0]})"
   ]
  },
  {
   "cell_type": "code",
   "execution_count": 11,
   "id": "95e39bdc",
   "metadata": {},
   "outputs": [
    {
     "data": {
      "text/html": [
       "<div>\n",
       "<style scoped>\n",
       "    .dataframe tbody tr th:only-of-type {\n",
       "        vertical-align: middle;\n",
       "    }\n",
       "\n",
       "    .dataframe tbody tr th {\n",
       "        vertical-align: top;\n",
       "    }\n",
       "\n",
       "    .dataframe thead th {\n",
       "        text-align: right;\n",
       "    }\n",
       "</style>\n",
       "<table border=\"1\" class=\"dataframe\">\n",
       "  <thead>\n",
       "    <tr style=\"text-align: right;\">\n",
       "      <th></th>\n",
       "      <th>Age</th>\n",
       "      <th>Gender</th>\n",
       "      <th>Height</th>\n",
       "      <th>Weight</th>\n",
       "      <th>CALC</th>\n",
       "      <th>FAVC</th>\n",
       "      <th>FCVC</th>\n",
       "      <th>NCP</th>\n",
       "      <th>SCC</th>\n",
       "      <th>SMOKE</th>\n",
       "      <th>CH2O</th>\n",
       "      <th>family_history_with_overweight</th>\n",
       "      <th>FAF</th>\n",
       "      <th>TUE</th>\n",
       "      <th>CAEC</th>\n",
       "      <th>MTRANS</th>\n",
       "    </tr>\n",
       "  </thead>\n",
       "  <tbody>\n",
       "    <tr>\n",
       "      <th>0</th>\n",
       "      <td>1.739233</td>\n",
       "      <td>0.0</td>\n",
       "      <td>0.984614</td>\n",
       "      <td>-0.06328</td>\n",
       "      <td>1.0</td>\n",
       "      <td>0.0</td>\n",
       "      <td>0.211682</td>\n",
       "      <td>-0.391945</td>\n",
       "      <td>0.0</td>\n",
       "      <td>0.0</td>\n",
       "      <td>-0.158451</td>\n",
       "      <td>-1.0</td>\n",
       "      <td>0.686885</td>\n",
       "      <td>-0.194607</td>\n",
       "      <td>0.0</td>\n",
       "      <td>-3.0</td>\n",
       "    </tr>\n",
       "  </tbody>\n",
       "</table>\n",
       "</div>"
      ],
      "text/plain": [
       "        Age  Gender    Height   Weight  CALC  FAVC      FCVC       NCP  SCC  \\\n",
       "0  1.739233     0.0  0.984614 -0.06328   1.0   0.0  0.211682 -0.391945  0.0   \n",
       "\n",
       "   SMOKE      CH2O  family_history_with_overweight       FAF       TUE  CAEC  \\\n",
       "0    0.0 -0.158451                            -1.0  0.686885 -0.194607   0.0   \n",
       "\n",
       "   MTRANS  \n",
       "0    -3.0  "
      ]
     },
     "execution_count": 11,
     "metadata": {},
     "output_type": "execute_result"
    }
   ],
   "source": [
    "df.head()"
   ]
  },
  {
   "cell_type": "code",
   "execution_count": 12,
   "id": "783e5874",
   "metadata": {},
   "outputs": [
    {
     "data": {
      "text/plain": [
       "array([5])"
      ]
     },
     "execution_count": 12,
     "metadata": {},
     "output_type": "execute_result"
    }
   ],
   "source": [
    "model.predict(df)"
   ]
  },
  {
   "cell_type": "code",
   "execution_count": 13,
   "id": "4b36c01e",
   "metadata": {},
   "outputs": [],
   "source": [
    "def get_prediction(age,gender,height,weight,calc,favc,fcvc,ncp,scc,smoke,ch2o,family_history_with_overweight,faf,tue,caec,mtrans):\n",
    "    x =  pd.DataFrame({\"Age\":[1.739233],\"Gender\":[0.0],\"Height\":[0.984614],\"Weight\":[-0.063280],\"CALC\":[1.0],\"FAVC\":[0.0],\"FCVC\":[0.211682],\"NCP\":[-0.391945],\"SCC\":[0.0],\"SMOKE\":[0.0],\"CH2O\":[-0.158451],\"family_history_with_overweight\":[-1.0],\"FAF\":[0.686885],\"TUE\":[-0.194607],\"CAEC\":[0.0],\"MTRANS\":[-3.0]})\n",
    "    result = model(x)\n",
    "    "
   ]
  },
  {
   "cell_type": "code",
   "execution_count": null,
   "id": "688712ca",
   "metadata": {},
   "outputs": [
    {
     "name": "stdout",
     "output_type": "stream",
     "text": [
      " * Serving Flask app '__main__'\n",
      " * Debug mode: off\n"
     ]
    },
    {
     "name": "stderr",
     "output_type": "stream",
     "text": [
      "WARNING: This is a development server. Do not use it in a production deployment. Use a production WSGI server instead.\n",
      " * Running on http://127.0.0.1:5000\n",
      "Press CTRL+C to quit\n",
      "127.0.0.1 - - [15/Apr/2024 18:16:09] \"POST /get_pre/?age=1.739233&gender=0.0&height=0.984614&weight=-0.063280&calc=1.0&favc=0.0&fcvc=0.211682&ncp=-0.391945&scc=0.0&smoke=0.0&ch2o=-0.158451&family_history_with_overweight=-1.0&faf=0.686885&tue=-0.194607&caec=0.0&mtrans=-3.0 HTTP/1.1\" 200 -\n"
     ]
    },
    {
     "name": "stdout",
     "output_type": "stream",
     "text": [
      "[5]\n"
     ]
    },
    {
     "name": "stderr",
     "output_type": "stream",
     "text": [
      "127.0.0.1 - - [15/Apr/2024 18:17:00] \"GET /get_pre/?age=1.739233&gender=0.0&height=0.984614&weight=-0.063280&calc=1.0&favc=0.0&fcvc=0.211682&ncp=-0.391945&scc=0.0&smoke=0.0&ch2o=-0.158451&family_history_with_overweight=-1.0&faf=0.686885&tue=-0.194607&caec=0.0&mtrans=-3.0 HTTP/1.1\" 200 -\n",
      "127.0.0.1 - - [15/Apr/2024 18:17:00] \""
     ]
    },
    {
     "name": "stdout",
     "output_type": "stream",
     "text": [
      "[5]\n"
     ]
    },
    {
     "name": "stderr",
     "output_type": "stream",
     "text": [
      "GET /favicon.ico HTTP/1.1\" 404 -\n"
     ]
    }
   ],
   "source": [
    "from flask import Flask, request\n",
    "app =Flask(__name__)\n",
    "import json\n",
    "@app.route('/get_pre/',methods=['GET','POST'])\n",
    "def get_prediction1():\n",
    "    age = request.args.get('age')\n",
    "    gender = request.args.get('gender')\n",
    "    height = request.args.get('height')\n",
    "    weight = request.args.get('weight')\n",
    "    calc = request.args.get('age')\n",
    "    favc = request.args.get('favc')\n",
    "    fcvc = request.args.get('fcvc')\n",
    "    ncp = request.args.get('ncp')\n",
    "    scc = request.args.get('scc')\n",
    "    smoke = request.args.get('smoke')\n",
    "    ch2o = request.args.get('ch2o')\n",
    "    family_history_with_overweight = request.args.get('family_history_with_overweight')\n",
    "    faf = request.args.get('faf')\n",
    "    tue = request.args.get('tue')\n",
    "    caec = request.args.get('caec')\n",
    "    mtrans = request.args.get('mtrans')\n",
    "    \n",
    "    x =  pd.DataFrame({\"Age\":[1.739233],\"Gender\":[0.0],\"Height\":[0.984614],\"Weight\":[-0.063280],\"CALC\":[1.0],\"FAVC\":[0.0],\"FCVC\":[0.211682],\"NCP\":[-0.391945],\"SCC\":[0.0],\"SMOKE\":[0.0],\"CH2O\":[-0.158451],\"family_history_with_overweight\":[-1.0],\"FAF\":[0.686885],\"TUE\":[-0.194607],\"CAEC\":[0.0],\"MTRANS\":[-3.0]})\n",
    "    result = model.predict(x)\n",
    "    print(result)\n",
    "    return str(result) #json.dumps({\"prediction\":result})\n",
    "if __name__ == \"__main__\":\n",
    "    app.debug = False\n",
    "    app.run(host = \"127.0.0.1\",port=5000 )"
   ]
  },
  {
   "cell_type": "code",
   "execution_count": null,
   "id": "6b170a59",
   "metadata": {},
   "outputs": [],
   "source": []
  }
 ],
 "metadata": {
  "kernelspec": {
   "display_name": "Python 3 (ipykernel)",
   "language": "python",
   "name": "python3"
  },
  "language_info": {
   "codemirror_mode": {
    "name": "ipython",
    "version": 3
   },
   "file_extension": ".py",
   "mimetype": "text/x-python",
   "name": "python",
   "nbconvert_exporter": "python",
   "pygments_lexer": "ipython3",
   "version": "3.11.5"
  }
 },
 "nbformat": 4,
 "nbformat_minor": 5
}
