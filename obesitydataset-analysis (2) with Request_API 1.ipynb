{
 "cells": [
  {
   "cell_type": "code",
   "execution_count": 5,
   "metadata": {
    "execution": {
     "iopub.execute_input": "2024-04-15T10:37:00.012848Z",
     "iopub.status.busy": "2024-04-15T10:37:00.012393Z",
     "iopub.status.idle": "2024-04-15T10:37:02.930686Z",
     "shell.execute_reply": "2024-04-15T10:37:02.929159Z",
     "shell.execute_reply.started": "2024-04-15T10:37:00.012806Z"
    }
   },
   "outputs": [],
   "source": [
    "# import library\n",
    "import numpy as np\n",
    "import pandas as pd\n",
    "import seaborn as sns\n",
    "import matplotlib.pyplot as plt"
   ]
  },
  {
   "cell_type": "code",
   "execution_count": 6,
   "metadata": {
    "execution": {
     "iopub.execute_input": "2024-04-15T10:37:02.933796Z",
     "iopub.status.busy": "2024-04-15T10:37:02.933128Z",
     "iopub.status.idle": "2024-04-15T10:37:02.967619Z",
     "shell.execute_reply": "2024-04-15T10:37:02.966123Z",
     "shell.execute_reply.started": "2024-04-15T10:37:02.933748Z"
    }
   },
   "outputs": [],
   "source": [
    "# read the data\n",
    "df = pd.read_csv(r\"C:\\Users\\srita\\Downloads\\ObesityDataSet_raw_and_data_sinthetic.csv\")"
   ]
  },
  {
   "cell_type": "code",
   "execution_count": 7,
   "metadata": {
    "execution": {
     "iopub.execute_input": "2024-04-15T10:37:02.969993Z",
     "iopub.status.busy": "2024-04-15T10:37:02.969416Z",
     "iopub.status.idle": "2024-04-15T10:37:03.003540Z",
     "shell.execute_reply": "2024-04-15T10:37:03.002547Z",
     "shell.execute_reply.started": "2024-04-15T10:37:02.969952Z"
    }
   },
   "outputs": [
    {
     "data": {
      "text/html": [
       "<div>\n",
       "<style scoped>\n",
       "    .dataframe tbody tr th:only-of-type {\n",
       "        vertical-align: middle;\n",
       "    }\n",
       "\n",
       "    .dataframe tbody tr th {\n",
       "        vertical-align: top;\n",
       "    }\n",
       "\n",
       "    .dataframe thead th {\n",
       "        text-align: right;\n",
       "    }\n",
       "</style>\n",
       "<table border=\"1\" class=\"dataframe\">\n",
       "  <thead>\n",
       "    <tr style=\"text-align: right;\">\n",
       "      <th></th>\n",
       "      <th>Age</th>\n",
       "      <th>Gender</th>\n",
       "      <th>Height</th>\n",
       "      <th>Weight</th>\n",
       "      <th>CALC</th>\n",
       "      <th>FAVC</th>\n",
       "      <th>FCVC</th>\n",
       "      <th>NCP</th>\n",
       "      <th>SCC</th>\n",
       "      <th>SMOKE</th>\n",
       "      <th>CH2O</th>\n",
       "      <th>family_history_with_overweight</th>\n",
       "      <th>FAF</th>\n",
       "      <th>TUE</th>\n",
       "      <th>CAEC</th>\n",
       "      <th>MTRANS</th>\n",
       "      <th>NObeyesdad</th>\n",
       "    </tr>\n",
       "  </thead>\n",
       "  <tbody>\n",
       "    <tr>\n",
       "      <th>0</th>\n",
       "      <td>21.0</td>\n",
       "      <td>Female</td>\n",
       "      <td>1.62</td>\n",
       "      <td>64.0</td>\n",
       "      <td>no</td>\n",
       "      <td>no</td>\n",
       "      <td>2.0</td>\n",
       "      <td>3.0</td>\n",
       "      <td>no</td>\n",
       "      <td>no</td>\n",
       "      <td>2.0</td>\n",
       "      <td>yes</td>\n",
       "      <td>0.0</td>\n",
       "      <td>1.0</td>\n",
       "      <td>Sometimes</td>\n",
       "      <td>Public_Transportation</td>\n",
       "      <td>Normal_Weight</td>\n",
       "    </tr>\n",
       "    <tr>\n",
       "      <th>1</th>\n",
       "      <td>21.0</td>\n",
       "      <td>Female</td>\n",
       "      <td>1.52</td>\n",
       "      <td>56.0</td>\n",
       "      <td>Sometimes</td>\n",
       "      <td>no</td>\n",
       "      <td>3.0</td>\n",
       "      <td>3.0</td>\n",
       "      <td>yes</td>\n",
       "      <td>yes</td>\n",
       "      <td>3.0</td>\n",
       "      <td>yes</td>\n",
       "      <td>3.0</td>\n",
       "      <td>0.0</td>\n",
       "      <td>Sometimes</td>\n",
       "      <td>Public_Transportation</td>\n",
       "      <td>Normal_Weight</td>\n",
       "    </tr>\n",
       "    <tr>\n",
       "      <th>2</th>\n",
       "      <td>23.0</td>\n",
       "      <td>Male</td>\n",
       "      <td>1.80</td>\n",
       "      <td>77.0</td>\n",
       "      <td>Frequently</td>\n",
       "      <td>no</td>\n",
       "      <td>2.0</td>\n",
       "      <td>3.0</td>\n",
       "      <td>no</td>\n",
       "      <td>no</td>\n",
       "      <td>2.0</td>\n",
       "      <td>yes</td>\n",
       "      <td>2.0</td>\n",
       "      <td>1.0</td>\n",
       "      <td>Sometimes</td>\n",
       "      <td>Public_Transportation</td>\n",
       "      <td>Normal_Weight</td>\n",
       "    </tr>\n",
       "    <tr>\n",
       "      <th>3</th>\n",
       "      <td>27.0</td>\n",
       "      <td>Male</td>\n",
       "      <td>1.80</td>\n",
       "      <td>87.0</td>\n",
       "      <td>Frequently</td>\n",
       "      <td>no</td>\n",
       "      <td>3.0</td>\n",
       "      <td>3.0</td>\n",
       "      <td>no</td>\n",
       "      <td>no</td>\n",
       "      <td>2.0</td>\n",
       "      <td>no</td>\n",
       "      <td>2.0</td>\n",
       "      <td>0.0</td>\n",
       "      <td>Sometimes</td>\n",
       "      <td>Walking</td>\n",
       "      <td>Overweight_Level_I</td>\n",
       "    </tr>\n",
       "    <tr>\n",
       "      <th>4</th>\n",
       "      <td>22.0</td>\n",
       "      <td>Male</td>\n",
       "      <td>1.78</td>\n",
       "      <td>89.8</td>\n",
       "      <td>Sometimes</td>\n",
       "      <td>no</td>\n",
       "      <td>2.0</td>\n",
       "      <td>1.0</td>\n",
       "      <td>no</td>\n",
       "      <td>no</td>\n",
       "      <td>2.0</td>\n",
       "      <td>no</td>\n",
       "      <td>0.0</td>\n",
       "      <td>0.0</td>\n",
       "      <td>Sometimes</td>\n",
       "      <td>Public_Transportation</td>\n",
       "      <td>Overweight_Level_II</td>\n",
       "    </tr>\n",
       "  </tbody>\n",
       "</table>\n",
       "</div>"
      ],
      "text/plain": [
       "    Age  Gender  Height  Weight        CALC FAVC  FCVC  NCP  SCC SMOKE  CH2O  \\\n",
       "0  21.0  Female    1.62    64.0          no   no   2.0  3.0   no    no   2.0   \n",
       "1  21.0  Female    1.52    56.0   Sometimes   no   3.0  3.0  yes   yes   3.0   \n",
       "2  23.0    Male    1.80    77.0  Frequently   no   2.0  3.0   no    no   2.0   \n",
       "3  27.0    Male    1.80    87.0  Frequently   no   3.0  3.0   no    no   2.0   \n",
       "4  22.0    Male    1.78    89.8   Sometimes   no   2.0  1.0   no    no   2.0   \n",
       "\n",
       "  family_history_with_overweight  FAF  TUE       CAEC                 MTRANS  \\\n",
       "0                            yes  0.0  1.0  Sometimes  Public_Transportation   \n",
       "1                            yes  3.0  0.0  Sometimes  Public_Transportation   \n",
       "2                            yes  2.0  1.0  Sometimes  Public_Transportation   \n",
       "3                             no  2.0  0.0  Sometimes                Walking   \n",
       "4                             no  0.0  0.0  Sometimes  Public_Transportation   \n",
       "\n",
       "            NObeyesdad  \n",
       "0        Normal_Weight  \n",
       "1        Normal_Weight  \n",
       "2        Normal_Weight  \n",
       "3   Overweight_Level_I  \n",
       "4  Overweight_Level_II  "
      ]
     },
     "execution_count": 7,
     "metadata": {},
     "output_type": "execute_result"
    }
   ],
   "source": [
    "df.head()"
   ]
  },
  {
   "cell_type": "code",
   "execution_count": 8,
   "metadata": {
    "execution": {
     "iopub.execute_input": "2024-04-15T10:37:03.007464Z",
     "iopub.status.busy": "2024-04-15T10:37:03.006540Z",
     "iopub.status.idle": "2024-04-15T10:37:03.014603Z",
     "shell.execute_reply": "2024-04-15T10:37:03.012958Z",
     "shell.execute_reply.started": "2024-04-15T10:37:03.007422Z"
    }
   },
   "outputs": [
    {
     "data": {
      "text/plain": [
       "(2111, 17)"
      ]
     },
     "execution_count": 8,
     "metadata": {},
     "output_type": "execute_result"
    }
   ],
   "source": [
    "df.shape"
   ]
  },
  {
   "cell_type": "code",
   "execution_count": 9,
   "metadata": {
    "execution": {
     "iopub.execute_input": "2024-04-15T10:37:03.017423Z",
     "iopub.status.busy": "2024-04-15T10:37:03.016291Z",
     "iopub.status.idle": "2024-04-15T10:37:03.053667Z",
     "shell.execute_reply": "2024-04-15T10:37:03.052793Z",
     "shell.execute_reply.started": "2024-04-15T10:37:03.017379Z"
    }
   },
   "outputs": [
    {
     "name": "stdout",
     "output_type": "stream",
     "text": [
      "<class 'pandas.core.frame.DataFrame'>\n",
      "RangeIndex: 2111 entries, 0 to 2110\n",
      "Data columns (total 17 columns):\n",
      " #   Column                          Non-Null Count  Dtype  \n",
      "---  ------                          --------------  -----  \n",
      " 0   Age                             2111 non-null   float64\n",
      " 1   Gender                          2111 non-null   object \n",
      " 2   Height                          2111 non-null   float64\n",
      " 3   Weight                          2111 non-null   float64\n",
      " 4   CALC                            2111 non-null   object \n",
      " 5   FAVC                            2111 non-null   object \n",
      " 6   FCVC                            2111 non-null   float64\n",
      " 7   NCP                             2111 non-null   float64\n",
      " 8   SCC                             2111 non-null   object \n",
      " 9   SMOKE                           2111 non-null   object \n",
      " 10  CH2O                            2111 non-null   float64\n",
      " 11  family_history_with_overweight  2111 non-null   object \n",
      " 12  FAF                             2111 non-null   float64\n",
      " 13  TUE                             2111 non-null   float64\n",
      " 14  CAEC                            2111 non-null   object \n",
      " 15  MTRANS                          2111 non-null   object \n",
      " 16  NObeyesdad                      2111 non-null   object \n",
      "dtypes: float64(8), object(9)\n",
      "memory usage: 280.5+ KB\n"
     ]
    }
   ],
   "source": [
    "df.info()"
   ]
  },
  {
   "cell_type": "code",
   "execution_count": 10,
   "metadata": {
    "execution": {
     "iopub.execute_input": "2024-04-15T10:37:03.055683Z",
     "iopub.status.busy": "2024-04-15T10:37:03.055327Z",
     "iopub.status.idle": "2024-04-15T10:37:03.066505Z",
     "shell.execute_reply": "2024-04-15T10:37:03.065372Z",
     "shell.execute_reply.started": "2024-04-15T10:37:03.055651Z"
    }
   },
   "outputs": [
    {
     "data": {
      "text/plain": [
       "Age                               0\n",
       "Gender                            0\n",
       "Height                            0\n",
       "Weight                            0\n",
       "CALC                              0\n",
       "FAVC                              0\n",
       "FCVC                              0\n",
       "NCP                               0\n",
       "SCC                               0\n",
       "SMOKE                             0\n",
       "CH2O                              0\n",
       "family_history_with_overweight    0\n",
       "FAF                               0\n",
       "TUE                               0\n",
       "CAEC                              0\n",
       "MTRANS                            0\n",
       "NObeyesdad                        0\n",
       "dtype: int64"
      ]
     },
     "execution_count": 10,
     "metadata": {},
     "output_type": "execute_result"
    }
   ],
   "source": [
    "# check the null value\n",
    "df.isnull().sum()"
   ]
  },
  {
   "cell_type": "code",
   "execution_count": 11,
   "metadata": {
    "execution": {
     "iopub.execute_input": "2024-04-15T10:37:03.068861Z",
     "iopub.status.busy": "2024-04-15T10:37:03.068289Z",
     "iopub.status.idle": "2024-04-15T10:37:03.085644Z",
     "shell.execute_reply": "2024-04-15T10:37:03.083946Z",
     "shell.execute_reply.started": "2024-04-15T10:37:03.068819Z"
    }
   },
   "outputs": [
    {
     "data": {
      "text/plain": [
       "24"
      ]
     },
     "execution_count": 11,
     "metadata": {},
     "output_type": "execute_result"
    }
   ],
   "source": [
    "#checking duplicate value\n",
    "df.duplicated().sum()"
   ]
  },
  {
   "cell_type": "code",
   "execution_count": 12,
   "metadata": {
    "execution": {
     "iopub.execute_input": "2024-04-15T10:37:03.089160Z",
     "iopub.status.busy": "2024-04-15T10:37:03.088207Z",
     "iopub.status.idle": "2024-04-15T10:37:03.104505Z",
     "shell.execute_reply": "2024-04-15T10:37:03.103280Z",
     "shell.execute_reply.started": "2024-04-15T10:37:03.089113Z"
    }
   },
   "outputs": [],
   "source": [
    "# Drop all duplicated rows from the DataFrame\n",
    "df= df.drop_duplicates()\n"
   ]
  },
  {
   "cell_type": "code",
   "execution_count": 13,
   "metadata": {
    "execution": {
     "iopub.execute_input": "2024-04-15T10:37:03.107022Z",
     "iopub.status.busy": "2024-04-15T10:37:03.106355Z",
     "iopub.status.idle": "2024-04-15T10:37:03.135091Z",
     "shell.execute_reply": "2024-04-15T10:37:03.134026Z",
     "shell.execute_reply.started": "2024-04-15T10:37:03.106984Z"
    }
   },
   "outputs": [
    {
     "data": {
      "text/html": [
       "<div>\n",
       "<style scoped>\n",
       "    .dataframe tbody tr th:only-of-type {\n",
       "        vertical-align: middle;\n",
       "    }\n",
       "\n",
       "    .dataframe tbody tr th {\n",
       "        vertical-align: top;\n",
       "    }\n",
       "\n",
       "    .dataframe thead th {\n",
       "        text-align: right;\n",
       "    }\n",
       "</style>\n",
       "<table border=\"1\" class=\"dataframe\">\n",
       "  <thead>\n",
       "    <tr style=\"text-align: right;\">\n",
       "      <th></th>\n",
       "      <th>Age</th>\n",
       "      <th>Gender</th>\n",
       "      <th>Height</th>\n",
       "      <th>Weight</th>\n",
       "      <th>CALC</th>\n",
       "      <th>FAVC</th>\n",
       "      <th>FCVC</th>\n",
       "      <th>NCP</th>\n",
       "      <th>SCC</th>\n",
       "      <th>SMOKE</th>\n",
       "      <th>CH2O</th>\n",
       "      <th>family_history_with_overweight</th>\n",
       "      <th>FAF</th>\n",
       "      <th>TUE</th>\n",
       "      <th>CAEC</th>\n",
       "      <th>MTRANS</th>\n",
       "      <th>NObeyesdad</th>\n",
       "    </tr>\n",
       "  </thead>\n",
       "  <tbody>\n",
       "    <tr>\n",
       "      <th>0</th>\n",
       "      <td>21.0</td>\n",
       "      <td>Female</td>\n",
       "      <td>1.62</td>\n",
       "      <td>64.0</td>\n",
       "      <td>no</td>\n",
       "      <td>no</td>\n",
       "      <td>2.0</td>\n",
       "      <td>3.0</td>\n",
       "      <td>no</td>\n",
       "      <td>no</td>\n",
       "      <td>2.0</td>\n",
       "      <td>yes</td>\n",
       "      <td>0.0</td>\n",
       "      <td>1.0</td>\n",
       "      <td>Sometimes</td>\n",
       "      <td>Public_Transportation</td>\n",
       "      <td>Normal_Weight</td>\n",
       "    </tr>\n",
       "    <tr>\n",
       "      <th>1</th>\n",
       "      <td>21.0</td>\n",
       "      <td>Female</td>\n",
       "      <td>1.52</td>\n",
       "      <td>56.0</td>\n",
       "      <td>Sometimes</td>\n",
       "      <td>no</td>\n",
       "      <td>3.0</td>\n",
       "      <td>3.0</td>\n",
       "      <td>yes</td>\n",
       "      <td>yes</td>\n",
       "      <td>3.0</td>\n",
       "      <td>yes</td>\n",
       "      <td>3.0</td>\n",
       "      <td>0.0</td>\n",
       "      <td>Sometimes</td>\n",
       "      <td>Public_Transportation</td>\n",
       "      <td>Normal_Weight</td>\n",
       "    </tr>\n",
       "    <tr>\n",
       "      <th>2</th>\n",
       "      <td>23.0</td>\n",
       "      <td>Male</td>\n",
       "      <td>1.80</td>\n",
       "      <td>77.0</td>\n",
       "      <td>Frequently</td>\n",
       "      <td>no</td>\n",
       "      <td>2.0</td>\n",
       "      <td>3.0</td>\n",
       "      <td>no</td>\n",
       "      <td>no</td>\n",
       "      <td>2.0</td>\n",
       "      <td>yes</td>\n",
       "      <td>2.0</td>\n",
       "      <td>1.0</td>\n",
       "      <td>Sometimes</td>\n",
       "      <td>Public_Transportation</td>\n",
       "      <td>Normal_Weight</td>\n",
       "    </tr>\n",
       "    <tr>\n",
       "      <th>3</th>\n",
       "      <td>27.0</td>\n",
       "      <td>Male</td>\n",
       "      <td>1.80</td>\n",
       "      <td>87.0</td>\n",
       "      <td>Frequently</td>\n",
       "      <td>no</td>\n",
       "      <td>3.0</td>\n",
       "      <td>3.0</td>\n",
       "      <td>no</td>\n",
       "      <td>no</td>\n",
       "      <td>2.0</td>\n",
       "      <td>no</td>\n",
       "      <td>2.0</td>\n",
       "      <td>0.0</td>\n",
       "      <td>Sometimes</td>\n",
       "      <td>Walking</td>\n",
       "      <td>Overweight_Level_I</td>\n",
       "    </tr>\n",
       "    <tr>\n",
       "      <th>4</th>\n",
       "      <td>22.0</td>\n",
       "      <td>Male</td>\n",
       "      <td>1.78</td>\n",
       "      <td>89.8</td>\n",
       "      <td>Sometimes</td>\n",
       "      <td>no</td>\n",
       "      <td>2.0</td>\n",
       "      <td>1.0</td>\n",
       "      <td>no</td>\n",
       "      <td>no</td>\n",
       "      <td>2.0</td>\n",
       "      <td>no</td>\n",
       "      <td>0.0</td>\n",
       "      <td>0.0</td>\n",
       "      <td>Sometimes</td>\n",
       "      <td>Public_Transportation</td>\n",
       "      <td>Overweight_Level_II</td>\n",
       "    </tr>\n",
       "  </tbody>\n",
       "</table>\n",
       "</div>"
      ],
      "text/plain": [
       "    Age  Gender  Height  Weight        CALC FAVC  FCVC  NCP  SCC SMOKE  CH2O  \\\n",
       "0  21.0  Female    1.62    64.0          no   no   2.0  3.0   no    no   2.0   \n",
       "1  21.0  Female    1.52    56.0   Sometimes   no   3.0  3.0  yes   yes   3.0   \n",
       "2  23.0    Male    1.80    77.0  Frequently   no   2.0  3.0   no    no   2.0   \n",
       "3  27.0    Male    1.80    87.0  Frequently   no   3.0  3.0   no    no   2.0   \n",
       "4  22.0    Male    1.78    89.8   Sometimes   no   2.0  1.0   no    no   2.0   \n",
       "\n",
       "  family_history_with_overweight  FAF  TUE       CAEC                 MTRANS  \\\n",
       "0                            yes  0.0  1.0  Sometimes  Public_Transportation   \n",
       "1                            yes  3.0  0.0  Sometimes  Public_Transportation   \n",
       "2                            yes  2.0  1.0  Sometimes  Public_Transportation   \n",
       "3                             no  2.0  0.0  Sometimes                Walking   \n",
       "4                             no  0.0  0.0  Sometimes  Public_Transportation   \n",
       "\n",
       "            NObeyesdad  \n",
       "0        Normal_Weight  \n",
       "1        Normal_Weight  \n",
       "2        Normal_Weight  \n",
       "3   Overweight_Level_I  \n",
       "4  Overweight_Level_II  "
      ]
     },
     "execution_count": 13,
     "metadata": {},
     "output_type": "execute_result"
    }
   ],
   "source": [
    "df.head()"
   ]
  },
  {
   "cell_type": "code",
   "execution_count": 14,
   "metadata": {
    "execution": {
     "iopub.execute_input": "2024-04-15T10:37:03.140641Z",
     "iopub.status.busy": "2024-04-15T10:37:03.139033Z",
     "iopub.status.idle": "2024-04-15T10:37:03.162969Z",
     "shell.execute_reply": "2024-04-15T10:37:03.161933Z",
     "shell.execute_reply.started": "2024-04-15T10:37:03.140577Z"
    }
   },
   "outputs": [
    {
     "data": {
      "text/html": [
       "<div>\n",
       "<style scoped>\n",
       "    .dataframe tbody tr th:only-of-type {\n",
       "        vertical-align: middle;\n",
       "    }\n",
       "\n",
       "    .dataframe tbody tr th {\n",
       "        vertical-align: top;\n",
       "    }\n",
       "\n",
       "    .dataframe thead th {\n",
       "        text-align: right;\n",
       "    }\n",
       "</style>\n",
       "<table border=\"1\" class=\"dataframe\">\n",
       "  <thead>\n",
       "    <tr style=\"text-align: right;\">\n",
       "      <th></th>\n",
       "      <th>Age</th>\n",
       "      <th>Height</th>\n",
       "      <th>Weight</th>\n",
       "      <th>FCVC</th>\n",
       "      <th>NCP</th>\n",
       "      <th>CH2O</th>\n",
       "      <th>FAF</th>\n",
       "      <th>TUE</th>\n",
       "    </tr>\n",
       "  </thead>\n",
       "  <tbody>\n",
       "    <tr>\n",
       "      <th>Age</th>\n",
       "      <td>1.000000</td>\n",
       "      <td>-0.031748</td>\n",
       "      <td>0.198160</td>\n",
       "      <td>0.013572</td>\n",
       "      <td>-0.055823</td>\n",
       "      <td>-0.044058</td>\n",
       "      <td>-0.148202</td>\n",
       "      <td>-0.302927</td>\n",
       "    </tr>\n",
       "    <tr>\n",
       "      <th>Height</th>\n",
       "      <td>-0.031748</td>\n",
       "      <td>1.000000</td>\n",
       "      <td>0.457468</td>\n",
       "      <td>-0.040363</td>\n",
       "      <td>0.227806</td>\n",
       "      <td>0.220487</td>\n",
       "      <td>0.293584</td>\n",
       "      <td>0.041808</td>\n",
       "    </tr>\n",
       "    <tr>\n",
       "      <th>Weight</th>\n",
       "      <td>0.198160</td>\n",
       "      <td>0.457468</td>\n",
       "      <td>1.000000</td>\n",
       "      <td>0.216574</td>\n",
       "      <td>0.092149</td>\n",
       "      <td>0.203823</td>\n",
       "      <td>-0.056490</td>\n",
       "      <td>-0.079351</td>\n",
       "    </tr>\n",
       "    <tr>\n",
       "      <th>FCVC</th>\n",
       "      <td>0.013572</td>\n",
       "      <td>-0.040363</td>\n",
       "      <td>0.216574</td>\n",
       "      <td>1.000000</td>\n",
       "      <td>0.034885</td>\n",
       "      <td>0.081332</td>\n",
       "      <td>0.022003</td>\n",
       "      <td>-0.104128</td>\n",
       "    </tr>\n",
       "    <tr>\n",
       "      <th>NCP</th>\n",
       "      <td>-0.055823</td>\n",
       "      <td>0.227806</td>\n",
       "      <td>0.092149</td>\n",
       "      <td>0.034885</td>\n",
       "      <td>1.000000</td>\n",
       "      <td>0.075335</td>\n",
       "      <td>0.127816</td>\n",
       "      <td>0.015693</td>\n",
       "    </tr>\n",
       "    <tr>\n",
       "      <th>CH2O</th>\n",
       "      <td>-0.044058</td>\n",
       "      <td>0.220487</td>\n",
       "      <td>0.203823</td>\n",
       "      <td>0.081332</td>\n",
       "      <td>0.075335</td>\n",
       "      <td>1.000000</td>\n",
       "      <td>0.165310</td>\n",
       "      <td>0.020704</td>\n",
       "    </tr>\n",
       "    <tr>\n",
       "      <th>FAF</th>\n",
       "      <td>-0.148202</td>\n",
       "      <td>0.293584</td>\n",
       "      <td>-0.056490</td>\n",
       "      <td>0.022003</td>\n",
       "      <td>0.127816</td>\n",
       "      <td>0.165310</td>\n",
       "      <td>1.000000</td>\n",
       "      <td>0.058716</td>\n",
       "    </tr>\n",
       "    <tr>\n",
       "      <th>TUE</th>\n",
       "      <td>-0.302927</td>\n",
       "      <td>0.041808</td>\n",
       "      <td>-0.079351</td>\n",
       "      <td>-0.104128</td>\n",
       "      <td>0.015693</td>\n",
       "      <td>0.020704</td>\n",
       "      <td>0.058716</td>\n",
       "      <td>1.000000</td>\n",
       "    </tr>\n",
       "  </tbody>\n",
       "</table>\n",
       "</div>"
      ],
      "text/plain": [
       "             Age    Height    Weight      FCVC       NCP      CH2O       FAF  \\\n",
       "Age     1.000000 -0.031748  0.198160  0.013572 -0.055823 -0.044058 -0.148202   \n",
       "Height -0.031748  1.000000  0.457468 -0.040363  0.227806  0.220487  0.293584   \n",
       "Weight  0.198160  0.457468  1.000000  0.216574  0.092149  0.203823 -0.056490   \n",
       "FCVC    0.013572 -0.040363  0.216574  1.000000  0.034885  0.081332  0.022003   \n",
       "NCP    -0.055823  0.227806  0.092149  0.034885  1.000000  0.075335  0.127816   \n",
       "CH2O   -0.044058  0.220487  0.203823  0.081332  0.075335  1.000000  0.165310   \n",
       "FAF    -0.148202  0.293584 -0.056490  0.022003  0.127816  0.165310  1.000000   \n",
       "TUE    -0.302927  0.041808 -0.079351 -0.104128  0.015693  0.020704  0.058716   \n",
       "\n",
       "             TUE  \n",
       "Age    -0.302927  \n",
       "Height  0.041808  \n",
       "Weight -0.079351  \n",
       "FCVC   -0.104128  \n",
       "NCP     0.015693  \n",
       "CH2O    0.020704  \n",
       "FAF     0.058716  \n",
       "TUE     1.000000  "
      ]
     },
     "execution_count": 14,
     "metadata": {},
     "output_type": "execute_result"
    }
   ],
   "source": [
    "corr_matrix = df.corr(numeric_only=True)\n",
    "corr_matrix"
   ]
  },
  {
   "cell_type": "code",
   "execution_count": 15,
   "metadata": {
    "execution": {
     "iopub.execute_input": "2024-04-15T10:37:03.165757Z",
     "iopub.status.busy": "2024-04-15T10:37:03.164382Z",
     "iopub.status.idle": "2024-04-15T10:37:04.556650Z",
     "shell.execute_reply": "2024-04-15T10:37:04.555566Z",
     "shell.execute_reply.started": "2024-04-15T10:37:03.165686Z"
    }
   },
   "outputs": [
    {
     "data": {
      "text/plain": [
       "<Axes: xlabel='TUE'>"
      ]
     },
     "execution_count": 15,
     "metadata": {},
     "output_type": "execute_result"
    },
    {
     "data": {
      "image/png": "[encoded data removed]",
      "text/plain": [
       "<Figure size 2000x1200 with 8 Axes>"
      ]
     },
     "metadata": {},
     "output_type": "display_data"
    }
   ],
   "source": [
    "#I am doing univariate analysis of numerical columns\n",
    "plt.figure(figsize = [20,12])\n",
    "plt.subplot(3,3,1)\n",
    "sns.boxplot(x = 'Age',data = df)\n",
    "\n",
    "plt.subplot(3,3,2)\n",
    "sns.boxplot(x = 'Height',data = df)\n",
    "\n",
    "plt.subplot(3,3,3)\n",
    "sns.boxplot(x = 'Weight',data = df)\n",
    "\n",
    "plt.subplot(3,3,4)\n",
    "sns.boxplot(x = 'FCVC',data = df)\n",
    "\n",
    "plt.subplot(3,3,5)\n",
    "sns.boxplot(x = 'NCP',data = df)\n",
    "\n",
    "plt.subplot(3,3,6)\n",
    "sns.boxplot(x = 'CH2O',data = df)\n",
    "\n",
    "plt.subplot(3,3,7)\n",
    "sns.boxplot(x = 'FAF',data = df)\n",
    "\n",
    "plt.subplot(3,3,8)\n",
    "sns.boxplot(x = 'TUE',data = df)"
   ]
  },
  {
   "cell_type": "code",
   "execution_count": 16,
   "metadata": {
    "execution": {
     "iopub.execute_input": "2024-04-15T10:37:04.559300Z",
     "iopub.status.busy": "2024-04-15T10:37:04.558548Z",
     "iopub.status.idle": "2024-04-15T10:37:06.962051Z",
     "shell.execute_reply": "2024-04-15T10:37:06.961088Z",
     "shell.execute_reply.started": "2024-04-15T10:37:04.559260Z"
    }
   },
   "outputs": [
    {
     "data": {
      "text/plain": [
       "<Axes: xlabel='TUE', ylabel='Count'>"
      ]
     },
     "execution_count": 16,
     "metadata": {},
     "output_type": "execute_result"
    },
    {
     "data": {
      "image/png": "[encoded data removed]",
      "text/plain": [
       "<Figure size 2000x1200 with 8 Axes>"
      ]
     },
     "metadata": {},
     "output_type": "display_data"
    }
   ],
   "source": [
    "plt.figure(figsize = [20,12])\n",
    "plt.subplot(3,3,1)\n",
    "sns.histplot(x='Age',data = df,kde=True,bins=20)\n",
    "\n",
    "plt.subplot(3,3,2)\n",
    "sns.histplot(x='Height',data = df,kde=True,bins=20)\n",
    "\n",
    "plt.subplot(3,3,3)\n",
    "sns.histplot(x='Weight',data = df,kde=True,bins=20)\n",
    "\n",
    "plt.subplot(3,3,4)\n",
    "sns.histplot(x='FCVC',data = df,kde=True,bins=20)\n",
    "\n",
    "plt.subplot(3,3,5)\n",
    "sns.histplot(x='NCP',data = df,kde=True,bins=20)\n",
    "\n",
    "plt.subplot(3,3,6)\n",
    "sns.histplot(x='CH2O',data = df,kde=True,bins=20)\n",
    "\n",
    "plt.subplot(3,3,7)\n",
    "sns.histplot(x='FAF',data = df,kde=True,bins=20)\n",
    "\n",
    "plt.subplot(3,3,8)\n",
    "sns.histplot(x='TUE',data = df,kde=True,bins=20)"
   ]
  },
  {
   "cell_type": "code",
   "execution_count": 17,
   "metadata": {
    "execution": {
     "iopub.execute_input": "2024-04-15T10:37:06.963372Z",
     "iopub.status.busy": "2024-04-15T10:37:06.963073Z",
     "iopub.status.idle": "2024-04-15T10:37:07.206744Z",
     "shell.execute_reply": "2024-04-15T10:37:07.205145Z",
     "shell.execute_reply.started": "2024-04-15T10:37:06.963347Z"
    }
   },
   "outputs": [
    {
     "data": {
      "image/png": "[encoded data removed]",
      "text/plain": [
       "<Figure size 640x480 with 1 Axes>"
      ]
     },
     "metadata": {},
     "output_type": "display_data"
    }
   ],
   "source": [
    "# check the target variable\n",
    "sns.countplot(x=df['NObeyesdad'] , data = df , palette = 'magma')\n",
    "plt.xticks(rotation=45)\n",
    "plt.show()"
   ]
  },
  {
   "cell_type": "markdown",
   "metadata": {},
   "source": [
    "# Removing outlier"
   ]
  },
  {
   "cell_type": "code",
   "execution_count": 18,
   "metadata": {
    "execution": {
     "iopub.execute_input": "2024-04-15T10:37:07.208648Z",
     "iopub.status.busy": "2024-04-15T10:37:07.208296Z",
     "iopub.status.idle": "2024-04-15T10:37:07.224055Z",
     "shell.execute_reply": "2024-04-15T10:37:07.222971Z",
     "shell.execute_reply.started": "2024-04-15T10:37:07.208614Z"
    }
   },
   "outputs": [
    {
     "name": "stdout",
     "output_type": "stream",
     "text": [
      "Outliers are values less than 10.79 or greater than 35.13\n",
      "Number of outliers: 167\n"
     ]
    }
   ],
   "source": [
    "q1 = df['Age'].quantile(0.25)\n",
    "q3 = df['Age'].quantile(0.75)\n",
    "iqr = q3 - q1\n",
    "lower_fence = q1 - 1.5 * iqr\n",
    "upper_fence = q3 + 1.5 * iqr\n",
    "print(f'Outliers are values less than {lower_fence:.2f} or greater than {upper_fence:.2f}')\n",
    "\n",
    "outliers = df[(df['Age'] < lower_fence) | (df['Age'] > upper_fence)]\n",
    "\n",
    "num_outliers = len(outliers)\n",
    "print(\"Number of outliers:\", num_outliers)\n",
    "\n",
    "df = df[(df['Age'] >=lower_fence) & (df['Age'] <= upper_fence)]"
   ]
  },
  {
   "cell_type": "code",
   "execution_count": null,
   "metadata": {},
   "outputs": [],
   "source": []
  },
  {
   "cell_type": "code",
   "execution_count": 19,
   "metadata": {
    "execution": {
     "iopub.execute_input": "2024-04-15T10:37:07.226558Z",
     "iopub.status.busy": "2024-04-15T10:37:07.225444Z",
     "iopub.status.idle": "2024-04-15T10:37:07.247886Z",
     "shell.execute_reply": "2024-04-15T10:37:07.246310Z",
     "shell.execute_reply.started": "2024-04-15T10:37:07.226525Z"
    }
   },
   "outputs": [
    {
     "name": "stdout",
     "output_type": "stream",
     "text": [
      "Outliers are values less than 1.43 or greater than 1.98\n",
      "Number of outliers: 1\n"
     ]
    }
   ],
   "source": [
    "q1 = df['Height'].quantile(0.25)\n",
    "q3 = df['Height'].quantile(0.75)\n",
    "iqr = q3 - q1\n",
    "lower_fence = q1 - 1.5 * iqr\n",
    "upper_fence = q3 + 1.5 * iqr\n",
    "print(f'Outliers are values less than {lower_fence:.2f} or greater than {upper_fence:.2f}')\n",
    "\n",
    "outliers = df[(df['Height'] < lower_fence) | (df['Height'] > upper_fence)]\n",
    "\n",
    "num_outliers = len(outliers)\n",
    "print(\"Number of outliers:\", num_outliers)\n",
    "\n",
    "df = df[(df['Height'] >=lower_fence) & (df['Height'] <= upper_fence)]"
   ]
  },
  {
   "cell_type": "code",
   "execution_count": 20,
   "metadata": {
    "execution": {
     "iopub.execute_input": "2024-04-15T10:37:07.250077Z",
     "iopub.status.busy": "2024-04-15T10:37:07.249449Z",
     "iopub.status.idle": "2024-04-15T10:37:07.262683Z",
     "shell.execute_reply": "2024-04-15T10:37:07.261574Z",
     "shell.execute_reply.started": "2024-04-15T10:37:07.250042Z"
    }
   },
   "outputs": [
    {
     "name": "stdout",
     "output_type": "stream",
     "text": [
      "Outliers are values less than 2.28 or greater than 3.43\n",
      "Number of outliers: 543\n"
     ]
    }
   ],
   "source": [
    "q1 = df['NCP'].quantile(0.25)\n",
    "q3 = df['NCP'].quantile(0.75)\n",
    "iqr = q3 - q1\n",
    "lower_fence = q1 - 1.5 * iqr\n",
    "upper_fence = q3 + 1.5 * iqr\n",
    "print(f'Outliers are values less than {lower_fence:.2f} or greater than {upper_fence:.2f}')\n",
    "\n",
    "outliers = df[(df['NCP'] < lower_fence) | (df['NCP'] > upper_fence)]\n",
    "\n",
    "num_outliers = len(outliers)\n",
    "print(\"Number of outliers:\", num_outliers)\n",
    "\n",
    "df = df[(df['NCP'] >=lower_fence) & (df['NCP'] <= upper_fence)]"
   ]
  },
  {
   "cell_type": "code",
   "execution_count": 21,
   "metadata": {
    "execution": {
     "iopub.execute_input": "2024-04-15T10:37:07.265833Z",
     "iopub.status.busy": "2024-04-15T10:37:07.264534Z",
     "iopub.status.idle": "2024-04-15T10:37:07.275448Z",
     "shell.execute_reply": "2024-04-15T10:37:07.274082Z",
     "shell.execute_reply.started": "2024-04-15T10:37:07.265784Z"
    }
   },
   "outputs": [
    {
     "data": {
      "text/plain": [
       "Index(['Age', 'Gender', 'Height', 'Weight', 'CALC', 'FAVC', 'FCVC', 'NCP',\n",
       "       'SCC', 'SMOKE', 'CH2O', 'family_history_with_overweight', 'FAF', 'TUE',\n",
       "       'CAEC', 'MTRANS', 'NObeyesdad'],\n",
       "      dtype='object')"
      ]
     },
     "execution_count": 21,
     "metadata": {},
     "output_type": "execute_result"
    }
   ],
   "source": [
    "df.columns"
   ]
  },
  {
   "cell_type": "code",
   "execution_count": 22,
   "metadata": {
    "execution": {
     "iopub.execute_input": "2024-04-15T10:37:07.277497Z",
     "iopub.status.busy": "2024-04-15T10:37:07.276950Z",
     "iopub.status.idle": "2024-04-15T10:37:07.286616Z",
     "shell.execute_reply": "2024-04-15T10:37:07.284820Z",
     "shell.execute_reply.started": "2024-04-15T10:37:07.277460Z"
    }
   },
   "outputs": [],
   "source": [
    "cat_df = df.select_dtypes(include=['object'])"
   ]
  },
  {
   "cell_type": "code",
   "execution_count": 23,
   "metadata": {
    "execution": {
     "iopub.execute_input": "2024-04-15T10:37:07.289463Z",
     "iopub.status.busy": "2024-04-15T10:37:07.288190Z",
     "iopub.status.idle": "2024-04-15T10:37:07.315101Z",
     "shell.execute_reply": "2024-04-15T10:37:07.313851Z",
     "shell.execute_reply.started": "2024-04-15T10:37:07.289420Z"
    }
   },
   "outputs": [
    {
     "data": {
      "text/html": [
       "<div>\n",
       "<style scoped>\n",
       "    .dataframe tbody tr th:only-of-type {\n",
       "        vertical-align: middle;\n",
       "    }\n",
       "\n",
       "    .dataframe tbody tr th {\n",
       "        vertical-align: top;\n",
       "    }\n",
       "\n",
       "    .dataframe thead th {\n",
       "        text-align: right;\n",
       "    }\n",
       "</style>\n",
       "<table border=\"1\" class=\"dataframe\">\n",
       "  <thead>\n",
       "    <tr style=\"text-align: right;\">\n",
       "      <th></th>\n",
       "      <th>Gender</th>\n",
       "      <th>CALC</th>\n",
       "      <th>FAVC</th>\n",
       "      <th>SCC</th>\n",
       "      <th>SMOKE</th>\n",
       "      <th>family_history_with_overweight</th>\n",
       "      <th>CAEC</th>\n",
       "      <th>MTRANS</th>\n",
       "      <th>NObeyesdad</th>\n",
       "    </tr>\n",
       "  </thead>\n",
       "  <tbody>\n",
       "    <tr>\n",
       "      <th>0</th>\n",
       "      <td>Female</td>\n",
       "      <td>no</td>\n",
       "      <td>no</td>\n",
       "      <td>no</td>\n",
       "      <td>no</td>\n",
       "      <td>yes</td>\n",
       "      <td>Sometimes</td>\n",
       "      <td>Public_Transportation</td>\n",
       "      <td>Normal_Weight</td>\n",
       "    </tr>\n",
       "    <tr>\n",
       "      <th>1</th>\n",
       "      <td>Female</td>\n",
       "      <td>Sometimes</td>\n",
       "      <td>no</td>\n",
       "      <td>yes</td>\n",
       "      <td>yes</td>\n",
       "      <td>yes</td>\n",
       "      <td>Sometimes</td>\n",
       "      <td>Public_Transportation</td>\n",
       "      <td>Normal_Weight</td>\n",
       "    </tr>\n",
       "    <tr>\n",
       "      <th>2</th>\n",
       "      <td>Male</td>\n",
       "      <td>Frequently</td>\n",
       "      <td>no</td>\n",
       "      <td>no</td>\n",
       "      <td>no</td>\n",
       "      <td>yes</td>\n",
       "      <td>Sometimes</td>\n",
       "      <td>Public_Transportation</td>\n",
       "      <td>Normal_Weight</td>\n",
       "    </tr>\n",
       "    <tr>\n",
       "      <th>3</th>\n",
       "      <td>Male</td>\n",
       "      <td>Frequently</td>\n",
       "      <td>no</td>\n",
       "      <td>no</td>\n",
       "      <td>no</td>\n",
       "      <td>no</td>\n",
       "      <td>Sometimes</td>\n",
       "      <td>Walking</td>\n",
       "      <td>Overweight_Level_I</td>\n",
       "    </tr>\n",
       "    <tr>\n",
       "      <th>5</th>\n",
       "      <td>Male</td>\n",
       "      <td>Sometimes</td>\n",
       "      <td>yes</td>\n",
       "      <td>no</td>\n",
       "      <td>no</td>\n",
       "      <td>no</td>\n",
       "      <td>Sometimes</td>\n",
       "      <td>Automobile</td>\n",
       "      <td>Normal_Weight</td>\n",
       "    </tr>\n",
       "    <tr>\n",
       "      <th>...</th>\n",
       "      <td>...</td>\n",
       "      <td>...</td>\n",
       "      <td>...</td>\n",
       "      <td>...</td>\n",
       "      <td>...</td>\n",
       "      <td>...</td>\n",
       "      <td>...</td>\n",
       "      <td>...</td>\n",
       "      <td>...</td>\n",
       "    </tr>\n",
       "    <tr>\n",
       "      <th>2106</th>\n",
       "      <td>Female</td>\n",
       "      <td>Sometimes</td>\n",
       "      <td>yes</td>\n",
       "      <td>no</td>\n",
       "      <td>no</td>\n",
       "      <td>yes</td>\n",
       "      <td>Sometimes</td>\n",
       "      <td>Public_Transportation</td>\n",
       "      <td>Obesity_Type_III</td>\n",
       "    </tr>\n",
       "    <tr>\n",
       "      <th>2107</th>\n",
       "      <td>Female</td>\n",
       "      <td>Sometimes</td>\n",
       "      <td>yes</td>\n",
       "      <td>no</td>\n",
       "      <td>no</td>\n",
       "      <td>yes</td>\n",
       "      <td>Sometimes</td>\n",
       "      <td>Public_Transportation</td>\n",
       "      <td>Obesity_Type_III</td>\n",
       "    </tr>\n",
       "    <tr>\n",
       "      <th>2108</th>\n",
       "      <td>Female</td>\n",
       "      <td>Sometimes</td>\n",
       "      <td>yes</td>\n",
       "      <td>no</td>\n",
       "      <td>no</td>\n",
       "      <td>yes</td>\n",
       "      <td>Sometimes</td>\n",
       "      <td>Public_Transportation</td>\n",
       "      <td>Obesity_Type_III</td>\n",
       "    </tr>\n",
       "    <tr>\n",
       "      <th>2109</th>\n",
       "      <td>Female</td>\n",
       "      <td>Sometimes</td>\n",
       "      <td>yes</td>\n",
       "      <td>no</td>\n",
       "      <td>no</td>\n",
       "      <td>yes</td>\n",
       "      <td>Sometimes</td>\n",
       "      <td>Public_Transportation</td>\n",
       "      <td>Obesity_Type_III</td>\n",
       "    </tr>\n",
       "    <tr>\n",
       "      <th>2110</th>\n",
       "      <td>Female</td>\n",
       "      <td>Sometimes</td>\n",
       "      <td>yes</td>\n",
       "      <td>no</td>\n",
       "      <td>no</td>\n",
       "      <td>yes</td>\n",
       "      <td>Sometimes</td>\n",
       "      <td>Public_Transportation</td>\n",
       "      <td>Obesity_Type_III</td>\n",
       "    </tr>\n",
       "  </tbody>\n",
       "</table>\n",
       "<p>1376 rows × 9 columns</p>\n",
       "</div>"
      ],
      "text/plain": [
       "      Gender        CALC FAVC  SCC SMOKE family_history_with_overweight  \\\n",
       "0     Female          no   no   no    no                            yes   \n",
       "1     Female   Sometimes   no  yes   yes                            yes   \n",
       "2       Male  Frequently   no   no    no                            yes   \n",
       "3       Male  Frequently   no   no    no                             no   \n",
       "5       Male   Sometimes  yes   no    no                             no   \n",
       "...      ...         ...  ...  ...   ...                            ...   \n",
       "2106  Female   Sometimes  yes   no    no                            yes   \n",
       "2107  Female   Sometimes  yes   no    no                            yes   \n",
       "2108  Female   Sometimes  yes   no    no                            yes   \n",
       "2109  Female   Sometimes  yes   no    no                            yes   \n",
       "2110  Female   Sometimes  yes   no    no                            yes   \n",
       "\n",
       "           CAEC                 MTRANS          NObeyesdad  \n",
       "0     Sometimes  Public_Transportation       Normal_Weight  \n",
       "1     Sometimes  Public_Transportation       Normal_Weight  \n",
       "2     Sometimes  Public_Transportation       Normal_Weight  \n",
       "3     Sometimes                Walking  Overweight_Level_I  \n",
       "5     Sometimes             Automobile       Normal_Weight  \n",
       "...         ...                    ...                 ...  \n",
       "2106  Sometimes  Public_Transportation    Obesity_Type_III  \n",
       "2107  Sometimes  Public_Transportation    Obesity_Type_III  \n",
       "2108  Sometimes  Public_Transportation    Obesity_Type_III  \n",
       "2109  Sometimes  Public_Transportation    Obesity_Type_III  \n",
       "2110  Sometimes  Public_Transportation    Obesity_Type_III  \n",
       "\n",
       "[1376 rows x 9 columns]"
      ]
     },
     "execution_count": 23,
     "metadata": {},
     "output_type": "execute_result"
    }
   ],
   "source": [
    "cat_df"
   ]
  },
  {
   "cell_type": "markdown",
   "metadata": {},
   "source": [
    "# categorical encoding"
   ]
  },
  {
   "cell_type": "code",
   "execution_count": 24,
   "metadata": {
    "execution": {
     "iopub.execute_input": "2024-04-15T10:37:07.317843Z",
     "iopub.status.busy": "2024-04-15T10:37:07.316911Z",
     "iopub.status.idle": "2024-04-15T10:37:07.522444Z",
     "shell.execute_reply": "2024-04-15T10:37:07.521121Z",
     "shell.execute_reply.started": "2024-04-15T10:37:07.317791Z"
    }
   },
   "outputs": [],
   "source": [
    "from sklearn.preprocessing import LabelEncoder\n",
    "\n",
    "label = LabelEncoder()\n",
    "\n",
    "for col in cat_df.columns:\n",
    "    df[col] = label.fit_transform(df[col])"
   ]
  },
  {
   "cell_type": "code",
   "execution_count": 25,
   "metadata": {
    "execution": {
     "iopub.execute_input": "2024-04-15T10:37:07.524076Z",
     "iopub.status.busy": "2024-04-15T10:37:07.523652Z",
     "iopub.status.idle": "2024-04-15T10:37:07.672053Z",
     "shell.execute_reply": "2024-04-15T10:37:07.670661Z",
     "shell.execute_reply.started": "2024-04-15T10:37:07.524039Z"
    }
   },
   "outputs": [
    {
     "data": {
      "text/html": [
       "<div>\n",
       "<style scoped>\n",
       "    .dataframe tbody tr th:only-of-type {\n",
       "        vertical-align: middle;\n",
       "    }\n",
       "\n",
       "    .dataframe tbody tr th {\n",
       "        vertical-align: top;\n",
       "    }\n",
       "\n",
       "    .dataframe thead th {\n",
       "        text-align: right;\n",
       "    }\n",
       "</style>\n",
       "<table border=\"1\" class=\"dataframe\">\n",
       "  <thead>\n",
       "    <tr style=\"text-align: right;\">\n",
       "      <th></th>\n",
       "      <th>Age</th>\n",
       "      <th>Gender</th>\n",
       "      <th>Height</th>\n",
       "      <th>Weight</th>\n",
       "      <th>CALC</th>\n",
       "      <th>FAVC</th>\n",
       "      <th>FCVC</th>\n",
       "      <th>NCP</th>\n",
       "      <th>SCC</th>\n",
       "      <th>SMOKE</th>\n",
       "      <th>CH2O</th>\n",
       "      <th>family_history_with_overweight</th>\n",
       "      <th>FAF</th>\n",
       "      <th>TUE</th>\n",
       "      <th>CAEC</th>\n",
       "      <th>MTRANS</th>\n",
       "      <th>NObeyesdad</th>\n",
       "    </tr>\n",
       "  </thead>\n",
       "  <tbody>\n",
       "    <tr>\n",
       "      <th>0</th>\n",
       "      <td>21.0</td>\n",
       "      <td>0</td>\n",
       "      <td>1.62</td>\n",
       "      <td>64.0</td>\n",
       "      <td>2</td>\n",
       "      <td>0</td>\n",
       "      <td>2.0</td>\n",
       "      <td>3.0</td>\n",
       "      <td>0</td>\n",
       "      <td>0</td>\n",
       "      <td>2.0</td>\n",
       "      <td>1</td>\n",
       "      <td>0.0</td>\n",
       "      <td>1.0</td>\n",
       "      <td>2</td>\n",
       "      <td>3</td>\n",
       "      <td>1</td>\n",
       "    </tr>\n",
       "    <tr>\n",
       "      <th>1</th>\n",
       "      <td>21.0</td>\n",
       "      <td>0</td>\n",
       "      <td>1.52</td>\n",
       "      <td>56.0</td>\n",
       "      <td>1</td>\n",
       "      <td>0</td>\n",
       "      <td>3.0</td>\n",
       "      <td>3.0</td>\n",
       "      <td>1</td>\n",
       "      <td>1</td>\n",
       "      <td>3.0</td>\n",
       "      <td>1</td>\n",
       "      <td>3.0</td>\n",
       "      <td>0.0</td>\n",
       "      <td>2</td>\n",
       "      <td>3</td>\n",
       "      <td>1</td>\n",
       "    </tr>\n",
       "    <tr>\n",
       "      <th>2</th>\n",
       "      <td>23.0</td>\n",
       "      <td>1</td>\n",
       "      <td>1.80</td>\n",
       "      <td>77.0</td>\n",
       "      <td>0</td>\n",
       "      <td>0</td>\n",
       "      <td>2.0</td>\n",
       "      <td>3.0</td>\n",
       "      <td>0</td>\n",
       "      <td>0</td>\n",
       "      <td>2.0</td>\n",
       "      <td>1</td>\n",
       "      <td>2.0</td>\n",
       "      <td>1.0</td>\n",
       "      <td>2</td>\n",
       "      <td>3</td>\n",
       "      <td>1</td>\n",
       "    </tr>\n",
       "  </tbody>\n",
       "</table>\n",
       "</div>"
      ],
      "text/plain": [
       "    Age  Gender  Height  Weight  CALC  FAVC  FCVC  NCP  SCC  SMOKE  CH2O  \\\n",
       "0  21.0       0    1.62    64.0     2     0   2.0  3.0    0      0   2.0   \n",
       "1  21.0       0    1.52    56.0     1     0   3.0  3.0    1      1   3.0   \n",
       "2  23.0       1    1.80    77.0     0     0   2.0  3.0    0      0   2.0   \n",
       "\n",
       "   family_history_with_overweight  FAF  TUE  CAEC  MTRANS  NObeyesdad  \n",
       "0                               1  0.0  1.0     2       3           1  \n",
       "1                               1  3.0  0.0     2       3           1  \n",
       "2                               1  2.0  1.0     2       3           1  "
      ]
     },
     "execution_count": 25,
     "metadata": {},
     "output_type": "execute_result"
    }
   ],
   "source": [
    "df.head(3)"
   ]
  },
  {
   "cell_type": "code",
   "execution_count": 26,
   "metadata": {
    "execution": {
     "iopub.execute_input": "2024-04-15T10:37:07.674889Z",
     "iopub.status.busy": "2024-04-15T10:37:07.673621Z",
     "iopub.status.idle": "2024-04-15T10:37:07.706339Z",
     "shell.execute_reply": "2024-04-15T10:37:07.704814Z",
     "shell.execute_reply.started": "2024-04-15T10:37:07.674842Z"
    }
   },
   "outputs": [
    {
     "data": {
      "text/html": [
       "<div>\n",
       "<style scoped>\n",
       "    .dataframe tbody tr th:only-of-type {\n",
       "        vertical-align: middle;\n",
       "    }\n",
       "\n",
       "    .dataframe tbody tr th {\n",
       "        vertical-align: top;\n",
       "    }\n",
       "\n",
       "    .dataframe thead th {\n",
       "        text-align: right;\n",
       "    }\n",
       "</style>\n",
       "<table border=\"1\" class=\"dataframe\">\n",
       "  <thead>\n",
       "    <tr style=\"text-align: right;\">\n",
       "      <th></th>\n",
       "      <th>Age</th>\n",
       "      <th>Gender</th>\n",
       "      <th>Height</th>\n",
       "      <th>Weight</th>\n",
       "      <th>CALC</th>\n",
       "      <th>FAVC</th>\n",
       "      <th>FCVC</th>\n",
       "      <th>NCP</th>\n",
       "      <th>SCC</th>\n",
       "      <th>SMOKE</th>\n",
       "      <th>CH2O</th>\n",
       "      <th>family_history_with_overweight</th>\n",
       "      <th>FAF</th>\n",
       "      <th>TUE</th>\n",
       "      <th>CAEC</th>\n",
       "      <th>MTRANS</th>\n",
       "      <th>NObeyesdad</th>\n",
       "    </tr>\n",
       "  </thead>\n",
       "  <tbody>\n",
       "    <tr>\n",
       "      <th>Age</th>\n",
       "      <td>1.000000</td>\n",
       "      <td>0.168670</td>\n",
       "      <td>0.133919</td>\n",
       "      <td>0.302140</td>\n",
       "      <td>-0.110237</td>\n",
       "      <td>0.112387</td>\n",
       "      <td>0.057448</td>\n",
       "      <td>-0.078842</td>\n",
       "      <td>-0.121212</td>\n",
       "      <td>0.129585</td>\n",
       "      <td>0.036270</td>\n",
       "      <td>0.233474</td>\n",
       "      <td>-0.203494</td>\n",
       "      <td>-0.186941</td>\n",
       "      <td>0.131467</td>\n",
       "      <td>-0.476947</td>\n",
       "      <td>0.257141</td>\n",
       "    </tr>\n",
       "    <tr>\n",
       "      <th>Gender</th>\n",
       "      <td>0.168670</td>\n",
       "      <td>1.000000</td>\n",
       "      <td>0.607889</td>\n",
       "      <td>0.030126</td>\n",
       "      <td>0.056635</td>\n",
       "      <td>0.032065</td>\n",
       "      <td>-0.403019</td>\n",
       "      <td>-0.114444</td>\n",
       "      <td>-0.118726</td>\n",
       "      <td>0.071239</td>\n",
       "      <td>0.073469</td>\n",
       "      <td>0.070487</td>\n",
       "      <td>0.162528</td>\n",
       "      <td>0.024673</td>\n",
       "      <td>0.045613</td>\n",
       "      <td>-0.207355</td>\n",
       "      <td>-0.050803</td>\n",
       "    </tr>\n",
       "    <tr>\n",
       "      <th>Height</th>\n",
       "      <td>0.133919</td>\n",
       "      <td>0.607889</td>\n",
       "      <td>1.000000</td>\n",
       "      <td>0.441979</td>\n",
       "      <td>-0.125750</td>\n",
       "      <td>0.185542</td>\n",
       "      <td>-0.094669</td>\n",
       "      <td>-0.017229</td>\n",
       "      <td>-0.177307</td>\n",
       "      <td>0.099882</td>\n",
       "      <td>0.193351</td>\n",
       "      <td>0.228409</td>\n",
       "      <td>0.242660</td>\n",
       "      <td>0.022337</td>\n",
       "      <td>0.065297</td>\n",
       "      <td>-0.115315</td>\n",
       "      <td>-0.012876</td>\n",
       "    </tr>\n",
       "    <tr>\n",
       "      <th>Weight</th>\n",
       "      <td>0.302140</td>\n",
       "      <td>0.030126</td>\n",
       "      <td>0.441979</td>\n",
       "      <td>1.000000</td>\n",
       "      <td>-0.242347</td>\n",
       "      <td>0.314702</td>\n",
       "      <td>0.273857</td>\n",
       "      <td>-0.035599</td>\n",
       "      <td>-0.242997</td>\n",
       "      <td>0.043567</td>\n",
       "      <td>0.240134</td>\n",
       "      <td>0.497814</td>\n",
       "      <td>-0.082794</td>\n",
       "      <td>-0.118951</td>\n",
       "      <td>0.317804</td>\n",
       "      <td>0.017041</td>\n",
       "      <td>0.395279</td>\n",
       "    </tr>\n",
       "    <tr>\n",
       "      <th>CALC</th>\n",
       "      <td>-0.110237</td>\n",
       "      <td>0.056635</td>\n",
       "      <td>-0.125750</td>\n",
       "      <td>-0.242347</td>\n",
       "      <td>1.000000</td>\n",
       "      <td>-0.119511</td>\n",
       "      <td>-0.126436</td>\n",
       "      <td>-0.079831</td>\n",
       "      <td>-0.012311</td>\n",
       "      <td>-0.105958</td>\n",
       "      <td>-0.062644</td>\n",
       "      <td>-0.016225</td>\n",
       "      <td>0.204338</td>\n",
       "      <td>0.043622</td>\n",
       "      <td>-0.069400</td>\n",
       "      <td>-0.000657</td>\n",
       "      <td>-0.185122</td>\n",
       "    </tr>\n",
       "    <tr>\n",
       "      <th>FAVC</th>\n",
       "      <td>0.112387</td>\n",
       "      <td>0.032065</td>\n",
       "      <td>0.185542</td>\n",
       "      <td>0.314702</td>\n",
       "      <td>-0.119511</td>\n",
       "      <td>1.000000</td>\n",
       "      <td>0.012067</td>\n",
       "      <td>-0.005635</td>\n",
       "      <td>-0.258675</td>\n",
       "      <td>-0.026913</td>\n",
       "      <td>-0.012314</td>\n",
       "      <td>0.253040</td>\n",
       "      <td>-0.167924</td>\n",
       "      <td>0.041315</td>\n",
       "      <td>0.110409</td>\n",
       "      <td>-0.038983</td>\n",
       "      <td>0.078076</td>\n",
       "    </tr>\n",
       "    <tr>\n",
       "      <th>FCVC</th>\n",
       "      <td>0.057448</td>\n",
       "      <td>-0.403019</td>\n",
       "      <td>-0.094669</td>\n",
       "      <td>0.273857</td>\n",
       "      <td>-0.126436</td>\n",
       "      <td>0.012067</td>\n",
       "      <td>1.000000</td>\n",
       "      <td>0.025198</td>\n",
       "      <td>0.078743</td>\n",
       "      <td>0.004409</td>\n",
       "      <td>0.145578</td>\n",
       "      <td>0.042455</td>\n",
       "      <td>-0.012113</td>\n",
       "      <td>-0.100470</td>\n",
       "      <td>0.021029</td>\n",
       "      <td>0.095558</td>\n",
       "      <td>0.098337</td>\n",
       "    </tr>\n",
       "    <tr>\n",
       "      <th>NCP</th>\n",
       "      <td>-0.078842</td>\n",
       "      <td>-0.114444</td>\n",
       "      <td>-0.017229</td>\n",
       "      <td>-0.035599</td>\n",
       "      <td>-0.079831</td>\n",
       "      <td>-0.005635</td>\n",
       "      <td>0.025198</td>\n",
       "      <td>1.000000</td>\n",
       "      <td>-0.073944</td>\n",
       "      <td>0.030474</td>\n",
       "      <td>0.043668</td>\n",
       "      <td>-0.037332</td>\n",
       "      <td>0.016128</td>\n",
       "      <td>0.024161</td>\n",
       "      <td>-0.056000</td>\n",
       "      <td>0.014114</td>\n",
       "      <td>-0.157178</td>\n",
       "    </tr>\n",
       "    <tr>\n",
       "      <th>SCC</th>\n",
       "      <td>-0.121212</td>\n",
       "      <td>-0.118726</td>\n",
       "      <td>-0.177307</td>\n",
       "      <td>-0.242997</td>\n",
       "      <td>-0.012311</td>\n",
       "      <td>-0.258675</td>\n",
       "      <td>0.078743</td>\n",
       "      <td>-0.073944</td>\n",
       "      <td>1.000000</td>\n",
       "      <td>0.037330</td>\n",
       "      <td>-0.007888</td>\n",
       "      <td>-0.274173</td>\n",
       "      <td>0.087708</td>\n",
       "      <td>-0.071668</td>\n",
       "      <td>-0.137002</td>\n",
       "      <td>0.008870</td>\n",
       "      <td>-0.091852</td>\n",
       "    </tr>\n",
       "    <tr>\n",
       "      <th>SMOKE</th>\n",
       "      <td>0.129585</td>\n",
       "      <td>0.071239</td>\n",
       "      <td>0.099882</td>\n",
       "      <td>0.043567</td>\n",
       "      <td>-0.105958</td>\n",
       "      <td>-0.026913</td>\n",
       "      <td>0.004409</td>\n",
       "      <td>0.030474</td>\n",
       "      <td>0.037330</td>\n",
       "      <td>1.000000</td>\n",
       "      <td>-0.084383</td>\n",
       "      <td>0.004844</td>\n",
       "      <td>0.020989</td>\n",
       "      <td>0.034004</td>\n",
       "      <td>-0.026456</td>\n",
       "      <td>-0.034690</td>\n",
       "      <td>-0.037314</td>\n",
       "    </tr>\n",
       "    <tr>\n",
       "      <th>CH2O</th>\n",
       "      <td>0.036270</td>\n",
       "      <td>0.073469</td>\n",
       "      <td>0.193351</td>\n",
       "      <td>0.240134</td>\n",
       "      <td>-0.062644</td>\n",
       "      <td>-0.012314</td>\n",
       "      <td>0.145578</td>\n",
       "      <td>0.043668</td>\n",
       "      <td>-0.007888</td>\n",
       "      <td>-0.084383</td>\n",
       "      <td>1.000000</td>\n",
       "      <td>0.196053</td>\n",
       "      <td>0.124393</td>\n",
       "      <td>-0.025011</td>\n",
       "      <td>0.106982</td>\n",
       "      <td>0.046881</td>\n",
       "      <td>0.112728</td>\n",
       "    </tr>\n",
       "    <tr>\n",
       "      <th>family_history_with_overweight</th>\n",
       "      <td>0.233474</td>\n",
       "      <td>0.070487</td>\n",
       "      <td>0.228409</td>\n",
       "      <td>0.497814</td>\n",
       "      <td>-0.016225</td>\n",
       "      <td>0.253040</td>\n",
       "      <td>0.042455</td>\n",
       "      <td>-0.037332</td>\n",
       "      <td>-0.274173</td>\n",
       "      <td>0.004844</td>\n",
       "      <td>0.196053</td>\n",
       "      <td>1.000000</td>\n",
       "      <td>-0.131538</td>\n",
       "      <td>0.029382</td>\n",
       "      <td>0.158754</td>\n",
       "      <td>-0.020063</td>\n",
       "      <td>0.350481</td>\n",
       "    </tr>\n",
       "    <tr>\n",
       "      <th>FAF</th>\n",
       "      <td>-0.203494</td>\n",
       "      <td>0.162528</td>\n",
       "      <td>0.242660</td>\n",
       "      <td>-0.082794</td>\n",
       "      <td>0.204338</td>\n",
       "      <td>-0.167924</td>\n",
       "      <td>-0.012113</td>\n",
       "      <td>0.016128</td>\n",
       "      <td>0.087708</td>\n",
       "      <td>0.020989</td>\n",
       "      <td>0.124393</td>\n",
       "      <td>-0.131538</td>\n",
       "      <td>1.000000</td>\n",
       "      <td>0.076201</td>\n",
       "      <td>-0.063147</td>\n",
       "      <td>0.018179</td>\n",
       "      <td>-0.152487</td>\n",
       "    </tr>\n",
       "    <tr>\n",
       "      <th>TUE</th>\n",
       "      <td>-0.186941</td>\n",
       "      <td>0.024673</td>\n",
       "      <td>0.022337</td>\n",
       "      <td>-0.118951</td>\n",
       "      <td>0.043622</td>\n",
       "      <td>0.041315</td>\n",
       "      <td>-0.100470</td>\n",
       "      <td>0.024161</td>\n",
       "      <td>-0.071668</td>\n",
       "      <td>0.034004</td>\n",
       "      <td>-0.025011</td>\n",
       "      <td>0.029382</td>\n",
       "      <td>0.076201</td>\n",
       "      <td>1.000000</td>\n",
       "      <td>-0.061250</td>\n",
       "      <td>0.055375</td>\n",
       "      <td>-0.050166</td>\n",
       "    </tr>\n",
       "    <tr>\n",
       "      <th>CAEC</th>\n",
       "      <td>0.131467</td>\n",
       "      <td>0.045613</td>\n",
       "      <td>0.065297</td>\n",
       "      <td>0.317804</td>\n",
       "      <td>-0.069400</td>\n",
       "      <td>0.110409</td>\n",
       "      <td>0.021029</td>\n",
       "      <td>-0.056000</td>\n",
       "      <td>-0.137002</td>\n",
       "      <td>-0.026456</td>\n",
       "      <td>0.106982</td>\n",
       "      <td>0.158754</td>\n",
       "      <td>-0.063147</td>\n",
       "      <td>-0.061250</td>\n",
       "      <td>1.000000</td>\n",
       "      <td>-0.015812</td>\n",
       "      <td>0.305368</td>\n",
       "    </tr>\n",
       "    <tr>\n",
       "      <th>MTRANS</th>\n",
       "      <td>-0.476947</td>\n",
       "      <td>-0.207355</td>\n",
       "      <td>-0.115315</td>\n",
       "      <td>0.017041</td>\n",
       "      <td>-0.000657</td>\n",
       "      <td>-0.038983</td>\n",
       "      <td>0.095558</td>\n",
       "      <td>0.014114</td>\n",
       "      <td>0.008870</td>\n",
       "      <td>-0.034690</td>\n",
       "      <td>0.046881</td>\n",
       "      <td>-0.020063</td>\n",
       "      <td>0.018179</td>\n",
       "      <td>0.055375</td>\n",
       "      <td>-0.015812</td>\n",
       "      <td>1.000000</td>\n",
       "      <td>-0.021481</td>\n",
       "    </tr>\n",
       "    <tr>\n",
       "      <th>NObeyesdad</th>\n",
       "      <td>0.257141</td>\n",
       "      <td>-0.050803</td>\n",
       "      <td>-0.012876</td>\n",
       "      <td>0.395279</td>\n",
       "      <td>-0.185122</td>\n",
       "      <td>0.078076</td>\n",
       "      <td>0.098337</td>\n",
       "      <td>-0.157178</td>\n",
       "      <td>-0.091852</td>\n",
       "      <td>-0.037314</td>\n",
       "      <td>0.112728</td>\n",
       "      <td>0.350481</td>\n",
       "      <td>-0.152487</td>\n",
       "      <td>-0.050166</td>\n",
       "      <td>0.305368</td>\n",
       "      <td>-0.021481</td>\n",
       "      <td>1.000000</td>\n",
       "    </tr>\n",
       "  </tbody>\n",
       "</table>\n",
       "</div>"
      ],
      "text/plain": [
       "                                     Age    Gender    Height    Weight  \\\n",
       "Age                             1.000000  0.168670  0.133919  0.302140   \n",
       "Gender                          0.168670  1.000000  0.607889  0.030126   \n",
       "Height                          0.133919  0.607889  1.000000  0.441979   \n",
       "Weight                          0.302140  0.030126  0.441979  1.000000   \n",
       "CALC                           -0.110237  0.056635 -0.125750 -0.242347   \n",
       "FAVC                            0.112387  0.032065  0.185542  0.314702   \n",
       "FCVC                            0.057448 -0.403019 -0.094669  0.273857   \n",
       "NCP                            -0.078842 -0.114444 -0.017229 -0.035599   \n",
       "SCC                            -0.121212 -0.118726 -0.177307 -0.242997   \n",
       "SMOKE                           0.129585  0.071239  0.099882  0.043567   \n",
       "CH2O                            0.036270  0.073469  0.193351  0.240134   \n",
       "family_history_with_overweight  0.233474  0.070487  0.228409  0.497814   \n",
       "FAF                            -0.203494  0.162528  0.242660 -0.082794   \n",
       "TUE                            -0.186941  0.024673  0.022337 -0.118951   \n",
       "CAEC                            0.131467  0.045613  0.065297  0.317804   \n",
       "MTRANS                         -0.476947 -0.207355 -0.115315  0.017041   \n",
       "NObeyesdad                      0.257141 -0.050803 -0.012876  0.395279   \n",
       "\n",
       "                                    CALC      FAVC      FCVC       NCP  \\\n",
       "Age                            -0.110237  0.112387  0.057448 -0.078842   \n",
       "Gender                          0.056635  0.032065 -0.403019 -0.114444   \n",
       "Height                         -0.125750  0.185542 -0.094669 -0.017229   \n",
       "Weight                         -0.242347  0.314702  0.273857 -0.035599   \n",
       "CALC                            1.000000 -0.119511 -0.126436 -0.079831   \n",
       "FAVC                           -0.119511  1.000000  0.012067 -0.005635   \n",
       "FCVC                           -0.126436  0.012067  1.000000  0.025198   \n",
       "NCP                            -0.079831 -0.005635  0.025198  1.000000   \n",
       "SCC                            -0.012311 -0.258675  0.078743 -0.073944   \n",
       "SMOKE                          -0.105958 -0.026913  0.004409  0.030474   \n",
       "CH2O                           -0.062644 -0.012314  0.145578  0.043668   \n",
       "family_history_with_overweight -0.016225  0.253040  0.042455 -0.037332   \n",
       "FAF                             0.204338 -0.167924 -0.012113  0.016128   \n",
       "TUE                             0.043622  0.041315 -0.100470  0.024161   \n",
       "CAEC                           -0.069400  0.110409  0.021029 -0.056000   \n",
       "MTRANS                         -0.000657 -0.038983  0.095558  0.014114   \n",
       "NObeyesdad                     -0.185122  0.078076  0.098337 -0.157178   \n",
       "\n",
       "                                     SCC     SMOKE      CH2O  \\\n",
       "Age                            -0.121212  0.129585  0.036270   \n",
       "Gender                         -0.118726  0.071239  0.073469   \n",
       "Height                         -0.177307  0.099882  0.193351   \n",
       "Weight                         -0.242997  0.043567  0.240134   \n",
       "CALC                           -0.012311 -0.105958 -0.062644   \n",
       "FAVC                           -0.258675 -0.026913 -0.012314   \n",
       "FCVC                            0.078743  0.004409  0.145578   \n",
       "NCP                            -0.073944  0.030474  0.043668   \n",
       "SCC                             1.000000  0.037330 -0.007888   \n",
       "SMOKE                           0.037330  1.000000 -0.084383   \n",
       "CH2O                           -0.007888 -0.084383  1.000000   \n",
       "family_history_with_overweight -0.274173  0.004844  0.196053   \n",
       "FAF                             0.087708  0.020989  0.124393   \n",
       "TUE                            -0.071668  0.034004 -0.025011   \n",
       "CAEC                           -0.137002 -0.026456  0.106982   \n",
       "MTRANS                          0.008870 -0.034690  0.046881   \n",
       "NObeyesdad                     -0.091852 -0.037314  0.112728   \n",
       "\n",
       "                                family_history_with_overweight       FAF  \\\n",
       "Age                                                   0.233474 -0.203494   \n",
       "Gender                                                0.070487  0.162528   \n",
       "Height                                                0.228409  0.242660   \n",
       "Weight                                                0.497814 -0.082794   \n",
       "CALC                                                 -0.016225  0.204338   \n",
       "FAVC                                                  0.253040 -0.167924   \n",
       "FCVC                                                  0.042455 -0.012113   \n",
       "NCP                                                  -0.037332  0.016128   \n",
       "SCC                                                  -0.274173  0.087708   \n",
       "SMOKE                                                 0.004844  0.020989   \n",
       "CH2O                                                  0.196053  0.124393   \n",
       "family_history_with_overweight                        1.000000 -0.131538   \n",
       "FAF                                                  -0.131538  1.000000   \n",
       "TUE                                                   0.029382  0.076201   \n",
       "CAEC                                                  0.158754 -0.063147   \n",
       "MTRANS                                               -0.020063  0.018179   \n",
       "NObeyesdad                                            0.350481 -0.152487   \n",
       "\n",
       "                                     TUE      CAEC    MTRANS  NObeyesdad  \n",
       "Age                            -0.186941  0.131467 -0.476947    0.257141  \n",
       "Gender                          0.024673  0.045613 -0.207355   -0.050803  \n",
       "Height                          0.022337  0.065297 -0.115315   -0.012876  \n",
       "Weight                         -0.118951  0.317804  0.017041    0.395279  \n",
       "CALC                            0.043622 -0.069400 -0.000657   -0.185122  \n",
       "FAVC                            0.041315  0.110409 -0.038983    0.078076  \n",
       "FCVC                           -0.100470  0.021029  0.095558    0.098337  \n",
       "NCP                             0.024161 -0.056000  0.014114   -0.157178  \n",
       "SCC                            -0.071668 -0.137002  0.008870   -0.091852  \n",
       "SMOKE                           0.034004 -0.026456 -0.034690   -0.037314  \n",
       "CH2O                           -0.025011  0.106982  0.046881    0.112728  \n",
       "family_history_with_overweight  0.029382  0.158754 -0.020063    0.350481  \n",
       "FAF                             0.076201 -0.063147  0.018179   -0.152487  \n",
       "TUE                             1.000000 -0.061250  0.055375   -0.050166  \n",
       "CAEC                           -0.061250  1.000000 -0.015812    0.305368  \n",
       "MTRANS                          0.055375 -0.015812  1.000000   -0.021481  \n",
       "NObeyesdad                     -0.050166  0.305368 -0.021481    1.000000  "
      ]
     },
     "execution_count": 26,
     "metadata": {},
     "output_type": "execute_result"
    }
   ],
   "source": [
    "df.corr()"
   ]
  },
  {
   "cell_type": "markdown",
   "metadata": {},
   "source": [
    "# split the data"
   ]
  },
  {
   "cell_type": "code",
   "execution_count": 27,
   "metadata": {
    "execution": {
     "iopub.execute_input": "2024-04-15T10:37:07.709586Z",
     "iopub.status.busy": "2024-04-15T10:37:07.708298Z",
     "iopub.status.idle": "2024-04-15T10:37:07.717586Z",
     "shell.execute_reply": "2024-04-15T10:37:07.716075Z",
     "shell.execute_reply.started": "2024-04-15T10:37:07.709531Z"
    }
   },
   "outputs": [],
   "source": [
    "X = df.drop(columns=[\"NObeyesdad\"])\n",
    "y = df['NObeyesdad']"
   ]
  },
  {
   "cell_type": "code",
   "execution_count": 28,
   "metadata": {
    "execution": {
     "iopub.execute_input": "2024-04-15T10:37:07.720232Z",
     "iopub.status.busy": "2024-04-15T10:37:07.719530Z",
     "iopub.status.idle": "2024-04-15T10:37:07.839289Z",
     "shell.execute_reply": "2024-04-15T10:37:07.837969Z",
     "shell.execute_reply.started": "2024-04-15T10:37:07.720190Z"
    }
   },
   "outputs": [],
   "source": [
    "from sklearn.model_selection import train_test_split\n",
    "\n",
    "X_train,X_test,y_train,y_test = train_test_split(X,y,test_size=0.2,random_state=42)"
   ]
  },
  {
   "cell_type": "code",
   "execution_count": 29,
   "metadata": {
    "execution": {
     "iopub.execute_input": "2024-04-15T10:37:07.841400Z",
     "iopub.status.busy": "2024-04-15T10:37:07.841035Z",
     "iopub.status.idle": "2024-04-15T10:37:07.868331Z",
     "shell.execute_reply": "2024-04-15T10:37:07.866733Z",
     "shell.execute_reply.started": "2024-04-15T10:37:07.841372Z"
    }
   },
   "outputs": [
    {
     "data": {
      "text/html": [
       "<div>\n",
       "<style scoped>\n",
       "    .dataframe tbody tr th:only-of-type {\n",
       "        vertical-align: middle;\n",
       "    }\n",
       "\n",
       "    .dataframe tbody tr th {\n",
       "        vertical-align: top;\n",
       "    }\n",
       "\n",
       "    .dataframe thead th {\n",
       "        text-align: right;\n",
       "    }\n",
       "</style>\n",
       "<table border=\"1\" class=\"dataframe\">\n",
       "  <thead>\n",
       "    <tr style=\"text-align: right;\">\n",
       "      <th></th>\n",
       "      <th>Age</th>\n",
       "      <th>Gender</th>\n",
       "      <th>Height</th>\n",
       "      <th>Weight</th>\n",
       "      <th>CALC</th>\n",
       "      <th>FAVC</th>\n",
       "      <th>FCVC</th>\n",
       "      <th>NCP</th>\n",
       "      <th>SCC</th>\n",
       "      <th>SMOKE</th>\n",
       "      <th>CH2O</th>\n",
       "      <th>family_history_with_overweight</th>\n",
       "      <th>FAF</th>\n",
       "      <th>TUE</th>\n",
       "      <th>CAEC</th>\n",
       "      <th>MTRANS</th>\n",
       "    </tr>\n",
       "  </thead>\n",
       "  <tbody>\n",
       "    <tr>\n",
       "      <th>882</th>\n",
       "      <td>33.100581</td>\n",
       "      <td>1</td>\n",
       "      <td>1.838791</td>\n",
       "      <td>87.857850</td>\n",
       "      <td>2</td>\n",
       "      <td>1</td>\n",
       "      <td>2.814453</td>\n",
       "      <td>2.608055</td>\n",
       "      <td>0</td>\n",
       "      <td>0</td>\n",
       "      <td>1.859160</td>\n",
       "      <td>0</td>\n",
       "      <td>2.000000</td>\n",
       "      <td>0.516084</td>\n",
       "      <td>2</td>\n",
       "      <td>0</td>\n",
       "    </tr>\n",
       "    <tr>\n",
       "      <th>93</th>\n",
       "      <td>20.000000</td>\n",
       "      <td>0</td>\n",
       "      <td>1.600000</td>\n",
       "      <td>57.000000</td>\n",
       "      <td>2</td>\n",
       "      <td>0</td>\n",
       "      <td>3.000000</td>\n",
       "      <td>3.000000</td>\n",
       "      <td>0</td>\n",
       "      <td>0</td>\n",
       "      <td>2.000000</td>\n",
       "      <td>0</td>\n",
       "      <td>1.000000</td>\n",
       "      <td>0.000000</td>\n",
       "      <td>0</td>\n",
       "      <td>4</td>\n",
       "    </tr>\n",
       "    <tr>\n",
       "      <th>1496</th>\n",
       "      <td>28.421533</td>\n",
       "      <td>1</td>\n",
       "      <td>1.829239</td>\n",
       "      <td>107.108190</td>\n",
       "      <td>1</td>\n",
       "      <td>1</td>\n",
       "      <td>2.465575</td>\n",
       "      <td>2.935381</td>\n",
       "      <td>0</td>\n",
       "      <td>0</td>\n",
       "      <td>2.480555</td>\n",
       "      <td>1</td>\n",
       "      <td>1.001830</td>\n",
       "      <td>1.670313</td>\n",
       "      <td>2</td>\n",
       "      <td>0</td>\n",
       "    </tr>\n",
       "    <tr>\n",
       "      <th>1130</th>\n",
       "      <td>22.989846</td>\n",
       "      <td>0</td>\n",
       "      <td>1.650000</td>\n",
       "      <td>80.000000</td>\n",
       "      <td>2</td>\n",
       "      <td>1</td>\n",
       "      <td>2.000000</td>\n",
       "      <td>3.000000</td>\n",
       "      <td>0</td>\n",
       "      <td>0</td>\n",
       "      <td>2.000000</td>\n",
       "      <td>1</td>\n",
       "      <td>0.146919</td>\n",
       "      <td>2.000000</td>\n",
       "      <td>2</td>\n",
       "      <td>3</td>\n",
       "    </tr>\n",
       "    <tr>\n",
       "      <th>385</th>\n",
       "      <td>16.000000</td>\n",
       "      <td>0</td>\n",
       "      <td>1.550000</td>\n",
       "      <td>45.000000</td>\n",
       "      <td>2</td>\n",
       "      <td>1</td>\n",
       "      <td>2.000000</td>\n",
       "      <td>3.000000</td>\n",
       "      <td>0</td>\n",
       "      <td>0</td>\n",
       "      <td>2.000000</td>\n",
       "      <td>0</td>\n",
       "      <td>1.000000</td>\n",
       "      <td>1.000000</td>\n",
       "      <td>1</td>\n",
       "      <td>3</td>\n",
       "    </tr>\n",
       "    <tr>\n",
       "      <th>...</th>\n",
       "      <td>...</td>\n",
       "      <td>...</td>\n",
       "      <td>...</td>\n",
       "      <td>...</td>\n",
       "      <td>...</td>\n",
       "      <td>...</td>\n",
       "      <td>...</td>\n",
       "      <td>...</td>\n",
       "      <td>...</td>\n",
       "      <td>...</td>\n",
       "      <td>...</td>\n",
       "      <td>...</td>\n",
       "      <td>...</td>\n",
       "      <td>...</td>\n",
       "      <td>...</td>\n",
       "      <td>...</td>\n",
       "    </tr>\n",
       "    <tr>\n",
       "      <th>1819</th>\n",
       "      <td>25.967010</td>\n",
       "      <td>0</td>\n",
       "      <td>1.654875</td>\n",
       "      <td>104.758713</td>\n",
       "      <td>1</td>\n",
       "      <td>1</td>\n",
       "      <td>3.000000</td>\n",
       "      <td>3.000000</td>\n",
       "      <td>0</td>\n",
       "      <td>0</td>\n",
       "      <td>2.612758</td>\n",
       "      <td>1</td>\n",
       "      <td>0.246290</td>\n",
       "      <td>0.802136</td>\n",
       "      <td>2</td>\n",
       "      <td>3</td>\n",
       "    </tr>\n",
       "    <tr>\n",
       "      <th>1837</th>\n",
       "      <td>20.941943</td>\n",
       "      <td>0</td>\n",
       "      <td>1.812963</td>\n",
       "      <td>138.730619</td>\n",
       "      <td>1</td>\n",
       "      <td>1</td>\n",
       "      <td>3.000000</td>\n",
       "      <td>3.000000</td>\n",
       "      <td>0</td>\n",
       "      <td>0</td>\n",
       "      <td>2.641489</td>\n",
       "      <td>1</td>\n",
       "      <td>0.481555</td>\n",
       "      <td>0.735201</td>\n",
       "      <td>2</td>\n",
       "      <td>3</td>\n",
       "    </tr>\n",
       "    <tr>\n",
       "      <th>480</th>\n",
       "      <td>18.000000</td>\n",
       "      <td>0</td>\n",
       "      <td>1.570000</td>\n",
       "      <td>50.000000</td>\n",
       "      <td>1</td>\n",
       "      <td>1</td>\n",
       "      <td>2.000000</td>\n",
       "      <td>3.000000</td>\n",
       "      <td>0</td>\n",
       "      <td>0</td>\n",
       "      <td>1.000000</td>\n",
       "      <td>0</td>\n",
       "      <td>0.000000</td>\n",
       "      <td>1.000000</td>\n",
       "      <td>2</td>\n",
       "      <td>3</td>\n",
       "    </tr>\n",
       "    <tr>\n",
       "      <th>842</th>\n",
       "      <td>19.226314</td>\n",
       "      <td>1</td>\n",
       "      <td>1.814255</td>\n",
       "      <td>85.255631</td>\n",
       "      <td>1</td>\n",
       "      <td>1</td>\n",
       "      <td>2.971351</td>\n",
       "      <td>3.390143</td>\n",
       "      <td>0</td>\n",
       "      <td>0</td>\n",
       "      <td>2.133767</td>\n",
       "      <td>1</td>\n",
       "      <td>2.318492</td>\n",
       "      <td>0.678618</td>\n",
       "      <td>2</td>\n",
       "      <td>3</td>\n",
       "    </tr>\n",
       "    <tr>\n",
       "      <th>775</th>\n",
       "      <td>18.128206</td>\n",
       "      <td>1</td>\n",
       "      <td>1.778447</td>\n",
       "      <td>80.273807</td>\n",
       "      <td>2</td>\n",
       "      <td>1</td>\n",
       "      <td>1.570089</td>\n",
       "      <td>3.000000</td>\n",
       "      <td>0</td>\n",
       "      <td>0</td>\n",
       "      <td>2.000000</td>\n",
       "      <td>1</td>\n",
       "      <td>2.707882</td>\n",
       "      <td>0.000000</td>\n",
       "      <td>2</td>\n",
       "      <td>3</td>\n",
       "    </tr>\n",
       "  </tbody>\n",
       "</table>\n",
       "<p>276 rows × 16 columns</p>\n",
       "</div>"
      ],
      "text/plain": [
       "            Age  Gender    Height      Weight  CALC  FAVC      FCVC       NCP  \\\n",
       "882   33.100581       1  1.838791   87.857850     2     1  2.814453  2.608055   \n",
       "93    20.000000       0  1.600000   57.000000     2     0  3.000000  3.000000   \n",
       "1496  28.421533       1  1.829239  107.108190     1     1  2.465575  2.935381   \n",
       "1130  22.989846       0  1.650000   80.000000     2     1  2.000000  3.000000   \n",
       "385   16.000000       0  1.550000   45.000000     2     1  2.000000  3.000000   \n",
       "...         ...     ...       ...         ...   ...   ...       ...       ...   \n",
       "1819  25.967010       0  1.654875  104.758713     1     1  3.000000  3.000000   \n",
       "1837  20.941943       0  1.812963  138.730619     1     1  3.000000  3.000000   \n",
       "480   18.000000       0  1.570000   50.000000     1     1  2.000000  3.000000   \n",
       "842   19.226314       1  1.814255   85.255631     1     1  2.971351  3.390143   \n",
       "775   18.128206       1  1.778447   80.273807     2     1  1.570089  3.000000   \n",
       "\n",
       "      SCC  SMOKE      CH2O  family_history_with_overweight       FAF  \\\n",
       "882     0      0  1.859160                               0  2.000000   \n",
       "93      0      0  2.000000                               0  1.000000   \n",
       "1496    0      0  2.480555                               1  1.001830   \n",
       "1130    0      0  2.000000                               1  0.146919   \n",
       "385     0      0  2.000000                               0  1.000000   \n",
       "...   ...    ...       ...                             ...       ...   \n",
       "1819    0      0  2.612758                               1  0.246290   \n",
       "1837    0      0  2.641489                               1  0.481555   \n",
       "480     0      0  1.000000                               0  0.000000   \n",
       "842     0      0  2.133767                               1  2.318492   \n",
       "775     0      0  2.000000                               1  2.707882   \n",
       "\n",
       "           TUE  CAEC  MTRANS  \n",
       "882   0.516084     2       0  \n",
       "93    0.000000     0       4  \n",
       "1496  1.670313     2       0  \n",
       "1130  2.000000     2       3  \n",
       "385   1.000000     1       3  \n",
       "...        ...   ...     ...  \n",
       "1819  0.802136     2       3  \n",
       "1837  0.735201     2       3  \n",
       "480   1.000000     2       3  \n",
       "842   0.678618     2       3  \n",
       "775   0.000000     2       3  \n",
       "\n",
       "[276 rows x 16 columns]"
      ]
     },
     "execution_count": 29,
     "metadata": {},
     "output_type": "execute_result"
    }
   ],
   "source": [
    "X_test"
   ]
  },
  {
   "cell_type": "markdown",
   "metadata": {},
   "source": [
    "# scaling"
   ]
  },
  {
   "cell_type": "code",
   "execution_count": 30,
   "metadata": {
    "execution": {
     "iopub.execute_input": "2024-04-15T10:37:07.870652Z",
     "iopub.status.busy": "2024-04-15T10:37:07.870228Z",
     "iopub.status.idle": "2024-04-15T10:37:07.888746Z",
     "shell.execute_reply": "2024-04-15T10:37:07.887579Z",
     "shell.execute_reply.started": "2024-04-15T10:37:07.870618Z"
    }
   },
   "outputs": [],
   "source": [
    "from sklearn.preprocessing import RobustScaler\n",
    "\n",
    "scaler = RobustScaler()\n",
    "\n",
    "scaler.fit(X_train)\n",
    "\n",
    "X_train= scaler.transform(X_train)\n",
    "X_test= scaler.transform(X_test)"
   ]
  },
  {
   "cell_type": "code",
   "execution_count": 31,
   "metadata": {
    "execution": {
     "iopub.execute_input": "2024-04-15T10:37:07.890375Z",
     "iopub.status.busy": "2024-04-15T10:37:07.890050Z",
     "iopub.status.idle": "2024-04-15T10:37:07.898687Z",
     "shell.execute_reply": "2024-04-15T10:37:07.897471Z",
     "shell.execute_reply.started": "2024-04-15T10:37:07.890347Z"
    }
   },
   "outputs": [
    {
     "data": {
      "text/plain": [
       "array([[ 1.73923266,  0.        ,  0.98461427, ..., -0.1946071 ,\n",
       "         0.        , -3.        ],\n",
       "       [-0.45949774, -1.        , -0.93115835, ..., -0.7863468 ,\n",
       "        -2.        ,  1.        ],\n",
       "       [ 0.95392664,  0.        ,  0.90798048, ...,  1.12882691,\n",
       "         0.        , -3.        ],\n",
       "       ...,\n",
       "       [-0.79516688, -1.        , -1.17184238, ...,  0.3602489 ,\n",
       "         0.        ,  0.        ],\n",
       "       [-0.589349  ,  0.        ,  0.78776683, ..., -0.00824632,\n",
       "         0.        ,  0.        ],\n",
       "       [-0.77364949,  0.        ,  0.50048638, ..., -0.7863468 ,\n",
       "         0.        ,  0.        ]])"
      ]
     },
     "execution_count": 31,
     "metadata": {},
     "output_type": "execute_result"
    }
   ],
   "source": [
    "X_test"
   ]
  },
  {
   "cell_type": "code",
   "execution_count": 32,
   "metadata": {
    "execution": {
     "iopub.execute_input": "2024-04-15T10:37:07.909763Z",
     "iopub.status.busy": "2024-04-15T10:37:07.908991Z",
     "iopub.status.idle": "2024-04-15T10:37:07.919408Z",
     "shell.execute_reply": "2024-04-15T10:37:07.918117Z",
     "shell.execute_reply.started": "2024-04-15T10:37:07.909720Z"
    }
   },
   "outputs": [
    {
     "data": {
      "text/plain": [
       "numpy.ndarray"
      ]
     },
     "execution_count": 32,
     "metadata": {},
     "output_type": "execute_result"
    }
   ],
   "source": [
    "type(X_test)"
   ]
  },
  {
   "cell_type": "markdown",
   "metadata": {},
   "source": [
    "# model building"
   ]
  },
  {
   "cell_type": "markdown",
   "metadata": {},
   "source": [
    "# logisticregressiion"
   ]
  },
  {
   "cell_type": "code",
   "execution_count": 33,
   "metadata": {
    "execution": {
     "iopub.execute_input": "2024-04-15T10:37:07.922030Z",
     "iopub.status.busy": "2024-04-15T10:37:07.920641Z",
     "iopub.status.idle": "2024-04-15T10:37:08.068117Z",
     "shell.execute_reply": "2024-04-15T10:37:08.067000Z",
     "shell.execute_reply.started": "2024-04-15T10:37:07.921969Z"
    }
   },
   "outputs": [
    {
     "data": {
      "text/html": [
       "<style>#sk-container-id-1 {color: black;}#sk-container-id-1 pre{padding: 0;}#sk-container-id-1 div.sk-toggleable {background-color: white;}#sk-container-id-1 label.sk-toggleable__label {cursor: pointer;display: block;width: 100%;margin-bottom: 0;padding: 0.3em;box-sizing: border-box;text-align: center;}#sk-container-id-1 label.sk-toggleable__label-arrow:before {content: \"▸\";float: left;margin-right: 0.25em;color: #696969;}#sk-container-id-1 label.sk-toggleable__label-arrow:hover:before {color: black;}#sk-container-id-1 div.sk-estimator:hover label.sk-toggleable__label-arrow:before {color: black;}#sk-container-id-1 div.sk-toggleable__content {max-height: 0;max-width: 0;overflow: hidden;text-align: left;background-color: #f0f8ff;}#sk-container-id-1 div.sk-toggleable__content pre {margin: 0.2em;color: black;border-radius: 0.25em;background-color: #f0f8ff;}#sk-container-id-1 input.sk-toggleable__control:checked~div.sk-toggleable__content {max-height: 200px;max-width: 100%;overflow: auto;}#sk-container-id-1 input.sk-toggleable__control:checked~label.sk-toggleable__label-arrow:before {content: \"▾\";}#sk-container-id-1 div.sk-estimator input.sk-toggleable__control:checked~label.sk-toggleable__label {background-color: #d4ebff;}#sk-container-id-1 div.sk-label input.sk-toggleable__control:checked~label.sk-toggleable__label {background-color: #d4ebff;}#sk-container-id-1 input.sk-hidden--visually {border: 0;clip: rect(1px 1px 1px 1px);clip: rect(1px, 1px, 1px, 1px);height: 1px;margin: -1px;overflow: hidden;padding: 0;position: absolute;width: 1px;}#sk-container-id-1 div.sk-estimator {font-family: monospace;background-color: #f0f8ff;border: 1px dotted black;border-radius: 0.25em;box-sizing: border-box;margin-bottom: 0.5em;}#sk-container-id-1 div.sk-estimator:hover {background-color: #d4ebff;}#sk-container-id-1 div.sk-parallel-item::after {content: \"\";width: 100%;border-bottom: 1px solid gray;flex-grow: 1;}#sk-container-id-1 div.sk-label:hover label.sk-toggleable__label {background-color: #d4ebff;}#sk-container-id-1 div.sk-serial::before {content: \"\";position: absolute;border-left: 1px solid gray;box-sizing: border-box;top: 0;bottom: 0;left: 50%;z-index: 0;}#sk-container-id-1 div.sk-serial {display: flex;flex-direction: column;align-items: center;background-color: white;padding-right: 0.2em;padding-left: 0.2em;position: relative;}#sk-container-id-1 div.sk-item {position: relative;z-index: 1;}#sk-container-id-1 div.sk-parallel {display: flex;align-items: stretch;justify-content: center;background-color: white;position: relative;}#sk-container-id-1 div.sk-item::before, #sk-container-id-1 div.sk-parallel-item::before {content: \"\";position: absolute;border-left: 1px solid gray;box-sizing: border-box;top: 0;bottom: 0;left: 50%;z-index: -1;}#sk-container-id-1 div.sk-parallel-item {display: flex;flex-direction: column;z-index: 1;position: relative;background-color: white;}#sk-container-id-1 div.sk-parallel-item:first-child::after {align-self: flex-end;width: 50%;}#sk-container-id-1 div.sk-parallel-item:last-child::after {align-self: flex-start;width: 50%;}#sk-container-id-1 div.sk-parallel-item:only-child::after {width: 0;}#sk-container-id-1 div.sk-dashed-wrapped {border: 1px dashed gray;margin: 0 0.4em 0.5em 0.4em;box-sizing: border-box;padding-bottom: 0.4em;background-color: white;}#sk-container-id-1 div.sk-label label {font-family: monospace;font-weight: bold;display: inline-block;line-height: 1.2em;}#sk-container-id-1 div.sk-label-container {text-align: center;}#sk-container-id-1 div.sk-container {/* jupyter's `normalize.less` sets `[hidden] { display: none; }` but bootstrap.min.css set `[hidden] { display: none !important; }` so we also need the `!important` here to be able to override the default hidden behavior on the sphinx rendered scikit-learn.org. See: https://github.com/scikit-learn/scikit-learn/issues/21755 */display: inline-block !important;position: relative;}#sk-container-id-1 div.sk-text-repr-fallback {display: none;}</style><div id=\"sk-container-id-1\" class=\"sk-top-container\"><div class=\"sk-text-repr-fallback\"><pre>LogisticRegression(random_state=0, solver=&#x27;liblinear&#x27;)</pre><b>In a Jupyter environment, please rerun this cell to show the HTML representation or trust the notebook. <br />On GitHub, the HTML representation is unable to render, please try loading this page with nbviewer.org.</b></div><div class=\"sk-container\" hidden><div class=\"sk-item\"><div class=\"sk-estimator sk-toggleable\"><input class=\"sk-toggleable__control sk-hidden--visually\" id=\"sk-estimator-id-1\" type=\"checkbox\" checked><label for=\"sk-estimator-id-1\" class=\"sk-toggleable__label sk-toggleable__label-arrow\">LogisticRegression</label><div class=\"sk-toggleable__content\"><pre>LogisticRegression(random_state=0, solver=&#x27;liblinear&#x27;)</pre></div></div></div></div></div>"
      ],
      "text/plain": [
       "LogisticRegression(random_state=0, solver='liblinear')"
      ]
     },
     "execution_count": 33,
     "metadata": {},
     "output_type": "execute_result"
    }
   ],
   "source": [
    "# train a logistic regression model on the training set\n",
    "from sklearn.linear_model import LogisticRegression\n",
    "\n",
    "\n",
    "# instantiate the model\n",
    "logreg = LogisticRegression(solver='liblinear', random_state=0)\n",
    "\n",
    "\n",
    "# fit the model\n",
    "logreg.fit(X_train, y_train)"
   ]
  },
  {
   "cell_type": "code",
   "execution_count": 34,
   "metadata": {
    "execution": {
     "iopub.execute_input": "2024-04-15T10:37:08.070336Z",
     "iopub.status.busy": "2024-04-15T10:37:08.069540Z",
     "iopub.status.idle": "2024-04-15T10:37:08.080604Z",
     "shell.execute_reply": "2024-04-15T10:37:08.079127Z",
     "shell.execute_reply.started": "2024-04-15T10:37:08.070285Z"
    }
   },
   "outputs": [
    {
     "data": {
      "text/plain": [
       "array([1, 1, 3, 2, 1, 1, 1, 6, 1, 1, 0, 6, 4, 4, 4, 6, 3, 0, 4, 4, 1, 5,\n",
       "       1, 1, 4, 3, 1, 3, 5, 5, 3, 3, 3, 3, 3, 4, 3, 0, 5, 4, 5, 1, 3, 1,\n",
       "       4, 3, 1, 2, 3, 3, 3, 2, 4, 5, 1, 2, 0, 0, 4, 1, 4, 4, 3, 3, 2, 5,\n",
       "       6, 5, 0, 3, 5, 2, 5, 0, 2, 1, 3, 4, 4, 1, 2, 4, 3, 0, 3, 0, 2, 1,\n",
       "       0, 2, 1, 1, 1, 4, 4, 6, 3, 2, 3, 5, 4, 0, 4, 6, 2, 1, 5, 4, 2, 0,\n",
       "       5, 4, 5, 5, 2, 3, 3, 6, 2, 4, 4, 4, 2, 6, 6, 3, 4, 3, 2, 4, 2, 4,\n",
       "       2, 6, 5, 3, 5, 3, 3, 1, 4, 5, 6, 2, 4, 3, 2, 3, 0, 4, 2, 4, 3, 3,\n",
       "       3, 4, 3, 4, 5, 5, 4, 4, 6, 5, 4, 6, 3, 3, 3, 6, 5, 5, 2, 6, 3, 6,\n",
       "       3, 1, 5, 4, 3, 2, 2, 6, 0, 3, 6, 3, 4, 2, 4, 6, 1, 4, 1, 3, 4, 0,\n",
       "       6, 5, 5, 4, 4, 0, 2, 4, 4, 4, 2, 3, 0, 2, 6, 0, 4, 2, 6, 1, 3, 4,\n",
       "       0, 4, 4, 0, 4, 4, 2, 4, 1, 2, 4, 3, 0, 4, 0, 5, 1, 3, 3, 4, 3, 2,\n",
       "       6, 4, 1, 1, 3, 6, 3, 5, 2, 2, 0, 4, 4, 3, 1, 0, 0, 4, 4, 3, 3, 3,\n",
       "       0, 4, 6, 3, 3, 0, 4, 4, 4, 1, 1, 2])"
      ]
     },
     "execution_count": 34,
     "metadata": {},
     "output_type": "execute_result"
    }
   ],
   "source": [
    "# predict results\n",
    "y_pred_test = logreg.predict(X_test)\n",
    "\n",
    "y_pred_test"
   ]
  },
  {
   "cell_type": "code",
   "execution_count": 35,
   "metadata": {
    "execution": {
     "iopub.execute_input": "2024-04-15T10:37:08.082839Z",
     "iopub.status.busy": "2024-04-15T10:37:08.082419Z",
     "iopub.status.idle": "2024-04-15T10:37:08.091695Z",
     "shell.execute_reply": "2024-04-15T10:37:08.090491Z",
     "shell.execute_reply.started": "2024-04-15T10:37:08.082810Z"
    }
   },
   "outputs": [
    {
     "name": "stdout",
     "output_type": "stream",
     "text": [
      "Model accuracy score: 0.7391\n"
     ]
    }
   ],
   "source": [
    "# check accuracy score\n",
    "\n",
    "from sklearn.metrics import accuracy_score\n",
    "\n",
    "print('Model accuracy score: {0:0.4f}'. format(accuracy_score(y_test, y_pred_test)))"
   ]
  },
  {
   "cell_type": "markdown",
   "metadata": {},
   "source": [
    "compare the train_set and test_set accuracy\n"
   ]
  },
  {
   "cell_type": "code",
   "execution_count": 36,
   "metadata": {
    "execution": {
     "iopub.execute_input": "2024-04-15T10:37:08.093638Z",
     "iopub.status.busy": "2024-04-15T10:37:08.093278Z",
     "iopub.status.idle": "2024-04-15T10:37:08.105962Z",
     "shell.execute_reply": "2024-04-15T10:37:08.104791Z",
     "shell.execute_reply.started": "2024-04-15T10:37:08.093607Z"
    }
   },
   "outputs": [
    {
     "data": {
      "text/plain": [
       "array([2, 1, 1, ..., 4, 3, 4])"
      ]
     },
     "execution_count": 36,
     "metadata": {},
     "output_type": "execute_result"
    }
   ],
   "source": [
    "y_pred_train = logreg.predict(X_train)\n",
    "y_pred_train"
   ]
  },
  {
   "cell_type": "code",
   "execution_count": 37,
   "metadata": {
    "execution": {
     "iopub.execute_input": "2024-04-15T10:37:08.107603Z",
     "iopub.status.busy": "2024-04-15T10:37:08.107243Z",
     "iopub.status.idle": "2024-04-15T10:37:08.118007Z",
     "shell.execute_reply": "2024-04-15T10:37:08.116355Z",
     "shell.execute_reply.started": "2024-04-15T10:37:08.107568Z"
    }
   },
   "outputs": [
    {
     "name": "stdout",
     "output_type": "stream",
     "text": [
      "Training-set accuracy score: 0.7627\n"
     ]
    }
   ],
   "source": [
    "print('Training-set accuracy score: {0:0.4f}'. format(accuracy_score(y_train, y_pred_train)))"
   ]
  },
  {
   "cell_type": "code",
   "execution_count": 38,
   "metadata": {
    "execution": {
     "iopub.execute_input": "2024-04-15T10:37:08.120533Z",
     "iopub.status.busy": "2024-04-15T10:37:08.120032Z",
     "iopub.status.idle": "2024-04-15T10:37:08.139447Z",
     "shell.execute_reply": "2024-04-15T10:37:08.138086Z",
     "shell.execute_reply.started": "2024-04-15T10:37:08.120488Z"
    }
   },
   "outputs": [
    {
     "name": "stdout",
     "output_type": "stream",
     "text": [
      "              precision    recall  f1-score   support\n",
      "\n",
      "           0       0.81      0.79      0.80        28\n",
      "           1       0.57      0.59      0.58        34\n",
      "           2       0.53      0.54      0.54        35\n",
      "           3       0.76      0.98      0.86        46\n",
      "           4       0.98      1.00      0.99        65\n",
      "           5       0.54      0.60      0.57        25\n",
      "           6       0.72      0.42      0.53        43\n",
      "\n",
      "    accuracy                           0.74       276\n",
      "   macro avg       0.70      0.70      0.69       276\n",
      "weighted avg       0.74      0.74      0.73       276\n",
      "\n"
     ]
    }
   ],
   "source": [
    "# compare model accuracy by classification report\n",
    "from sklearn.metrics import classification_report\n",
    "print(classification_report(y_test,y_pred_test))"
   ]
  },
  {
   "cell_type": "code",
   "execution_count": 39,
   "metadata": {
    "execution": {
     "iopub.execute_input": "2024-04-15T10:37:08.142594Z",
     "iopub.status.busy": "2024-04-15T10:37:08.141868Z",
     "iopub.status.idle": "2024-04-15T10:37:08.197586Z",
     "shell.execute_reply": "2024-04-15T10:37:08.196434Z",
     "shell.execute_reply.started": "2024-04-15T10:37:08.142543Z"
    }
   },
   "outputs": [
    {
     "data": {
      "text/html": [
       "<style>#sk-container-id-2 {color: black;}#sk-container-id-2 pre{padding: 0;}#sk-container-id-2 div.sk-toggleable {background-color: white;}#sk-container-id-2 label.sk-toggleable__label {cursor: pointer;display: block;width: 100%;margin-bottom: 0;padding: 0.3em;box-sizing: border-box;text-align: center;}#sk-container-id-2 label.sk-toggleable__label-arrow:before {content: \"▸\";float: left;margin-right: 0.25em;color: #696969;}#sk-container-id-2 label.sk-toggleable__label-arrow:hover:before {color: black;}#sk-container-id-2 div.sk-estimator:hover label.sk-toggleable__label-arrow:before {color: black;}#sk-container-id-2 div.sk-toggleable__content {max-height: 0;max-width: 0;overflow: hidden;text-align: left;background-color: #f0f8ff;}#sk-container-id-2 div.sk-toggleable__content pre {margin: 0.2em;color: black;border-radius: 0.25em;background-color: #f0f8ff;}#sk-container-id-2 input.sk-toggleable__control:checked~div.sk-toggleable__content {max-height: 200px;max-width: 100%;overflow: auto;}#sk-container-id-2 input.sk-toggleable__control:checked~label.sk-toggleable__label-arrow:before {content: \"▾\";}#sk-container-id-2 div.sk-estimator input.sk-toggleable__control:checked~label.sk-toggleable__label {background-color: #d4ebff;}#sk-container-id-2 div.sk-label input.sk-toggleable__control:checked~label.sk-toggleable__label {background-color: #d4ebff;}#sk-container-id-2 input.sk-hidden--visually {border: 0;clip: rect(1px 1px 1px 1px);clip: rect(1px, 1px, 1px, 1px);height: 1px;margin: -1px;overflow: hidden;padding: 0;position: absolute;width: 1px;}#sk-container-id-2 div.sk-estimator {font-family: monospace;background-color: #f0f8ff;border: 1px dotted black;border-radius: 0.25em;box-sizing: border-box;margin-bottom: 0.5em;}#sk-container-id-2 div.sk-estimator:hover {background-color: #d4ebff;}#sk-container-id-2 div.sk-parallel-item::after {content: \"\";width: 100%;border-bottom: 1px solid gray;flex-grow: 1;}#sk-container-id-2 div.sk-label:hover label.sk-toggleable__label {background-color: #d4ebff;}#sk-container-id-2 div.sk-serial::before {content: \"\";position: absolute;border-left: 1px solid gray;box-sizing: border-box;top: 0;bottom: 0;left: 50%;z-index: 0;}#sk-container-id-2 div.sk-serial {display: flex;flex-direction: column;align-items: center;background-color: white;padding-right: 0.2em;padding-left: 0.2em;position: relative;}#sk-container-id-2 div.sk-item {position: relative;z-index: 1;}#sk-container-id-2 div.sk-parallel {display: flex;align-items: stretch;justify-content: center;background-color: white;position: relative;}#sk-container-id-2 div.sk-item::before, #sk-container-id-2 div.sk-parallel-item::before {content: \"\";position: absolute;border-left: 1px solid gray;box-sizing: border-box;top: 0;bottom: 0;left: 50%;z-index: -1;}#sk-container-id-2 div.sk-parallel-item {display: flex;flex-direction: column;z-index: 1;position: relative;background-color: white;}#sk-container-id-2 div.sk-parallel-item:first-child::after {align-self: flex-end;width: 50%;}#sk-container-id-2 div.sk-parallel-item:last-child::after {align-self: flex-start;width: 50%;}#sk-container-id-2 div.sk-parallel-item:only-child::after {width: 0;}#sk-container-id-2 div.sk-dashed-wrapped {border: 1px dashed gray;margin: 0 0.4em 0.5em 0.4em;box-sizing: border-box;padding-bottom: 0.4em;background-color: white;}#sk-container-id-2 div.sk-label label {font-family: monospace;font-weight: bold;display: inline-block;line-height: 1.2em;}#sk-container-id-2 div.sk-label-container {text-align: center;}#sk-container-id-2 div.sk-container {/* jupyter's `normalize.less` sets `[hidden] { display: none; }` but bootstrap.min.css set `[hidden] { display: none !important; }` so we also need the `!important` here to be able to override the default hidden behavior on the sphinx rendered scikit-learn.org. See: https://github.com/scikit-learn/scikit-learn/issues/21755 */display: inline-block !important;position: relative;}#sk-container-id-2 div.sk-text-repr-fallback {display: none;}</style><div id=\"sk-container-id-2\" class=\"sk-top-container\"><div class=\"sk-text-repr-fallback\"><pre>LogisticRegression(C=100, random_state=0, solver=&#x27;liblinear&#x27;)</pre><b>In a Jupyter environment, please rerun this cell to show the HTML representation or trust the notebook. <br />On GitHub, the HTML representation is unable to render, please try loading this page with nbviewer.org.</b></div><div class=\"sk-container\" hidden><div class=\"sk-item\"><div class=\"sk-estimator sk-toggleable\"><input class=\"sk-toggleable__control sk-hidden--visually\" id=\"sk-estimator-id-2\" type=\"checkbox\" checked><label for=\"sk-estimator-id-2\" class=\"sk-toggleable__label sk-toggleable__label-arrow\">LogisticRegression</label><div class=\"sk-toggleable__content\"><pre>LogisticRegression(C=100, random_state=0, solver=&#x27;liblinear&#x27;)</pre></div></div></div></div></div>"
      ],
      "text/plain": [
       "LogisticRegression(C=100, random_state=0, solver='liblinear')"
      ]
     },
     "execution_count": 39,
     "metadata": {},
     "output_type": "execute_result"
    }
   ],
   "source": [
    " #fit the Logsitic Regression model with C=100\n",
    "# instantiate the model\n",
    "logreg100 = LogisticRegression(C=100, solver='liblinear', random_state=0)\n",
    "# fit the model\n",
    "logreg100.fit(X_train, y_train)"
   ]
  },
  {
   "cell_type": "code",
   "execution_count": 40,
   "metadata": {
    "execution": {
     "iopub.execute_input": "2024-04-15T10:37:08.199199Z",
     "iopub.status.busy": "2024-04-15T10:37:08.198888Z",
     "iopub.status.idle": "2024-04-15T10:37:08.208768Z",
     "shell.execute_reply": "2024-04-15T10:37:08.207460Z",
     "shell.execute_reply.started": "2024-04-15T10:37:08.199172Z"
    }
   },
   "outputs": [
    {
     "name": "stdout",
     "output_type": "stream",
     "text": [
      "Training set score: 0.8109\n",
      "Test set score: 0.7862\n"
     ]
    }
   ],
   "source": [
    "# print the scores on training and test set\n",
    "\n",
    "print('Training set score: {:.4f}'.format(logreg100.score(X_train, y_train)))\n",
    "\n",
    "print('Test set score: {:.4f}'.format(logreg100.score(X_test, y_test)))"
   ]
  },
  {
   "cell_type": "markdown",
   "metadata": {},
   "source": [
    "# DecisionTreeClassifier by gini"
   ]
  },
  {
   "cell_type": "code",
   "execution_count": 41,
   "metadata": {
    "execution": {
     "iopub.execute_input": "2024-04-15T10:37:08.210513Z",
     "iopub.status.busy": "2024-04-15T10:37:08.210148Z",
     "iopub.status.idle": "2024-04-15T10:37:08.315877Z",
     "shell.execute_reply": "2024-04-15T10:37:08.314579Z",
     "shell.execute_reply.started": "2024-04-15T10:37:08.210485Z"
    }
   },
   "outputs": [],
   "source": [
    "# import DecisionTreeClassifier\n",
    "\n",
    "from sklearn.tree import DecisionTreeClassifier"
   ]
  },
  {
   "cell_type": "code",
   "execution_count": 42,
   "metadata": {
    "execution": {
     "iopub.execute_input": "2024-04-15T10:37:08.317592Z",
     "iopub.status.busy": "2024-04-15T10:37:08.317271Z",
     "iopub.status.idle": "2024-04-15T10:37:08.335102Z",
     "shell.execute_reply": "2024-04-15T10:37:08.333914Z",
     "shell.execute_reply.started": "2024-04-15T10:37:08.317566Z"
    }
   },
   "outputs": [
    {
     "data": {
      "text/html": [
       "<style>#sk-container-id-3 {color: black;}#sk-container-id-3 pre{padding: 0;}#sk-container-id-3 div.sk-toggleable {background-color: white;}#sk-container-id-3 label.sk-toggleable__label {cursor: pointer;display: block;width: 100%;margin-bottom: 0;padding: 0.3em;box-sizing: border-box;text-align: center;}#sk-container-id-3 label.sk-toggleable__label-arrow:before {content: \"▸\";float: left;margin-right: 0.25em;color: #696969;}#sk-container-id-3 label.sk-toggleable__label-arrow:hover:before {color: black;}#sk-container-id-3 div.sk-estimator:hover label.sk-toggleable__label-arrow:before {color: black;}#sk-container-id-3 div.sk-toggleable__content {max-height: 0;max-width: 0;overflow: hidden;text-align: left;background-color: #f0f8ff;}#sk-container-id-3 div.sk-toggleable__content pre {margin: 0.2em;color: black;border-radius: 0.25em;background-color: #f0f8ff;}#sk-container-id-3 input.sk-toggleable__control:checked~div.sk-toggleable__content {max-height: 200px;max-width: 100%;overflow: auto;}#sk-container-id-3 input.sk-toggleable__control:checked~label.sk-toggleable__label-arrow:before {content: \"▾\";}#sk-container-id-3 div.sk-estimator input.sk-toggleable__control:checked~label.sk-toggleable__label {background-color: #d4ebff;}#sk-container-id-3 div.sk-label input.sk-toggleable__control:checked~label.sk-toggleable__label {background-color: #d4ebff;}#sk-container-id-3 input.sk-hidden--visually {border: 0;clip: rect(1px 1px 1px 1px);clip: rect(1px, 1px, 1px, 1px);height: 1px;margin: -1px;overflow: hidden;padding: 0;position: absolute;width: 1px;}#sk-container-id-3 div.sk-estimator {font-family: monospace;background-color: #f0f8ff;border: 1px dotted black;border-radius: 0.25em;box-sizing: border-box;margin-bottom: 0.5em;}#sk-container-id-3 div.sk-estimator:hover {background-color: #d4ebff;}#sk-container-id-3 div.sk-parallel-item::after {content: \"\";width: 100%;border-bottom: 1px solid gray;flex-grow: 1;}#sk-container-id-3 div.sk-label:hover label.sk-toggleable__label {background-color: #d4ebff;}#sk-container-id-3 div.sk-serial::before {content: \"\";position: absolute;border-left: 1px solid gray;box-sizing: border-box;top: 0;bottom: 0;left: 50%;z-index: 0;}#sk-container-id-3 div.sk-serial {display: flex;flex-direction: column;align-items: center;background-color: white;padding-right: 0.2em;padding-left: 0.2em;position: relative;}#sk-container-id-3 div.sk-item {position: relative;z-index: 1;}#sk-container-id-3 div.sk-parallel {display: flex;align-items: stretch;justify-content: center;background-color: white;position: relative;}#sk-container-id-3 div.sk-item::before, #sk-container-id-3 div.sk-parallel-item::before {content: \"\";position: absolute;border-left: 1px solid gray;box-sizing: border-box;top: 0;bottom: 0;left: 50%;z-index: -1;}#sk-container-id-3 div.sk-parallel-item {display: flex;flex-direction: column;z-index: 1;position: relative;background-color: white;}#sk-container-id-3 div.sk-parallel-item:first-child::after {align-self: flex-end;width: 50%;}#sk-container-id-3 div.sk-parallel-item:last-child::after {align-self: flex-start;width: 50%;}#sk-container-id-3 div.sk-parallel-item:only-child::after {width: 0;}#sk-container-id-3 div.sk-dashed-wrapped {border: 1px dashed gray;margin: 0 0.4em 0.5em 0.4em;box-sizing: border-box;padding-bottom: 0.4em;background-color: white;}#sk-container-id-3 div.sk-label label {font-family: monospace;font-weight: bold;display: inline-block;line-height: 1.2em;}#sk-container-id-3 div.sk-label-container {text-align: center;}#sk-container-id-3 div.sk-container {/* jupyter's `normalize.less` sets `[hidden] { display: none; }` but bootstrap.min.css set `[hidden] { display: none !important; }` so we also need the `!important` here to be able to override the default hidden behavior on the sphinx rendered scikit-learn.org. See: https://github.com/scikit-learn/scikit-learn/issues/21755 */display: inline-block !important;position: relative;}#sk-container-id-3 div.sk-text-repr-fallback {display: none;}</style><div id=\"sk-container-id-3\" class=\"sk-top-container\"><div class=\"sk-text-repr-fallback\"><pre>DecisionTreeClassifier(max_depth=5, random_state=0)</pre><b>In a Jupyter environment, please rerun this cell to show the HTML representation or trust the notebook. <br />On GitHub, the HTML representation is unable to render, please try loading this page with nbviewer.org.</b></div><div class=\"sk-container\" hidden><div class=\"sk-item\"><div class=\"sk-estimator sk-toggleable\"><input class=\"sk-toggleable__control sk-hidden--visually\" id=\"sk-estimator-id-3\" type=\"checkbox\" checked><label for=\"sk-estimator-id-3\" class=\"sk-toggleable__label sk-toggleable__label-arrow\">DecisionTreeClassifier</label><div class=\"sk-toggleable__content\"><pre>DecisionTreeClassifier(max_depth=5, random_state=0)</pre></div></div></div></div></div>"
      ],
      "text/plain": [
       "DecisionTreeClassifier(max_depth=5, random_state=0)"
      ]
     },
     "execution_count": 42,
     "metadata": {},
     "output_type": "execute_result"
    }
   ],
   "source": [
    "# instantiate the DecisionTreeClassifier model with criterion gini index\n",
    "\n",
    "clf_gini = DecisionTreeClassifier(criterion='gini', max_depth=5, random_state=0)\n",
    "# fit the model\n",
    "clf_gini.fit(X_train, y_train)"
   ]
  },
  {
   "cell_type": "code",
   "execution_count": 43,
   "metadata": {
    "execution": {
     "iopub.execute_input": "2024-04-15T10:37:08.337181Z",
     "iopub.status.busy": "2024-04-15T10:37:08.336809Z",
     "iopub.status.idle": "2024-04-15T10:37:08.342263Z",
     "shell.execute_reply": "2024-04-15T10:37:08.340884Z",
     "shell.execute_reply.started": "2024-04-15T10:37:08.337150Z"
    }
   },
   "outputs": [],
   "source": [
    "# pred the test\n",
    "y_pred_gini = clf_gini.predict(X_test)"
   ]
  },
  {
   "cell_type": "code",
   "execution_count": 44,
   "metadata": {
    "execution": {
     "iopub.execute_input": "2024-04-15T10:37:08.344320Z",
     "iopub.status.busy": "2024-04-15T10:37:08.343942Z",
     "iopub.status.idle": "2024-04-15T10:37:08.354359Z",
     "shell.execute_reply": "2024-04-15T10:37:08.353313Z",
     "shell.execute_reply.started": "2024-04-15T10:37:08.344289Z"
    }
   },
   "outputs": [
    {
     "name": "stdout",
     "output_type": "stream",
     "text": [
      "Model accuracy score with criterion gini index: 0.8986\n"
     ]
    }
   ],
   "source": [
    "# check accuracy\n",
    "from sklearn.metrics import accuracy_score\n",
    "print('Model accuracy score with criterion gini index: {0:0.4f}'. format(accuracy_score(y_test, y_pred_gini)))"
   ]
  },
  {
   "cell_type": "markdown",
   "metadata": {},
   "source": [
    "# DecisionTreeClassifier by Entropy"
   ]
  },
  {
   "cell_type": "code",
   "execution_count": 45,
   "metadata": {
    "execution": {
     "iopub.execute_input": "2024-04-15T10:37:08.356677Z",
     "iopub.status.busy": "2024-04-15T10:37:08.356239Z",
     "iopub.status.idle": "2024-04-15T10:37:08.376043Z",
     "shell.execute_reply": "2024-04-15T10:37:08.374742Z",
     "shell.execute_reply.started": "2024-04-15T10:37:08.356643Z"
    }
   },
   "outputs": [
    {
     "data": {
      "text/html": [
       "<style>#sk-container-id-4 {color: black;}#sk-container-id-4 pre{padding: 0;}#sk-container-id-4 div.sk-toggleable {background-color: white;}#sk-container-id-4 label.sk-toggleable__label {cursor: pointer;display: block;width: 100%;margin-bottom: 0;padding: 0.3em;box-sizing: border-box;text-align: center;}#sk-container-id-4 label.sk-toggleable__label-arrow:before {content: \"▸\";float: left;margin-right: 0.25em;color: #696969;}#sk-container-id-4 label.sk-toggleable__label-arrow:hover:before {color: black;}#sk-container-id-4 div.sk-estimator:hover label.sk-toggleable__label-arrow:before {color: black;}#sk-container-id-4 div.sk-toggleable__content {max-height: 0;max-width: 0;overflow: hidden;text-align: left;background-color: #f0f8ff;}#sk-container-id-4 div.sk-toggleable__content pre {margin: 0.2em;color: black;border-radius: 0.25em;background-color: #f0f8ff;}#sk-container-id-4 input.sk-toggleable__control:checked~div.sk-toggleable__content {max-height: 200px;max-width: 100%;overflow: auto;}#sk-container-id-4 input.sk-toggleable__control:checked~label.sk-toggleable__label-arrow:before {content: \"▾\";}#sk-container-id-4 div.sk-estimator input.sk-toggleable__control:checked~label.sk-toggleable__label {background-color: #d4ebff;}#sk-container-id-4 div.sk-label input.sk-toggleable__control:checked~label.sk-toggleable__label {background-color: #d4ebff;}#sk-container-id-4 input.sk-hidden--visually {border: 0;clip: rect(1px 1px 1px 1px);clip: rect(1px, 1px, 1px, 1px);height: 1px;margin: -1px;overflow: hidden;padding: 0;position: absolute;width: 1px;}#sk-container-id-4 div.sk-estimator {font-family: monospace;background-color: #f0f8ff;border: 1px dotted black;border-radius: 0.25em;box-sizing: border-box;margin-bottom: 0.5em;}#sk-container-id-4 div.sk-estimator:hover {background-color: #d4ebff;}#sk-container-id-4 div.sk-parallel-item::after {content: \"\";width: 100%;border-bottom: 1px solid gray;flex-grow: 1;}#sk-container-id-4 div.sk-label:hover label.sk-toggleable__label {background-color: #d4ebff;}#sk-container-id-4 div.sk-serial::before {content: \"\";position: absolute;border-left: 1px solid gray;box-sizing: border-box;top: 0;bottom: 0;left: 50%;z-index: 0;}#sk-container-id-4 div.sk-serial {display: flex;flex-direction: column;align-items: center;background-color: white;padding-right: 0.2em;padding-left: 0.2em;position: relative;}#sk-container-id-4 div.sk-item {position: relative;z-index: 1;}#sk-container-id-4 div.sk-parallel {display: flex;align-items: stretch;justify-content: center;background-color: white;position: relative;}#sk-container-id-4 div.sk-item::before, #sk-container-id-4 div.sk-parallel-item::before {content: \"\";position: absolute;border-left: 1px solid gray;box-sizing: border-box;top: 0;bottom: 0;left: 50%;z-index: -1;}#sk-container-id-4 div.sk-parallel-item {display: flex;flex-direction: column;z-index: 1;position: relative;background-color: white;}#sk-container-id-4 div.sk-parallel-item:first-child::after {align-self: flex-end;width: 50%;}#sk-container-id-4 div.sk-parallel-item:last-child::after {align-self: flex-start;width: 50%;}#sk-container-id-4 div.sk-parallel-item:only-child::after {width: 0;}#sk-container-id-4 div.sk-dashed-wrapped {border: 1px dashed gray;margin: 0 0.4em 0.5em 0.4em;box-sizing: border-box;padding-bottom: 0.4em;background-color: white;}#sk-container-id-4 div.sk-label label {font-family: monospace;font-weight: bold;display: inline-block;line-height: 1.2em;}#sk-container-id-4 div.sk-label-container {text-align: center;}#sk-container-id-4 div.sk-container {/* jupyter's `normalize.less` sets `[hidden] { display: none; }` but bootstrap.min.css set `[hidden] { display: none !important; }` so we also need the `!important` here to be able to override the default hidden behavior on the sphinx rendered scikit-learn.org. See: https://github.com/scikit-learn/scikit-learn/issues/21755 */display: inline-block !important;position: relative;}#sk-container-id-4 div.sk-text-repr-fallback {display: none;}</style><div id=\"sk-container-id-4\" class=\"sk-top-container\"><div class=\"sk-text-repr-fallback\"><pre>DecisionTreeClassifier(criterion=&#x27;entropy&#x27;, max_depth=5, random_state=0)</pre><b>In a Jupyter environment, please rerun this cell to show the HTML representation or trust the notebook. <br />On GitHub, the HTML representation is unable to render, please try loading this page with nbviewer.org.</b></div><div class=\"sk-container\" hidden><div class=\"sk-item\"><div class=\"sk-estimator sk-toggleable\"><input class=\"sk-toggleable__control sk-hidden--visually\" id=\"sk-estimator-id-4\" type=\"checkbox\" checked><label for=\"sk-estimator-id-4\" class=\"sk-toggleable__label sk-toggleable__label-arrow\">DecisionTreeClassifier</label><div class=\"sk-toggleable__content\"><pre>DecisionTreeClassifier(criterion=&#x27;entropy&#x27;, max_depth=5, random_state=0)</pre></div></div></div></div></div>"
      ],
      "text/plain": [
       "DecisionTreeClassifier(criterion='entropy', max_depth=5, random_state=0)"
      ]
     },
     "execution_count": 45,
     "metadata": {},
     "output_type": "execute_result"
    }
   ],
   "source": [
    "# instantiate the DecisionTreeClassifier model with criterion entropy\n",
    "\n",
    "clf_en = DecisionTreeClassifier(criterion='entropy', max_depth=5, random_state=0)\n",
    "\n",
    "# fit the model\n",
    "clf_en.fit(X_train, y_train)"
   ]
  },
  {
   "cell_type": "code",
   "execution_count": 46,
   "metadata": {
    "execution": {
     "iopub.execute_input": "2024-04-15T10:37:08.380056Z",
     "iopub.status.busy": "2024-04-15T10:37:08.377539Z",
     "iopub.status.idle": "2024-04-15T10:37:08.386083Z",
     "shell.execute_reply": "2024-04-15T10:37:08.384782Z",
     "shell.execute_reply.started": "2024-04-15T10:37:08.380005Z"
    }
   },
   "outputs": [],
   "source": [
    "# pred the test\n",
    "y_pred_en = clf_en.predict(X_test)"
   ]
  },
  {
   "cell_type": "code",
   "execution_count": 47,
   "metadata": {
    "execution": {
     "iopub.execute_input": "2024-04-15T10:37:08.388462Z",
     "iopub.status.busy": "2024-04-15T10:37:08.387901Z",
     "iopub.status.idle": "2024-04-15T10:37:08.400290Z",
     "shell.execute_reply": "2024-04-15T10:37:08.398607Z",
     "shell.execute_reply.started": "2024-04-15T10:37:08.388412Z"
    }
   },
   "outputs": [
    {
     "name": "stdout",
     "output_type": "stream",
     "text": [
      "Model accuracy score with criterion entropy: 0.8986\n"
     ]
    }
   ],
   "source": [
    "# check accuracy_score\n",
    "from sklearn.metrics import accuracy_score\n",
    "\n",
    "print('Model accuracy score with criterion entropy: {0:0.4f}'. format(accuracy_score(y_test, y_pred_en)))"
   ]
  },
  {
   "cell_type": "markdown",
   "metadata": {},
   "source": [
    "# XGBClassifier"
   ]
  },
  {
   "cell_type": "code",
   "execution_count": 48,
   "metadata": {
    "execution": {
     "iopub.execute_input": "2024-04-15T10:37:08.403281Z",
     "iopub.status.busy": "2024-04-15T10:37:08.402213Z",
     "iopub.status.idle": "2024-04-15T10:37:08.627197Z",
     "shell.execute_reply": "2024-04-15T10:37:08.625679Z",
     "shell.execute_reply.started": "2024-04-15T10:37:08.403238Z"
    }
   },
   "outputs": [],
   "source": [
    "# import libraries\n",
    "import xgboost as xgb\n",
    "from xgboost import XGBClassifier"
   ]
  },
  {
   "cell_type": "code",
   "execution_count": 49,
   "metadata": {
    "execution": {
     "iopub.execute_input": "2024-04-15T10:37:08.630488Z",
     "iopub.status.busy": "2024-04-15T10:37:08.629339Z",
     "iopub.status.idle": "2024-04-15T10:37:09.058597Z",
     "shell.execute_reply": "2024-04-15T10:37:09.057424Z",
     "shell.execute_reply.started": "2024-04-15T10:37:08.630444Z"
    }
   },
   "outputs": [
    {
     "data": {
      "text/html": [
       "<style>#sk-container-id-5 {color: black;}#sk-container-id-5 pre{padding: 0;}#sk-container-id-5 div.sk-toggleable {background-color: white;}#sk-container-id-5 label.sk-toggleable__label {cursor: pointer;display: block;width: 100%;margin-bottom: 0;padding: 0.3em;box-sizing: border-box;text-align: center;}#sk-container-id-5 label.sk-toggleable__label-arrow:before {content: \"▸\";float: left;margin-right: 0.25em;color: #696969;}#sk-container-id-5 label.sk-toggleable__label-arrow:hover:before {color: black;}#sk-container-id-5 div.sk-estimator:hover label.sk-toggleable__label-arrow:before {color: black;}#sk-container-id-5 div.sk-toggleable__content {max-height: 0;max-width: 0;overflow: hidden;text-align: left;background-color: #f0f8ff;}#sk-container-id-5 div.sk-toggleable__content pre {margin: 0.2em;color: black;border-radius: 0.25em;background-color: #f0f8ff;}#sk-container-id-5 input.sk-toggleable__control:checked~div.sk-toggleable__content {max-height: 200px;max-width: 100%;overflow: auto;}#sk-container-id-5 input.sk-toggleable__control:checked~label.sk-toggleable__label-arrow:before {content: \"▾\";}#sk-container-id-5 div.sk-estimator input.sk-toggleable__control:checked~label.sk-toggleable__label {background-color: #d4ebff;}#sk-container-id-5 div.sk-label input.sk-toggleable__control:checked~label.sk-toggleable__label {background-color: #d4ebff;}#sk-container-id-5 input.sk-hidden--visually {border: 0;clip: rect(1px 1px 1px 1px);clip: rect(1px, 1px, 1px, 1px);height: 1px;margin: -1px;overflow: hidden;padding: 0;position: absolute;width: 1px;}#sk-container-id-5 div.sk-estimator {font-family: monospace;background-color: #f0f8ff;border: 1px dotted black;border-radius: 0.25em;box-sizing: border-box;margin-bottom: 0.5em;}#sk-container-id-5 div.sk-estimator:hover {background-color: #d4ebff;}#sk-container-id-5 div.sk-parallel-item::after {content: \"\";width: 100%;border-bottom: 1px solid gray;flex-grow: 1;}#sk-container-id-5 div.sk-label:hover label.sk-toggleable__label {background-color: #d4ebff;}#sk-container-id-5 div.sk-serial::before {content: \"\";position: absolute;border-left: 1px solid gray;box-sizing: border-box;top: 0;bottom: 0;left: 50%;z-index: 0;}#sk-container-id-5 div.sk-serial {display: flex;flex-direction: column;align-items: center;background-color: white;padding-right: 0.2em;padding-left: 0.2em;position: relative;}#sk-container-id-5 div.sk-item {position: relative;z-index: 1;}#sk-container-id-5 div.sk-parallel {display: flex;align-items: stretch;justify-content: center;background-color: white;position: relative;}#sk-container-id-5 div.sk-item::before, #sk-container-id-5 div.sk-parallel-item::before {content: \"\";position: absolute;border-left: 1px solid gray;box-sizing: border-box;top: 0;bottom: 0;left: 50%;z-index: -1;}#sk-container-id-5 div.sk-parallel-item {display: flex;flex-direction: column;z-index: 1;position: relative;background-color: white;}#sk-container-id-5 div.sk-parallel-item:first-child::after {align-self: flex-end;width: 50%;}#sk-container-id-5 div.sk-parallel-item:last-child::after {align-self: flex-start;width: 50%;}#sk-container-id-5 div.sk-parallel-item:only-child::after {width: 0;}#sk-container-id-5 div.sk-dashed-wrapped {border: 1px dashed gray;margin: 0 0.4em 0.5em 0.4em;box-sizing: border-box;padding-bottom: 0.4em;background-color: white;}#sk-container-id-5 div.sk-label label {font-family: monospace;font-weight: bold;display: inline-block;line-height: 1.2em;}#sk-container-id-5 div.sk-label-container {text-align: center;}#sk-container-id-5 div.sk-container {/* jupyter's `normalize.less` sets `[hidden] { display: none; }` but bootstrap.min.css set `[hidden] { display: none !important; }` so we also need the `!important` here to be able to override the default hidden behavior on the sphinx rendered scikit-learn.org. See: https://github.com/scikit-learn/scikit-learn/issues/21755 */display: inline-block !important;position: relative;}#sk-container-id-5 div.sk-text-repr-fallback {display: none;}</style><div id=\"sk-container-id-5\" class=\"sk-top-container\"><div class=\"sk-text-repr-fallback\"><pre>XGBClassifier(base_score=None, booster=None, callbacks=None,\n",
       "              colsample_bylevel=None, colsample_bynode=None,\n",
       "              colsample_bytree=None, device=None, early_stopping_rounds=None,\n",
       "              enable_categorical=False, eval_metric=None, feature_types=None,\n",
       "              gamma=None, grow_policy=None, importance_type=None,\n",
       "              interaction_constraints=None, learning_rate=None, max_bin=None,\n",
       "              max_cat_threshold=None, max_cat_to_onehot=None,\n",
       "              max_delta_step=None, max_depth=None, max_leaves=None,\n",
       "              min_child_weight=None, missing=nan, monotone_constraints=None,\n",
       "              multi_strategy=None, n_estimators=None, n_jobs=None, num_class=3,\n",
       "              num_parallel_tree=None, ...)</pre><b>In a Jupyter environment, please rerun this cell to show the HTML representation or trust the notebook. <br />On GitHub, the HTML representation is unable to render, please try loading this page with nbviewer.org.</b></div><div class=\"sk-container\" hidden><div class=\"sk-item\"><div class=\"sk-estimator sk-toggleable\"><input class=\"sk-toggleable__control sk-hidden--visually\" id=\"sk-estimator-id-5\" type=\"checkbox\" checked><label for=\"sk-estimator-id-5\" class=\"sk-toggleable__label sk-toggleable__label-arrow\">XGBClassifier</label><div class=\"sk-toggleable__content\"><pre>XGBClassifier(base_score=None, booster=None, callbacks=None,\n",
       "              colsample_bylevel=None, colsample_bynode=None,\n",
       "              colsample_bytree=None, device=None, early_stopping_rounds=None,\n",
       "              enable_categorical=False, eval_metric=None, feature_types=None,\n",
       "              gamma=None, grow_policy=None, importance_type=None,\n",
       "              interaction_constraints=None, learning_rate=None, max_bin=None,\n",
       "              max_cat_threshold=None, max_cat_to_onehot=None,\n",
       "              max_delta_step=None, max_depth=None, max_leaves=None,\n",
       "              min_child_weight=None, missing=nan, monotone_constraints=None,\n",
       "              multi_strategy=None, n_estimators=None, n_jobs=None, num_class=3,\n",
       "              num_parallel_tree=None, ...)</pre></div></div></div></div></div>"
      ],
      "text/plain": [
       "XGBClassifier(base_score=None, booster=None, callbacks=None,\n",
       "              colsample_bylevel=None, colsample_bynode=None,\n",
       "              colsample_bytree=None, device=None, early_stopping_rounds=None,\n",
       "              enable_categorical=False, eval_metric=None, feature_types=None,\n",
       "              gamma=None, grow_policy=None, importance_type=None,\n",
       "              interaction_constraints=None, learning_rate=None, max_bin=None,\n",
       "              max_cat_threshold=None, max_cat_to_onehot=None,\n",
       "              max_delta_step=None, max_depth=None, max_leaves=None,\n",
       "              min_child_weight=None, missing=nan, monotone_constraints=None,\n",
       "              multi_strategy=None, n_estimators=None, n_jobs=None, num_class=3,\n",
       "              num_parallel_tree=None, ...)"
      ]
     },
     "execution_count": 49,
     "metadata": {},
     "output_type": "execute_result"
    }
   ],
   "source": [
    "# initialize XGBClassifier\n",
    "model = xgb.XGBClassifier(objective='multi:softmax', num_class=3) \n",
    "# train the model\n",
    "model.fit(X_train, y_train)"
   ]
  },
  {
   "cell_type": "code",
   "execution_count": 50,
   "metadata": {
    "execution": {
     "iopub.execute_input": "2024-04-15T10:37:09.061364Z",
     "iopub.status.busy": "2024-04-15T10:37:09.060535Z",
     "iopub.status.idle": "2024-04-15T10:37:09.075883Z",
     "shell.execute_reply": "2024-04-15T10:37:09.074303Z",
     "shell.execute_reply.started": "2024-04-15T10:37:09.061324Z"
    }
   },
   "outputs": [],
   "source": [
    "# pred the model\n",
    "y_pred = model.predict(X_test)"
   ]
  },
  {
   "cell_type": "code",
   "execution_count": 51,
   "metadata": {
    "execution": {
     "iopub.execute_input": "2024-04-15T10:37:09.077936Z",
     "iopub.status.busy": "2024-04-15T10:37:09.077199Z",
     "iopub.status.idle": "2024-04-15T10:37:09.084300Z",
     "shell.execute_reply": "2024-04-15T10:37:09.083562Z",
     "shell.execute_reply.started": "2024-04-15T10:37:09.077897Z"
    }
   },
   "outputs": [
    {
     "name": "stdout",
     "output_type": "stream",
     "text": [
      "Accuracy: 0.9710144927536232\n"
     ]
    }
   ],
   "source": [
    "# evaluate the model\n",
    "accuracy = accuracy_score(y_test, y_pred)\n",
    "print(f\"Accuracy: {accuracy}\")"
   ]
  },
  {
   "cell_type": "markdown",
   "metadata": {},
   "source": [
    "# Classification metrics"
   ]
  },
  {
   "cell_type": "code",
   "execution_count": 52,
   "metadata": {
    "execution": {
     "iopub.execute_input": "2024-04-15T10:37:09.086424Z",
     "iopub.status.busy": "2024-04-15T10:37:09.085467Z",
     "iopub.status.idle": "2024-04-15T10:37:09.110338Z",
     "shell.execute_reply": "2024-04-15T10:37:09.109095Z",
     "shell.execute_reply.started": "2024-04-15T10:37:09.086394Z"
    }
   },
   "outputs": [
    {
     "name": "stdout",
     "output_type": "stream",
     "text": [
      "              precision    recall  f1-score   support\n",
      "\n",
      "           0       0.97      1.00      0.98        28\n",
      "           1       1.00      0.97      0.99        34\n",
      "           2       0.94      0.97      0.96        35\n",
      "           3       0.98      0.98      0.98        46\n",
      "           4       1.00      1.00      1.00        65\n",
      "           5       0.86      1.00      0.93        25\n",
      "           6       1.00      0.88      0.94        43\n",
      "\n",
      "    accuracy                           0.97       276\n",
      "   macro avg       0.96      0.97      0.97       276\n",
      "weighted avg       0.97      0.97      0.97       276\n",
      "\n"
     ]
    }
   ],
   "source": [
    "# classification report\n",
    "from sklearn.metrics import classification_report\n",
    "\n",
    "print(classification_report(y_test, y_pred))"
   ]
  },
  {
   "cell_type": "markdown",
   "metadata": {},
   "source": [
    "# GridsearchCV\n"
   ]
  },
  {
   "cell_type": "code",
   "execution_count": 53,
   "metadata": {
    "execution": {
     "iopub.execute_input": "2024-04-15T10:37:09.112612Z",
     "iopub.status.busy": "2024-04-15T10:37:09.111960Z",
     "iopub.status.idle": "2024-04-15T10:40:49.582151Z",
     "shell.execute_reply": "2024-04-15T10:40:49.581319Z",
     "shell.execute_reply.started": "2024-04-15T10:37:09.112582Z"
    }
   },
   "outputs": [
    {
     "name": "stdout",
     "output_type": "stream",
     "text": [
      "Best Parameters: {'gamma': 0.2, 'learning_rate': 0.1, 'max_depth': 5, 'n_estimators': 200}\n",
      "Test Accuracy: 0.967391304347826\n"
     ]
    }
   ],
   "source": [
    "# import libraries\n",
    "from sklearn.model_selection import GridSearchCV\n",
    "# set up parameter for gridsearchcv\n",
    "param_grid = {\n",
    "    'max_depth': [3, 5, 7],\n",
    "    'learning_rate': [0.1, 0.01, 0.001],\n",
    "    'n_estimators': [100, 200, 300],\n",
    "    'gamma': [0, 0.1, 0.2]\n",
    "}\n",
    "# perform GridSearch Cross_validation\n",
    "grid_search = GridSearchCV(estimator=model, param_grid=param_grid, cv=3, scoring='accuracy')\n",
    "# fit the data\n",
    "grid_search.fit(X_train, y_train)\n",
    "# get best parameters\n",
    "best_params = grid_search.best_params_\n",
    "print(\"Best Parameters:\", best_params)\n",
    "\n",
    "# Evaluate on test set\n",
    "best_clf = grid_search.best_estimator_\n",
    "test_accuracy = best_clf.score(X_test, y_test)\n",
    "print(\"Test Accuracy:\", test_accuracy)\n"
   ]
  },
  {
   "cell_type": "code",
   "execution_count": 54,
   "metadata": {
    "execution": {
     "iopub.execute_input": "2024-04-15T10:40:49.584272Z",
     "iopub.status.busy": "2024-04-15T10:40:49.583374Z",
     "iopub.status.idle": "2024-04-15T10:41:10.221541Z",
     "shell.execute_reply": "2024-04-15T10:41:10.220442Z",
     "shell.execute_reply.started": "2024-04-15T10:40:49.584238Z"
    }
   },
   "outputs": [
    {
     "name": "stdout",
     "output_type": "stream",
     "text": [
      "Collecting pickle5\n",
      "  Using cached pickle5-0.0.11.tar.gz (132 kB)\n",
      "  Preparing metadata (setup.py): started\n",
      "  Preparing metadata (setup.py): finished with status 'done'\n",
      "Building wheels for collected packages: pickle5\n",
      "  Building wheel for pickle5 (setup.py): started\n",
      "  Building wheel for pickle5 (setup.py): finished with status 'error'\n",
      "  Running setup.py clean for pickle5\n",
      "Failed to build pickle5\n"
     ]
    },
    {
     "name": "stderr",
     "output_type": "stream",
     "text": [
      "  error: subprocess-exited-with-error\n",
      "  \n",
      "  python setup.py bdist_wheel did not run successfully.\n",
      "  exit code: 1\n",
      "  \n",
      "  [17 lines of output]\n",
      "  running bdist_wheel\n",
      "  running build\n",
      "  running build_py\n",
      "  creating build\n",
      "  creating build\\lib.win-amd64-cpython-311\n",
      "  creating build\\lib.win-amd64-cpython-311\\pickle5\n",
      "  copying pickle5\\pickle.py -> build\\lib.win-amd64-cpython-311\\pickle5\n",
      "  copying pickle5\\pickletools.py -> build\\lib.win-amd64-cpython-311\\pickle5\n",
      "  copying pickle5\\__init__.py -> build\\lib.win-amd64-cpython-311\\pickle5\n",
      "  creating build\\lib.win-amd64-cpython-311\\pickle5\\test\n",
      "  copying pickle5\\test\\pickletester.py -> build\\lib.win-amd64-cpython-311\\pickle5\\test\n",
      "  copying pickle5\\test\\test_pickle.py -> build\\lib.win-amd64-cpython-311\\pickle5\\test\n",
      "  copying pickle5\\test\\test_picklebuffer.py -> build\\lib.win-amd64-cpython-311\\pickle5\\test\n",
      "  copying pickle5\\test\\__init__.py -> build\\lib.win-amd64-cpython-311\\pickle5\\test\n",
      "  running build_ext\n",
      "  building 'pickle5._pickle' extension\n",
      "  error: Microsoft Visual C++ 14.0 or greater is required. Get it with \"Microsoft C++ Build Tools\": https://visualstudio.microsoft.com/visual-cpp-build-tools/\n",
      "  [end of output]\n",
      "  \n",
      "  note: This error originates from a subprocess, and is likely not a problem with pip.\n",
      "  ERROR: Failed building wheel for pickle5\n",
      "ERROR: Could not build wheels for pickle5, which is required to install pyproject.toml-based projects\n"
     ]
    }
   ],
   "source": [
    "! pip install pickle5"
   ]
  },
  {
   "cell_type": "code",
   "execution_count": 55,
   "metadata": {
    "execution": {
     "iopub.execute_input": "2024-04-15T10:41:10.223667Z",
     "iopub.status.busy": "2024-04-15T10:41:10.223210Z",
     "iopub.status.idle": "2024-04-15T10:41:10.230333Z",
     "shell.execute_reply": "2024-04-15T10:41:10.228637Z",
     "shell.execute_reply.started": "2024-04-15T10:41:10.223623Z"
    }
   },
   "outputs": [],
   "source": [
    "import pickle"
   ]
  },
  {
   "cell_type": "code",
   "execution_count": 56,
   "metadata": {
    "execution": {
     "iopub.execute_input": "2024-04-15T10:50:52.889632Z",
     "iopub.status.busy": "2024-04-15T10:50:52.889174Z",
     "iopub.status.idle": "2024-04-15T10:50:52.895571Z",
     "shell.execute_reply": "2024-04-15T10:50:52.894483Z",
     "shell.execute_reply.started": "2024-04-15T10:50:52.889603Z"
    }
   },
   "outputs": [],
   "source": [
    "f1 = open(r\"C:\\Users\\srita\\OneDrive\\Desktop\\internship\\model_13apr24.sav\",\"wb\")"
   ]
  },
  {
   "cell_type": "code",
   "execution_count": 57,
   "metadata": {
    "execution": {
     "iopub.execute_input": "2024-04-15T10:50:55.647251Z",
     "iopub.status.busy": "2024-04-15T10:50:55.646110Z",
     "iopub.status.idle": "2024-04-15T10:50:55.665657Z",
     "shell.execute_reply": "2024-04-15T10:50:55.663991Z",
     "shell.execute_reply.started": "2024-04-15T10:50:55.647211Z"
    }
   },
   "outputs": [],
   "source": [
    "pickle.dump(model,f1)"
   ]
  },
  {
   "cell_type": "code",
   "execution_count": 58,
   "metadata": {
    "execution": {
     "iopub.execute_input": "2024-04-15T10:50:56.786043Z",
     "iopub.status.busy": "2024-04-15T10:50:56.785361Z",
     "iopub.status.idle": "2024-04-15T10:50:56.792327Z",
     "shell.execute_reply": "2024-04-15T10:50:56.790781Z",
     "shell.execute_reply.started": "2024-04-15T10:50:56.786011Z"
    }
   },
   "outputs": [],
   "source": [
    "f1.close()"
   ]
  },
  {
   "cell_type": "code",
   "execution_count": 59,
   "metadata": {
    "execution": {
     "iopub.execute_input": "2024-04-15T10:50:57.733845Z",
     "iopub.status.busy": "2024-04-15T10:50:57.733436Z",
     "iopub.status.idle": "2024-04-15T10:50:57.751141Z",
     "shell.execute_reply": "2024-04-15T10:50:57.749694Z",
     "shell.execute_reply.started": "2024-04-15T10:50:57.733817Z"
    }
   },
   "outputs": [
    {
     "name": "stdout",
     "output_type": "stream",
     "text": [
      "        Age  Gender    Height    Weight  CALC  FAVC      FCVC       NCP  SCC  \\\n",
      "0  1.739233     0.0  0.984614 -0.063280   1.0   0.0  0.211682 -0.391945  0.0   \n",
      "1 -0.459498    -1.0 -0.931158 -0.779039   1.0  -1.0  0.397229  0.000000  0.0   \n",
      "2  0.953927     0.0  0.907980  0.383239   0.0   0.0 -0.137196 -0.064619  0.0   \n",
      "3  0.042302    -1.0 -0.530018 -0.245545   1.0   0.0 -0.602771  0.000000  0.0   \n",
      "4 -1.130836    -1.0 -1.332298 -1.057383   1.0   0.0 -0.602771  0.000000  0.0   \n",
      "\n",
      "   SMOKE      CH2O  family_history_with_overweight       FAF       TUE  CAEC  \\\n",
      "0    0.0 -0.158451                            -1.0  0.686885 -0.194607   0.0   \n",
      "1    0.0  0.000000                            -1.0  0.000000 -0.786347  -2.0   \n",
      "2    0.0  0.540645                             0.0  0.001257  1.128827   0.0   \n",
      "3    0.0  0.000000                             0.0 -0.585969  1.506845   0.0   \n",
      "4    0.0  0.000000                            -1.0  0.000000  0.360249  -1.0   \n",
      "\n",
      "   MTRANS  \n",
      "0    -3.0  \n",
      "1     1.0  \n",
      "2    -3.0  \n",
      "3     0.0  \n",
      "4     0.0  \n"
     ]
    }
   ],
   "source": [
    "import pandas as pd\n",
    "\n",
    "# Convert NumPy array to DataFrame\n",
    "X_test = pd.DataFrame(X_test,columns=[\"Age\",\"Gender\",\"Height\",\"Weight\",\"CALC\",\"FAVC\",\"FCVC\",\"NCP\",\"SCC\",\"SMOKE\",\"CH2O\",\"family_history_with_overweight\",\"FAF\",\"TUE\",\"CAEC\",\"MTRANS\"])\n",
    "\n",
    "# Now you can use .head() to view the first few rows\n",
    "print(X_test.head())\n"
   ]
  },
  {
   "cell_type": "code",
   "execution_count": 60,
   "metadata": {
    "execution": {
     "iopub.execute_input": "2024-04-15T10:50:59.372225Z",
     "iopub.status.busy": "2024-04-15T10:50:59.371329Z",
     "iopub.status.idle": "2024-04-15T10:50:59.395233Z",
     "shell.execute_reply": "2024-04-15T10:50:59.393460Z",
     "shell.execute_reply.started": "2024-04-15T10:50:59.372191Z"
    }
   },
   "outputs": [
    {
     "data": {
      "text/html": [
       "<div>\n",
       "<style scoped>\n",
       "    .dataframe tbody tr th:only-of-type {\n",
       "        vertical-align: middle;\n",
       "    }\n",
       "\n",
       "    .dataframe tbody tr th {\n",
       "        vertical-align: top;\n",
       "    }\n",
       "\n",
       "    .dataframe thead th {\n",
       "        text-align: right;\n",
       "    }\n",
       "</style>\n",
       "<table border=\"1\" class=\"dataframe\">\n",
       "  <thead>\n",
       "    <tr style=\"text-align: right;\">\n",
       "      <th></th>\n",
       "      <th>Age</th>\n",
       "      <th>Gender</th>\n",
       "      <th>Height</th>\n",
       "      <th>Weight</th>\n",
       "      <th>CALC</th>\n",
       "      <th>FAVC</th>\n",
       "      <th>FCVC</th>\n",
       "      <th>NCP</th>\n",
       "      <th>SCC</th>\n",
       "      <th>SMOKE</th>\n",
       "      <th>CH2O</th>\n",
       "      <th>family_history_with_overweight</th>\n",
       "      <th>FAF</th>\n",
       "      <th>TUE</th>\n",
       "      <th>CAEC</th>\n",
       "      <th>MTRANS</th>\n",
       "    </tr>\n",
       "  </thead>\n",
       "  <tbody>\n",
       "    <tr>\n",
       "      <th>0</th>\n",
       "      <td>1.739233</td>\n",
       "      <td>0.0</td>\n",
       "      <td>0.984614</td>\n",
       "      <td>-0.063280</td>\n",
       "      <td>1.0</td>\n",
       "      <td>0.0</td>\n",
       "      <td>0.211682</td>\n",
       "      <td>-0.391945</td>\n",
       "      <td>0.0</td>\n",
       "      <td>0.0</td>\n",
       "      <td>-0.158451</td>\n",
       "      <td>-1.0</td>\n",
       "      <td>0.686885</td>\n",
       "      <td>-0.194607</td>\n",
       "      <td>0.0</td>\n",
       "      <td>-3.0</td>\n",
       "    </tr>\n",
       "    <tr>\n",
       "      <th>1</th>\n",
       "      <td>-0.459498</td>\n",
       "      <td>-1.0</td>\n",
       "      <td>-0.931158</td>\n",
       "      <td>-0.779039</td>\n",
       "      <td>1.0</td>\n",
       "      <td>-1.0</td>\n",
       "      <td>0.397229</td>\n",
       "      <td>0.000000</td>\n",
       "      <td>0.0</td>\n",
       "      <td>0.0</td>\n",
       "      <td>0.000000</td>\n",
       "      <td>-1.0</td>\n",
       "      <td>0.000000</td>\n",
       "      <td>-0.786347</td>\n",
       "      <td>-2.0</td>\n",
       "      <td>1.0</td>\n",
       "    </tr>\n",
       "    <tr>\n",
       "      <th>2</th>\n",
       "      <td>0.953927</td>\n",
       "      <td>0.0</td>\n",
       "      <td>0.907980</td>\n",
       "      <td>0.383239</td>\n",
       "      <td>0.0</td>\n",
       "      <td>0.0</td>\n",
       "      <td>-0.137196</td>\n",
       "      <td>-0.064619</td>\n",
       "      <td>0.0</td>\n",
       "      <td>0.0</td>\n",
       "      <td>0.540645</td>\n",
       "      <td>0.0</td>\n",
       "      <td>0.001257</td>\n",
       "      <td>1.128827</td>\n",
       "      <td>0.0</td>\n",
       "      <td>-3.0</td>\n",
       "    </tr>\n",
       "    <tr>\n",
       "      <th>3</th>\n",
       "      <td>0.042302</td>\n",
       "      <td>-1.0</td>\n",
       "      <td>-0.530018</td>\n",
       "      <td>-0.245545</td>\n",
       "      <td>1.0</td>\n",
       "      <td>0.0</td>\n",
       "      <td>-0.602771</td>\n",
       "      <td>0.000000</td>\n",
       "      <td>0.0</td>\n",
       "      <td>0.0</td>\n",
       "      <td>0.000000</td>\n",
       "      <td>0.0</td>\n",
       "      <td>-0.585969</td>\n",
       "      <td>1.506845</td>\n",
       "      <td>0.0</td>\n",
       "      <td>0.0</td>\n",
       "    </tr>\n",
       "    <tr>\n",
       "      <th>4</th>\n",
       "      <td>-1.130836</td>\n",
       "      <td>-1.0</td>\n",
       "      <td>-1.332298</td>\n",
       "      <td>-1.057383</td>\n",
       "      <td>1.0</td>\n",
       "      <td>0.0</td>\n",
       "      <td>-0.602771</td>\n",
       "      <td>0.000000</td>\n",
       "      <td>0.0</td>\n",
       "      <td>0.0</td>\n",
       "      <td>0.000000</td>\n",
       "      <td>-1.0</td>\n",
       "      <td>0.000000</td>\n",
       "      <td>0.360249</td>\n",
       "      <td>-1.0</td>\n",
       "      <td>0.0</td>\n",
       "    </tr>\n",
       "  </tbody>\n",
       "</table>\n",
       "</div>"
      ],
      "text/plain": [
       "        Age  Gender    Height    Weight  CALC  FAVC      FCVC       NCP  SCC  \\\n",
       "0  1.739233     0.0  0.984614 -0.063280   1.0   0.0  0.211682 -0.391945  0.0   \n",
       "1 -0.459498    -1.0 -0.931158 -0.779039   1.0  -1.0  0.397229  0.000000  0.0   \n",
       "2  0.953927     0.0  0.907980  0.383239   0.0   0.0 -0.137196 -0.064619  0.0   \n",
       "3  0.042302    -1.0 -0.530018 -0.245545   1.0   0.0 -0.602771  0.000000  0.0   \n",
       "4 -1.130836    -1.0 -1.332298 -1.057383   1.0   0.0 -0.602771  0.000000  0.0   \n",
       "\n",
       "   SMOKE      CH2O  family_history_with_overweight       FAF       TUE  CAEC  \\\n",
       "0    0.0 -0.158451                            -1.0  0.686885 -0.194607   0.0   \n",
       "1    0.0  0.000000                            -1.0  0.000000 -0.786347  -2.0   \n",
       "2    0.0  0.540645                             0.0  0.001257  1.128827   0.0   \n",
       "3    0.0  0.000000                             0.0 -0.585969  1.506845   0.0   \n",
       "4    0.0  0.000000                            -1.0  0.000000  0.360249  -1.0   \n",
       "\n",
       "   MTRANS  \n",
       "0    -3.0  \n",
       "1     1.0  \n",
       "2    -3.0  \n",
       "3     0.0  \n",
       "4     0.0  "
      ]
     },
     "execution_count": 60,
     "metadata": {},
     "output_type": "execute_result"
    }
   ],
   "source": [
    "X_test.head()"
   ]
  },
  {
   "cell_type": "code",
   "execution_count": 61,
   "metadata": {
    "execution": {
     "iopub.execute_input": "2024-04-15T10:51:00.687805Z",
     "iopub.status.busy": "2024-04-15T10:51:00.686555Z",
     "iopub.status.idle": "2024-04-15T10:51:00.701538Z",
     "shell.execute_reply": "2024-04-15T10:51:00.700463Z",
     "shell.execute_reply.started": "2024-04-15T10:51:00.687742Z"
    }
   },
   "outputs": [],
   "source": [
    "X_test.to_csv(\"C:\\\\Users\\\\srita\\\\OneDrive\\\\Desktop\\\\internship\\\\model_13apr24_Xtest.csv\")"
   ]
  },
  {
   "cell_type": "code",
   "execution_count": null,
   "metadata": {},
   "outputs": [],
   "source": []
  },
  {
   "cell_type": "code",
   "execution_count": null,
   "metadata": {},
   "outputs": [],
   "source": []
  }
 ],
 "metadata": {
  "kaggle": {
   "accelerator": "none",
   "dataSources": [
    {
     "datasetId": 4776574,
     "sourceId": 8090645,
     "sourceType": "datasetVersion"
    }
   ],
   "dockerImageVersionId": 30684,
   "isGpuEnabled": false,
   "isInternetEnabled": true,
   "language": "python",
   "sourceType": "notebook"
  },
  "kernelspec": {
   "display_name": "Python 3 (ipykernel)",
   "language": "python",
   "name": "python3"
  },
  "language_info": {
   "codemirror_mode": {
    "name": "ipython",
    "version": 3
   },
   "file_extension": ".py",
   "mimetype": "text/x-python",
   "name": "python",
   "nbconvert_exporter": "python",
   "pygments_lexer": "ipython3",
   "version": "3.11.5"
  }
 },
 "nbformat": 4,
 "nbformat_minor": 4
}
