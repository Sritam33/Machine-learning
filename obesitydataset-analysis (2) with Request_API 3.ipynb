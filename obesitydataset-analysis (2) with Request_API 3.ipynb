{
 "cells": [
  {
   "cell_type": "code",
   "execution_count": 1,
   "id": "afa2579c",
   "metadata": {},
   "outputs": [
    {
     "name": "stdout",
     "output_type": "stream",
     "text": [
      "200\n",
      "[5]\n"
     ]
    }
   ],
   "source": [
    "import requests\n",
    "import json\n",
    "\n",
    "url=\"http://127.0.0.1:5000/get_pre/?age=1.739233&gender=0.0&height=0.984614&weight=-0.063280&calc=1.0&favc=0.0&fcvc=0.211682&ncp=-0.391945&scc=0.0&smoke=0.0&ch2o=-0.158451&family_history_with_overweight=-1.0&faf=0.686885&tue=-0.194607&caec=0.0&mtrans=-3.0\"\n",
    "\n",
    "response = requests.post(url=url)\n",
    "\n",
    "print(response.status_code)\n",
    "response_text = response.text\n",
    "d1=json.loads(response_text)\n",
    "print(d1)"
   ]
  },
  {
   "cell_type": "code",
   "execution_count": null,
   "id": "f8b03d65",
   "metadata": {},
   "outputs": [],
   "source": []
  }
 ],
 "metadata": {
  "kernelspec": {
   "display_name": "Python 3 (ipykernel)",
   "language": "python",
   "name": "python3"
  },
  "language_info": {
   "codemirror_mode": {
    "name": "ipython",
    "version": 3
   },
   "file_extension": ".py",
   "mimetype": "text/x-python",
   "name": "python",
   "nbconvert_exporter": "python",
   "pygments_lexer": "ipython3",
   "version": "3.11.5"
  }
 },
 "nbformat": 4,
 "nbformat_minor": 5
}
