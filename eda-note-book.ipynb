{
 "cells": [
  {
   "cell_type": "code",
   "execution_count": 1,
   "id": "ef905962",
   "metadata": {
    "_cell_guid": "b1076dfc-b9ad-4769-8c92-a6c4dae69d19",
    "_uuid": "8f2839f25d086af736a60e9eeb907d3b93b6e0e5",
    "execution": {
     "iopub.execute_input": "2023-12-20T18:05:20.066470Z",
     "iopub.status.busy": "2023-12-20T18:05:20.065735Z",
     "iopub.status.idle": "2023-12-20T18:05:20.080805Z",
     "shell.execute_reply": "2023-12-20T18:05:20.079614Z"
    },
    "papermill": {
     "duration": 0.04942,
     "end_time": "2023-12-20T18:05:20.083327",
     "exception": false,
     "start_time": "2023-12-20T18:05:20.033907",
     "status": "completed"
    },
    "tags": []
   },
   "outputs": [
    {
     "data": {
      "text/plain": [
       "'\\niteration 1\\nEDA: exploratory data analysis- understanding what is the inside the data\\n1 read to the data print head\\n2 shape of the data\\n3 find information about the data\\n4 find the duplicate row, drop the duplicate rows\\n5 find the basic statistics of the comtinueous data columns\\n6 rename the columns\\n7 find the mising values\\n8 find the basic statistics of catagorical column\\n9 basic count analysis of catagoricaal columns\\n'"
      ]
     },
     "execution_count": 1,
     "metadata": {},
     "output_type": "execute_result"
    }
   ],
   "source": [
    "'''\n",
    "iteration 1\n",
    "EDA: exploratory data analysis- understanding what is the inside the data\n",
    "1 read to the data print head\n",
    "2 shape of the data\n",
    "3 find information about the data\n",
    "4 find the duplicate row, drop the duplicate rows\n",
    "5 find the basic statistics of the comtinueous data columns\n",
    "6 rename the columns\n",
    "7 find the mising values\n",
    "8 find the basic statistics of catagorical column\n",
    "9 basic count analysis of catagoricaal columns\n",
    "'''"
   ]
  },
  {
   "cell_type": "code",
   "execution_count": 2,
   "id": "a1121f77",
   "metadata": {
    "execution": {
     "iopub.execute_input": "2023-12-20T18:05:20.143969Z",
     "iopub.status.busy": "2023-12-20T18:05:20.143180Z",
     "iopub.status.idle": "2023-12-20T18:05:22.643347Z",
     "shell.execute_reply": "2023-12-20T18:05:22.642264Z"
    },
    "papermill": {
     "duration": 2.533312,
     "end_time": "2023-12-20T18:05:22.646318",
     "exception": false,
     "start_time": "2023-12-20T18:05:20.113006",
     "status": "completed"
    },
    "tags": []
   },
   "outputs": [],
   "source": [
    "import pandas as pd\n",
    "import matplotlib.pyplot as plt\n",
    "import seaborn as sns"
   ]
  },
  {
   "cell_type": "markdown",
   "id": "5a0eb05e",
   "metadata": {
    "papermill": {
     "duration": 0.028326,
     "end_time": "2023-12-20T18:05:22.704547",
     "exception": false,
     "start_time": "2023-12-20T18:05:22.676221",
     "status": "completed"
    },
    "tags": []
   },
   "source": [
    "data read"
   ]
  },
  {
   "cell_type": "markdown",
   "id": "5f33580b",
   "metadata": {
    "papermill": {
     "duration": 0.029719,
     "end_time": "2023-12-20T18:05:22.763233",
     "exception": false,
     "start_time": "2023-12-20T18:05:22.733514",
     "status": "completed"
    },
    "tags": []
   },
   "source": []
  },
  {
   "cell_type": "code",
   "execution_count": 3,
   "id": "5951f51b",
   "metadata": {
    "execution": {
     "iopub.execute_input": "2023-12-20T18:05:22.824657Z",
     "iopub.status.busy": "2023-12-20T18:05:22.824133Z",
     "iopub.status.idle": "2023-12-20T18:05:23.016981Z",
     "shell.execute_reply": "2023-12-20T18:05:23.015659Z"
    },
    "papermill": {
     "duration": 0.227356,
     "end_time": "2023-12-20T18:05:23.020345",
     "exception": false,
     "start_time": "2023-12-20T18:05:22.792989",
     "status": "completed"
    },
    "tags": []
   },
   "outputs": [],
   "source": [
    "df = pd.read_csv('/kaggle/input/eda-project-analyze-us-citizens/adult_eda.csv')"
   ]
  },
  {
   "cell_type": "code",
   "execution_count": 4,
   "id": "b6479caa",
   "metadata": {
    "execution": {
     "iopub.execute_input": "2023-12-20T18:05:23.146361Z",
     "iopub.status.busy": "2023-12-20T18:05:23.145317Z",
     "iopub.status.idle": "2023-12-20T18:05:23.176905Z",
     "shell.execute_reply": "2023-12-20T18:05:23.176024Z"
    },
    "papermill": {
     "duration": 0.06594,
     "end_time": "2023-12-20T18:05:23.179737",
     "exception": false,
     "start_time": "2023-12-20T18:05:23.113797",
     "status": "completed"
    },
    "tags": []
   },
   "outputs": [
    {
     "data": {
      "text/html": [
       "<div>\n",
       "<style scoped>\n",
       "    .dataframe tbody tr th:only-of-type {\n",
       "        vertical-align: middle;\n",
       "    }\n",
       "\n",
       "    .dataframe tbody tr th {\n",
       "        vertical-align: top;\n",
       "    }\n",
       "\n",
       "    .dataframe thead th {\n",
       "        text-align: right;\n",
       "    }\n",
       "</style>\n",
       "<table border=\"1\" class=\"dataframe\">\n",
       "  <thead>\n",
       "    <tr style=\"text-align: right;\">\n",
       "      <th></th>\n",
       "      <th>age</th>\n",
       "      <th>workclass</th>\n",
       "      <th>fnlwgt</th>\n",
       "      <th>education</th>\n",
       "      <th>education-num</th>\n",
       "      <th>marital-status</th>\n",
       "      <th>occupation</th>\n",
       "      <th>relationship</th>\n",
       "      <th>race</th>\n",
       "      <th>sex</th>\n",
       "      <th>capital-gain</th>\n",
       "      <th>capital-loss</th>\n",
       "      <th>hours-per-week</th>\n",
       "      <th>native-country</th>\n",
       "      <th>salary</th>\n",
       "    </tr>\n",
       "  </thead>\n",
       "  <tbody>\n",
       "    <tr>\n",
       "      <th>0</th>\n",
       "      <td>39</td>\n",
       "      <td>State-gov</td>\n",
       "      <td>77516</td>\n",
       "      <td>Bachelors</td>\n",
       "      <td>13.0</td>\n",
       "      <td>Never-married</td>\n",
       "      <td>Adm-clerical</td>\n",
       "      <td>Not-in-family</td>\n",
       "      <td>White</td>\n",
       "      <td>Male</td>\n",
       "      <td>2174</td>\n",
       "      <td>0</td>\n",
       "      <td>40</td>\n",
       "      <td>United-States</td>\n",
       "      <td>&lt;=50K</td>\n",
       "    </tr>\n",
       "    <tr>\n",
       "      <th>1</th>\n",
       "      <td>50</td>\n",
       "      <td>Self-emp-not-inc</td>\n",
       "      <td>83311</td>\n",
       "      <td>Bachelors</td>\n",
       "      <td>13.0</td>\n",
       "      <td>Married-civ-spouse</td>\n",
       "      <td>Exec-managerial</td>\n",
       "      <td>Husband</td>\n",
       "      <td>White</td>\n",
       "      <td>Male</td>\n",
       "      <td>0</td>\n",
       "      <td>0</td>\n",
       "      <td>13</td>\n",
       "      <td>United-States</td>\n",
       "      <td>&lt;=50K</td>\n",
       "    </tr>\n",
       "    <tr>\n",
       "      <th>2</th>\n",
       "      <td>38</td>\n",
       "      <td>Private</td>\n",
       "      <td>215646</td>\n",
       "      <td>HS-grad</td>\n",
       "      <td>9.0</td>\n",
       "      <td>Divorced</td>\n",
       "      <td>Handlers-cleaners</td>\n",
       "      <td>Not-in-family</td>\n",
       "      <td>White</td>\n",
       "      <td>Male</td>\n",
       "      <td>0</td>\n",
       "      <td>0</td>\n",
       "      <td>40</td>\n",
       "      <td>United-States</td>\n",
       "      <td>&lt;=50K</td>\n",
       "    </tr>\n",
       "    <tr>\n",
       "      <th>3</th>\n",
       "      <td>53</td>\n",
       "      <td>Private</td>\n",
       "      <td>234721</td>\n",
       "      <td>11th</td>\n",
       "      <td>7.0</td>\n",
       "      <td>Married-civ-spouse</td>\n",
       "      <td>Handlers-cleaners</td>\n",
       "      <td>Husband</td>\n",
       "      <td>Black</td>\n",
       "      <td>Male</td>\n",
       "      <td>0</td>\n",
       "      <td>0</td>\n",
       "      <td>40</td>\n",
       "      <td>United-States</td>\n",
       "      <td>&lt;=50K</td>\n",
       "    </tr>\n",
       "    <tr>\n",
       "      <th>4</th>\n",
       "      <td>28</td>\n",
       "      <td>Private</td>\n",
       "      <td>338409</td>\n",
       "      <td>Bachelors</td>\n",
       "      <td>13.0</td>\n",
       "      <td>Married-civ-spouse</td>\n",
       "      <td>Prof-specialty</td>\n",
       "      <td>Wife</td>\n",
       "      <td>Black</td>\n",
       "      <td>Female</td>\n",
       "      <td>0</td>\n",
       "      <td>0</td>\n",
       "      <td>40</td>\n",
       "      <td>Cuba</td>\n",
       "      <td>&lt;=50K</td>\n",
       "    </tr>\n",
       "  </tbody>\n",
       "</table>\n",
       "</div>"
      ],
      "text/plain": [
       "   age         workclass  fnlwgt  education  education-num  \\\n",
       "0   39         State-gov   77516  Bachelors           13.0   \n",
       "1   50  Self-emp-not-inc   83311  Bachelors           13.0   \n",
       "2   38           Private  215646    HS-grad            9.0   \n",
       "3   53           Private  234721       11th            7.0   \n",
       "4   28           Private  338409  Bachelors           13.0   \n",
       "\n",
       "       marital-status         occupation   relationship   race     sex  \\\n",
       "0       Never-married       Adm-clerical  Not-in-family  White    Male   \n",
       "1  Married-civ-spouse    Exec-managerial        Husband  White    Male   \n",
       "2            Divorced  Handlers-cleaners  Not-in-family  White    Male   \n",
       "3  Married-civ-spouse  Handlers-cleaners        Husband  Black    Male   \n",
       "4  Married-civ-spouse     Prof-specialty           Wife  Black  Female   \n",
       "\n",
       "   capital-gain  capital-loss  hours-per-week native-country salary  \n",
       "0          2174             0              40  United-States  <=50K  \n",
       "1             0             0              13  United-States  <=50K  \n",
       "2             0             0              40  United-States  <=50K  \n",
       "3             0             0              40  United-States  <=50K  \n",
       "4             0             0              40           Cuba  <=50K  "
      ]
     },
     "execution_count": 4,
     "metadata": {},
     "output_type": "execute_result"
    }
   ],
   "source": [
    "df.head()"
   ]
  },
  {
   "cell_type": "code",
   "execution_count": 5,
   "id": "2e9d2859",
   "metadata": {
    "execution": {
     "iopub.execute_input": "2023-12-20T18:05:23.241808Z",
     "iopub.status.busy": "2023-12-20T18:05:23.241347Z",
     "iopub.status.idle": "2023-12-20T18:05:23.248180Z",
     "shell.execute_reply": "2023-12-20T18:05:23.247057Z"
    },
    "papermill": {
     "duration": 0.04131,
     "end_time": "2023-12-20T18:05:23.250612",
     "exception": false,
     "start_time": "2023-12-20T18:05:23.209302",
     "status": "completed"
    },
    "tags": []
   },
   "outputs": [
    {
     "data": {
      "text/plain": [
       "(32561, 15)"
      ]
     },
     "execution_count": 5,
     "metadata": {},
     "output_type": "execute_result"
    }
   ],
   "source": [
    "df.shape"
   ]
  },
  {
   "cell_type": "code",
   "execution_count": 6,
   "id": "10fcdc17",
   "metadata": {
    "execution": {
     "iopub.execute_input": "2023-12-20T18:05:23.313207Z",
     "iopub.status.busy": "2023-12-20T18:05:23.312785Z",
     "iopub.status.idle": "2023-12-20T18:05:23.340045Z",
     "shell.execute_reply": "2023-12-20T18:05:23.338161Z"
    },
    "papermill": {
     "duration": 0.061838,
     "end_time": "2023-12-20T18:05:23.343408",
     "exception": false,
     "start_time": "2023-12-20T18:05:23.281570",
     "status": "completed"
    },
    "tags": []
   },
   "outputs": [
    {
     "data": {
      "text/plain": [
       "<bound method DataFrame.info of        age         workclass  fnlwgt   education  education-num  \\\n",
       "0       39         State-gov   77516   Bachelors           13.0   \n",
       "1       50  Self-emp-not-inc   83311   Bachelors           13.0   \n",
       "2       38           Private  215646     HS-grad            9.0   \n",
       "3       53           Private  234721        11th            7.0   \n",
       "4       28           Private  338409   Bachelors           13.0   \n",
       "...    ...               ...     ...         ...            ...   \n",
       "32556   27           Private  257302  Assoc-acdm           12.0   \n",
       "32557   40           Private  154374     HS-grad            9.0   \n",
       "32558   58           Private  151910     HS-grad            9.0   \n",
       "32559   22           Private  201490     HS-grad            9.0   \n",
       "32560   52      Self-emp-inc  287927     HS-grad            9.0   \n",
       "\n",
       "           marital-status         occupation   relationship   race     sex  \\\n",
       "0           Never-married       Adm-clerical  Not-in-family  White    Male   \n",
       "1      Married-civ-spouse    Exec-managerial        Husband  White    Male   \n",
       "2                Divorced  Handlers-cleaners  Not-in-family  White    Male   \n",
       "3      Married-civ-spouse  Handlers-cleaners        Husband  Black    Male   \n",
       "4      Married-civ-spouse     Prof-specialty           Wife  Black  Female   \n",
       "...                   ...                ...            ...    ...     ...   \n",
       "32556  Married-civ-spouse       Tech-support           Wife  White  Female   \n",
       "32557  Married-civ-spouse  Machine-op-inspct        Husband  White    Male   \n",
       "32558             Widowed       Adm-clerical      Unmarried  White  Female   \n",
       "32559       Never-married       Adm-clerical            NaN  White    Male   \n",
       "32560  Married-civ-spouse    Exec-managerial           Wife  White  Female   \n",
       "\n",
       "       capital-gain  capital-loss  hours-per-week native-country salary  \n",
       "0              2174             0              40  United-States  <=50K  \n",
       "1                 0             0              13  United-States  <=50K  \n",
       "2                 0             0              40  United-States  <=50K  \n",
       "3                 0             0              40  United-States  <=50K  \n",
       "4                 0             0              40           Cuba  <=50K  \n",
       "...             ...           ...             ...            ...    ...  \n",
       "32556             0             0              38  United-States  <=50K  \n",
       "32557             0             0              40  United-States   >50K  \n",
       "32558             0             0              40  United-States  <=50K  \n",
       "32559             0             0              20  United-States  <=50K  \n",
       "32560         15024             0              40  United-States   >50K  \n",
       "\n",
       "[32561 rows x 15 columns]>"
      ]
     },
     "execution_count": 6,
     "metadata": {},
     "output_type": "execute_result"
    }
   ],
   "source": [
    "df.info# object datatype is nothing but string data type "
   ]
  },
  {
   "cell_type": "code",
   "execution_count": 7,
   "id": "9b14ca6a",
   "metadata": {
    "execution": {
     "iopub.execute_input": "2023-12-20T18:05:23.417950Z",
     "iopub.status.busy": "2023-12-20T18:05:23.416805Z",
     "iopub.status.idle": "2023-12-20T18:05:23.485877Z",
     "shell.execute_reply": "2023-12-20T18:05:23.484974Z"
    },
    "papermill": {
     "duration": 0.104809,
     "end_time": "2023-12-20T18:05:23.489799",
     "exception": false,
     "start_time": "2023-12-20T18:05:23.384990",
     "status": "completed"
    },
    "tags": []
   },
   "outputs": [
    {
     "data": {
      "text/plain": [
       "False    32537\n",
       "True        24\n",
       "Name: count, dtype: int64"
      ]
     },
     "execution_count": 7,
     "metadata": {},
     "output_type": "execute_result"
    }
   ],
   "source": [
    "# finding the duplicate rows\n",
    "df.duplicated().value_counts()\n"
   ]
  },
  {
   "cell_type": "code",
   "execution_count": 8,
   "id": "8e15fc14",
   "metadata": {
    "execution": {
     "iopub.execute_input": "2023-12-20T18:05:23.566620Z",
     "iopub.status.busy": "2023-12-20T18:05:23.565655Z",
     "iopub.status.idle": "2023-12-20T18:05:23.640804Z",
     "shell.execute_reply": "2023-12-20T18:05:23.639564Z"
    },
    "papermill": {
     "duration": 0.114442,
     "end_time": "2023-12-20T18:05:23.643717",
     "exception": false,
     "start_time": "2023-12-20T18:05:23.529275",
     "status": "completed"
    },
    "tags": []
   },
   "outputs": [
    {
     "data": {
      "text/html": [
       "<div>\n",
       "<style scoped>\n",
       "    .dataframe tbody tr th:only-of-type {\n",
       "        vertical-align: middle;\n",
       "    }\n",
       "\n",
       "    .dataframe tbody tr th {\n",
       "        vertical-align: top;\n",
       "    }\n",
       "\n",
       "    .dataframe thead th {\n",
       "        text-align: right;\n",
       "    }\n",
       "</style>\n",
       "<table border=\"1\" class=\"dataframe\">\n",
       "  <thead>\n",
       "    <tr style=\"text-align: right;\">\n",
       "      <th></th>\n",
       "      <th>age</th>\n",
       "      <th>workclass</th>\n",
       "      <th>fnlwgt</th>\n",
       "      <th>education</th>\n",
       "      <th>education-num</th>\n",
       "      <th>marital-status</th>\n",
       "      <th>occupation</th>\n",
       "      <th>relationship</th>\n",
       "      <th>race</th>\n",
       "      <th>sex</th>\n",
       "      <th>capital-gain</th>\n",
       "      <th>capital-loss</th>\n",
       "      <th>hours-per-week</th>\n",
       "      <th>native-country</th>\n",
       "      <th>salary</th>\n",
       "    </tr>\n",
       "  </thead>\n",
       "  <tbody>\n",
       "    <tr>\n",
       "      <th>0</th>\n",
       "      <td>39</td>\n",
       "      <td>State-gov</td>\n",
       "      <td>77516</td>\n",
       "      <td>Bachelors</td>\n",
       "      <td>13.0</td>\n",
       "      <td>Never-married</td>\n",
       "      <td>Adm-clerical</td>\n",
       "      <td>Not-in-family</td>\n",
       "      <td>White</td>\n",
       "      <td>Male</td>\n",
       "      <td>2174</td>\n",
       "      <td>0</td>\n",
       "      <td>40</td>\n",
       "      <td>United-States</td>\n",
       "      <td>&lt;=50K</td>\n",
       "    </tr>\n",
       "    <tr>\n",
       "      <th>1</th>\n",
       "      <td>50</td>\n",
       "      <td>Self-emp-not-inc</td>\n",
       "      <td>83311</td>\n",
       "      <td>Bachelors</td>\n",
       "      <td>13.0</td>\n",
       "      <td>Married-civ-spouse</td>\n",
       "      <td>Exec-managerial</td>\n",
       "      <td>Husband</td>\n",
       "      <td>White</td>\n",
       "      <td>Male</td>\n",
       "      <td>0</td>\n",
       "      <td>0</td>\n",
       "      <td>13</td>\n",
       "      <td>United-States</td>\n",
       "      <td>&lt;=50K</td>\n",
       "    </tr>\n",
       "    <tr>\n",
       "      <th>2</th>\n",
       "      <td>38</td>\n",
       "      <td>Private</td>\n",
       "      <td>215646</td>\n",
       "      <td>HS-grad</td>\n",
       "      <td>9.0</td>\n",
       "      <td>Divorced</td>\n",
       "      <td>Handlers-cleaners</td>\n",
       "      <td>Not-in-family</td>\n",
       "      <td>White</td>\n",
       "      <td>Male</td>\n",
       "      <td>0</td>\n",
       "      <td>0</td>\n",
       "      <td>40</td>\n",
       "      <td>United-States</td>\n",
       "      <td>&lt;=50K</td>\n",
       "    </tr>\n",
       "    <tr>\n",
       "      <th>3</th>\n",
       "      <td>53</td>\n",
       "      <td>Private</td>\n",
       "      <td>234721</td>\n",
       "      <td>11th</td>\n",
       "      <td>7.0</td>\n",
       "      <td>Married-civ-spouse</td>\n",
       "      <td>Handlers-cleaners</td>\n",
       "      <td>Husband</td>\n",
       "      <td>Black</td>\n",
       "      <td>Male</td>\n",
       "      <td>0</td>\n",
       "      <td>0</td>\n",
       "      <td>40</td>\n",
       "      <td>United-States</td>\n",
       "      <td>&lt;=50K</td>\n",
       "    </tr>\n",
       "    <tr>\n",
       "      <th>4</th>\n",
       "      <td>28</td>\n",
       "      <td>Private</td>\n",
       "      <td>338409</td>\n",
       "      <td>Bachelors</td>\n",
       "      <td>13.0</td>\n",
       "      <td>Married-civ-spouse</td>\n",
       "      <td>Prof-specialty</td>\n",
       "      <td>Wife</td>\n",
       "      <td>Black</td>\n",
       "      <td>Female</td>\n",
       "      <td>0</td>\n",
       "      <td>0</td>\n",
       "      <td>40</td>\n",
       "      <td>Cuba</td>\n",
       "      <td>&lt;=50K</td>\n",
       "    </tr>\n",
       "    <tr>\n",
       "      <th>...</th>\n",
       "      <td>...</td>\n",
       "      <td>...</td>\n",
       "      <td>...</td>\n",
       "      <td>...</td>\n",
       "      <td>...</td>\n",
       "      <td>...</td>\n",
       "      <td>...</td>\n",
       "      <td>...</td>\n",
       "      <td>...</td>\n",
       "      <td>...</td>\n",
       "      <td>...</td>\n",
       "      <td>...</td>\n",
       "      <td>...</td>\n",
       "      <td>...</td>\n",
       "      <td>...</td>\n",
       "    </tr>\n",
       "    <tr>\n",
       "      <th>32556</th>\n",
       "      <td>27</td>\n",
       "      <td>Private</td>\n",
       "      <td>257302</td>\n",
       "      <td>Assoc-acdm</td>\n",
       "      <td>12.0</td>\n",
       "      <td>Married-civ-spouse</td>\n",
       "      <td>Tech-support</td>\n",
       "      <td>Wife</td>\n",
       "      <td>White</td>\n",
       "      <td>Female</td>\n",
       "      <td>0</td>\n",
       "      <td>0</td>\n",
       "      <td>38</td>\n",
       "      <td>United-States</td>\n",
       "      <td>&lt;=50K</td>\n",
       "    </tr>\n",
       "    <tr>\n",
       "      <th>32557</th>\n",
       "      <td>40</td>\n",
       "      <td>Private</td>\n",
       "      <td>154374</td>\n",
       "      <td>HS-grad</td>\n",
       "      <td>9.0</td>\n",
       "      <td>Married-civ-spouse</td>\n",
       "      <td>Machine-op-inspct</td>\n",
       "      <td>Husband</td>\n",
       "      <td>White</td>\n",
       "      <td>Male</td>\n",
       "      <td>0</td>\n",
       "      <td>0</td>\n",
       "      <td>40</td>\n",
       "      <td>United-States</td>\n",
       "      <td>&gt;50K</td>\n",
       "    </tr>\n",
       "    <tr>\n",
       "      <th>32558</th>\n",
       "      <td>58</td>\n",
       "      <td>Private</td>\n",
       "      <td>151910</td>\n",
       "      <td>HS-grad</td>\n",
       "      <td>9.0</td>\n",
       "      <td>Widowed</td>\n",
       "      <td>Adm-clerical</td>\n",
       "      <td>Unmarried</td>\n",
       "      <td>White</td>\n",
       "      <td>Female</td>\n",
       "      <td>0</td>\n",
       "      <td>0</td>\n",
       "      <td>40</td>\n",
       "      <td>United-States</td>\n",
       "      <td>&lt;=50K</td>\n",
       "    </tr>\n",
       "    <tr>\n",
       "      <th>32559</th>\n",
       "      <td>22</td>\n",
       "      <td>Private</td>\n",
       "      <td>201490</td>\n",
       "      <td>HS-grad</td>\n",
       "      <td>9.0</td>\n",
       "      <td>Never-married</td>\n",
       "      <td>Adm-clerical</td>\n",
       "      <td>NaN</td>\n",
       "      <td>White</td>\n",
       "      <td>Male</td>\n",
       "      <td>0</td>\n",
       "      <td>0</td>\n",
       "      <td>20</td>\n",
       "      <td>United-States</td>\n",
       "      <td>&lt;=50K</td>\n",
       "    </tr>\n",
       "    <tr>\n",
       "      <th>32560</th>\n",
       "      <td>52</td>\n",
       "      <td>Self-emp-inc</td>\n",
       "      <td>287927</td>\n",
       "      <td>HS-grad</td>\n",
       "      <td>9.0</td>\n",
       "      <td>Married-civ-spouse</td>\n",
       "      <td>Exec-managerial</td>\n",
       "      <td>Wife</td>\n",
       "      <td>White</td>\n",
       "      <td>Female</td>\n",
       "      <td>15024</td>\n",
       "      <td>0</td>\n",
       "      <td>40</td>\n",
       "      <td>United-States</td>\n",
       "      <td>&gt;50K</td>\n",
       "    </tr>\n",
       "  </tbody>\n",
       "</table>\n",
       "<p>32537 rows × 15 columns</p>\n",
       "</div>"
      ],
      "text/plain": [
       "       age         workclass  fnlwgt   education  education-num  \\\n",
       "0       39         State-gov   77516   Bachelors           13.0   \n",
       "1       50  Self-emp-not-inc   83311   Bachelors           13.0   \n",
       "2       38           Private  215646     HS-grad            9.0   \n",
       "3       53           Private  234721        11th            7.0   \n",
       "4       28           Private  338409   Bachelors           13.0   \n",
       "...    ...               ...     ...         ...            ...   \n",
       "32556   27           Private  257302  Assoc-acdm           12.0   \n",
       "32557   40           Private  154374     HS-grad            9.0   \n",
       "32558   58           Private  151910     HS-grad            9.0   \n",
       "32559   22           Private  201490     HS-grad            9.0   \n",
       "32560   52      Self-emp-inc  287927     HS-grad            9.0   \n",
       "\n",
       "           marital-status         occupation   relationship   race     sex  \\\n",
       "0           Never-married       Adm-clerical  Not-in-family  White    Male   \n",
       "1      Married-civ-spouse    Exec-managerial        Husband  White    Male   \n",
       "2                Divorced  Handlers-cleaners  Not-in-family  White    Male   \n",
       "3      Married-civ-spouse  Handlers-cleaners        Husband  Black    Male   \n",
       "4      Married-civ-spouse     Prof-specialty           Wife  Black  Female   \n",
       "...                   ...                ...            ...    ...     ...   \n",
       "32556  Married-civ-spouse       Tech-support           Wife  White  Female   \n",
       "32557  Married-civ-spouse  Machine-op-inspct        Husband  White    Male   \n",
       "32558             Widowed       Adm-clerical      Unmarried  White  Female   \n",
       "32559       Never-married       Adm-clerical            NaN  White    Male   \n",
       "32560  Married-civ-spouse    Exec-managerial           Wife  White  Female   \n",
       "\n",
       "       capital-gain  capital-loss  hours-per-week native-country salary  \n",
       "0              2174             0              40  United-States  <=50K  \n",
       "1                 0             0              13  United-States  <=50K  \n",
       "2                 0             0              40  United-States  <=50K  \n",
       "3                 0             0              40  United-States  <=50K  \n",
       "4                 0             0              40           Cuba  <=50K  \n",
       "...             ...           ...             ...            ...    ...  \n",
       "32556             0             0              38  United-States  <=50K  \n",
       "32557             0             0              40  United-States   >50K  \n",
       "32558             0             0              40  United-States  <=50K  \n",
       "32559             0             0              20  United-States  <=50K  \n",
       "32560         15024             0              40  United-States   >50K  \n",
       "\n",
       "[32537 rows x 15 columns]"
      ]
     },
     "execution_count": 8,
     "metadata": {},
     "output_type": "execute_result"
    }
   ],
   "source": [
    "# drop the duplicate rows\n",
    "df = df.drop_duplicates()\n",
    "df"
   ]
  },
  {
   "cell_type": "code",
   "execution_count": 9,
   "id": "21fb5771",
   "metadata": {
    "execution": {
     "iopub.execute_input": "2023-12-20T18:05:23.707369Z",
     "iopub.status.busy": "2023-12-20T18:05:23.706939Z",
     "iopub.status.idle": "2023-12-20T18:05:23.747918Z",
     "shell.execute_reply": "2023-12-20T18:05:23.746036Z"
    },
    "papermill": {
     "duration": 0.076814,
     "end_time": "2023-12-20T18:05:23.751386",
     "exception": false,
     "start_time": "2023-12-20T18:05:23.674572",
     "status": "completed"
    },
    "tags": []
   },
   "outputs": [
    {
     "data": {
      "text/html": [
       "<div>\n",
       "<style scoped>\n",
       "    .dataframe tbody tr th:only-of-type {\n",
       "        vertical-align: middle;\n",
       "    }\n",
       "\n",
       "    .dataframe tbody tr th {\n",
       "        vertical-align: top;\n",
       "    }\n",
       "\n",
       "    .dataframe thead th {\n",
       "        text-align: right;\n",
       "    }\n",
       "</style>\n",
       "<table border=\"1\" class=\"dataframe\">\n",
       "  <thead>\n",
       "    <tr style=\"text-align: right;\">\n",
       "      <th></th>\n",
       "      <th>age</th>\n",
       "      <th>fnlwgt</th>\n",
       "      <th>education-num</th>\n",
       "      <th>capital-gain</th>\n",
       "      <th>capital-loss</th>\n",
       "      <th>hours-per-week</th>\n",
       "    </tr>\n",
       "  </thead>\n",
       "  <tbody>\n",
       "    <tr>\n",
       "      <th>count</th>\n",
       "      <td>32537.000000</td>\n",
       "      <td>3.253700e+04</td>\n",
       "      <td>31735.000000</td>\n",
       "      <td>32537.000000</td>\n",
       "      <td>32537.000000</td>\n",
       "      <td>32537.000000</td>\n",
       "    </tr>\n",
       "    <tr>\n",
       "      <th>mean</th>\n",
       "      <td>38.585549</td>\n",
       "      <td>1.897808e+05</td>\n",
       "      <td>10.084008</td>\n",
       "      <td>1078.443741</td>\n",
       "      <td>87.368227</td>\n",
       "      <td>40.440329</td>\n",
       "    </tr>\n",
       "    <tr>\n",
       "      <th>std</th>\n",
       "      <td>13.637984</td>\n",
       "      <td>1.055565e+05</td>\n",
       "      <td>2.575060</td>\n",
       "      <td>7387.957424</td>\n",
       "      <td>403.101833</td>\n",
       "      <td>12.346889</td>\n",
       "    </tr>\n",
       "    <tr>\n",
       "      <th>min</th>\n",
       "      <td>17.000000</td>\n",
       "      <td>1.228500e+04</td>\n",
       "      <td>1.000000</td>\n",
       "      <td>0.000000</td>\n",
       "      <td>0.000000</td>\n",
       "      <td>1.000000</td>\n",
       "    </tr>\n",
       "    <tr>\n",
       "      <th>25%</th>\n",
       "      <td>28.000000</td>\n",
       "      <td>1.178270e+05</td>\n",
       "      <td>9.000000</td>\n",
       "      <td>0.000000</td>\n",
       "      <td>0.000000</td>\n",
       "      <td>40.000000</td>\n",
       "    </tr>\n",
       "    <tr>\n",
       "      <th>50%</th>\n",
       "      <td>37.000000</td>\n",
       "      <td>1.783560e+05</td>\n",
       "      <td>10.000000</td>\n",
       "      <td>0.000000</td>\n",
       "      <td>0.000000</td>\n",
       "      <td>40.000000</td>\n",
       "    </tr>\n",
       "    <tr>\n",
       "      <th>75%</th>\n",
       "      <td>48.000000</td>\n",
       "      <td>2.369930e+05</td>\n",
       "      <td>12.000000</td>\n",
       "      <td>0.000000</td>\n",
       "      <td>0.000000</td>\n",
       "      <td>45.000000</td>\n",
       "    </tr>\n",
       "    <tr>\n",
       "      <th>max</th>\n",
       "      <td>90.000000</td>\n",
       "      <td>1.484705e+06</td>\n",
       "      <td>16.000000</td>\n",
       "      <td>99999.000000</td>\n",
       "      <td>4356.000000</td>\n",
       "      <td>99.000000</td>\n",
       "    </tr>\n",
       "  </tbody>\n",
       "</table>\n",
       "</div>"
      ],
      "text/plain": [
       "                age        fnlwgt  education-num  capital-gain  capital-loss  \\\n",
       "count  32537.000000  3.253700e+04   31735.000000  32537.000000  32537.000000   \n",
       "mean      38.585549  1.897808e+05      10.084008   1078.443741     87.368227   \n",
       "std       13.637984  1.055565e+05       2.575060   7387.957424    403.101833   \n",
       "min       17.000000  1.228500e+04       1.000000      0.000000      0.000000   \n",
       "25%       28.000000  1.178270e+05       9.000000      0.000000      0.000000   \n",
       "50%       37.000000  1.783560e+05      10.000000      0.000000      0.000000   \n",
       "75%       48.000000  2.369930e+05      12.000000      0.000000      0.000000   \n",
       "max       90.000000  1.484705e+06      16.000000  99999.000000   4356.000000   \n",
       "\n",
       "       hours-per-week  \n",
       "count    32537.000000  \n",
       "mean        40.440329  \n",
       "std         12.346889  \n",
       "min          1.000000  \n",
       "25%         40.000000  \n",
       "50%         40.000000  \n",
       "75%         45.000000  \n",
       "max         99.000000  "
      ]
     },
     "execution_count": 9,
     "metadata": {},
     "output_type": "execute_result"
    }
   ],
   "source": [
    "df.describe()"
   ]
  },
  {
   "cell_type": "code",
   "execution_count": 10,
   "id": "705f2187",
   "metadata": {
    "execution": {
     "iopub.execute_input": "2023-12-20T18:05:23.833731Z",
     "iopub.status.busy": "2023-12-20T18:05:23.832860Z",
     "iopub.status.idle": "2023-12-20T18:05:23.882538Z",
     "shell.execute_reply": "2023-12-20T18:05:23.881328Z"
    },
    "papermill": {
     "duration": 0.089598,
     "end_time": "2023-12-20T18:05:23.885289",
     "exception": false,
     "start_time": "2023-12-20T18:05:23.795691",
     "status": "completed"
    },
    "tags": []
   },
   "outputs": [
    {
     "data": {
      "text/plain": [
       "False    32537\n",
       "Name: count, dtype: int64"
      ]
     },
     "execution_count": 10,
     "metadata": {},
     "output_type": "execute_result"
    }
   ],
   "source": [
    "# check the data set have any duplicaate\n",
    "df.duplicated().value_counts()"
   ]
  },
  {
   "cell_type": "code",
   "execution_count": 11,
   "id": "03925a8a",
   "metadata": {
    "execution": {
     "iopub.execute_input": "2023-12-20T18:05:23.949982Z",
     "iopub.status.busy": "2023-12-20T18:05:23.949585Z",
     "iopub.status.idle": "2023-12-20T18:05:23.995953Z",
     "shell.execute_reply": "2023-12-20T18:05:23.994662Z"
    },
    "papermill": {
     "duration": 0.082201,
     "end_time": "2023-12-20T18:05:23.998791",
     "exception": false,
     "start_time": "2023-12-20T18:05:23.916590",
     "status": "completed"
    },
    "tags": []
   },
   "outputs": [],
   "source": [
    "# drop duplicates\n",
    "df = df.drop_duplicates()"
   ]
  },
  {
   "cell_type": "code",
   "execution_count": 12,
   "id": "8a16d111",
   "metadata": {
    "execution": {
     "iopub.execute_input": "2023-12-20T18:05:24.062513Z",
     "iopub.status.busy": "2023-12-20T18:05:24.062134Z",
     "iopub.status.idle": "2023-12-20T18:05:24.068925Z",
     "shell.execute_reply": "2023-12-20T18:05:24.067748Z"
    },
    "papermill": {
     "duration": 0.041756,
     "end_time": "2023-12-20T18:05:24.071598",
     "exception": false,
     "start_time": "2023-12-20T18:05:24.029842",
     "status": "completed"
    },
    "tags": []
   },
   "outputs": [
    {
     "data": {
      "text/plain": [
       "(32537, 15)"
      ]
     },
     "execution_count": 12,
     "metadata": {},
     "output_type": "execute_result"
    }
   ],
   "source": [
    "df.shape"
   ]
  },
  {
   "cell_type": "code",
   "execution_count": 13,
   "id": "57ef346f",
   "metadata": {
    "execution": {
     "iopub.execute_input": "2023-12-20T18:05:24.135427Z",
     "iopub.status.busy": "2023-12-20T18:05:24.135056Z",
     "iopub.status.idle": "2023-12-20T18:05:24.176422Z",
     "shell.execute_reply": "2023-12-20T18:05:24.175261Z"
    },
    "papermill": {
     "duration": 0.076482,
     "end_time": "2023-12-20T18:05:24.178985",
     "exception": false,
     "start_time": "2023-12-20T18:05:24.102503",
     "status": "completed"
    },
    "tags": []
   },
   "outputs": [
    {
     "data": {
      "text/html": [
       "<div>\n",
       "<style scoped>\n",
       "    .dataframe tbody tr th:only-of-type {\n",
       "        vertical-align: middle;\n",
       "    }\n",
       "\n",
       "    .dataframe tbody tr th {\n",
       "        vertical-align: top;\n",
       "    }\n",
       "\n",
       "    .dataframe thead th {\n",
       "        text-align: right;\n",
       "    }\n",
       "</style>\n",
       "<table border=\"1\" class=\"dataframe\">\n",
       "  <thead>\n",
       "    <tr style=\"text-align: right;\">\n",
       "      <th></th>\n",
       "      <th>count</th>\n",
       "      <th>mean</th>\n",
       "      <th>std</th>\n",
       "      <th>min</th>\n",
       "      <th>25%</th>\n",
       "      <th>50%</th>\n",
       "      <th>75%</th>\n",
       "      <th>max</th>\n",
       "    </tr>\n",
       "  </thead>\n",
       "  <tbody>\n",
       "    <tr>\n",
       "      <th>age</th>\n",
       "      <td>32537.0</td>\n",
       "      <td>38.585549</td>\n",
       "      <td>13.637984</td>\n",
       "      <td>17.0</td>\n",
       "      <td>28.0</td>\n",
       "      <td>37.0</td>\n",
       "      <td>48.0</td>\n",
       "      <td>90.0</td>\n",
       "    </tr>\n",
       "    <tr>\n",
       "      <th>fnlwgt</th>\n",
       "      <td>32537.0</td>\n",
       "      <td>189780.848511</td>\n",
       "      <td>105556.471009</td>\n",
       "      <td>12285.0</td>\n",
       "      <td>117827.0</td>\n",
       "      <td>178356.0</td>\n",
       "      <td>236993.0</td>\n",
       "      <td>1484705.0</td>\n",
       "    </tr>\n",
       "    <tr>\n",
       "      <th>education-num</th>\n",
       "      <td>31735.0</td>\n",
       "      <td>10.084008</td>\n",
       "      <td>2.575060</td>\n",
       "      <td>1.0</td>\n",
       "      <td>9.0</td>\n",
       "      <td>10.0</td>\n",
       "      <td>12.0</td>\n",
       "      <td>16.0</td>\n",
       "    </tr>\n",
       "    <tr>\n",
       "      <th>capital-gain</th>\n",
       "      <td>32537.0</td>\n",
       "      <td>1078.443741</td>\n",
       "      <td>7387.957424</td>\n",
       "      <td>0.0</td>\n",
       "      <td>0.0</td>\n",
       "      <td>0.0</td>\n",
       "      <td>0.0</td>\n",
       "      <td>99999.0</td>\n",
       "    </tr>\n",
       "    <tr>\n",
       "      <th>capital-loss</th>\n",
       "      <td>32537.0</td>\n",
       "      <td>87.368227</td>\n",
       "      <td>403.101833</td>\n",
       "      <td>0.0</td>\n",
       "      <td>0.0</td>\n",
       "      <td>0.0</td>\n",
       "      <td>0.0</td>\n",
       "      <td>4356.0</td>\n",
       "    </tr>\n",
       "    <tr>\n",
       "      <th>hours-per-week</th>\n",
       "      <td>32537.0</td>\n",
       "      <td>40.440329</td>\n",
       "      <td>12.346889</td>\n",
       "      <td>1.0</td>\n",
       "      <td>40.0</td>\n",
       "      <td>40.0</td>\n",
       "      <td>45.0</td>\n",
       "      <td>99.0</td>\n",
       "    </tr>\n",
       "  </tbody>\n",
       "</table>\n",
       "</div>"
      ],
      "text/plain": [
       "                  count           mean            std      min       25%  \\\n",
       "age             32537.0      38.585549      13.637984     17.0      28.0   \n",
       "fnlwgt          32537.0  189780.848511  105556.471009  12285.0  117827.0   \n",
       "education-num   31735.0      10.084008       2.575060      1.0       9.0   \n",
       "capital-gain    32537.0    1078.443741    7387.957424      0.0       0.0   \n",
       "capital-loss    32537.0      87.368227     403.101833      0.0       0.0   \n",
       "hours-per-week  32537.0      40.440329      12.346889      1.0      40.0   \n",
       "\n",
       "                     50%       75%        max  \n",
       "age                 37.0      48.0       90.0  \n",
       "fnlwgt          178356.0  236993.0  1484705.0  \n",
       "education-num       10.0      12.0       16.0  \n",
       "capital-gain         0.0       0.0    99999.0  \n",
       "capital-loss         0.0       0.0     4356.0  \n",
       "hours-per-week      40.0      45.0       99.0  "
      ]
     },
     "execution_count": 13,
     "metadata": {},
     "output_type": "execute_result"
    }
   ],
   "source": [
    "df.describe().T"
   ]
  },
  {
   "cell_type": "code",
   "execution_count": 14,
   "id": "247a6980",
   "metadata": {
    "execution": {
     "iopub.execute_input": "2023-12-20T18:05:24.244204Z",
     "iopub.status.busy": "2023-12-20T18:05:24.243835Z",
     "iopub.status.idle": "2023-12-20T18:05:24.251907Z",
     "shell.execute_reply": "2023-12-20T18:05:24.250762Z"
    },
    "papermill": {
     "duration": 0.044386,
     "end_time": "2023-12-20T18:05:24.254623",
     "exception": false,
     "start_time": "2023-12-20T18:05:24.210237",
     "status": "completed"
    },
    "tags": []
   },
   "outputs": [
    {
     "data": {
      "text/plain": [
       "Index(['age', 'workclass', 'fnlwgt', 'education', 'education_num',\n",
       "       'marital_status', 'occupation', 'relationship', 'race', 'sex',\n",
       "       'capital_gain', 'capital_loss', 'hours_per_week', 'native_country',\n",
       "       'salary'],\n",
       "      dtype='object')"
      ]
     },
     "execution_count": 14,
     "metadata": {},
     "output_type": "execute_result"
    }
   ],
   "source": [
    "# rename the columns -- replacing - with _\n",
    "df.columns = df.columns.str.replace(\"-\",\"_\")\n",
    "df.columns"
   ]
  },
  {
   "cell_type": "code",
   "execution_count": 15,
   "id": "8f029df9",
   "metadata": {
    "execution": {
     "iopub.execute_input": "2023-12-20T18:05:24.320001Z",
     "iopub.status.busy": "2023-12-20T18:05:24.319563Z",
     "iopub.status.idle": "2023-12-20T18:05:24.337538Z",
     "shell.execute_reply": "2023-12-20T18:05:24.336654Z"
    },
    "papermill": {
     "duration": 0.0533,
     "end_time": "2023-12-20T18:05:24.339945",
     "exception": false,
     "start_time": "2023-12-20T18:05:24.286645",
     "status": "completed"
    },
    "tags": []
   },
   "outputs": [
    {
     "data": {
      "text/html": [
       "<div>\n",
       "<style scoped>\n",
       "    .dataframe tbody tr th:only-of-type {\n",
       "        vertical-align: middle;\n",
       "    }\n",
       "\n",
       "    .dataframe tbody tr th {\n",
       "        vertical-align: top;\n",
       "    }\n",
       "\n",
       "    .dataframe thead th {\n",
       "        text-align: right;\n",
       "    }\n",
       "</style>\n",
       "<table border=\"1\" class=\"dataframe\">\n",
       "  <thead>\n",
       "    <tr style=\"text-align: right;\">\n",
       "      <th></th>\n",
       "      <th>age</th>\n",
       "      <th>workclass</th>\n",
       "      <th>fnlwgt</th>\n",
       "      <th>education</th>\n",
       "      <th>education_num</th>\n",
       "      <th>marital_status</th>\n",
       "      <th>occupation</th>\n",
       "      <th>relationship</th>\n",
       "      <th>race</th>\n",
       "      <th>sex</th>\n",
       "      <th>capital_gain</th>\n",
       "      <th>capital_loss</th>\n",
       "      <th>hours_per_week</th>\n",
       "      <th>native_country</th>\n",
       "      <th>salary</th>\n",
       "    </tr>\n",
       "  </thead>\n",
       "  <tbody>\n",
       "    <tr>\n",
       "      <th>0</th>\n",
       "      <td>39</td>\n",
       "      <td>State-gov</td>\n",
       "      <td>77516</td>\n",
       "      <td>Bachelors</td>\n",
       "      <td>13.0</td>\n",
       "      <td>Never-married</td>\n",
       "      <td>Adm-clerical</td>\n",
       "      <td>Not-in-family</td>\n",
       "      <td>White</td>\n",
       "      <td>Male</td>\n",
       "      <td>2174</td>\n",
       "      <td>0</td>\n",
       "      <td>40</td>\n",
       "      <td>United-States</td>\n",
       "      <td>&lt;=50K</td>\n",
       "    </tr>\n",
       "    <tr>\n",
       "      <th>1</th>\n",
       "      <td>50</td>\n",
       "      <td>Self-emp-not-inc</td>\n",
       "      <td>83311</td>\n",
       "      <td>Bachelors</td>\n",
       "      <td>13.0</td>\n",
       "      <td>Married-civ-spouse</td>\n",
       "      <td>Exec-managerial</td>\n",
       "      <td>Husband</td>\n",
       "      <td>White</td>\n",
       "      <td>Male</td>\n",
       "      <td>0</td>\n",
       "      <td>0</td>\n",
       "      <td>13</td>\n",
       "      <td>United-States</td>\n",
       "      <td>&lt;=50K</td>\n",
       "    </tr>\n",
       "  </tbody>\n",
       "</table>\n",
       "</div>"
      ],
      "text/plain": [
       "   age         workclass  fnlwgt  education  education_num  \\\n",
       "0   39         State-gov   77516  Bachelors           13.0   \n",
       "1   50  Self-emp-not-inc   83311  Bachelors           13.0   \n",
       "\n",
       "       marital_status       occupation   relationship   race   sex  \\\n",
       "0       Never-married     Adm-clerical  Not-in-family  White  Male   \n",
       "1  Married-civ-spouse  Exec-managerial        Husband  White  Male   \n",
       "\n",
       "   capital_gain  capital_loss  hours_per_week native_country salary  \n",
       "0          2174             0              40  United-States  <=50K  \n",
       "1             0             0              13  United-States  <=50K  "
      ]
     },
     "execution_count": 15,
     "metadata": {},
     "output_type": "execute_result"
    }
   ],
   "source": [
    "df.head(2)"
   ]
  },
  {
   "cell_type": "code",
   "execution_count": 16,
   "id": "c9f3473b",
   "metadata": {
    "execution": {
     "iopub.execute_input": "2023-12-20T18:05:24.406968Z",
     "iopub.status.busy": "2023-12-20T18:05:24.406587Z",
     "iopub.status.idle": "2023-12-20T18:05:24.445392Z",
     "shell.execute_reply": "2023-12-20T18:05:24.444238Z"
    },
    "papermill": {
     "duration": 0.075666,
     "end_time": "2023-12-20T18:05:24.447915",
     "exception": false,
     "start_time": "2023-12-20T18:05:24.372249",
     "status": "completed"
    },
    "tags": []
   },
   "outputs": [
    {
     "data": {
      "text/plain": [
       "age                  0\n",
       "workclass            0\n",
       "fnlwgt               0\n",
       "education            0\n",
       "education_num      802\n",
       "marital_status       0\n",
       "occupation           0\n",
       "relationship      5064\n",
       "race                 0\n",
       "sex                  0\n",
       "capital_gain         0\n",
       "capital_loss         0\n",
       "hours_per_week       0\n",
       "native_country       0\n",
       "salary               0\n",
       "dtype: int64"
      ]
     },
     "execution_count": 16,
     "metadata": {},
     "output_type": "execute_result"
    }
   ],
   "source": [
    "# check the sum of missing values per column\n",
    "df.isnull().sum()"
   ]
  },
  {
   "cell_type": "code",
   "execution_count": 17,
   "id": "96c8eae3",
   "metadata": {
    "execution": {
     "iopub.execute_input": "2023-12-20T18:05:24.515882Z",
     "iopub.status.busy": "2023-12-20T18:05:24.515460Z",
     "iopub.status.idle": "2023-12-20T18:05:24.557462Z",
     "shell.execute_reply": "2023-12-20T18:05:24.556293Z"
    },
    "papermill": {
     "duration": 0.078462,
     "end_time": "2023-12-20T18:05:24.560023",
     "exception": false,
     "start_time": "2023-12-20T18:05:24.481561",
     "status": "completed"
    },
    "tags": []
   },
   "outputs": [
    {
     "data": {
      "text/plain": [
       "age                0.000000\n",
       "workclass          0.000000\n",
       "fnlwgt             0.000000\n",
       "education          0.000000\n",
       "education_num      2.464886\n",
       "marital_status     0.000000\n",
       "occupation         0.000000\n",
       "relationship      15.563820\n",
       "race               0.000000\n",
       "sex                0.000000\n",
       "capital_gain       0.000000\n",
       "capital_loss       0.000000\n",
       "hours_per_week     0.000000\n",
       "native_country     0.000000\n",
       "salary             0.000000\n",
       "dtype: float64"
      ]
     },
     "execution_count": 17,
     "metadata": {},
     "output_type": "execute_result"
    }
   ],
   "source": [
    "# check the percentage of missing values\n",
    "df.isnull().sum()/len(df)*100"
   ]
  },
  {
   "cell_type": "markdown",
   "id": "d61527a0",
   "metadata": {
    "papermill": {
     "duration": 0.032613,
     "end_time": "2023-12-20T18:05:24.625821",
     "exception": false,
     "start_time": "2023-12-20T18:05:24.593208",
     "status": "completed"
    },
    "tags": []
   },
   "source": [
    "*Look at the value counts of columns that have object datatype and detect strange values apart from the NAN values *"
   ]
  },
  {
   "cell_type": "code",
   "execution_count": 18,
   "id": "3b8a410d",
   "metadata": {
    "execution": {
     "iopub.execute_input": "2023-12-20T18:05:24.694051Z",
     "iopub.status.busy": "2023-12-20T18:05:24.693417Z",
     "iopub.status.idle": "2023-12-20T18:05:24.701421Z",
     "shell.execute_reply": "2023-12-20T18:05:24.700249Z"
    },
    "papermill": {
     "duration": 0.044927,
     "end_time": "2023-12-20T18:05:24.703694",
     "exception": false,
     "start_time": "2023-12-20T18:05:24.658767",
     "status": "completed"
    },
    "tags": []
   },
   "outputs": [
    {
     "data": {
      "text/plain": [
       "Index(['age', 'workclass', 'fnlwgt', 'education', 'education_num',\n",
       "       'marital_status', 'occupation', 'relationship', 'race', 'sex',\n",
       "       'capital_gain', 'capital_loss', 'hours_per_week', 'native_country',\n",
       "       'salary'],\n",
       "      dtype='object')"
      ]
     },
     "execution_count": 18,
     "metadata": {},
     "output_type": "execute_result"
    }
   ],
   "source": [
    "df.columns"
   ]
  },
  {
   "cell_type": "code",
   "execution_count": 19,
   "id": "5319895d",
   "metadata": {
    "execution": {
     "iopub.execute_input": "2023-12-20T18:05:24.770325Z",
     "iopub.status.busy": "2023-12-20T18:05:24.769933Z",
     "iopub.status.idle": "2023-12-20T18:05:24.946979Z",
     "shell.execute_reply": "2023-12-20T18:05:24.946179Z"
    },
    "papermill": {
     "duration": 0.21325,
     "end_time": "2023-12-20T18:05:24.949110",
     "exception": false,
     "start_time": "2023-12-20T18:05:24.735860",
     "status": "completed"
    },
    "tags": []
   },
   "outputs": [
    {
     "data": {
      "text/plain": [
       "'\\nout of 32,537 datapoints 22,673 data points have workclass as private\\n'"
      ]
     },
     "execution_count": 19,
     "metadata": {},
     "output_type": "execute_result"
    }
   ],
   "source": [
    "df.describe(include=\"object\")\n",
    "'''\n",
    "out of 32,537 datapoints 22,673 data points have workclass as private\n",
    "'''"
   ]
  },
  {
   "cell_type": "code",
   "execution_count": 20,
   "id": "def3ebfe",
   "metadata": {
    "execution": {
     "iopub.execute_input": "2023-12-20T18:05:25.015784Z",
     "iopub.status.busy": "2023-12-20T18:05:25.015369Z",
     "iopub.status.idle": "2023-12-20T18:05:25.021331Z",
     "shell.execute_reply": "2023-12-20T18:05:25.020129Z"
    },
    "papermill": {
     "duration": 0.042399,
     "end_time": "2023-12-20T18:05:25.023748",
     "exception": false,
     "start_time": "2023-12-20T18:05:24.981349",
     "status": "completed"
    },
    "tags": []
   },
   "outputs": [
    {
     "name": "stdout",
     "output_type": "stream",
     "text": [
      "Index(['age', 'workclass', 'fnlwgt', 'education', 'education_num',\n",
      "       'marital_status', 'occupation', 'relationship', 'race', 'sex',\n",
      "       'capital_gain', 'capital_loss', 'hours_per_week', 'native_country',\n",
      "       'salary'],\n",
      "      dtype='object')\n"
     ]
    }
   ],
   "source": [
    "print(df.columns)\n"
   ]
  },
  {
   "cell_type": "code",
   "execution_count": 21,
   "id": "0e7c25b2",
   "metadata": {
    "execution": {
     "iopub.execute_input": "2023-12-20T18:05:25.092866Z",
     "iopub.status.busy": "2023-12-20T18:05:25.091365Z",
     "iopub.status.idle": "2023-12-20T18:05:25.119496Z",
     "shell.execute_reply": "2023-12-20T18:05:25.118703Z"
    },
    "papermill": {
     "duration": 0.066009,
     "end_time": "2023-12-20T18:05:25.122207",
     "exception": false,
     "start_time": "2023-12-20T18:05:25.056198",
     "status": "completed"
    },
    "tags": []
   },
   "outputs": [
    {
     "name": "stdout",
     "output_type": "stream",
     "text": [
      "columns name : workclass\n",
      "workclass\n",
      "Private             22673\n",
      "Self-emp-not-inc     2540\n",
      "Local-gov            2093\n",
      "?                    1836\n",
      "State-gov            1298\n",
      "Self-emp-inc         1116\n",
      "Federal-gov           960\n",
      "Without-pay            14\n",
      "Never-worked            7\n",
      "Name: count, dtype: int64\n",
      "================\n",
      "columns name : education\n",
      "education\n",
      "HS-grad         10494\n",
      "Some-college     7282\n",
      "Bachelors        5353\n",
      "Masters          1722\n",
      "Assoc-voc        1382\n",
      "11th             1175\n",
      "Assoc-acdm       1067\n",
      "10th              933\n",
      "7th-8th           645\n",
      "Prof-school       576\n",
      "9th               514\n",
      "12th              433\n",
      "Doctorate         413\n",
      "5th-6th           332\n",
      "1st-4th           166\n",
      "Preschool          50\n",
      "Name: count, dtype: int64\n",
      "================\n",
      "columns name : marital_status\n",
      "marital_status\n",
      "Married-civ-spouse       14970\n",
      "Never-married            10667\n",
      "Divorced                  4441\n",
      "Separated                 1025\n",
      "Widowed                    993\n",
      "Married-spouse-absent      418\n",
      "Married-AF-spouse           23\n",
      "Name: count, dtype: int64\n",
      "================\n",
      "columns name : occupation\n",
      "occupation\n",
      "Prof-specialty       4136\n",
      "Craft-repair         4094\n",
      "Exec-managerial      4065\n",
      "Adm-clerical         3768\n",
      "Sales                3650\n",
      "Other-service        3291\n",
      "Machine-op-inspct    2000\n",
      "?                    1843\n",
      "Transport-moving     1597\n",
      "Handlers-cleaners    1369\n",
      "Farming-fishing       992\n",
      "Tech-support          927\n",
      "Protective-serv       649\n",
      "Priv-house-serv       147\n",
      "Armed-Forces            9\n",
      "Name: count, dtype: int64\n",
      "================\n",
      "columns name : relationship\n",
      "relationship\n",
      "Husband           13187\n",
      "Not-in-family      8292\n",
      "NaN                5064\n",
      "Unmarried          3445\n",
      "Wife               1568\n",
      "Other-relative      981\n",
      "Name: count, dtype: int64\n",
      "================\n",
      "columns name : race\n",
      "race\n",
      "White                 27795\n",
      "Black                  3122\n",
      "Asian-Pac-Islander     1038\n",
      "Amer-Indian-Eskimo      311\n",
      "Other                   271\n",
      "Name: count, dtype: int64\n",
      "================\n",
      "columns name : sex\n",
      "sex\n",
      "Male      21775\n",
      "Female    10762\n",
      "Name: count, dtype: int64\n",
      "================\n",
      "columns name : native_country\n",
      "native_country\n",
      "United-States                 29153\n",
      "Mexico                          639\n",
      "?                               582\n",
      "Philippines                     198\n",
      "Germany                         137\n",
      "Canada                          121\n",
      "Puerto-Rico                     114\n",
      "El-Salvador                     106\n",
      "India                           100\n",
      "Cuba                             95\n",
      "England                          90\n",
      "Jamaica                          81\n",
      "South                            80\n",
      "China                            75\n",
      "Italy                            73\n",
      "Dominican-Republic               70\n",
      "Vietnam                          67\n",
      "Japan                            62\n",
      "Guatemala                        62\n",
      "Poland                           60\n",
      "Columbia                         59\n",
      "Taiwan                           51\n",
      "Haiti                            44\n",
      "Iran                             43\n",
      "Portugal                         37\n",
      "Nicaragua                        34\n",
      "Peru                             31\n",
      "France                           29\n",
      "Greece                           29\n",
      "Ecuador                          28\n",
      "Ireland                          24\n",
      "Hong                             20\n",
      "Cambodia                         19\n",
      "Trinadad&Tobago                  19\n",
      "Laos                             18\n",
      "Thailand                         18\n",
      "Yugoslavia                       16\n",
      "Outlying-US(Guam-USVI-etc)       14\n",
      "Honduras                         13\n",
      "Hungary                          13\n",
      "Scotland                         12\n",
      "Holand-Netherlands                1\n",
      "Name: count, dtype: int64\n",
      "================\n",
      "columns name : salary\n",
      "salary\n",
      "<=50K    24698\n",
      ">50K      7839\n",
      "Name: count, dtype: int64\n",
      "================\n"
     ]
    }
   ],
   "source": [
    "catagorical_cols = ['workclass', 'education',\n",
    "       'marital_status', 'occupation', 'relationship', 'race', 'sex', 'native_country','salary']\n",
    "for cat in catagorical_cols:\n",
    "    print(f'columns name : {cat}')\n",
    "    print(df[cat].value_counts(dropna=False))\n",
    "    print(\"================\")\n",
    "    "
   ]
  },
  {
   "cell_type": "code",
   "execution_count": 22,
   "id": "346040fd",
   "metadata": {
    "execution": {
     "iopub.execute_input": "2023-12-20T18:05:25.190245Z",
     "iopub.status.busy": "2023-12-20T18:05:25.189830Z",
     "iopub.status.idle": "2023-12-20T18:05:25.195575Z",
     "shell.execute_reply": "2023-12-20T18:05:25.194762Z"
    },
    "papermill": {
     "duration": 0.043296,
     "end_time": "2023-12-20T18:05:25.197960",
     "exception": false,
     "start_time": "2023-12-20T18:05:25.154664",
     "status": "completed"
    },
    "tags": []
   },
   "outputs": [
    {
     "data": {
      "text/plain": [
       "'\\nIteration 2\\n1 univariate analysis\\n2 target column univariate analysis\\n3 rest of the categorical columns\\n4 numerical columns\\n  Iteration 3\\n1 multivariate analysis\\n'"
      ]
     },
     "execution_count": 22,
     "metadata": {},
     "output_type": "execute_result"
    }
   ],
   "source": [
    "'''\n",
    "Iteration 2\n",
    "1 univariate analysis\n",
    "2 target column univariate analysis\n",
    "3 rest of the categorical columns\n",
    "4 numerical columns\n",
    "  Iteration 3\n",
    "1 multivariate analysis\n",
    "'''"
   ]
  },
  {
   "cell_type": "code",
   "execution_count": 23,
   "id": "3f58bdbc",
   "metadata": {
    "execution": {
     "iopub.execute_input": "2023-12-20T18:05:25.266129Z",
     "iopub.status.busy": "2023-12-20T18:05:25.265715Z",
     "iopub.status.idle": "2023-12-20T18:05:25.272478Z",
     "shell.execute_reply": "2023-12-20T18:05:25.271716Z"
    },
    "papermill": {
     "duration": 0.043116,
     "end_time": "2023-12-20T18:05:25.274636",
     "exception": false,
     "start_time": "2023-12-20T18:05:25.231520",
     "status": "completed"
    },
    "tags": []
   },
   "outputs": [
    {
     "data": {
      "text/plain": [
       "'\\nkinds of plots \\n 1 univariate analysis - catagorical variable- count plot-percentages-pie chart\\n 2 uniariate analysis - numerical variable - box plot,histogram with kde\\n 3 multivariate analysis -categorical,numerical - box plot,histplot,kde plot\\n 4 multivariate analysis -categorical,categorical\\n 5 multivariate analysis -numerical,numerical\\n'"
      ]
     },
     "execution_count": 23,
     "metadata": {},
     "output_type": "execute_result"
    }
   ],
   "source": [
    "'''\n",
    "kinds of plots \n",
    " 1 univariate analysis - catagorical variable- count plot-percentages-pie chart\n",
    " 2 uniariate analysis - numerical variable - box plot,histogram with kde\n",
    " 3 multivariate analysis -categorical,numerical - box plot,histplot,kde plot\n",
    " 4 multivariate analysis -categorical,categorical\n",
    " 5 multivariate analysis -numerical,numerical\n",
    "'''"
   ]
  },
  {
   "cell_type": "markdown",
   "id": "8d6094de",
   "metadata": {
    "papermill": {
     "duration": 0.032548,
     "end_time": "2023-12-20T18:05:25.340441",
     "exception": false,
     "start_time": "2023-12-20T18:05:25.307893",
     "status": "completed"
    },
    "tags": []
   },
   "source": [
    "univariate analysis\n"
   ]
  },
  {
   "cell_type": "code",
   "execution_count": 24,
   "id": "a6358cb6",
   "metadata": {
    "execution": {
     "iopub.execute_input": "2023-12-20T18:05:25.410883Z",
     "iopub.status.busy": "2023-12-20T18:05:25.410085Z",
     "iopub.status.idle": "2023-12-20T18:05:25.423643Z",
     "shell.execute_reply": "2023-12-20T18:05:25.422574Z"
    },
    "papermill": {
     "duration": 0.052254,
     "end_time": "2023-12-20T18:05:25.426418",
     "exception": false,
     "start_time": "2023-12-20T18:05:25.374164",
     "status": "completed"
    },
    "tags": []
   },
   "outputs": [
    {
     "data": {
      "text/plain": [
       "salary\n",
       "<=50K    24698\n",
       ">50K      7839\n",
       "Name: count, dtype: int64"
      ]
     },
     "execution_count": 24,
     "metadata": {},
     "output_type": "execute_result"
    }
   ],
   "source": [
    "df['salary'].value_counts()"
   ]
  },
  {
   "cell_type": "markdown",
   "id": "529a3c29",
   "metadata": {
    "papermill": {
     "duration": 0.0339,
     "end_time": "2023-12-20T18:05:25.493865",
     "exception": false,
     "start_time": "2023-12-20T18:05:25.459965",
     "status": "completed"
    },
    "tags": []
   },
   "source": []
  },
  {
   "cell_type": "code",
   "execution_count": 25,
   "id": "61e7deec",
   "metadata": {
    "execution": {
     "iopub.execute_input": "2023-12-20T18:05:25.563333Z",
     "iopub.status.busy": "2023-12-20T18:05:25.562331Z",
     "iopub.status.idle": "2023-12-20T18:05:25.881883Z",
     "shell.execute_reply": "2023-12-20T18:05:25.880713Z"
    },
    "papermill": {
     "duration": 0.356963,
     "end_time": "2023-12-20T18:05:25.884537",
     "exception": false,
     "start_time": "2023-12-20T18:05:25.527574",
     "status": "completed"
    },
    "tags": []
   },
   "outputs": [
    {
     "data": {
      "image/png": "[encoded data removed]",
      "text/plain": [
       "<Figure size 1000x500 with 1 Axes>"
      ]
     },
     "metadata": {},
     "output_type": "display_data"
    }
   ],
   "source": [
    "\n",
    "# set the figure size\n",
    "plt.figure(figsize=(10,5))\n",
    "ax = sns.countplot(x='salary',data = df)\n",
    "for p in ax.patches:\n",
    "    ax.annotate((p.get_height()),(p.get_x() +0.3,p.get_height()+0.5),fontsize = 10)"
   ]
  },
  {
   "cell_type": "code",
   "execution_count": 26,
   "id": "668b4532",
   "metadata": {
    "execution": {
     "iopub.execute_input": "2023-12-20T18:05:25.955242Z",
     "iopub.status.busy": "2023-12-20T18:05:25.954808Z",
     "iopub.status.idle": "2023-12-20T18:05:25.970089Z",
     "shell.execute_reply": "2023-12-20T18:05:25.968985Z"
    },
    "papermill": {
     "duration": 0.053488,
     "end_time": "2023-12-20T18:05:25.972536",
     "exception": false,
     "start_time": "2023-12-20T18:05:25.919048",
     "status": "completed"
    },
    "tags": []
   },
   "outputs": [
    {
     "data": {
      "text/plain": [
       "salary\n",
       "<=50K    0.759074\n",
       ">50K     0.240926\n",
       "Name: count, dtype: float64"
      ]
     },
     "execution_count": 26,
     "metadata": {},
     "output_type": "execute_result"
    }
   ],
   "source": [
    "percentage = df['salary'].value_counts()/len(df)\n",
    "percentage"
   ]
  },
  {
   "cell_type": "code",
   "execution_count": 27,
   "id": "aa4034c8",
   "metadata": {
    "execution": {
     "iopub.execute_input": "2023-12-20T18:05:26.042377Z",
     "iopub.status.busy": "2023-12-20T18:05:26.041928Z",
     "iopub.status.idle": "2023-12-20T18:05:26.262256Z",
     "shell.execute_reply": "2023-12-20T18:05:26.260482Z"
    },
    "papermill": {
     "duration": 0.260213,
     "end_time": "2023-12-20T18:05:26.266728",
     "exception": false,
     "start_time": "2023-12-20T18:05:26.006515",
     "status": "completed"
    },
    "tags": []
   },
   "outputs": [
    {
     "data": {
      "text/plain": [
       "Text(0.5, 1.0, 'pie chart of salary')"
      ]
     },
     "execution_count": 27,
     "metadata": {},
     "output_type": "execute_result"
    },
    {
     "data": {
      "image/png": "[encoded data removed]",
      "text/plain": [
       "<Figure size 640x480 with 1 Axes>"
      ]
     },
     "metadata": {},
     "output_type": "display_data"
    }
   ],
   "source": [
    "plt.pie(percentage,labels =['<=50k',\">50k\"],autopct = \"%.1f%%\",explode=[0,0.1],colors=['red','green'],shadow= True)\n",
    "plt.title(\"pie chart of salary\",fontsize = 20)"
   ]
  },
  {
   "cell_type": "code",
   "execution_count": 28,
   "id": "10eacf6d",
   "metadata": {
    "execution": {
     "iopub.execute_input": "2023-12-20T18:05:26.364999Z",
     "iopub.status.busy": "2023-12-20T18:05:26.364349Z",
     "iopub.status.idle": "2023-12-20T18:05:26.603902Z",
     "shell.execute_reply": "2023-12-20T18:05:26.602710Z"
    },
    "papermill": {
     "duration": 0.278686,
     "end_time": "2023-12-20T18:05:26.606554",
     "exception": false,
     "start_time": "2023-12-20T18:05:26.327868",
     "status": "completed"
    },
    "tags": []
   },
   "outputs": [
    {
     "data": {
      "text/plain": [
       "<Axes: xlabel='age'>"
      ]
     },
     "execution_count": 28,
     "metadata": {},
     "output_type": "execute_result"
    },
    {
     "data": {
      "image/png": "[encoded data removed]",
      "text/plain": [
       "<Figure size 640x480 with 1 Axes>"
      ]
     },
     "metadata": {},
     "output_type": "display_data"
    }
   ],
   "source": [
    "## numeric features \n",
    "# age\n",
    "sns.boxplot(x='age',data=df)"
   ]
  },
  {
   "cell_type": "code",
   "execution_count": 29,
   "id": "b3cd6124",
   "metadata": {
    "execution": {
     "iopub.execute_input": "2023-12-20T18:05:26.679306Z",
     "iopub.status.busy": "2023-12-20T18:05:26.678110Z",
     "iopub.status.idle": "2023-12-20T18:05:27.290031Z",
     "shell.execute_reply": "2023-12-20T18:05:27.288906Z"
    },
    "papermill": {
     "duration": 0.651024,
     "end_time": "2023-12-20T18:05:27.292893",
     "exception": false,
     "start_time": "2023-12-20T18:05:26.641869",
     "status": "completed"
    },
    "tags": []
   },
   "outputs": [
    {
     "data": {
      "text/plain": [
       "<Axes: xlabel='age', ylabel='Count'>"
      ]
     },
     "execution_count": 29,
     "metadata": {},
     "output_type": "execute_result"
    },
    {
     "data": {
      "image/png": "[encoded data removed]",
      "text/plain": [
       "<Figure size 640x480 with 1 Axes>"
      ]
     },
     "metadata": {},
     "output_type": "display_data"
    }
   ],
   "source": [
    "sns.histplot(x='age',data=df,kde=True,bins=20)"
   ]
  },
  {
   "cell_type": "code",
   "execution_count": 30,
   "id": "e45d5434",
   "metadata": {
    "execution": {
     "iopub.execute_input": "2023-12-20T18:05:27.367733Z",
     "iopub.status.busy": "2023-12-20T18:05:27.366613Z",
     "iopub.status.idle": "2023-12-20T18:05:27.377735Z",
     "shell.execute_reply": "2023-12-20T18:05:27.376921Z"
    },
    "papermill": {
     "duration": 0.050849,
     "end_time": "2023-12-20T18:05:27.380215",
     "exception": false,
     "start_time": "2023-12-20T18:05:27.329366",
     "status": "completed"
    },
    "tags": []
   },
   "outputs": [
    {
     "data": {
      "text/plain": [
       "count    32537.000000\n",
       "mean        38.585549\n",
       "std         13.637984\n",
       "min         17.000000\n",
       "25%         28.000000\n",
       "50%         37.000000\n",
       "75%         48.000000\n",
       "max         90.000000\n",
       "Name: age, dtype: float64"
      ]
     },
     "execution_count": 30,
     "metadata": {},
     "output_type": "execute_result"
    }
   ],
   "source": [
    "df['age'].describe()"
   ]
  },
  {
   "cell_type": "code",
   "execution_count": 31,
   "id": "46f107ac",
   "metadata": {
    "execution": {
     "iopub.execute_input": "2023-12-20T18:05:27.456931Z",
     "iopub.status.busy": "2023-12-20T18:05:27.456182Z",
     "iopub.status.idle": "2023-12-20T18:05:27.745104Z",
     "shell.execute_reply": "2023-12-20T18:05:27.744272Z"
    },
    "papermill": {
     "duration": 0.328823,
     "end_time": "2023-12-20T18:05:27.747319",
     "exception": false,
     "start_time": "2023-12-20T18:05:27.418496",
     "status": "completed"
    },
    "tags": []
   },
   "outputs": [
    {
     "data": {
      "text/plain": [
       "<Axes: xlabel='age', ylabel='salary'>"
      ]
     },
     "execution_count": 31,
     "metadata": {},
     "output_type": "execute_result"
    },
    {
     "data": {
      "image/png": "[encoded data removed]",
      "text/plain": [
       "<Figure size 640x480 with 1 Axes>"
      ]
     },
     "metadata": {},
     "output_type": "display_data"
    }
   ],
   "source": [
    "# age vs salary\n",
    "sns.boxplot(x='age',y='salary',data=df)"
   ]
  },
  {
   "cell_type": "code",
   "execution_count": 32,
   "id": "03b4705b",
   "metadata": {
    "execution": {
     "iopub.execute_input": "2023-12-20T18:05:27.822587Z",
     "iopub.status.busy": "2023-12-20T18:05:27.821762Z",
     "iopub.status.idle": "2023-12-20T18:05:28.638573Z",
     "shell.execute_reply": "2023-12-20T18:05:28.637407Z"
    },
    "papermill": {
     "duration": 0.857385,
     "end_time": "2023-12-20T18:05:28.641262",
     "exception": false,
     "start_time": "2023-12-20T18:05:27.783877",
     "status": "completed"
    },
    "tags": []
   },
   "outputs": [
    {
     "data": {
      "text/plain": [
       "<Axes: xlabel='age', ylabel='Count'>"
      ]
     },
     "execution_count": 32,
     "metadata": {},
     "output_type": "execute_result"
    },
    {
     "data": {
      "image/png": "[encoded data removed]",
      "text/plain": [
       "<Figure size 640x480 with 1 Axes>"
      ]
     },
     "metadata": {},
     "output_type": "display_data"
    }
   ],
   "source": [
    "sns.histplot(x='age',data=df,kde=True,bins=20,hue='salary')"
   ]
  },
  {
   "cell_type": "code",
   "execution_count": 33,
   "id": "acf5791c",
   "metadata": {
    "execution": {
     "iopub.execute_input": "2023-12-20T18:05:28.718611Z",
     "iopub.status.busy": "2023-12-20T18:05:28.717541Z",
     "iopub.status.idle": "2023-12-20T18:05:29.344461Z",
     "shell.execute_reply": "2023-12-20T18:05:29.343142Z"
    },
    "papermill": {
     "duration": 0.66883,
     "end_time": "2023-12-20T18:05:29.347335",
     "exception": false,
     "start_time": "2023-12-20T18:05:28.678505",
     "status": "completed"
    },
    "tags": []
   },
   "outputs": [
    {
     "name": "stderr",
     "output_type": "stream",
     "text": [
      "/tmp/ipykernel_19/3063441027.py:1: FutureWarning: \n",
      "\n",
      "`shade` is now deprecated in favor of `fill`; setting `fill=True`.\n",
      "This will become an error in seaborn v0.14.0; please update your code.\n",
      "\n",
      "  sns.kdeplot(x='age',data=df,hue='salary',shade=True)\n"
     ]
    },
    {
     "data": {
      "text/plain": [
       "<Axes: xlabel='age', ylabel='Density'>"
      ]
     },
     "execution_count": 33,
     "metadata": {},
     "output_type": "execute_result"
    },
    {
     "data": {
      "image/png": "[encoded data removed]",
      "text/plain": [
       "<Figure size 640x480 with 1 Axes>"
      ]
     },
     "metadata": {},
     "output_type": "display_data"
    }
   ],
   "source": [
    "sns.kdeplot(x='age',data=df,hue='salary',shade=True)"
   ]
  },
  {
   "cell_type": "code",
   "execution_count": 34,
   "id": "b7c8a5ed",
   "metadata": {
    "execution": {
     "iopub.execute_input": "2023-12-20T18:05:29.428568Z",
     "iopub.status.busy": "2023-12-20T18:05:29.428176Z",
     "iopub.status.idle": "2023-12-20T18:05:29.460590Z",
     "shell.execute_reply": "2023-12-20T18:05:29.459330Z"
    },
    "papermill": {
     "duration": 0.076692,
     "end_time": "2023-12-20T18:05:29.463055",
     "exception": false,
     "start_time": "2023-12-20T18:05:29.386363",
     "status": "completed"
    },
    "tags": []
   },
   "outputs": [
    {
     "data": {
      "text/html": [
       "<div>\n",
       "<style scoped>\n",
       "    .dataframe tbody tr th:only-of-type {\n",
       "        vertical-align: middle;\n",
       "    }\n",
       "\n",
       "    .dataframe tbody tr th {\n",
       "        vertical-align: top;\n",
       "    }\n",
       "\n",
       "    .dataframe thead th {\n",
       "        text-align: right;\n",
       "    }\n",
       "</style>\n",
       "<table border=\"1\" class=\"dataframe\">\n",
       "  <thead>\n",
       "    <tr style=\"text-align: right;\">\n",
       "      <th></th>\n",
       "      <th>count</th>\n",
       "      <th>mean</th>\n",
       "      <th>std</th>\n",
       "      <th>min</th>\n",
       "      <th>25%</th>\n",
       "      <th>50%</th>\n",
       "      <th>75%</th>\n",
       "      <th>max</th>\n",
       "    </tr>\n",
       "    <tr>\n",
       "      <th>salary</th>\n",
       "      <th></th>\n",
       "      <th></th>\n",
       "      <th></th>\n",
       "      <th></th>\n",
       "      <th></th>\n",
       "      <th></th>\n",
       "      <th></th>\n",
       "      <th></th>\n",
       "    </tr>\n",
       "  </thead>\n",
       "  <tbody>\n",
       "    <tr>\n",
       "      <th>&lt;=50K</th>\n",
       "      <td>24698.0</td>\n",
       "      <td>36.787392</td>\n",
       "      <td>14.017335</td>\n",
       "      <td>17.0</td>\n",
       "      <td>25.0</td>\n",
       "      <td>34.0</td>\n",
       "      <td>46.0</td>\n",
       "      <td>90.0</td>\n",
       "    </tr>\n",
       "    <tr>\n",
       "      <th>&gt;50K</th>\n",
       "      <td>7839.0</td>\n",
       "      <td>44.250925</td>\n",
       "      <td>10.520102</td>\n",
       "      <td>19.0</td>\n",
       "      <td>36.0</td>\n",
       "      <td>44.0</td>\n",
       "      <td>51.0</td>\n",
       "      <td>90.0</td>\n",
       "    </tr>\n",
       "  </tbody>\n",
       "</table>\n",
       "</div>"
      ],
      "text/plain": [
       "          count       mean        std   min   25%   50%   75%   max\n",
       "salary                                                             \n",
       "<=50K   24698.0  36.787392  14.017335  17.0  25.0  34.0  46.0  90.0\n",
       ">50K     7839.0  44.250925  10.520102  19.0  36.0  44.0  51.0  90.0"
      ]
     },
     "execution_count": 34,
     "metadata": {},
     "output_type": "execute_result"
    }
   ],
   "source": [
    "df.groupby('salary')['age'].describe()"
   ]
  },
  {
   "cell_type": "code",
   "execution_count": 35,
   "id": "f5e514d2",
   "metadata": {
    "execution": {
     "iopub.execute_input": "2023-12-20T18:05:29.542017Z",
     "iopub.status.busy": "2023-12-20T18:05:29.541614Z",
     "iopub.status.idle": "2023-12-20T18:05:29.548207Z",
     "shell.execute_reply": "2023-12-20T18:05:29.547055Z"
    },
    "papermill": {
     "duration": 0.048623,
     "end_time": "2023-12-20T18:05:29.550555",
     "exception": false,
     "start_time": "2023-12-20T18:05:29.501932",
     "status": "completed"
    },
    "tags": []
   },
   "outputs": [
    {
     "data": {
      "text/plain": [
       "'\\nconclusion : the mean and min age of the higher income group is higher than lower income group .it means that older generation posseses more wealth than young.\\n'"
      ]
     },
     "execution_count": 35,
     "metadata": {},
     "output_type": "execute_result"
    }
   ],
   "source": [
    "'''\n",
    "conclusion : the mean and min age of the higher income group is higher than lower income group .it means that older generation posseses more wealth than young.\n",
    "'''"
   ]
  },
  {
   "cell_type": "markdown",
   "id": "29e7c9c4",
   "metadata": {
    "papermill": {
     "duration": 0.038899,
     "end_time": "2023-12-20T18:05:29.628239",
     "exception": false,
     "start_time": "2023-12-20T18:05:29.589340",
     "status": "completed"
    },
    "tags": []
   },
   "source": [
    "## fnwgt\n"
   ]
  },
  {
   "cell_type": "code",
   "execution_count": 36,
   "id": "4a2c7190",
   "metadata": {
    "execution": {
     "iopub.execute_input": "2023-12-20T18:05:29.707366Z",
     "iopub.status.busy": "2023-12-20T18:05:29.706942Z",
     "iopub.status.idle": "2023-12-20T18:05:29.726138Z",
     "shell.execute_reply": "2023-12-20T18:05:29.725284Z"
    },
    "papermill": {
     "duration": 0.061124,
     "end_time": "2023-12-20T18:05:29.728341",
     "exception": false,
     "start_time": "2023-12-20T18:05:29.667217",
     "status": "completed"
    },
    "tags": []
   },
   "outputs": [
    {
     "data": {
      "text/html": [
       "<div>\n",
       "<style scoped>\n",
       "    .dataframe tbody tr th:only-of-type {\n",
       "        vertical-align: middle;\n",
       "    }\n",
       "\n",
       "    .dataframe tbody tr th {\n",
       "        vertical-align: top;\n",
       "    }\n",
       "\n",
       "    .dataframe thead th {\n",
       "        text-align: right;\n",
       "    }\n",
       "</style>\n",
       "<table border=\"1\" class=\"dataframe\">\n",
       "  <thead>\n",
       "    <tr style=\"text-align: right;\">\n",
       "      <th></th>\n",
       "      <th>age</th>\n",
       "      <th>workclass</th>\n",
       "      <th>fnlwgt</th>\n",
       "      <th>education</th>\n",
       "      <th>education_num</th>\n",
       "      <th>marital_status</th>\n",
       "      <th>occupation</th>\n",
       "      <th>relationship</th>\n",
       "      <th>race</th>\n",
       "      <th>sex</th>\n",
       "      <th>capital_gain</th>\n",
       "      <th>capital_loss</th>\n",
       "      <th>hours_per_week</th>\n",
       "      <th>native_country</th>\n",
       "      <th>salary</th>\n",
       "    </tr>\n",
       "  </thead>\n",
       "  <tbody>\n",
       "    <tr>\n",
       "      <th>0</th>\n",
       "      <td>39</td>\n",
       "      <td>State-gov</td>\n",
       "      <td>77516</td>\n",
       "      <td>Bachelors</td>\n",
       "      <td>13.0</td>\n",
       "      <td>Never-married</td>\n",
       "      <td>Adm-clerical</td>\n",
       "      <td>Not-in-family</td>\n",
       "      <td>White</td>\n",
       "      <td>Male</td>\n",
       "      <td>2174</td>\n",
       "      <td>0</td>\n",
       "      <td>40</td>\n",
       "      <td>United-States</td>\n",
       "      <td>&lt;=50K</td>\n",
       "    </tr>\n",
       "    <tr>\n",
       "      <th>1</th>\n",
       "      <td>50</td>\n",
       "      <td>Self-emp-not-inc</td>\n",
       "      <td>83311</td>\n",
       "      <td>Bachelors</td>\n",
       "      <td>13.0</td>\n",
       "      <td>Married-civ-spouse</td>\n",
       "      <td>Exec-managerial</td>\n",
       "      <td>Husband</td>\n",
       "      <td>White</td>\n",
       "      <td>Male</td>\n",
       "      <td>0</td>\n",
       "      <td>0</td>\n",
       "      <td>13</td>\n",
       "      <td>United-States</td>\n",
       "      <td>&lt;=50K</td>\n",
       "    </tr>\n",
       "    <tr>\n",
       "      <th>2</th>\n",
       "      <td>38</td>\n",
       "      <td>Private</td>\n",
       "      <td>215646</td>\n",
       "      <td>HS-grad</td>\n",
       "      <td>9.0</td>\n",
       "      <td>Divorced</td>\n",
       "      <td>Handlers-cleaners</td>\n",
       "      <td>Not-in-family</td>\n",
       "      <td>White</td>\n",
       "      <td>Male</td>\n",
       "      <td>0</td>\n",
       "      <td>0</td>\n",
       "      <td>40</td>\n",
       "      <td>United-States</td>\n",
       "      <td>&lt;=50K</td>\n",
       "    </tr>\n",
       "    <tr>\n",
       "      <th>3</th>\n",
       "      <td>53</td>\n",
       "      <td>Private</td>\n",
       "      <td>234721</td>\n",
       "      <td>11th</td>\n",
       "      <td>7.0</td>\n",
       "      <td>Married-civ-spouse</td>\n",
       "      <td>Handlers-cleaners</td>\n",
       "      <td>Husband</td>\n",
       "      <td>Black</td>\n",
       "      <td>Male</td>\n",
       "      <td>0</td>\n",
       "      <td>0</td>\n",
       "      <td>40</td>\n",
       "      <td>United-States</td>\n",
       "      <td>&lt;=50K</td>\n",
       "    </tr>\n",
       "    <tr>\n",
       "      <th>4</th>\n",
       "      <td>28</td>\n",
       "      <td>Private</td>\n",
       "      <td>338409</td>\n",
       "      <td>Bachelors</td>\n",
       "      <td>13.0</td>\n",
       "      <td>Married-civ-spouse</td>\n",
       "      <td>Prof-specialty</td>\n",
       "      <td>Wife</td>\n",
       "      <td>Black</td>\n",
       "      <td>Female</td>\n",
       "      <td>0</td>\n",
       "      <td>0</td>\n",
       "      <td>40</td>\n",
       "      <td>Cuba</td>\n",
       "      <td>&lt;=50K</td>\n",
       "    </tr>\n",
       "  </tbody>\n",
       "</table>\n",
       "</div>"
      ],
      "text/plain": [
       "   age         workclass  fnlwgt  education  education_num  \\\n",
       "0   39         State-gov   77516  Bachelors           13.0   \n",
       "1   50  Self-emp-not-inc   83311  Bachelors           13.0   \n",
       "2   38           Private  215646    HS-grad            9.0   \n",
       "3   53           Private  234721       11th            7.0   \n",
       "4   28           Private  338409  Bachelors           13.0   \n",
       "\n",
       "       marital_status         occupation   relationship   race     sex  \\\n",
       "0       Never-married       Adm-clerical  Not-in-family  White    Male   \n",
       "1  Married-civ-spouse    Exec-managerial        Husband  White    Male   \n",
       "2            Divorced  Handlers-cleaners  Not-in-family  White    Male   \n",
       "3  Married-civ-spouse  Handlers-cleaners        Husband  Black    Male   \n",
       "4  Married-civ-spouse     Prof-specialty           Wife  Black  Female   \n",
       "\n",
       "   capital_gain  capital_loss  hours_per_week native_country salary  \n",
       "0          2174             0              40  United-States  <=50K  \n",
       "1             0             0              13  United-States  <=50K  \n",
       "2             0             0              40  United-States  <=50K  \n",
       "3             0             0              40  United-States  <=50K  \n",
       "4             0             0              40           Cuba  <=50K  "
      ]
     },
     "execution_count": 36,
     "metadata": {},
     "output_type": "execute_result"
    }
   ],
   "source": [
    "df.head()"
   ]
  },
  {
   "cell_type": "code",
   "execution_count": 37,
   "id": "9f7dac18",
   "metadata": {
    "execution": {
     "iopub.execute_input": "2023-12-20T18:05:29.810438Z",
     "iopub.status.busy": "2023-12-20T18:05:29.810014Z",
     "iopub.status.idle": "2023-12-20T18:05:30.010090Z",
     "shell.execute_reply": "2023-12-20T18:05:30.008910Z"
    },
    "papermill": {
     "duration": 0.244635,
     "end_time": "2023-12-20T18:05:30.012755",
     "exception": false,
     "start_time": "2023-12-20T18:05:29.768120",
     "status": "completed"
    },
    "tags": []
   },
   "outputs": [
    {
     "data": {
      "text/plain": [
       "<Axes: xlabel='fnlwgt'>"
      ]
     },
     "execution_count": 37,
     "metadata": {},
     "output_type": "execute_result"
    },
    {
     "data": {
      "image/png": "[encoded data removed]",
      "text/plain": [
       "<Figure size 1000x500 with 1 Axes>"
      ]
     },
     "metadata": {},
     "output_type": "display_data"
    }
   ],
   "source": [
    "plt.figure(figsize =(10,5))\n",
    "sns.boxplot(x=\"fnlwgt\",data = df)"
   ]
  },
  {
   "cell_type": "code",
   "execution_count": 38,
   "id": "47ac48f9",
   "metadata": {
    "execution": {
     "iopub.execute_input": "2023-12-20T18:05:30.093803Z",
     "iopub.status.busy": "2023-12-20T18:05:30.093354Z",
     "iopub.status.idle": "2023-12-20T18:05:30.576748Z",
     "shell.execute_reply": "2023-12-20T18:05:30.575533Z"
    },
    "papermill": {
     "duration": 0.527504,
     "end_time": "2023-12-20T18:05:30.579568",
     "exception": false,
     "start_time": "2023-12-20T18:05:30.052064",
     "status": "completed"
    },
    "tags": []
   },
   "outputs": [
    {
     "name": "stderr",
     "output_type": "stream",
     "text": [
      "/tmp/ipykernel_19/4052875365.py:1: FutureWarning: \n",
      "\n",
      "`shade` is now deprecated in favor of `fill`; setting `fill=True`.\n",
      "This will become an error in seaborn v0.14.0; please update your code.\n",
      "\n",
      "  sns.kdeplot(x='fnlwgt',data =df,shade= True)\n"
     ]
    },
    {
     "data": {
      "text/plain": [
       "<Axes: xlabel='fnlwgt', ylabel='Density'>"
      ]
     },
     "execution_count": 38,
     "metadata": {},
     "output_type": "execute_result"
    },
    {
     "data": {
      "image/png": "[encoded data removed]",
      "text/plain": [
       "<Figure size 640x480 with 1 Axes>"
      ]
     },
     "metadata": {},
     "output_type": "display_data"
    }
   ],
   "source": [
    "sns.kdeplot(x='fnlwgt',data =df,shade= True)"
   ]
  },
  {
   "cell_type": "code",
   "execution_count": 39,
   "id": "c55fa0a0",
   "metadata": {
    "execution": {
     "iopub.execute_input": "2023-12-20T18:05:30.662969Z",
     "iopub.status.busy": "2023-12-20T18:05:30.662540Z",
     "iopub.status.idle": "2023-12-20T18:05:30.675819Z",
     "shell.execute_reply": "2023-12-20T18:05:30.674545Z"
    },
    "papermill": {
     "duration": 0.058139,
     "end_time": "2023-12-20T18:05:30.678543",
     "exception": false,
     "start_time": "2023-12-20T18:05:30.620404",
     "status": "completed"
    },
    "tags": []
   },
   "outputs": [
    {
     "data": {
      "text/plain": [
       "count    3.253700e+04\n",
       "mean     1.897808e+05\n",
       "std      1.055565e+05\n",
       "min      1.228500e+04\n",
       "25%      1.178270e+05\n",
       "50%      1.783560e+05\n",
       "75%      2.369930e+05\n",
       "max      1.484705e+06\n",
       "Name: fnlwgt, dtype: float64"
      ]
     },
     "execution_count": 39,
     "metadata": {},
     "output_type": "execute_result"
    }
   ],
   "source": [
    "df.fnlwgt.describe()"
   ]
  },
  {
   "cell_type": "code",
   "execution_count": 40,
   "id": "691b3e5f",
   "metadata": {
    "execution": {
     "iopub.execute_input": "2023-12-20T18:05:30.761177Z",
     "iopub.status.busy": "2023-12-20T18:05:30.760791Z",
     "iopub.status.idle": "2023-12-20T18:05:30.780058Z",
     "shell.execute_reply": "2023-12-20T18:05:30.778872Z"
    },
    "papermill": {
     "duration": 0.063633,
     "end_time": "2023-12-20T18:05:30.782539",
     "exception": false,
     "start_time": "2023-12-20T18:05:30.718906",
     "status": "completed"
    },
    "tags": []
   },
   "outputs": [
    {
     "data": {
      "text/html": [
       "<div>\n",
       "<style scoped>\n",
       "    .dataframe tbody tr th:only-of-type {\n",
       "        vertical-align: middle;\n",
       "    }\n",
       "\n",
       "    .dataframe tbody tr th {\n",
       "        vertical-align: top;\n",
       "    }\n",
       "\n",
       "    .dataframe thead th {\n",
       "        text-align: right;\n",
       "    }\n",
       "</style>\n",
       "<table border=\"1\" class=\"dataframe\">\n",
       "  <thead>\n",
       "    <tr style=\"text-align: right;\">\n",
       "      <th></th>\n",
       "      <th>age</th>\n",
       "      <th>workclass</th>\n",
       "      <th>fnlwgt</th>\n",
       "      <th>education</th>\n",
       "      <th>education_num</th>\n",
       "      <th>marital_status</th>\n",
       "      <th>occupation</th>\n",
       "      <th>relationship</th>\n",
       "      <th>race</th>\n",
       "      <th>sex</th>\n",
       "      <th>capital_gain</th>\n",
       "      <th>capital_loss</th>\n",
       "      <th>hours_per_week</th>\n",
       "      <th>native_country</th>\n",
       "      <th>salary</th>\n",
       "    </tr>\n",
       "  </thead>\n",
       "  <tbody>\n",
       "    <tr>\n",
       "      <th>0</th>\n",
       "      <td>39</td>\n",
       "      <td>State-gov</td>\n",
       "      <td>77516</td>\n",
       "      <td>Bachelors</td>\n",
       "      <td>13.0</td>\n",
       "      <td>Never-married</td>\n",
       "      <td>Adm-clerical</td>\n",
       "      <td>Not-in-family</td>\n",
       "      <td>White</td>\n",
       "      <td>Male</td>\n",
       "      <td>2174</td>\n",
       "      <td>0</td>\n",
       "      <td>40</td>\n",
       "      <td>United-States</td>\n",
       "      <td>&lt;=50K</td>\n",
       "    </tr>\n",
       "    <tr>\n",
       "      <th>1</th>\n",
       "      <td>50</td>\n",
       "      <td>Self-emp-not-inc</td>\n",
       "      <td>83311</td>\n",
       "      <td>Bachelors</td>\n",
       "      <td>13.0</td>\n",
       "      <td>Married-civ-spouse</td>\n",
       "      <td>Exec-managerial</td>\n",
       "      <td>Husband</td>\n",
       "      <td>White</td>\n",
       "      <td>Male</td>\n",
       "      <td>0</td>\n",
       "      <td>0</td>\n",
       "      <td>13</td>\n",
       "      <td>United-States</td>\n",
       "      <td>&lt;=50K</td>\n",
       "    </tr>\n",
       "    <tr>\n",
       "      <th>2</th>\n",
       "      <td>38</td>\n",
       "      <td>Private</td>\n",
       "      <td>215646</td>\n",
       "      <td>HS-grad</td>\n",
       "      <td>9.0</td>\n",
       "      <td>Divorced</td>\n",
       "      <td>Handlers-cleaners</td>\n",
       "      <td>Not-in-family</td>\n",
       "      <td>White</td>\n",
       "      <td>Male</td>\n",
       "      <td>0</td>\n",
       "      <td>0</td>\n",
       "      <td>40</td>\n",
       "      <td>United-States</td>\n",
       "      <td>&lt;=50K</td>\n",
       "    </tr>\n",
       "    <tr>\n",
       "      <th>3</th>\n",
       "      <td>53</td>\n",
       "      <td>Private</td>\n",
       "      <td>234721</td>\n",
       "      <td>11th</td>\n",
       "      <td>7.0</td>\n",
       "      <td>Married-civ-spouse</td>\n",
       "      <td>Handlers-cleaners</td>\n",
       "      <td>Husband</td>\n",
       "      <td>Black</td>\n",
       "      <td>Male</td>\n",
       "      <td>0</td>\n",
       "      <td>0</td>\n",
       "      <td>40</td>\n",
       "      <td>United-States</td>\n",
       "      <td>&lt;=50K</td>\n",
       "    </tr>\n",
       "    <tr>\n",
       "      <th>4</th>\n",
       "      <td>28</td>\n",
       "      <td>Private</td>\n",
       "      <td>338409</td>\n",
       "      <td>Bachelors</td>\n",
       "      <td>13.0</td>\n",
       "      <td>Married-civ-spouse</td>\n",
       "      <td>Prof-specialty</td>\n",
       "      <td>Wife</td>\n",
       "      <td>Black</td>\n",
       "      <td>Female</td>\n",
       "      <td>0</td>\n",
       "      <td>0</td>\n",
       "      <td>40</td>\n",
       "      <td>Cuba</td>\n",
       "      <td>&lt;=50K</td>\n",
       "    </tr>\n",
       "  </tbody>\n",
       "</table>\n",
       "</div>"
      ],
      "text/plain": [
       "   age         workclass  fnlwgt  education  education_num  \\\n",
       "0   39         State-gov   77516  Bachelors           13.0   \n",
       "1   50  Self-emp-not-inc   83311  Bachelors           13.0   \n",
       "2   38           Private  215646    HS-grad            9.0   \n",
       "3   53           Private  234721       11th            7.0   \n",
       "4   28           Private  338409  Bachelors           13.0   \n",
       "\n",
       "       marital_status         occupation   relationship   race     sex  \\\n",
       "0       Never-married       Adm-clerical  Not-in-family  White    Male   \n",
       "1  Married-civ-spouse    Exec-managerial        Husband  White    Male   \n",
       "2            Divorced  Handlers-cleaners  Not-in-family  White    Male   \n",
       "3  Married-civ-spouse  Handlers-cleaners        Husband  Black    Male   \n",
       "4  Married-civ-spouse     Prof-specialty           Wife  Black  Female   \n",
       "\n",
       "   capital_gain  capital_loss  hours_per_week native_country salary  \n",
       "0          2174             0              40  United-States  <=50K  \n",
       "1             0             0              13  United-States  <=50K  \n",
       "2             0             0              40  United-States  <=50K  \n",
       "3             0             0              40  United-States  <=50K  \n",
       "4             0             0              40           Cuba  <=50K  "
      ]
     },
     "execution_count": 40,
     "metadata": {},
     "output_type": "execute_result"
    }
   ],
   "source": [
    "df.head()"
   ]
  },
  {
   "cell_type": "code",
   "execution_count": 41,
   "id": "1db7e3f2",
   "metadata": {
    "execution": {
     "iopub.execute_input": "2023-12-20T18:05:30.867968Z",
     "iopub.status.busy": "2023-12-20T18:05:30.867515Z",
     "iopub.status.idle": "2023-12-20T18:05:31.142731Z",
     "shell.execute_reply": "2023-12-20T18:05:31.141299Z"
    },
    "papermill": {
     "duration": 0.321077,
     "end_time": "2023-12-20T18:05:31.145537",
     "exception": false,
     "start_time": "2023-12-20T18:05:30.824460",
     "status": "completed"
    },
    "tags": []
   },
   "outputs": [
    {
     "data": {
      "text/plain": [
       "<Axes: xlabel='salary', ylabel='fnlwgt'>"
      ]
     },
     "execution_count": 41,
     "metadata": {},
     "output_type": "execute_result"
    },
    {
     "data": {
      "image/png": "[encoded data removed]",
      "text/plain": [
       "<Figure size 1400x500 with 1 Axes>"
      ]
     },
     "metadata": {},
     "output_type": "display_data"
    }
   ],
   "source": [
    "plt.figure(figsize=(14,5))\n",
    "sns.boxplot(x='salary',y='fnlwgt',data=df)"
   ]
  },
  {
   "cell_type": "code",
   "execution_count": 42,
   "id": "f3503453",
   "metadata": {
    "execution": {
     "iopub.execute_input": "2023-12-20T18:05:31.231657Z",
     "iopub.status.busy": "2023-12-20T18:05:31.231227Z",
     "iopub.status.idle": "2023-12-20T18:05:31.914093Z",
     "shell.execute_reply": "2023-12-20T18:05:31.912435Z"
    },
    "papermill": {
     "duration": 0.729288,
     "end_time": "2023-12-20T18:05:31.917189",
     "exception": false,
     "start_time": "2023-12-20T18:05:31.187901",
     "status": "completed"
    },
    "tags": []
   },
   "outputs": [
    {
     "name": "stderr",
     "output_type": "stream",
     "text": [
      "/tmp/ipykernel_19/4182881154.py:1: FutureWarning: \n",
      "\n",
      "`shade` is now deprecated in favor of `fill`; setting `fill=True`.\n",
      "This will become an error in seaborn v0.14.0; please update your code.\n",
      "\n",
      "  sns.kdeplot(x='fnlwgt',data = df,hue = 'salary',shade=True)\n"
     ]
    },
    {
     "data": {
      "text/plain": [
       "<Axes: xlabel='fnlwgt', ylabel='Density'>"
      ]
     },
     "execution_count": 42,
     "metadata": {},
     "output_type": "execute_result"
    },
    {
     "data": {
      "image/png": "[encoded data removed]",
      "text/plain": [
       "<Figure size 640x480 with 1 Axes>"
      ]
     },
     "metadata": {},
     "output_type": "display_data"
    }
   ],
   "source": [
    "sns.kdeplot(x='fnlwgt',data = df,hue = 'salary',shade=True)"
   ]
  },
  {
   "cell_type": "code",
   "execution_count": 43,
   "id": "cb941d1c",
   "metadata": {
    "execution": {
     "iopub.execute_input": "2023-12-20T18:05:32.005025Z",
     "iopub.status.busy": "2023-12-20T18:05:32.004594Z",
     "iopub.status.idle": "2023-12-20T18:05:32.537922Z",
     "shell.execute_reply": "2023-12-20T18:05:32.536686Z"
    },
    "papermill": {
     "duration": 0.580444,
     "end_time": "2023-12-20T18:05:32.540355",
     "exception": false,
     "start_time": "2023-12-20T18:05:31.959911",
     "status": "completed"
    },
    "tags": []
   },
   "outputs": [
    {
     "data": {
      "text/plain": [
       "<Axes: xlabel='fnlwgt', ylabel='Count'>"
      ]
     },
     "execution_count": 43,
     "metadata": {},
     "output_type": "execute_result"
    },
    {
     "data": {
      "image/png": "[encoded data removed]",
      "text/plain": [
       "<Figure size 640x480 with 1 Axes>"
      ]
     },
     "metadata": {},
     "output_type": "display_data"
    }
   ],
   "source": [
    "sns.histplot(x='fnlwgt',data=df,kde=True,bins=20)"
   ]
  },
  {
   "cell_type": "code",
   "execution_count": 44,
   "id": "c299493d",
   "metadata": {
    "execution": {
     "iopub.execute_input": "2023-12-20T18:05:32.628399Z",
     "iopub.status.busy": "2023-12-20T18:05:32.627980Z",
     "iopub.status.idle": "2023-12-20T18:05:32.656510Z",
     "shell.execute_reply": "2023-12-20T18:05:32.655704Z"
    },
    "papermill": {
     "duration": 0.075339,
     "end_time": "2023-12-20T18:05:32.658947",
     "exception": false,
     "start_time": "2023-12-20T18:05:32.583608",
     "status": "completed"
    },
    "tags": []
   },
   "outputs": [
    {
     "data": {
      "text/html": [
       "<div>\n",
       "<style scoped>\n",
       "    .dataframe tbody tr th:only-of-type {\n",
       "        vertical-align: middle;\n",
       "    }\n",
       "\n",
       "    .dataframe tbody tr th {\n",
       "        vertical-align: top;\n",
       "    }\n",
       "\n",
       "    .dataframe thead th {\n",
       "        text-align: right;\n",
       "    }\n",
       "</style>\n",
       "<table border=\"1\" class=\"dataframe\">\n",
       "  <thead>\n",
       "    <tr style=\"text-align: right;\">\n",
       "      <th></th>\n",
       "      <th>count</th>\n",
       "      <th>mean</th>\n",
       "      <th>std</th>\n",
       "      <th>min</th>\n",
       "      <th>25%</th>\n",
       "      <th>50%</th>\n",
       "      <th>75%</th>\n",
       "      <th>max</th>\n",
       "    </tr>\n",
       "    <tr>\n",
       "      <th>salary</th>\n",
       "      <th></th>\n",
       "      <th></th>\n",
       "      <th></th>\n",
       "      <th></th>\n",
       "      <th></th>\n",
       "      <th></th>\n",
       "      <th></th>\n",
       "      <th></th>\n",
       "    </tr>\n",
       "  </thead>\n",
       "  <tbody>\n",
       "    <tr>\n",
       "      <th>&lt;=50K</th>\n",
       "      <td>24698.0</td>\n",
       "      <td>190345.926796</td>\n",
       "      <td>106487.413197</td>\n",
       "      <td>12285.0</td>\n",
       "      <td>117606.0</td>\n",
       "      <td>179465.0</td>\n",
       "      <td>238968.25</td>\n",
       "      <td>1484705.0</td>\n",
       "    </tr>\n",
       "    <tr>\n",
       "      <th>&gt;50K</th>\n",
       "      <td>7839.0</td>\n",
       "      <td>188000.480674</td>\n",
       "      <td>102554.464101</td>\n",
       "      <td>14878.0</td>\n",
       "      <td>119100.0</td>\n",
       "      <td>176063.0</td>\n",
       "      <td>230969.00</td>\n",
       "      <td>1226583.0</td>\n",
       "    </tr>\n",
       "  </tbody>\n",
       "</table>\n",
       "</div>"
      ],
      "text/plain": [
       "          count           mean            std      min       25%       50%  \\\n",
       "salary                                                                       \n",
       "<=50K   24698.0  190345.926796  106487.413197  12285.0  117606.0  179465.0   \n",
       ">50K     7839.0  188000.480674  102554.464101  14878.0  119100.0  176063.0   \n",
       "\n",
       "              75%        max  \n",
       "salary                        \n",
       "<=50K   238968.25  1484705.0  \n",
       ">50K    230969.00  1226583.0  "
      ]
     },
     "execution_count": 44,
     "metadata": {},
     "output_type": "execute_result"
    }
   ],
   "source": [
    "df.groupby('salary')['fnlwgt'].describe()"
   ]
  },
  {
   "cell_type": "markdown",
   "id": "5467825d",
   "metadata": {
    "papermill": {
     "duration": 0.043945,
     "end_time": "2023-12-20T18:05:32.747023",
     "exception": false,
     "start_time": "2023-12-20T18:05:32.703078",
     "status": "completed"
    },
    "tags": []
   },
   "source": [
    "RESULT there is no significant"
   ]
  },
  {
   "cell_type": "code",
   "execution_count": 45,
   "id": "adac2d45",
   "metadata": {
    "execution": {
     "iopub.execute_input": "2023-12-20T18:05:32.841070Z",
     "iopub.status.busy": "2023-12-20T18:05:32.838525Z",
     "iopub.status.idle": "2023-12-20T18:05:32.859907Z",
     "shell.execute_reply": "2023-12-20T18:05:32.858652Z"
    },
    "papermill": {
     "duration": 0.071257,
     "end_time": "2023-12-20T18:05:32.862712",
     "exception": false,
     "start_time": "2023-12-20T18:05:32.791455",
     "status": "completed"
    },
    "tags": []
   },
   "outputs": [
    {
     "data": {
      "text/html": [
       "<div>\n",
       "<style scoped>\n",
       "    .dataframe tbody tr th:only-of-type {\n",
       "        vertical-align: middle;\n",
       "    }\n",
       "\n",
       "    .dataframe tbody tr th {\n",
       "        vertical-align: top;\n",
       "    }\n",
       "\n",
       "    .dataframe thead th {\n",
       "        text-align: right;\n",
       "    }\n",
       "</style>\n",
       "<table border=\"1\" class=\"dataframe\">\n",
       "  <thead>\n",
       "    <tr style=\"text-align: right;\">\n",
       "      <th></th>\n",
       "      <th>age</th>\n",
       "      <th>workclass</th>\n",
       "      <th>fnlwgt</th>\n",
       "      <th>education</th>\n",
       "      <th>education_num</th>\n",
       "      <th>marital_status</th>\n",
       "      <th>occupation</th>\n",
       "      <th>relationship</th>\n",
       "      <th>race</th>\n",
       "      <th>sex</th>\n",
       "      <th>capital_gain</th>\n",
       "      <th>capital_loss</th>\n",
       "      <th>hours_per_week</th>\n",
       "      <th>native_country</th>\n",
       "      <th>salary</th>\n",
       "    </tr>\n",
       "  </thead>\n",
       "  <tbody>\n",
       "    <tr>\n",
       "      <th>0</th>\n",
       "      <td>39</td>\n",
       "      <td>State-gov</td>\n",
       "      <td>77516</td>\n",
       "      <td>Bachelors</td>\n",
       "      <td>13.0</td>\n",
       "      <td>Never-married</td>\n",
       "      <td>Adm-clerical</td>\n",
       "      <td>Not-in-family</td>\n",
       "      <td>White</td>\n",
       "      <td>Male</td>\n",
       "      <td>2174</td>\n",
       "      <td>0</td>\n",
       "      <td>40</td>\n",
       "      <td>United-States</td>\n",
       "      <td>&lt;=50K</td>\n",
       "    </tr>\n",
       "    <tr>\n",
       "      <th>1</th>\n",
       "      <td>50</td>\n",
       "      <td>Self-emp-not-inc</td>\n",
       "      <td>83311</td>\n",
       "      <td>Bachelors</td>\n",
       "      <td>13.0</td>\n",
       "      <td>Married-civ-spouse</td>\n",
       "      <td>Exec-managerial</td>\n",
       "      <td>Husband</td>\n",
       "      <td>White</td>\n",
       "      <td>Male</td>\n",
       "      <td>0</td>\n",
       "      <td>0</td>\n",
       "      <td>13</td>\n",
       "      <td>United-States</td>\n",
       "      <td>&lt;=50K</td>\n",
       "    </tr>\n",
       "    <tr>\n",
       "      <th>2</th>\n",
       "      <td>38</td>\n",
       "      <td>Private</td>\n",
       "      <td>215646</td>\n",
       "      <td>HS-grad</td>\n",
       "      <td>9.0</td>\n",
       "      <td>Divorced</td>\n",
       "      <td>Handlers-cleaners</td>\n",
       "      <td>Not-in-family</td>\n",
       "      <td>White</td>\n",
       "      <td>Male</td>\n",
       "      <td>0</td>\n",
       "      <td>0</td>\n",
       "      <td>40</td>\n",
       "      <td>United-States</td>\n",
       "      <td>&lt;=50K</td>\n",
       "    </tr>\n",
       "    <tr>\n",
       "      <th>3</th>\n",
       "      <td>53</td>\n",
       "      <td>Private</td>\n",
       "      <td>234721</td>\n",
       "      <td>11th</td>\n",
       "      <td>7.0</td>\n",
       "      <td>Married-civ-spouse</td>\n",
       "      <td>Handlers-cleaners</td>\n",
       "      <td>Husband</td>\n",
       "      <td>Black</td>\n",
       "      <td>Male</td>\n",
       "      <td>0</td>\n",
       "      <td>0</td>\n",
       "      <td>40</td>\n",
       "      <td>United-States</td>\n",
       "      <td>&lt;=50K</td>\n",
       "    </tr>\n",
       "    <tr>\n",
       "      <th>4</th>\n",
       "      <td>28</td>\n",
       "      <td>Private</td>\n",
       "      <td>338409</td>\n",
       "      <td>Bachelors</td>\n",
       "      <td>13.0</td>\n",
       "      <td>Married-civ-spouse</td>\n",
       "      <td>Prof-specialty</td>\n",
       "      <td>Wife</td>\n",
       "      <td>Black</td>\n",
       "      <td>Female</td>\n",
       "      <td>0</td>\n",
       "      <td>0</td>\n",
       "      <td>40</td>\n",
       "      <td>Cuba</td>\n",
       "      <td>&lt;=50K</td>\n",
       "    </tr>\n",
       "  </tbody>\n",
       "</table>\n",
       "</div>"
      ],
      "text/plain": [
       "   age         workclass  fnlwgt  education  education_num  \\\n",
       "0   39         State-gov   77516  Bachelors           13.0   \n",
       "1   50  Self-emp-not-inc   83311  Bachelors           13.0   \n",
       "2   38           Private  215646    HS-grad            9.0   \n",
       "3   53           Private  234721       11th            7.0   \n",
       "4   28           Private  338409  Bachelors           13.0   \n",
       "\n",
       "       marital_status         occupation   relationship   race     sex  \\\n",
       "0       Never-married       Adm-clerical  Not-in-family  White    Male   \n",
       "1  Married-civ-spouse    Exec-managerial        Husband  White    Male   \n",
       "2            Divorced  Handlers-cleaners  Not-in-family  White    Male   \n",
       "3  Married-civ-spouse  Handlers-cleaners        Husband  Black    Male   \n",
       "4  Married-civ-spouse     Prof-specialty           Wife  Black  Female   \n",
       "\n",
       "   capital_gain  capital_loss  hours_per_week native_country salary  \n",
       "0          2174             0              40  United-States  <=50K  \n",
       "1             0             0              13  United-States  <=50K  \n",
       "2             0             0              40  United-States  <=50K  \n",
       "3             0             0              40  United-States  <=50K  \n",
       "4             0             0              40           Cuba  <=50K  "
      ]
     },
     "execution_count": 45,
     "metadata": {},
     "output_type": "execute_result"
    }
   ],
   "source": [
    "df.head()"
   ]
  },
  {
   "cell_type": "markdown",
   "id": "b2245c3c",
   "metadata": {
    "papermill": {
     "duration": 0.043455,
     "end_time": "2023-12-20T18:05:32.951306",
     "exception": false,
     "start_time": "2023-12-20T18:05:32.907851",
     "status": "completed"
    },
    "tags": []
   },
   "source": [
    "## capital_gain"
   ]
  },
  {
   "cell_type": "code",
   "execution_count": 46,
   "id": "74640bea",
   "metadata": {
    "execution": {
     "iopub.execute_input": "2023-12-20T18:05:33.041461Z",
     "iopub.status.busy": "2023-12-20T18:05:33.040207Z",
     "iopub.status.idle": "2023-12-20T18:05:33.749668Z",
     "shell.execute_reply": "2023-12-20T18:05:33.748453Z"
    },
    "papermill": {
     "duration": 0.757193,
     "end_time": "2023-12-20T18:05:33.752358",
     "exception": false,
     "start_time": "2023-12-20T18:05:32.995165",
     "status": "completed"
    },
    "tags": []
   },
   "outputs": [
    {
     "data": {
      "text/plain": [
       "<Axes: xlabel='capital_gain', ylabel='Density'>"
      ]
     },
     "execution_count": 46,
     "metadata": {},
     "output_type": "execute_result"
    },
    {
     "data": {
      "image/png": "[encoded data removed]",
      "text/plain": [
       "<Figure size 1200x600 with 1 Axes>"
      ]
     },
     "metadata": {},
     "output_type": "display_data"
    }
   ],
   "source": [
    "plt.figure(figsize =(12,6))\n",
    "sns.kdeplot(x = \"capital_gain\",data = df,hue = \"salary\")"
   ]
  },
  {
   "cell_type": "code",
   "execution_count": 47,
   "id": "f585e7fd",
   "metadata": {
    "execution": {
     "iopub.execute_input": "2023-12-20T18:05:33.844821Z",
     "iopub.status.busy": "2023-12-20T18:05:33.844421Z",
     "iopub.status.idle": "2023-12-20T18:05:33.855225Z",
     "shell.execute_reply": "2023-12-20T18:05:33.854300Z"
    },
    "papermill": {
     "duration": 0.060881,
     "end_time": "2023-12-20T18:05:33.857612",
     "exception": false,
     "start_time": "2023-12-20T18:05:33.796731",
     "status": "completed"
    },
    "tags": []
   },
   "outputs": [
    {
     "data": {
      "text/plain": [
       "count    32537.000000\n",
       "mean      1078.443741\n",
       "std       7387.957424\n",
       "min          0.000000\n",
       "25%          0.000000\n",
       "50%          0.000000\n",
       "75%          0.000000\n",
       "max      99999.000000\n",
       "Name: capital_gain, dtype: float64"
      ]
     },
     "execution_count": 47,
     "metadata": {},
     "output_type": "execute_result"
    }
   ],
   "source": [
    "df.capital_gain.describe()"
   ]
  },
  {
   "cell_type": "code",
   "execution_count": 48,
   "id": "257778bb",
   "metadata": {
    "execution": {
     "iopub.execute_input": "2023-12-20T18:05:33.949103Z",
     "iopub.status.busy": "2023-12-20T18:05:33.947930Z",
     "iopub.status.idle": "2023-12-20T18:05:34.261931Z",
     "shell.execute_reply": "2023-12-20T18:05:34.260745Z"
    },
    "papermill": {
     "duration": 0.362365,
     "end_time": "2023-12-20T18:05:34.264791",
     "exception": false,
     "start_time": "2023-12-20T18:05:33.902426",
     "status": "completed"
    },
    "tags": []
   },
   "outputs": [
    {
     "data": {
      "image/png": "[encoded data removed]",
      "text/plain": [
       "<Figure size 1200x600 with 1 Axes>"
      ]
     },
     "metadata": {},
     "output_type": "display_data"
    }
   ],
   "source": [
    "plt.figure(figsize=(12,6))\n",
    "sns.boxplot(x=\"salary\",y=\"capital_gain\",data=df);"
   ]
  },
  {
   "cell_type": "code",
   "execution_count": 49,
   "id": "e90905b8",
   "metadata": {
    "execution": {
     "iopub.execute_input": "2023-12-20T18:05:34.357610Z",
     "iopub.status.busy": "2023-12-20T18:05:34.357132Z",
     "iopub.status.idle": "2023-12-20T18:05:35.047611Z",
     "shell.execute_reply": "2023-12-20T18:05:35.046759Z"
    },
    "papermill": {
     "duration": 0.740153,
     "end_time": "2023-12-20T18:05:35.050018",
     "exception": false,
     "start_time": "2023-12-20T18:05:34.309865",
     "status": "completed"
    },
    "tags": []
   },
   "outputs": [
    {
     "data": {
      "text/plain": [
       "<Axes: xlabel='capital_gain', ylabel='Density'>"
      ]
     },
     "execution_count": 49,
     "metadata": {},
     "output_type": "execute_result"
    },
    {
     "data": {
      "image/png": "[encoded data removed]",
      "text/plain": [
       "<Figure size 1200x600 with 1 Axes>"
      ]
     },
     "metadata": {},
     "output_type": "display_data"
    }
   ],
   "source": [
    "plt.figure(figsize=(12,6))\n",
    "sns.kdeplot(x=\"capital_gain\",data = df,hue=\"salary\")"
   ]
  },
  {
   "cell_type": "code",
   "execution_count": 50,
   "id": "be5291de",
   "metadata": {
    "execution": {
     "iopub.execute_input": "2023-12-20T18:05:35.144777Z",
     "iopub.status.busy": "2023-12-20T18:05:35.144158Z",
     "iopub.status.idle": "2023-12-20T18:05:35.169880Z",
     "shell.execute_reply": "2023-12-20T18:05:35.168954Z"
    },
    "papermill": {
     "duration": 0.075495,
     "end_time": "2023-12-20T18:05:35.172445",
     "exception": false,
     "start_time": "2023-12-20T18:05:35.096950",
     "status": "completed"
    },
    "tags": []
   },
   "outputs": [
    {
     "data": {
      "text/html": [
       "<div>\n",
       "<style scoped>\n",
       "    .dataframe tbody tr th:only-of-type {\n",
       "        vertical-align: middle;\n",
       "    }\n",
       "\n",
       "    .dataframe tbody tr th {\n",
       "        vertical-align: top;\n",
       "    }\n",
       "\n",
       "    .dataframe thead th {\n",
       "        text-align: right;\n",
       "    }\n",
       "</style>\n",
       "<table border=\"1\" class=\"dataframe\">\n",
       "  <thead>\n",
       "    <tr style=\"text-align: right;\">\n",
       "      <th></th>\n",
       "      <th>count</th>\n",
       "      <th>mean</th>\n",
       "      <th>std</th>\n",
       "      <th>min</th>\n",
       "      <th>25%</th>\n",
       "      <th>50%</th>\n",
       "      <th>75%</th>\n",
       "      <th>max</th>\n",
       "    </tr>\n",
       "    <tr>\n",
       "      <th>salary</th>\n",
       "      <th></th>\n",
       "      <th></th>\n",
       "      <th></th>\n",
       "      <th></th>\n",
       "      <th></th>\n",
       "      <th></th>\n",
       "      <th></th>\n",
       "      <th></th>\n",
       "    </tr>\n",
       "  </thead>\n",
       "  <tbody>\n",
       "    <tr>\n",
       "      <th>&lt;=50K</th>\n",
       "      <td>24698.0</td>\n",
       "      <td>148.884970</td>\n",
       "      <td>963.557955</td>\n",
       "      <td>0.0</td>\n",
       "      <td>0.0</td>\n",
       "      <td>0.0</td>\n",
       "      <td>0.0</td>\n",
       "      <td>41310.0</td>\n",
       "    </tr>\n",
       "    <tr>\n",
       "      <th>&gt;50K</th>\n",
       "      <td>7839.0</td>\n",
       "      <td>4007.164562</td>\n",
       "      <td>14572.097223</td>\n",
       "      <td>0.0</td>\n",
       "      <td>0.0</td>\n",
       "      <td>0.0</td>\n",
       "      <td>0.0</td>\n",
       "      <td>99999.0</td>\n",
       "    </tr>\n",
       "  </tbody>\n",
       "</table>\n",
       "</div>"
      ],
      "text/plain": [
       "          count         mean           std  min  25%  50%  75%      max\n",
       "salary                                                                 \n",
       "<=50K   24698.0   148.884970    963.557955  0.0  0.0  0.0  0.0  41310.0\n",
       ">50K     7839.0  4007.164562  14572.097223  0.0  0.0  0.0  0.0  99999.0"
      ]
     },
     "execution_count": 50,
     "metadata": {},
     "output_type": "execute_result"
    }
   ],
   "source": [
    "df.groupby(\"salary\")[\"capital_gain\"].describe()"
   ]
  },
  {
   "cell_type": "markdown",
   "id": "53bbbbac",
   "metadata": {
    "papermill": {
     "duration": 0.045336,
     "end_time": "2023-12-20T18:05:35.264030",
     "exception": false,
     "start_time": "2023-12-20T18:05:35.218694",
     "status": "completed"
    },
    "tags": []
   },
   "source": [
    "## capital_loss\n",
    "check the box plot to see extreme values"
   ]
  },
  {
   "cell_type": "code",
   "execution_count": 51,
   "id": "31a7cbf7",
   "metadata": {
    "execution": {
     "iopub.execute_input": "2023-12-20T18:05:35.359319Z",
     "iopub.status.busy": "2023-12-20T18:05:35.358445Z",
     "iopub.status.idle": "2023-12-20T18:05:35.631491Z",
     "shell.execute_reply": "2023-12-20T18:05:35.630616Z"
    },
    "papermill": {
     "duration": 0.323052,
     "end_time": "2023-12-20T18:05:35.633715",
     "exception": false,
     "start_time": "2023-12-20T18:05:35.310663",
     "status": "completed"
    },
    "tags": []
   },
   "outputs": [
    {
     "data": {
      "text/plain": [
       "<Axes: xlabel='capital_loss', ylabel='salary'>"
      ]
     },
     "execution_count": 51,
     "metadata": {},
     "output_type": "execute_result"
    },
    {
     "data": {
      "image/png": "[encoded data removed]",
      "text/plain": [
       "<Figure size 640x480 with 1 Axes>"
      ]
     },
     "metadata": {},
     "output_type": "display_data"
    }
   ],
   "source": [
    "sns.boxplot(x=\"capital_loss\",y=\"salary\",data=df)"
   ]
  },
  {
   "cell_type": "code",
   "execution_count": 52,
   "id": "996e0050",
   "metadata": {
    "execution": {
     "iopub.execute_input": "2023-12-20T18:05:35.730372Z",
     "iopub.status.busy": "2023-12-20T18:05:35.729519Z",
     "iopub.status.idle": "2023-12-20T18:05:36.265739Z",
     "shell.execute_reply": "2023-12-20T18:05:36.264302Z"
    },
    "papermill": {
     "duration": 0.587139,
     "end_time": "2023-12-20T18:05:36.268166",
     "exception": false,
     "start_time": "2023-12-20T18:05:35.681027",
     "status": "completed"
    },
    "tags": []
   },
   "outputs": [
    {
     "name": "stderr",
     "output_type": "stream",
     "text": [
      "/tmp/ipykernel_19/545019071.py:2: FutureWarning: \n",
      "\n",
      "`shade` is now deprecated in favor of `fill`; setting `fill=True`.\n",
      "This will become an error in seaborn v0.14.0; please update your code.\n",
      "\n",
      "  sns.kdeplot(x=\"capital_loss\",data = df,shade = True)\n"
     ]
    },
    {
     "data": {
      "text/plain": [
       "<Axes: xlabel='capital_loss', ylabel='Density'>"
      ]
     },
     "execution_count": 52,
     "metadata": {},
     "output_type": "execute_result"
    },
    {
     "data": {
      "image/png": "[encoded data removed]",
      "text/plain": [
       "<Figure size 1200x600 with 1 Axes>"
      ]
     },
     "metadata": {},
     "output_type": "display_data"
    }
   ],
   "source": [
    "plt.figure(figsize=(12,6))\n",
    "sns.kdeplot(x=\"capital_loss\",data = df,shade = True)\n"
   ]
  },
  {
   "cell_type": "code",
   "execution_count": 53,
   "id": "62065a09",
   "metadata": {
    "execution": {
     "iopub.execute_input": "2023-12-20T18:05:36.365952Z",
     "iopub.status.busy": "2023-12-20T18:05:36.364492Z",
     "iopub.status.idle": "2023-12-20T18:05:36.777919Z",
     "shell.execute_reply": "2023-12-20T18:05:36.776781Z"
    },
    "papermill": {
     "duration": 0.46523,
     "end_time": "2023-12-20T18:05:36.781055",
     "exception": false,
     "start_time": "2023-12-20T18:05:36.315825",
     "status": "completed"
    },
    "tags": []
   },
   "outputs": [
    {
     "data": {
      "text/plain": [
       "<Axes: xlabel='salary', ylabel='capital_loss'>"
      ]
     },
     "execution_count": 53,
     "metadata": {},
     "output_type": "execute_result"
    },
    {
     "data": {
      "image/png": "[encoded data removed]",
      "text/plain": [
       "<Figure size 1000x600 with 1 Axes>"
      ]
     },
     "metadata": {},
     "output_type": "display_data"
    }
   ],
   "source": [
    "plt.figure(figsize=(10,6))\n",
    "sns.boxplot(x='salary',y='capital_loss',data=df)"
   ]
  },
  {
   "cell_type": "markdown",
   "id": "4f1365d1",
   "metadata": {
    "papermill": {
     "duration": 0.049611,
     "end_time": "2023-12-20T18:05:36.879348",
     "exception": false,
     "start_time": "2023-12-20T18:05:36.829737",
     "status": "completed"
    },
    "tags": []
   },
   "source": []
  },
  {
   "cell_type": "markdown",
   "id": "4f438133",
   "metadata": {
    "papermill": {
     "duration": 0.048178,
     "end_time": "2023-12-20T18:05:36.975847",
     "exception": false,
     "start_time": "2023-12-20T18:05:36.927669",
     "status": "completed"
    },
    "tags": []
   },
   "source": [
    "## check the stastical values"
   ]
  },
  {
   "cell_type": "code",
   "execution_count": 54,
   "id": "599f4a8b",
   "metadata": {
    "execution": {
     "iopub.execute_input": "2023-12-20T18:05:37.074881Z",
     "iopub.status.busy": "2023-12-20T18:05:37.074424Z",
     "iopub.status.idle": "2023-12-20T18:05:37.084919Z",
     "shell.execute_reply": "2023-12-20T18:05:37.084129Z"
    },
    "papermill": {
     "duration": 0.062986,
     "end_time": "2023-12-20T18:05:37.087106",
     "exception": false,
     "start_time": "2023-12-20T18:05:37.024120",
     "status": "completed"
    },
    "tags": []
   },
   "outputs": [
    {
     "data": {
      "text/plain": [
       "count    32537.000000\n",
       "mean        87.368227\n",
       "std        403.101833\n",
       "min          0.000000\n",
       "25%          0.000000\n",
       "50%          0.000000\n",
       "75%          0.000000\n",
       "max       4356.000000\n",
       "Name: capital_loss, dtype: float64"
      ]
     },
     "execution_count": 54,
     "metadata": {},
     "output_type": "execute_result"
    }
   ],
   "source": [
    "df.capital_loss.describe()"
   ]
  },
  {
   "cell_type": "code",
   "execution_count": 55,
   "id": "e80d6c38",
   "metadata": {
    "execution": {
     "iopub.execute_input": "2023-12-20T18:05:37.185870Z",
     "iopub.status.busy": "2023-12-20T18:05:37.185221Z",
     "iopub.status.idle": "2023-12-20T18:05:37.189177Z",
     "shell.execute_reply": "2023-12-20T18:05:37.188408Z"
    },
    "papermill": {
     "duration": 0.056414,
     "end_time": "2023-12-20T18:05:37.191512",
     "exception": false,
     "start_time": "2023-12-20T18:05:37.135098",
     "status": "completed"
    },
    "tags": []
   },
   "outputs": [],
   "source": [
    "## check the boxplot and histplot/kdeplot by salary levels"
   ]
  },
  {
   "cell_type": "code",
   "execution_count": 56,
   "id": "5fc610f3",
   "metadata": {
    "execution": {
     "iopub.execute_input": "2023-12-20T18:05:37.290942Z",
     "iopub.status.busy": "2023-12-20T18:05:37.290188Z",
     "iopub.status.idle": "2023-12-20T18:05:37.569376Z",
     "shell.execute_reply": "2023-12-20T18:05:37.567841Z"
    },
    "papermill": {
     "duration": 0.332676,
     "end_time": "2023-12-20T18:05:37.572492",
     "exception": false,
     "start_time": "2023-12-20T18:05:37.239816",
     "status": "completed"
    },
    "tags": []
   },
   "outputs": [
    {
     "data": {
      "text/plain": [
       "<Axes: xlabel='salary', ylabel='capital_loss'>"
      ]
     },
     "execution_count": 56,
     "metadata": {},
     "output_type": "execute_result"
    },
    {
     "data": {
      "image/png": "[encoded data removed]",
      "text/plain": [
       "<Figure size 640x480 with 1 Axes>"
      ]
     },
     "metadata": {},
     "output_type": "display_data"
    }
   ],
   "source": [
    "sns.boxplot(x=\"salary\",y=\"capital_loss\",data = df)"
   ]
  },
  {
   "cell_type": "code",
   "execution_count": 57,
   "id": "40b15214",
   "metadata": {
    "execution": {
     "iopub.execute_input": "2023-12-20T18:05:37.673636Z",
     "iopub.status.busy": "2023-12-20T18:05:37.672887Z",
     "iopub.status.idle": "2023-12-20T18:05:38.382786Z",
     "shell.execute_reply": "2023-12-20T18:05:38.381607Z"
    },
    "papermill": {
     "duration": 0.764,
     "end_time": "2023-12-20T18:05:38.385538",
     "exception": false,
     "start_time": "2023-12-20T18:05:37.621538",
     "status": "completed"
    },
    "tags": []
   },
   "outputs": [
    {
     "name": "stderr",
     "output_type": "stream",
     "text": [
      "/tmp/ipykernel_19/1796291864.py:1: FutureWarning: \n",
      "\n",
      "`shade` is now deprecated in favor of `fill`; setting `fill=True`.\n",
      "This will become an error in seaborn v0.14.0; please update your code.\n",
      "\n",
      "  sns.kdeplot(x=\"capital_loss\",data= df,hue=\"salary\",shade=True)\n"
     ]
    },
    {
     "data": {
      "text/plain": [
       "<Axes: xlabel='capital_loss', ylabel='Density'>"
      ]
     },
     "execution_count": 57,
     "metadata": {},
     "output_type": "execute_result"
    },
    {
     "data": {
      "image/png": "[encoded data removed]",
      "text/plain": [
       "<Figure size 640x480 with 1 Axes>"
      ]
     },
     "metadata": {},
     "output_type": "display_data"
    }
   ],
   "source": [
    "sns.kdeplot(x=\"capital_loss\",data= df,hue=\"salary\",shade=True)"
   ]
  },
  {
   "cell_type": "markdown",
   "id": "c3650249",
   "metadata": {
    "papermill": {
     "duration": 0.049994,
     "end_time": "2023-12-20T18:05:38.485023",
     "exception": false,
     "start_time": "2023-12-20T18:05:38.435029",
     "status": "completed"
    },
    "tags": []
   },
   "source": [
    "## check the statistical values by \"salary\" levels"
   ]
  },
  {
   "cell_type": "code",
   "execution_count": 58,
   "id": "5e3a4b28",
   "metadata": {
    "execution": {
     "iopub.execute_input": "2023-12-20T18:05:38.585628Z",
     "iopub.status.busy": "2023-12-20T18:05:38.584884Z",
     "iopub.status.idle": "2023-12-20T18:05:38.613531Z",
     "shell.execute_reply": "2023-12-20T18:05:38.612378Z"
    },
    "papermill": {
     "duration": 0.082018,
     "end_time": "2023-12-20T18:05:38.616085",
     "exception": false,
     "start_time": "2023-12-20T18:05:38.534067",
     "status": "completed"
    },
    "tags": []
   },
   "outputs": [
    {
     "data": {
      "text/html": [
       "<div>\n",
       "<style scoped>\n",
       "    .dataframe tbody tr th:only-of-type {\n",
       "        vertical-align: middle;\n",
       "    }\n",
       "\n",
       "    .dataframe tbody tr th {\n",
       "        vertical-align: top;\n",
       "    }\n",
       "\n",
       "    .dataframe thead th {\n",
       "        text-align: right;\n",
       "    }\n",
       "</style>\n",
       "<table border=\"1\" class=\"dataframe\">\n",
       "  <thead>\n",
       "    <tr style=\"text-align: right;\">\n",
       "      <th></th>\n",
       "      <th>count</th>\n",
       "      <th>mean</th>\n",
       "      <th>std</th>\n",
       "      <th>min</th>\n",
       "      <th>25%</th>\n",
       "      <th>50%</th>\n",
       "      <th>75%</th>\n",
       "      <th>max</th>\n",
       "    </tr>\n",
       "    <tr>\n",
       "      <th>salary</th>\n",
       "      <th></th>\n",
       "      <th></th>\n",
       "      <th></th>\n",
       "      <th></th>\n",
       "      <th></th>\n",
       "      <th></th>\n",
       "      <th></th>\n",
       "      <th></th>\n",
       "    </tr>\n",
       "  </thead>\n",
       "  <tbody>\n",
       "    <tr>\n",
       "      <th>&lt;=50K</th>\n",
       "      <td>24698.0</td>\n",
       "      <td>53.190258</td>\n",
       "      <td>310.890099</td>\n",
       "      <td>0.0</td>\n",
       "      <td>0.0</td>\n",
       "      <td>0.0</td>\n",
       "      <td>0.0</td>\n",
       "      <td>4356.0</td>\n",
       "    </tr>\n",
       "    <tr>\n",
       "      <th>&gt;50K</th>\n",
       "      <td>7839.0</td>\n",
       "      <td>195.051282</td>\n",
       "      <td>595.555395</td>\n",
       "      <td>0.0</td>\n",
       "      <td>0.0</td>\n",
       "      <td>0.0</td>\n",
       "      <td>0.0</td>\n",
       "      <td>3683.0</td>\n",
       "    </tr>\n",
       "  </tbody>\n",
       "</table>\n",
       "</div>"
      ],
      "text/plain": [
       "          count        mean         std  min  25%  50%  75%     max\n",
       "salary                                                             \n",
       "<=50K   24698.0   53.190258  310.890099  0.0  0.0  0.0  0.0  4356.0\n",
       ">50K     7839.0  195.051282  595.555395  0.0  0.0  0.0  0.0  3683.0"
      ]
     },
     "execution_count": 58,
     "metadata": {},
     "output_type": "execute_result"
    }
   ],
   "source": [
    "df.groupby(\"salary\")[\"capital_loss\"].describe()"
   ]
  },
  {
   "cell_type": "code",
   "execution_count": 59,
   "id": "10897c50",
   "metadata": {
    "execution": {
     "iopub.execute_input": "2023-12-20T18:05:38.719939Z",
     "iopub.status.busy": "2023-12-20T18:05:38.719489Z",
     "iopub.status.idle": "2023-12-20T18:05:38.766559Z",
     "shell.execute_reply": "2023-12-20T18:05:38.765168Z"
    },
    "papermill": {
     "duration": 0.101668,
     "end_time": "2023-12-20T18:05:38.769228",
     "exception": false,
     "start_time": "2023-12-20T18:05:38.667560",
     "status": "completed"
    },
    "tags": []
   },
   "outputs": [
    {
     "name": "stdout",
     "output_type": "stream",
     "text": [
      "<class 'pandas.core.frame.DataFrame'>\n",
      "Index: 32537 entries, 0 to 32560\n",
      "Data columns (total 15 columns):\n",
      " #   Column          Non-Null Count  Dtype  \n",
      "---  ------          --------------  -----  \n",
      " 0   age             32537 non-null  int64  \n",
      " 1   workclass       32537 non-null  object \n",
      " 2   fnlwgt          32537 non-null  int64  \n",
      " 3   education       32537 non-null  object \n",
      " 4   education_num   31735 non-null  float64\n",
      " 5   marital_status  32537 non-null  object \n",
      " 6   occupation      32537 non-null  object \n",
      " 7   relationship    27473 non-null  object \n",
      " 8   race            32537 non-null  object \n",
      " 9   sex             32537 non-null  object \n",
      " 10  capital_gain    32537 non-null  int64  \n",
      " 11  capital_loss    32537 non-null  int64  \n",
      " 12  hours_per_week  32537 non-null  int64  \n",
      " 13  native_country  32537 non-null  object \n",
      " 14  salary          32537 non-null  object \n",
      "dtypes: float64(1), int64(5), object(9)\n",
      "memory usage: 4.0+ MB\n"
     ]
    }
   ],
   "source": [
    "df.info()"
   ]
  },
  {
   "cell_type": "markdown",
   "id": "153894c7",
   "metadata": {
    "papermill": {
     "duration": 0.051598,
     "end_time": "2023-12-20T18:05:38.870477",
     "exception": false,
     "start_time": "2023-12-20T18:05:38.818879",
     "status": "completed"
    },
    "tags": []
   },
   "source": [
    "## categorical feature of education and education_num\n",
    "\n",
    "## detect the similarities between these features by comparing unique values"
   ]
  },
  {
   "cell_type": "code",
   "execution_count": 60,
   "id": "81d7626c",
   "metadata": {
    "execution": {
     "iopub.execute_input": "2023-12-20T18:05:38.973800Z",
     "iopub.status.busy": "2023-12-20T18:05:38.973373Z",
     "iopub.status.idle": "2023-12-20T18:05:38.991564Z",
     "shell.execute_reply": "2023-12-20T18:05:38.990422Z"
    },
    "papermill": {
     "duration": 0.073369,
     "end_time": "2023-12-20T18:05:38.993992",
     "exception": false,
     "start_time": "2023-12-20T18:05:38.920623",
     "status": "completed"
    },
    "tags": []
   },
   "outputs": [
    {
     "data": {
      "text/html": [
       "<div>\n",
       "<style scoped>\n",
       "    .dataframe tbody tr th:only-of-type {\n",
       "        vertical-align: middle;\n",
       "    }\n",
       "\n",
       "    .dataframe tbody tr th {\n",
       "        vertical-align: top;\n",
       "    }\n",
       "\n",
       "    .dataframe thead th {\n",
       "        text-align: right;\n",
       "    }\n",
       "</style>\n",
       "<table border=\"1\" class=\"dataframe\">\n",
       "  <thead>\n",
       "    <tr style=\"text-align: right;\">\n",
       "      <th></th>\n",
       "      <th>age</th>\n",
       "      <th>workclass</th>\n",
       "      <th>fnlwgt</th>\n",
       "      <th>education</th>\n",
       "      <th>education_num</th>\n",
       "      <th>marital_status</th>\n",
       "      <th>occupation</th>\n",
       "      <th>relationship</th>\n",
       "      <th>race</th>\n",
       "      <th>sex</th>\n",
       "      <th>capital_gain</th>\n",
       "      <th>capital_loss</th>\n",
       "      <th>hours_per_week</th>\n",
       "      <th>native_country</th>\n",
       "      <th>salary</th>\n",
       "    </tr>\n",
       "  </thead>\n",
       "  <tbody>\n",
       "    <tr>\n",
       "      <th>0</th>\n",
       "      <td>39</td>\n",
       "      <td>State-gov</td>\n",
       "      <td>77516</td>\n",
       "      <td>Bachelors</td>\n",
       "      <td>13.0</td>\n",
       "      <td>Never-married</td>\n",
       "      <td>Adm-clerical</td>\n",
       "      <td>Not-in-family</td>\n",
       "      <td>White</td>\n",
       "      <td>Male</td>\n",
       "      <td>2174</td>\n",
       "      <td>0</td>\n",
       "      <td>40</td>\n",
       "      <td>United-States</td>\n",
       "      <td>&lt;=50K</td>\n",
       "    </tr>\n",
       "    <tr>\n",
       "      <th>1</th>\n",
       "      <td>50</td>\n",
       "      <td>Self-emp-not-inc</td>\n",
       "      <td>83311</td>\n",
       "      <td>Bachelors</td>\n",
       "      <td>13.0</td>\n",
       "      <td>Married-civ-spouse</td>\n",
       "      <td>Exec-managerial</td>\n",
       "      <td>Husband</td>\n",
       "      <td>White</td>\n",
       "      <td>Male</td>\n",
       "      <td>0</td>\n",
       "      <td>0</td>\n",
       "      <td>13</td>\n",
       "      <td>United-States</td>\n",
       "      <td>&lt;=50K</td>\n",
       "    </tr>\n",
       "  </tbody>\n",
       "</table>\n",
       "</div>"
      ],
      "text/plain": [
       "   age         workclass  fnlwgt  education  education_num  \\\n",
       "0   39         State-gov   77516  Bachelors           13.0   \n",
       "1   50  Self-emp-not-inc   83311  Bachelors           13.0   \n",
       "\n",
       "       marital_status       occupation   relationship   race   sex  \\\n",
       "0       Never-married     Adm-clerical  Not-in-family  White  Male   \n",
       "1  Married-civ-spouse  Exec-managerial        Husband  White  Male   \n",
       "\n",
       "   capital_gain  capital_loss  hours_per_week native_country salary  \n",
       "0          2174             0              40  United-States  <=50K  \n",
       "1             0             0              13  United-States  <=50K  "
      ]
     },
     "execution_count": 60,
     "metadata": {},
     "output_type": "execute_result"
    }
   ],
   "source": [
    "df.head(2)"
   ]
  },
  {
   "cell_type": "code",
   "execution_count": 61,
   "id": "f184c66d",
   "metadata": {
    "execution": {
     "iopub.execute_input": "2023-12-20T18:05:39.095364Z",
     "iopub.status.busy": "2023-12-20T18:05:39.094949Z",
     "iopub.status.idle": "2023-12-20T18:05:39.122000Z",
     "shell.execute_reply": "2023-12-20T18:05:39.120739Z"
    },
    "papermill": {
     "duration": 0.080755,
     "end_time": "2023-12-20T18:05:39.124458",
     "exception": false,
     "start_time": "2023-12-20T18:05:39.043703",
     "status": "completed"
    },
    "tags": []
   },
   "outputs": [
    {
     "data": {
      "text/html": [
       "<div>\n",
       "<style scoped>\n",
       "    .dataframe tbody tr th:only-of-type {\n",
       "        vertical-align: middle;\n",
       "    }\n",
       "\n",
       "    .dataframe tbody tr th {\n",
       "        vertical-align: top;\n",
       "    }\n",
       "\n",
       "    .dataframe thead th {\n",
       "        text-align: right;\n",
       "    }\n",
       "</style>\n",
       "<table border=\"1\" class=\"dataframe\">\n",
       "  <thead>\n",
       "    <tr style=\"text-align: right;\">\n",
       "      <th></th>\n",
       "      <th>age</th>\n",
       "      <th>workclass</th>\n",
       "      <th>fnlwgt</th>\n",
       "      <th>education</th>\n",
       "      <th>education_num</th>\n",
       "      <th>marital_status</th>\n",
       "      <th>occupation</th>\n",
       "      <th>relationship</th>\n",
       "      <th>race</th>\n",
       "      <th>sex</th>\n",
       "      <th>capital_gain</th>\n",
       "      <th>capital_loss</th>\n",
       "      <th>hours_per_week</th>\n",
       "      <th>native_country</th>\n",
       "      <th>salary</th>\n",
       "    </tr>\n",
       "  </thead>\n",
       "  <tbody>\n",
       "    <tr>\n",
       "      <th>0</th>\n",
       "      <td>39</td>\n",
       "      <td>State-gov</td>\n",
       "      <td>77516</td>\n",
       "      <td>Bachelors</td>\n",
       "      <td>13.0</td>\n",
       "      <td>Never-married</td>\n",
       "      <td>Adm-clerical</td>\n",
       "      <td>Not-in-family</td>\n",
       "      <td>White</td>\n",
       "      <td>Male</td>\n",
       "      <td>2174</td>\n",
       "      <td>0</td>\n",
       "      <td>40</td>\n",
       "      <td>United-States</td>\n",
       "      <td>&lt;=50K</td>\n",
       "    </tr>\n",
       "    <tr>\n",
       "      <th>1</th>\n",
       "      <td>50</td>\n",
       "      <td>Self-emp-not-inc</td>\n",
       "      <td>83311</td>\n",
       "      <td>Bachelors</td>\n",
       "      <td>13.0</td>\n",
       "      <td>Married-civ-spouse</td>\n",
       "      <td>Exec-managerial</td>\n",
       "      <td>Husband</td>\n",
       "      <td>White</td>\n",
       "      <td>Male</td>\n",
       "      <td>0</td>\n",
       "      <td>0</td>\n",
       "      <td>13</td>\n",
       "      <td>United-States</td>\n",
       "      <td>&lt;=50K</td>\n",
       "    </tr>\n",
       "    <tr>\n",
       "      <th>2</th>\n",
       "      <td>38</td>\n",
       "      <td>Private</td>\n",
       "      <td>215646</td>\n",
       "      <td>HS-grad</td>\n",
       "      <td>9.0</td>\n",
       "      <td>Divorced</td>\n",
       "      <td>Handlers-cleaners</td>\n",
       "      <td>Not-in-family</td>\n",
       "      <td>White</td>\n",
       "      <td>Male</td>\n",
       "      <td>0</td>\n",
       "      <td>0</td>\n",
       "      <td>40</td>\n",
       "      <td>United-States</td>\n",
       "      <td>&lt;=50K</td>\n",
       "    </tr>\n",
       "    <tr>\n",
       "      <th>3</th>\n",
       "      <td>53</td>\n",
       "      <td>Private</td>\n",
       "      <td>234721</td>\n",
       "      <td>11th</td>\n",
       "      <td>7.0</td>\n",
       "      <td>Married-civ-spouse</td>\n",
       "      <td>Handlers-cleaners</td>\n",
       "      <td>Husband</td>\n",
       "      <td>Black</td>\n",
       "      <td>Male</td>\n",
       "      <td>0</td>\n",
       "      <td>0</td>\n",
       "      <td>40</td>\n",
       "      <td>United-States</td>\n",
       "      <td>&lt;=50K</td>\n",
       "    </tr>\n",
       "    <tr>\n",
       "      <th>4</th>\n",
       "      <td>28</td>\n",
       "      <td>Private</td>\n",
       "      <td>338409</td>\n",
       "      <td>Bachelors</td>\n",
       "      <td>13.0</td>\n",
       "      <td>Married-civ-spouse</td>\n",
       "      <td>Prof-specialty</td>\n",
       "      <td>Wife</td>\n",
       "      <td>Black</td>\n",
       "      <td>Female</td>\n",
       "      <td>0</td>\n",
       "      <td>0</td>\n",
       "      <td>40</td>\n",
       "      <td>Cuba</td>\n",
       "      <td>&lt;=50K</td>\n",
       "    </tr>\n",
       "    <tr>\n",
       "      <th>...</th>\n",
       "      <td>...</td>\n",
       "      <td>...</td>\n",
       "      <td>...</td>\n",
       "      <td>...</td>\n",
       "      <td>...</td>\n",
       "      <td>...</td>\n",
       "      <td>...</td>\n",
       "      <td>...</td>\n",
       "      <td>...</td>\n",
       "      <td>...</td>\n",
       "      <td>...</td>\n",
       "      <td>...</td>\n",
       "      <td>...</td>\n",
       "      <td>...</td>\n",
       "      <td>...</td>\n",
       "    </tr>\n",
       "    <tr>\n",
       "      <th>32556</th>\n",
       "      <td>27</td>\n",
       "      <td>Private</td>\n",
       "      <td>257302</td>\n",
       "      <td>Assoc-acdm</td>\n",
       "      <td>12.0</td>\n",
       "      <td>Married-civ-spouse</td>\n",
       "      <td>Tech-support</td>\n",
       "      <td>Wife</td>\n",
       "      <td>White</td>\n",
       "      <td>Female</td>\n",
       "      <td>0</td>\n",
       "      <td>0</td>\n",
       "      <td>38</td>\n",
       "      <td>United-States</td>\n",
       "      <td>&lt;=50K</td>\n",
       "    </tr>\n",
       "    <tr>\n",
       "      <th>32557</th>\n",
       "      <td>40</td>\n",
       "      <td>Private</td>\n",
       "      <td>154374</td>\n",
       "      <td>HS-grad</td>\n",
       "      <td>9.0</td>\n",
       "      <td>Married-civ-spouse</td>\n",
       "      <td>Machine-op-inspct</td>\n",
       "      <td>Husband</td>\n",
       "      <td>White</td>\n",
       "      <td>Male</td>\n",
       "      <td>0</td>\n",
       "      <td>0</td>\n",
       "      <td>40</td>\n",
       "      <td>United-States</td>\n",
       "      <td>&gt;50K</td>\n",
       "    </tr>\n",
       "    <tr>\n",
       "      <th>32558</th>\n",
       "      <td>58</td>\n",
       "      <td>Private</td>\n",
       "      <td>151910</td>\n",
       "      <td>HS-grad</td>\n",
       "      <td>9.0</td>\n",
       "      <td>Widowed</td>\n",
       "      <td>Adm-clerical</td>\n",
       "      <td>Unmarried</td>\n",
       "      <td>White</td>\n",
       "      <td>Female</td>\n",
       "      <td>0</td>\n",
       "      <td>0</td>\n",
       "      <td>40</td>\n",
       "      <td>United-States</td>\n",
       "      <td>&lt;=50K</td>\n",
       "    </tr>\n",
       "    <tr>\n",
       "      <th>32559</th>\n",
       "      <td>22</td>\n",
       "      <td>Private</td>\n",
       "      <td>201490</td>\n",
       "      <td>HS-grad</td>\n",
       "      <td>9.0</td>\n",
       "      <td>Never-married</td>\n",
       "      <td>Adm-clerical</td>\n",
       "      <td>NaN</td>\n",
       "      <td>White</td>\n",
       "      <td>Male</td>\n",
       "      <td>0</td>\n",
       "      <td>0</td>\n",
       "      <td>20</td>\n",
       "      <td>United-States</td>\n",
       "      <td>&lt;=50K</td>\n",
       "    </tr>\n",
       "    <tr>\n",
       "      <th>32560</th>\n",
       "      <td>52</td>\n",
       "      <td>Self-emp-inc</td>\n",
       "      <td>287927</td>\n",
       "      <td>HS-grad</td>\n",
       "      <td>9.0</td>\n",
       "      <td>Married-civ-spouse</td>\n",
       "      <td>Exec-managerial</td>\n",
       "      <td>Wife</td>\n",
       "      <td>White</td>\n",
       "      <td>Female</td>\n",
       "      <td>15024</td>\n",
       "      <td>0</td>\n",
       "      <td>40</td>\n",
       "      <td>United-States</td>\n",
       "      <td>&gt;50K</td>\n",
       "    </tr>\n",
       "  </tbody>\n",
       "</table>\n",
       "<p>32537 rows × 15 columns</p>\n",
       "</div>"
      ],
      "text/plain": [
       "       age         workclass  fnlwgt   education  education_num  \\\n",
       "0       39         State-gov   77516   Bachelors           13.0   \n",
       "1       50  Self-emp-not-inc   83311   Bachelors           13.0   \n",
       "2       38           Private  215646     HS-grad            9.0   \n",
       "3       53           Private  234721        11th            7.0   \n",
       "4       28           Private  338409   Bachelors           13.0   \n",
       "...    ...               ...     ...         ...            ...   \n",
       "32556   27           Private  257302  Assoc-acdm           12.0   \n",
       "32557   40           Private  154374     HS-grad            9.0   \n",
       "32558   58           Private  151910     HS-grad            9.0   \n",
       "32559   22           Private  201490     HS-grad            9.0   \n",
       "32560   52      Self-emp-inc  287927     HS-grad            9.0   \n",
       "\n",
       "           marital_status         occupation   relationship   race     sex  \\\n",
       "0           Never-married       Adm-clerical  Not-in-family  White    Male   \n",
       "1      Married-civ-spouse    Exec-managerial        Husband  White    Male   \n",
       "2                Divorced  Handlers-cleaners  Not-in-family  White    Male   \n",
       "3      Married-civ-spouse  Handlers-cleaners        Husband  Black    Male   \n",
       "4      Married-civ-spouse     Prof-specialty           Wife  Black  Female   \n",
       "...                   ...                ...            ...    ...     ...   \n",
       "32556  Married-civ-spouse       Tech-support           Wife  White  Female   \n",
       "32557  Married-civ-spouse  Machine-op-inspct        Husband  White    Male   \n",
       "32558             Widowed       Adm-clerical      Unmarried  White  Female   \n",
       "32559       Never-married       Adm-clerical            NaN  White    Male   \n",
       "32560  Married-civ-spouse    Exec-managerial           Wife  White  Female   \n",
       "\n",
       "       capital_gain  capital_loss  hours_per_week native_country salary  \n",
       "0              2174             0              40  United-States  <=50K  \n",
       "1                 0             0              13  United-States  <=50K  \n",
       "2                 0             0              40  United-States  <=50K  \n",
       "3                 0             0              40  United-States  <=50K  \n",
       "4                 0             0              40           Cuba  <=50K  \n",
       "...             ...           ...             ...            ...    ...  \n",
       "32556             0             0              38  United-States  <=50K  \n",
       "32557             0             0              40  United-States   >50K  \n",
       "32558             0             0              40  United-States  <=50K  \n",
       "32559             0             0              20  United-States  <=50K  \n",
       "32560         15024             0              40  United-States   >50K  \n",
       "\n",
       "[32537 rows x 15 columns]"
      ]
     },
     "execution_count": 61,
     "metadata": {},
     "output_type": "execute_result"
    }
   ],
   "source": [
    "df"
   ]
  },
  {
   "cell_type": "code",
   "execution_count": 62,
   "id": "73b1f2f1",
   "metadata": {
    "execution": {
     "iopub.execute_input": "2023-12-20T18:05:39.228442Z",
     "iopub.status.busy": "2023-12-20T18:05:39.227815Z",
     "iopub.status.idle": "2023-12-20T18:05:39.238488Z",
     "shell.execute_reply": "2023-12-20T18:05:39.237352Z"
    },
    "papermill": {
     "duration": 0.0659,
     "end_time": "2023-12-20T18:05:39.240807",
     "exception": false,
     "start_time": "2023-12-20T18:05:39.174907",
     "status": "completed"
    },
    "tags": []
   },
   "outputs": [
    {
     "data": {
      "text/plain": [
       "array(['Bachelors', 'HS-grad', '11th', 'Masters', '9th', 'Some-college',\n",
       "       'Assoc-acdm', 'Assoc-voc', '7th-8th', 'Doctorate', 'Prof-school',\n",
       "       '5th-6th', '10th', '1st-4th', 'Preschool', '12th'], dtype=object)"
      ]
     },
     "execution_count": 62,
     "metadata": {},
     "output_type": "execute_result"
    }
   ],
   "source": [
    "df.education.unique()"
   ]
  },
  {
   "cell_type": "code",
   "execution_count": 63,
   "id": "4fc5a018",
   "metadata": {
    "execution": {
     "iopub.execute_input": "2023-12-20T18:05:39.345447Z",
     "iopub.status.busy": "2023-12-20T18:05:39.344793Z",
     "iopub.status.idle": "2023-12-20T18:05:39.353157Z",
     "shell.execute_reply": "2023-12-20T18:05:39.352000Z"
    },
    "papermill": {
     "duration": 0.064203,
     "end_time": "2023-12-20T18:05:39.355480",
     "exception": false,
     "start_time": "2023-12-20T18:05:39.291277",
     "status": "completed"
    },
    "tags": []
   },
   "outputs": [
    {
     "data": {
      "text/plain": [
       "array([13.,  9.,  7., 14.,  5., 10., 12., nan,  4., 16., 11., 15.,  3.,\n",
       "        6.,  2.,  1.,  8.])"
      ]
     },
     "execution_count": 63,
     "metadata": {},
     "output_type": "execute_result"
    }
   ],
   "source": [
    "df.education_num.unique()"
   ]
  },
  {
   "cell_type": "code",
   "execution_count": 64,
   "id": "65dbbf69",
   "metadata": {
    "execution": {
     "iopub.execute_input": "2023-12-20T18:05:39.462528Z",
     "iopub.status.busy": "2023-12-20T18:05:39.461899Z",
     "iopub.status.idle": "2023-12-20T18:05:39.471796Z",
     "shell.execute_reply": "2023-12-20T18:05:39.470659Z"
    },
    "papermill": {
     "duration": 0.066374,
     "end_time": "2023-12-20T18:05:39.474164",
     "exception": false,
     "start_time": "2023-12-20T18:05:39.407790",
     "status": "completed"
    },
    "tags": []
   },
   "outputs": [
    {
     "data": {
      "text/plain": [
       "education\n",
       "HS-grad         10494\n",
       "Some-college     7282\n",
       "Bachelors        5353\n",
       "Masters          1722\n",
       "Assoc-voc        1382\n",
       "11th             1175\n",
       "Assoc-acdm       1067\n",
       "10th              933\n",
       "7th-8th           645\n",
       "Prof-school       576\n",
       "9th               514\n",
       "12th              433\n",
       "Doctorate         413\n",
       "5th-6th           332\n",
       "1st-4th           166\n",
       "Preschool          50\n",
       "Name: count, dtype: int64"
      ]
     },
     "execution_count": 64,
     "metadata": {},
     "output_type": "execute_result"
    }
   ],
   "source": [
    "df.education.value_counts(dropna = False)"
   ]
  },
  {
   "cell_type": "code",
   "execution_count": 65,
   "id": "bab27ff6",
   "metadata": {
    "execution": {
     "iopub.execute_input": "2023-12-20T18:05:39.577144Z",
     "iopub.status.busy": "2023-12-20T18:05:39.576483Z",
     "iopub.status.idle": "2023-12-20T18:05:39.586994Z",
     "shell.execute_reply": "2023-12-20T18:05:39.585769Z"
    },
    "papermill": {
     "duration": 0.065164,
     "end_time": "2023-12-20T18:05:39.589636",
     "exception": false,
     "start_time": "2023-12-20T18:05:39.524472",
     "status": "completed"
    },
    "tags": []
   },
   "outputs": [
    {
     "data": {
      "text/plain": [
       "education_num\n",
       "9.0     10208\n",
       "10.0     7089\n",
       "13.0     5245\n",
       "14.0     1686\n",
       "11.0     1343\n",
       "7.0      1146\n",
       "12.0     1044\n",
       "6.0       916\n",
       "NaN       802\n",
       "4.0       630\n",
       "15.0      559\n",
       "5.0       503\n",
       "8.0       424\n",
       "16.0      405\n",
       "3.0       329\n",
       "2.0       159\n",
       "1.0        49\n",
       "Name: count, dtype: int64"
      ]
     },
     "execution_count": 65,
     "metadata": {},
     "output_type": "execute_result"
    }
   ],
   "source": [
    "df.education_num.value_counts(dropna = False)"
   ]
  },
  {
   "cell_type": "code",
   "execution_count": 66,
   "id": "0546b882",
   "metadata": {
    "execution": {
     "iopub.execute_input": "2023-12-20T18:05:39.692891Z",
     "iopub.status.busy": "2023-12-20T18:05:39.692408Z",
     "iopub.status.idle": "2023-12-20T18:05:39.713222Z",
     "shell.execute_reply": "2023-12-20T18:05:39.712084Z"
    },
    "papermill": {
     "duration": 0.07559,
     "end_time": "2023-12-20T18:05:39.715868",
     "exception": false,
     "start_time": "2023-12-20T18:05:39.640278",
     "status": "completed"
    },
    "tags": []
   },
   "outputs": [
    {
     "data": {
      "text/plain": [
       "education     education_num\n",
       "10th          6.0                916\n",
       "              NaN                 17\n",
       "11th          7.0               1146\n",
       "              NaN                 29\n",
       "12th          8.0                424\n",
       "              NaN                  9\n",
       "1st-4th       2.0                159\n",
       "              NaN                  7\n",
       "5th-6th       3.0                329\n",
       "              NaN                  3\n",
       "7th-8th       4.0                630\n",
       "              NaN                 15\n",
       "9th           5.0                503\n",
       "              NaN                 11\n",
       "Assoc-acdm    12.0              1044\n",
       "              NaN                 23\n",
       "Assoc-voc     11.0              1343\n",
       "              NaN                 39\n",
       "Bachelors     13.0              5245\n",
       "              NaN                108\n",
       "Doctorate     16.0               405\n",
       "              NaN                  8\n",
       "HS-grad       9.0              10208\n",
       "              NaN                286\n",
       "Masters       14.0              1686\n",
       "              NaN                 36\n",
       "Preschool     1.0                 49\n",
       "              NaN                  1\n",
       "Prof-school   15.0               559\n",
       "              NaN                 17\n",
       "Some-college  10.0              7089\n",
       "              NaN                193\n",
       "Name: count, dtype: int64"
      ]
     },
     "execution_count": 66,
     "metadata": {},
     "output_type": "execute_result"
    }
   ],
   "source": [
    "df.groupby(\"education\")[\"education_num\"].value_counts(dropna=False)"
   ]
  },
  {
   "cell_type": "markdown",
   "id": "1a9703b2",
   "metadata": {
    "papermill": {
     "duration": 0.050521,
     "end_time": "2023-12-20T18:05:39.817713",
     "exception": false,
     "start_time": "2023-12-20T18:05:39.767192",
     "status": "completed"
    },
    "tags": []
   },
   "source": [
    "## visualize the count of person in each categories for these features (education,education_num)separately"
   ]
  },
  {
   "cell_type": "code",
   "execution_count": 67,
   "id": "414f326c",
   "metadata": {
    "execution": {
     "iopub.execute_input": "2023-12-20T18:05:39.922170Z",
     "iopub.status.busy": "2023-12-20T18:05:39.921781Z",
     "iopub.status.idle": "2023-12-20T18:05:40.367924Z",
     "shell.execute_reply": "2023-12-20T18:05:40.366747Z"
    },
    "papermill": {
     "duration": 0.501531,
     "end_time": "2023-12-20T18:05:40.370842",
     "exception": false,
     "start_time": "2023-12-20T18:05:39.869311",
     "status": "completed"
    },
    "tags": []
   },
   "outputs": [
    {
     "data": {
      "text/plain": [
       "[Text(0, 0, 'Bachelors'),\n",
       " Text(1, 0, 'HS-grad'),\n",
       " Text(2, 0, '11th'),\n",
       " Text(3, 0, 'Masters'),\n",
       " Text(4, 0, '9th'),\n",
       " Text(5, 0, 'Some-college'),\n",
       " Text(6, 0, 'Assoc-acdm'),\n",
       " Text(7, 0, 'Assoc-voc'),\n",
       " Text(8, 0, '7th-8th'),\n",
       " Text(9, 0, 'Doctorate'),\n",
       " Text(10, 0, 'Prof-school'),\n",
       " Text(11, 0, '5th-6th'),\n",
       " Text(12, 0, '10th'),\n",
       " Text(13, 0, '1st-4th'),\n",
       " Text(14, 0, 'Preschool'),\n",
       " Text(15, 0, '12th')]"
      ]
     },
     "execution_count": 67,
     "metadata": {},
     "output_type": "execute_result"
    },
    {
     "data": {
      "image/png": "[encoded data removed]",
      "text/plain": [
       "<Figure size 1200x600 with 1 Axes>"
      ]
     },
     "metadata": {},
     "output_type": "display_data"
    }
   ],
   "source": [
    "fig,ax = plt.subplots(figsize=(12,6))\n",
    "sns.countplot(x = \"education\", data = df)\n",
    "ax.set_xticklabels(df.education.unique(),rotation = 90)"
   ]
  },
  {
   "cell_type": "code",
   "execution_count": 68,
   "id": "9d43545d",
   "metadata": {
    "execution": {
     "iopub.execute_input": "2023-12-20T18:05:40.480531Z",
     "iopub.status.busy": "2023-12-20T18:05:40.480111Z",
     "iopub.status.idle": "2023-12-20T18:05:40.864310Z",
     "shell.execute_reply": "2023-12-20T18:05:40.863209Z"
    },
    "papermill": {
     "duration": 0.44265,
     "end_time": "2023-12-20T18:05:40.867025",
     "exception": false,
     "start_time": "2023-12-20T18:05:40.424375",
     "status": "completed"
    },
    "tags": []
   },
   "outputs": [
    {
     "data": {
      "text/plain": [
       "<Axes: xlabel='education_num', ylabel='count'>"
      ]
     },
     "execution_count": 68,
     "metadata": {},
     "output_type": "execute_result"
    },
    {
     "data": {
      "image/png": "[encoded data removed]",
      "text/plain": [
       "<Figure size 1200x600 with 1 Axes>"
      ]
     },
     "metadata": {},
     "output_type": "display_data"
    }
   ],
   "source": [
    "fig,ax = plt.subplots(figsize =(12,6))\n",
    "sns.countplot(x=\"education_num\",data = df)"
   ]
  },
  {
   "cell_type": "code",
   "execution_count": 69,
   "id": "1d9ce9c1",
   "metadata": {
    "execution": {
     "iopub.execute_input": "2023-12-20T18:05:40.975012Z",
     "iopub.status.busy": "2023-12-20T18:05:40.974291Z",
     "iopub.status.idle": "2023-12-20T18:05:40.997887Z",
     "shell.execute_reply": "2023-12-20T18:05:40.997051Z"
    },
    "papermill": {
     "duration": 0.080473,
     "end_time": "2023-12-20T18:05:41.000182",
     "exception": false,
     "start_time": "2023-12-20T18:05:40.919709",
     "status": "completed"
    },
    "tags": []
   },
   "outputs": [
    {
     "data": {
      "text/plain": [
       "education     salary\n",
       "10th          <=50K      871\n",
       "              >50K        62\n",
       "11th          <=50K     1115\n",
       "              >50K        60\n",
       "12th          <=50K      400\n",
       "              >50K        33\n",
       "1st-4th       <=50K      160\n",
       "              >50K         6\n",
       "5th-6th       <=50K      316\n",
       "              >50K        16\n",
       "7th-8th       <=50K      605\n",
       "              >50K        40\n",
       "9th           <=50K      487\n",
       "              >50K        27\n",
       "Assoc-acdm    <=50K      802\n",
       "              >50K       265\n",
       "Assoc-voc     <=50K     1021\n",
       "              >50K       361\n",
       "Bachelors     <=50K     3132\n",
       "              >50K      2221\n",
       "Doctorate     >50K       306\n",
       "              <=50K      107\n",
       "HS-grad       <=50K     8820\n",
       "              >50K      1674\n",
       "Masters       >50K       959\n",
       "              <=50K      763\n",
       "Preschool     <=50K       50\n",
       "Prof-school   >50K       423\n",
       "              <=50K      153\n",
       "Some-college  <=50K     5896\n",
       "              >50K      1386\n",
       "Name: count, dtype: int64"
      ]
     },
     "execution_count": 69,
     "metadata": {},
     "output_type": "execute_result"
    }
   ],
   "source": [
    "df.groupby(\"education\")[\"salary\"].value_counts(dropna=False)"
   ]
  },
  {
   "cell_type": "code",
   "execution_count": 70,
   "id": "e705cf2a",
   "metadata": {
    "execution": {
     "iopub.execute_input": "2023-12-20T18:05:41.107590Z",
     "iopub.status.busy": "2023-12-20T18:05:41.106834Z",
     "iopub.status.idle": "2023-12-20T18:05:41.666020Z",
     "shell.execute_reply": "2023-12-20T18:05:41.664757Z"
    },
    "papermill": {
     "duration": 0.616041,
     "end_time": "2023-12-20T18:05:41.668653",
     "exception": false,
     "start_time": "2023-12-20T18:05:41.052612",
     "status": "completed"
    },
    "tags": []
   },
   "outputs": [
    {
     "data": {
      "text/plain": [
       "<Axes: xlabel='education', ylabel='count'>"
      ]
     },
     "execution_count": 70,
     "metadata": {},
     "output_type": "execute_result"
    },
    {
     "data": {
      "image/png": "[encoded data removed]",
      "text/plain": [
       "<Figure size 1200x600 with 1 Axes>"
      ]
     },
     "metadata": {},
     "output_type": "display_data"
    }
   ],
   "source": [
    "plt.figure(figsize = (12,6))\n",
    "sns.countplot(hue=\"salary\",x=\"education\",data= df)"
   ]
  },
  {
   "cell_type": "code",
   "execution_count": 71,
   "id": "26b0af97",
   "metadata": {
    "execution": {
     "iopub.execute_input": "2023-12-20T18:05:41.777372Z",
     "iopub.status.busy": "2023-12-20T18:05:41.776643Z",
     "iopub.status.idle": "2023-12-20T18:05:42.350008Z",
     "shell.execute_reply": "2023-12-20T18:05:42.348801Z"
    },
    "papermill": {
     "duration": 0.631365,
     "end_time": "2023-12-20T18:05:42.353114",
     "exception": false,
     "start_time": "2023-12-20T18:05:41.721749",
     "status": "completed"
    },
    "tags": []
   },
   "outputs": [
    {
     "data": {
      "text/plain": [
       "[Text(0, 0, 'Bachelors'),\n",
       " Text(1, 0, 'HS-grad'),\n",
       " Text(2, 0, '11th'),\n",
       " Text(3, 0, 'Masters'),\n",
       " Text(4, 0, '9th'),\n",
       " Text(5, 0, 'Some-college'),\n",
       " Text(6, 0, 'Assoc-acdm'),\n",
       " Text(7, 0, 'Assoc-voc'),\n",
       " Text(8, 0, '7th-8th'),\n",
       " Text(9, 0, 'Doctorate'),\n",
       " Text(10, 0, 'Prof-school'),\n",
       " Text(11, 0, '5th-6th'),\n",
       " Text(12, 0, '10th'),\n",
       " Text(13, 0, '1st-4th'),\n",
       " Text(14, 0, 'Preschool'),\n",
       " Text(15, 0, '12th')]"
      ]
     },
     "execution_count": 71,
     "metadata": {},
     "output_type": "execute_result"
    },
    {
     "data": {
      "image/png": "[encoded data removed]",
      "text/plain": [
       "<Figure size 1200x600 with 1 Axes>"
      ]
     },
     "metadata": {},
     "output_type": "display_data"
    }
   ],
   "source": [
    "fig,ax = plt.subplots(figsize = (12,6))\n",
    "sns.countplot(x=\"education\",data = df,hue=\"salary\")\n",
    "ax.set_xticklabels(df.education.unique(),rotation=45)"
   ]
  },
  {
   "cell_type": "code",
   "execution_count": 72,
   "id": "0b1ce05c",
   "metadata": {
    "execution": {
     "iopub.execute_input": "2023-12-20T18:05:42.466505Z",
     "iopub.status.busy": "2023-12-20T18:05:42.465821Z",
     "iopub.status.idle": "2023-12-20T18:05:42.487905Z",
     "shell.execute_reply": "2023-12-20T18:05:42.486760Z"
    },
    "papermill": {
     "duration": 0.081213,
     "end_time": "2023-12-20T18:05:42.490386",
     "exception": false,
     "start_time": "2023-12-20T18:05:42.409173",
     "status": "completed"
    },
    "tags": []
   },
   "outputs": [
    {
     "data": {
      "text/plain": [
       "education_num  salary\n",
       "1.0            <=50K       49\n",
       "2.0            <=50K      153\n",
       "               >50K         6\n",
       "3.0            <=50K      313\n",
       "               >50K        16\n",
       "4.0            <=50K      592\n",
       "               >50K        38\n",
       "5.0            <=50K      477\n",
       "               >50K        26\n",
       "6.0            <=50K      854\n",
       "               >50K        62\n",
       "7.0            <=50K     1088\n",
       "               >50K        58\n",
       "8.0            <=50K      391\n",
       "               >50K        33\n",
       "9.0            <=50K     8579\n",
       "               >50K      1629\n",
       "10.0           <=50K     5746\n",
       "               >50K      1343\n",
       "11.0           <=50K      994\n",
       "               >50K       349\n",
       "12.0           <=50K      787\n",
       "               >50K       257\n",
       "13.0           <=50K     3078\n",
       "               >50K      2167\n",
       "14.0           >50K       935\n",
       "               <=50K      751\n",
       "15.0           >50K       410\n",
       "               <=50K      149\n",
       "16.0           >50K       302\n",
       "               <=50K      103\n",
       "Name: count, dtype: int64"
      ]
     },
     "execution_count": 72,
     "metadata": {},
     "output_type": "execute_result"
    }
   ],
   "source": [
    "df.groupby(\"education_num\")[\"salary\"].value_counts(dropna=False)"
   ]
  },
  {
   "cell_type": "markdown",
   "id": "28c6b9c4",
   "metadata": {
    "papermill": {
     "duration": 0.054673,
     "end_time": "2023-12-20T18:05:42.600303",
     "exception": false,
     "start_time": "2023-12-20T18:05:42.545630",
     "status": "completed"
    },
    "tags": []
   },
   "source": [
    "## visualize the boxplot of \"education_num\" featue by salary levels"
   ]
  },
  {
   "cell_type": "code",
   "execution_count": 73,
   "id": "faef7fb4",
   "metadata": {
    "execution": {
     "iopub.execute_input": "2023-12-20T18:05:42.713427Z",
     "iopub.status.busy": "2023-12-20T18:05:42.712369Z",
     "iopub.status.idle": "2023-12-20T18:05:43.071261Z",
     "shell.execute_reply": "2023-12-20T18:05:43.070042Z"
    },
    "papermill": {
     "duration": 0.418655,
     "end_time": "2023-12-20T18:05:43.074046",
     "exception": false,
     "start_time": "2023-12-20T18:05:42.655391",
     "status": "completed"
    },
    "tags": []
   },
   "outputs": [
    {
     "data": {
      "text/plain": [
       "<Axes: xlabel='salary', ylabel='education_num'>"
      ]
     },
     "execution_count": 73,
     "metadata": {},
     "output_type": "execute_result"
    },
    {
     "data": {
      "image/png": "[encoded data removed]",
      "text/plain": [
       "<Figure size 1200x600 with 1 Axes>"
      ]
     },
     "metadata": {},
     "output_type": "display_data"
    }
   ],
   "source": [
    "plt.figure(figsize=(12,6))\n",
    "\n",
    "sns.boxplot(x=\"salary\",y=\"education_num\",data=df)"
   ]
  },
  {
   "cell_type": "code",
   "execution_count": 74,
   "id": "73aadce3",
   "metadata": {
    "execution": {
     "iopub.execute_input": "2023-12-20T18:05:43.190628Z",
     "iopub.status.busy": "2023-12-20T18:05:43.190218Z",
     "iopub.status.idle": "2023-12-20T18:05:43.220088Z",
     "shell.execute_reply": "2023-12-20T18:05:43.219094Z"
    },
    "papermill": {
     "duration": 0.092064,
     "end_time": "2023-12-20T18:05:43.222464",
     "exception": false,
     "start_time": "2023-12-20T18:05:43.130400",
     "status": "completed"
    },
    "tags": []
   },
   "outputs": [
    {
     "data": {
      "text/html": [
       "<div>\n",
       "<style scoped>\n",
       "    .dataframe tbody tr th:only-of-type {\n",
       "        vertical-align: middle;\n",
       "    }\n",
       "\n",
       "    .dataframe tbody tr th {\n",
       "        vertical-align: top;\n",
       "    }\n",
       "\n",
       "    .dataframe thead th {\n",
       "        text-align: right;\n",
       "    }\n",
       "</style>\n",
       "<table border=\"1\" class=\"dataframe\">\n",
       "  <thead>\n",
       "    <tr style=\"text-align: right;\">\n",
       "      <th></th>\n",
       "      <th>age</th>\n",
       "      <th>workclass</th>\n",
       "      <th>fnlwgt</th>\n",
       "      <th>education</th>\n",
       "      <th>education_num</th>\n",
       "      <th>marital_status</th>\n",
       "      <th>occupation</th>\n",
       "      <th>relationship</th>\n",
       "      <th>race</th>\n",
       "      <th>sex</th>\n",
       "      <th>capital_gain</th>\n",
       "      <th>capital_loss</th>\n",
       "      <th>hours_per_week</th>\n",
       "      <th>native_country</th>\n",
       "      <th>salary</th>\n",
       "    </tr>\n",
       "  </thead>\n",
       "  <tbody>\n",
       "    <tr>\n",
       "      <th>0</th>\n",
       "      <td>39</td>\n",
       "      <td>State-gov</td>\n",
       "      <td>77516</td>\n",
       "      <td>Bachelors</td>\n",
       "      <td>13.0</td>\n",
       "      <td>Never-married</td>\n",
       "      <td>Adm-clerical</td>\n",
       "      <td>Not-in-family</td>\n",
       "      <td>White</td>\n",
       "      <td>Male</td>\n",
       "      <td>2174</td>\n",
       "      <td>0</td>\n",
       "      <td>40</td>\n",
       "      <td>United-States</td>\n",
       "      <td>&lt;=50K</td>\n",
       "    </tr>\n",
       "    <tr>\n",
       "      <th>1</th>\n",
       "      <td>50</td>\n",
       "      <td>Self-emp-not-inc</td>\n",
       "      <td>83311</td>\n",
       "      <td>Bachelors</td>\n",
       "      <td>13.0</td>\n",
       "      <td>Married-civ-spouse</td>\n",
       "      <td>Exec-managerial</td>\n",
       "      <td>Husband</td>\n",
       "      <td>White</td>\n",
       "      <td>Male</td>\n",
       "      <td>0</td>\n",
       "      <td>0</td>\n",
       "      <td>13</td>\n",
       "      <td>United-States</td>\n",
       "      <td>&lt;=50K</td>\n",
       "    </tr>\n",
       "    <tr>\n",
       "      <th>2</th>\n",
       "      <td>38</td>\n",
       "      <td>Private</td>\n",
       "      <td>215646</td>\n",
       "      <td>HS-grad</td>\n",
       "      <td>9.0</td>\n",
       "      <td>Divorced</td>\n",
       "      <td>Handlers-cleaners</td>\n",
       "      <td>Not-in-family</td>\n",
       "      <td>White</td>\n",
       "      <td>Male</td>\n",
       "      <td>0</td>\n",
       "      <td>0</td>\n",
       "      <td>40</td>\n",
       "      <td>United-States</td>\n",
       "      <td>&lt;=50K</td>\n",
       "    </tr>\n",
       "    <tr>\n",
       "      <th>3</th>\n",
       "      <td>53</td>\n",
       "      <td>Private</td>\n",
       "      <td>234721</td>\n",
       "      <td>11th</td>\n",
       "      <td>7.0</td>\n",
       "      <td>Married-civ-spouse</td>\n",
       "      <td>Handlers-cleaners</td>\n",
       "      <td>Husband</td>\n",
       "      <td>Black</td>\n",
       "      <td>Male</td>\n",
       "      <td>0</td>\n",
       "      <td>0</td>\n",
       "      <td>40</td>\n",
       "      <td>United-States</td>\n",
       "      <td>&lt;=50K</td>\n",
       "    </tr>\n",
       "    <tr>\n",
       "      <th>4</th>\n",
       "      <td>28</td>\n",
       "      <td>Private</td>\n",
       "      <td>338409</td>\n",
       "      <td>Bachelors</td>\n",
       "      <td>13.0</td>\n",
       "      <td>Married-civ-spouse</td>\n",
       "      <td>Prof-specialty</td>\n",
       "      <td>Wife</td>\n",
       "      <td>Black</td>\n",
       "      <td>Female</td>\n",
       "      <td>0</td>\n",
       "      <td>0</td>\n",
       "      <td>40</td>\n",
       "      <td>Cuba</td>\n",
       "      <td>&lt;=50K</td>\n",
       "    </tr>\n",
       "    <tr>\n",
       "      <th>...</th>\n",
       "      <td>...</td>\n",
       "      <td>...</td>\n",
       "      <td>...</td>\n",
       "      <td>...</td>\n",
       "      <td>...</td>\n",
       "      <td>...</td>\n",
       "      <td>...</td>\n",
       "      <td>...</td>\n",
       "      <td>...</td>\n",
       "      <td>...</td>\n",
       "      <td>...</td>\n",
       "      <td>...</td>\n",
       "      <td>...</td>\n",
       "      <td>...</td>\n",
       "      <td>...</td>\n",
       "    </tr>\n",
       "    <tr>\n",
       "      <th>32556</th>\n",
       "      <td>27</td>\n",
       "      <td>Private</td>\n",
       "      <td>257302</td>\n",
       "      <td>Assoc-acdm</td>\n",
       "      <td>12.0</td>\n",
       "      <td>Married-civ-spouse</td>\n",
       "      <td>Tech-support</td>\n",
       "      <td>Wife</td>\n",
       "      <td>White</td>\n",
       "      <td>Female</td>\n",
       "      <td>0</td>\n",
       "      <td>0</td>\n",
       "      <td>38</td>\n",
       "      <td>United-States</td>\n",
       "      <td>&lt;=50K</td>\n",
       "    </tr>\n",
       "    <tr>\n",
       "      <th>32557</th>\n",
       "      <td>40</td>\n",
       "      <td>Private</td>\n",
       "      <td>154374</td>\n",
       "      <td>HS-grad</td>\n",
       "      <td>9.0</td>\n",
       "      <td>Married-civ-spouse</td>\n",
       "      <td>Machine-op-inspct</td>\n",
       "      <td>Husband</td>\n",
       "      <td>White</td>\n",
       "      <td>Male</td>\n",
       "      <td>0</td>\n",
       "      <td>0</td>\n",
       "      <td>40</td>\n",
       "      <td>United-States</td>\n",
       "      <td>&gt;50K</td>\n",
       "    </tr>\n",
       "    <tr>\n",
       "      <th>32558</th>\n",
       "      <td>58</td>\n",
       "      <td>Private</td>\n",
       "      <td>151910</td>\n",
       "      <td>HS-grad</td>\n",
       "      <td>9.0</td>\n",
       "      <td>Widowed</td>\n",
       "      <td>Adm-clerical</td>\n",
       "      <td>Unmarried</td>\n",
       "      <td>White</td>\n",
       "      <td>Female</td>\n",
       "      <td>0</td>\n",
       "      <td>0</td>\n",
       "      <td>40</td>\n",
       "      <td>United-States</td>\n",
       "      <td>&lt;=50K</td>\n",
       "    </tr>\n",
       "    <tr>\n",
       "      <th>32559</th>\n",
       "      <td>22</td>\n",
       "      <td>Private</td>\n",
       "      <td>201490</td>\n",
       "      <td>HS-grad</td>\n",
       "      <td>9.0</td>\n",
       "      <td>Never-married</td>\n",
       "      <td>Adm-clerical</td>\n",
       "      <td>NaN</td>\n",
       "      <td>White</td>\n",
       "      <td>Male</td>\n",
       "      <td>0</td>\n",
       "      <td>0</td>\n",
       "      <td>20</td>\n",
       "      <td>United-States</td>\n",
       "      <td>&lt;=50K</td>\n",
       "    </tr>\n",
       "    <tr>\n",
       "      <th>32560</th>\n",
       "      <td>52</td>\n",
       "      <td>Self-emp-inc</td>\n",
       "      <td>287927</td>\n",
       "      <td>HS-grad</td>\n",
       "      <td>9.0</td>\n",
       "      <td>Married-civ-spouse</td>\n",
       "      <td>Exec-managerial</td>\n",
       "      <td>Wife</td>\n",
       "      <td>White</td>\n",
       "      <td>Female</td>\n",
       "      <td>15024</td>\n",
       "      <td>0</td>\n",
       "      <td>40</td>\n",
       "      <td>United-States</td>\n",
       "      <td>&gt;50K</td>\n",
       "    </tr>\n",
       "  </tbody>\n",
       "</table>\n",
       "<p>32537 rows × 15 columns</p>\n",
       "</div>"
      ],
      "text/plain": [
       "       age         workclass  fnlwgt   education  education_num  \\\n",
       "0       39         State-gov   77516   Bachelors           13.0   \n",
       "1       50  Self-emp-not-inc   83311   Bachelors           13.0   \n",
       "2       38           Private  215646     HS-grad            9.0   \n",
       "3       53           Private  234721        11th            7.0   \n",
       "4       28           Private  338409   Bachelors           13.0   \n",
       "...    ...               ...     ...         ...            ...   \n",
       "32556   27           Private  257302  Assoc-acdm           12.0   \n",
       "32557   40           Private  154374     HS-grad            9.0   \n",
       "32558   58           Private  151910     HS-grad            9.0   \n",
       "32559   22           Private  201490     HS-grad            9.0   \n",
       "32560   52      Self-emp-inc  287927     HS-grad            9.0   \n",
       "\n",
       "           marital_status         occupation   relationship   race     sex  \\\n",
       "0           Never-married       Adm-clerical  Not-in-family  White    Male   \n",
       "1      Married-civ-spouse    Exec-managerial        Husband  White    Male   \n",
       "2                Divorced  Handlers-cleaners  Not-in-family  White    Male   \n",
       "3      Married-civ-spouse  Handlers-cleaners        Husband  Black    Male   \n",
       "4      Married-civ-spouse     Prof-specialty           Wife  Black  Female   \n",
       "...                   ...                ...            ...    ...     ...   \n",
       "32556  Married-civ-spouse       Tech-support           Wife  White  Female   \n",
       "32557  Married-civ-spouse  Machine-op-inspct        Husband  White    Male   \n",
       "32558             Widowed       Adm-clerical      Unmarried  White  Female   \n",
       "32559       Never-married       Adm-clerical            NaN  White    Male   \n",
       "32560  Married-civ-spouse    Exec-managerial           Wife  White  Female   \n",
       "\n",
       "       capital_gain  capital_loss  hours_per_week native_country salary  \n",
       "0              2174             0              40  United-States  <=50K  \n",
       "1                 0             0              13  United-States  <=50K  \n",
       "2                 0             0              40  United-States  <=50K  \n",
       "3                 0             0              40  United-States  <=50K  \n",
       "4                 0             0              40           Cuba  <=50K  \n",
       "...             ...           ...             ...            ...    ...  \n",
       "32556             0             0              38  United-States  <=50K  \n",
       "32557             0             0              40  United-States   >50K  \n",
       "32558             0             0              40  United-States  <=50K  \n",
       "32559             0             0              20  United-States  <=50K  \n",
       "32560         15024             0              40  United-States   >50K  \n",
       "\n",
       "[32537 rows x 15 columns]"
      ]
     },
     "execution_count": 74,
     "metadata": {},
     "output_type": "execute_result"
    }
   ],
   "source": [
    "df"
   ]
  },
  {
   "cell_type": "code",
   "execution_count": 75,
   "id": "4b6d436a",
   "metadata": {
    "execution": {
     "iopub.execute_input": "2023-12-20T18:05:43.344436Z",
     "iopub.status.busy": "2023-12-20T18:05:43.343648Z",
     "iopub.status.idle": "2023-12-20T18:05:43.350322Z",
     "shell.execute_reply": "2023-12-20T18:05:43.349041Z"
    },
    "papermill": {
     "duration": 0.072956,
     "end_time": "2023-12-20T18:05:43.352848",
     "exception": false,
     "start_time": "2023-12-20T18:05:43.279892",
     "status": "completed"
    },
    "tags": []
   },
   "outputs": [],
   "source": [
    "def mapping_education(x):\n",
    "    if x in [\"Preschool\", \"1st-4th\", \"5th-6th\", \"7th-8th\", \"9th\", \"10th\", \"11th\", \"12th\"]:\n",
    "        return \"low_level_grade\"\n",
    "    elif x in [\"HS-grad\", \"Some-college\", \"Assoc-voc\", \"Assoc-acdm\"]:\n",
    "        return \"medium_level_grade\"\n",
    "    elif x in [\"Bachelors\", \"Masters\", \"Prof-school\", \"Doctorate\"]:\n",
    "        return \"high_level_grade\""
   ]
  },
  {
   "cell_type": "code",
   "execution_count": 76,
   "id": "50136753",
   "metadata": {
    "execution": {
     "iopub.execute_input": "2023-12-20T18:05:43.478763Z",
     "iopub.status.busy": "2023-12-20T18:05:43.478184Z",
     "iopub.status.idle": "2023-12-20T18:05:43.520236Z",
     "shell.execute_reply": "2023-12-20T18:05:43.518699Z"
    },
    "papermill": {
     "duration": 0.113029,
     "end_time": "2023-12-20T18:05:43.523331",
     "exception": false,
     "start_time": "2023-12-20T18:05:43.410302",
     "status": "completed"
    },
    "tags": []
   },
   "outputs": [
    {
     "data": {
      "text/plain": [
       "education\n",
       "medium_level_grade    20225\n",
       "high_level_grade       8064\n",
       "low_level_grade        4248\n",
       "Name: count, dtype: int64"
      ]
     },
     "execution_count": 76,
     "metadata": {},
     "output_type": "execute_result"
    }
   ],
   "source": [
    "df.education.apply(mapping_education).value_counts()"
   ]
  },
  {
   "cell_type": "code",
   "execution_count": 77,
   "id": "808ca819",
   "metadata": {
    "execution": {
     "iopub.execute_input": "2023-12-20T18:05:43.636935Z",
     "iopub.status.busy": "2023-12-20T18:05:43.636286Z",
     "iopub.status.idle": "2023-12-20T18:05:43.659317Z",
     "shell.execute_reply": "2023-12-20T18:05:43.658119Z"
    },
    "papermill": {
     "duration": 0.082978,
     "end_time": "2023-12-20T18:05:43.662307",
     "exception": false,
     "start_time": "2023-12-20T18:05:43.579329",
     "status": "completed"
    },
    "tags": []
   },
   "outputs": [],
   "source": [
    "df[\"education_summary\"]=df.education.apply(mapping_education)"
   ]
  },
  {
   "cell_type": "code",
   "execution_count": 78,
   "id": "c1263676",
   "metadata": {
    "execution": {
     "iopub.execute_input": "2023-12-20T18:05:43.777481Z",
     "iopub.status.busy": "2023-12-20T18:05:43.777053Z",
     "iopub.status.idle": "2023-12-20T18:05:43.797584Z",
     "shell.execute_reply": "2023-12-20T18:05:43.796503Z"
    },
    "papermill": {
     "duration": 0.081606,
     "end_time": "2023-12-20T18:05:43.800046",
     "exception": false,
     "start_time": "2023-12-20T18:05:43.718440",
     "status": "completed"
    },
    "tags": []
   },
   "outputs": [
    {
     "data": {
      "text/html": [
       "<div>\n",
       "<style scoped>\n",
       "    .dataframe tbody tr th:only-of-type {\n",
       "        vertical-align: middle;\n",
       "    }\n",
       "\n",
       "    .dataframe tbody tr th {\n",
       "        vertical-align: top;\n",
       "    }\n",
       "\n",
       "    .dataframe thead th {\n",
       "        text-align: right;\n",
       "    }\n",
       "</style>\n",
       "<table border=\"1\" class=\"dataframe\">\n",
       "  <thead>\n",
       "    <tr style=\"text-align: right;\">\n",
       "      <th></th>\n",
       "      <th>age</th>\n",
       "      <th>workclass</th>\n",
       "      <th>fnlwgt</th>\n",
       "      <th>education</th>\n",
       "      <th>education_num</th>\n",
       "      <th>marital_status</th>\n",
       "      <th>occupation</th>\n",
       "      <th>relationship</th>\n",
       "      <th>race</th>\n",
       "      <th>sex</th>\n",
       "      <th>capital_gain</th>\n",
       "      <th>capital_loss</th>\n",
       "      <th>hours_per_week</th>\n",
       "      <th>native_country</th>\n",
       "      <th>salary</th>\n",
       "      <th>education_summary</th>\n",
       "    </tr>\n",
       "  </thead>\n",
       "  <tbody>\n",
       "    <tr>\n",
       "      <th>0</th>\n",
       "      <td>39</td>\n",
       "      <td>State-gov</td>\n",
       "      <td>77516</td>\n",
       "      <td>Bachelors</td>\n",
       "      <td>13.0</td>\n",
       "      <td>Never-married</td>\n",
       "      <td>Adm-clerical</td>\n",
       "      <td>Not-in-family</td>\n",
       "      <td>White</td>\n",
       "      <td>Male</td>\n",
       "      <td>2174</td>\n",
       "      <td>0</td>\n",
       "      <td>40</td>\n",
       "      <td>United-States</td>\n",
       "      <td>&lt;=50K</td>\n",
       "      <td>high_level_grade</td>\n",
       "    </tr>\n",
       "    <tr>\n",
       "      <th>1</th>\n",
       "      <td>50</td>\n",
       "      <td>Self-emp-not-inc</td>\n",
       "      <td>83311</td>\n",
       "      <td>Bachelors</td>\n",
       "      <td>13.0</td>\n",
       "      <td>Married-civ-spouse</td>\n",
       "      <td>Exec-managerial</td>\n",
       "      <td>Husband</td>\n",
       "      <td>White</td>\n",
       "      <td>Male</td>\n",
       "      <td>0</td>\n",
       "      <td>0</td>\n",
       "      <td>13</td>\n",
       "      <td>United-States</td>\n",
       "      <td>&lt;=50K</td>\n",
       "      <td>high_level_grade</td>\n",
       "    </tr>\n",
       "    <tr>\n",
       "      <th>2</th>\n",
       "      <td>38</td>\n",
       "      <td>Private</td>\n",
       "      <td>215646</td>\n",
       "      <td>HS-grad</td>\n",
       "      <td>9.0</td>\n",
       "      <td>Divorced</td>\n",
       "      <td>Handlers-cleaners</td>\n",
       "      <td>Not-in-family</td>\n",
       "      <td>White</td>\n",
       "      <td>Male</td>\n",
       "      <td>0</td>\n",
       "      <td>0</td>\n",
       "      <td>40</td>\n",
       "      <td>United-States</td>\n",
       "      <td>&lt;=50K</td>\n",
       "      <td>medium_level_grade</td>\n",
       "    </tr>\n",
       "    <tr>\n",
       "      <th>3</th>\n",
       "      <td>53</td>\n",
       "      <td>Private</td>\n",
       "      <td>234721</td>\n",
       "      <td>11th</td>\n",
       "      <td>7.0</td>\n",
       "      <td>Married-civ-spouse</td>\n",
       "      <td>Handlers-cleaners</td>\n",
       "      <td>Husband</td>\n",
       "      <td>Black</td>\n",
       "      <td>Male</td>\n",
       "      <td>0</td>\n",
       "      <td>0</td>\n",
       "      <td>40</td>\n",
       "      <td>United-States</td>\n",
       "      <td>&lt;=50K</td>\n",
       "      <td>low_level_grade</td>\n",
       "    </tr>\n",
       "    <tr>\n",
       "      <th>4</th>\n",
       "      <td>28</td>\n",
       "      <td>Private</td>\n",
       "      <td>338409</td>\n",
       "      <td>Bachelors</td>\n",
       "      <td>13.0</td>\n",
       "      <td>Married-civ-spouse</td>\n",
       "      <td>Prof-specialty</td>\n",
       "      <td>Wife</td>\n",
       "      <td>Black</td>\n",
       "      <td>Female</td>\n",
       "      <td>0</td>\n",
       "      <td>0</td>\n",
       "      <td>40</td>\n",
       "      <td>Cuba</td>\n",
       "      <td>&lt;=50K</td>\n",
       "      <td>high_level_grade</td>\n",
       "    </tr>\n",
       "  </tbody>\n",
       "</table>\n",
       "</div>"
      ],
      "text/plain": [
       "   age         workclass  fnlwgt  education  education_num  \\\n",
       "0   39         State-gov   77516  Bachelors           13.0   \n",
       "1   50  Self-emp-not-inc   83311  Bachelors           13.0   \n",
       "2   38           Private  215646    HS-grad            9.0   \n",
       "3   53           Private  234721       11th            7.0   \n",
       "4   28           Private  338409  Bachelors           13.0   \n",
       "\n",
       "       marital_status         occupation   relationship   race     sex  \\\n",
       "0       Never-married       Adm-clerical  Not-in-family  White    Male   \n",
       "1  Married-civ-spouse    Exec-managerial        Husband  White    Male   \n",
       "2            Divorced  Handlers-cleaners  Not-in-family  White    Male   \n",
       "3  Married-civ-spouse  Handlers-cleaners        Husband  Black    Male   \n",
       "4  Married-civ-spouse     Prof-specialty           Wife  Black  Female   \n",
       "\n",
       "   capital_gain  capital_loss  hours_per_week native_country salary  \\\n",
       "0          2174             0              40  United-States  <=50K   \n",
       "1             0             0              13  United-States  <=50K   \n",
       "2             0             0              40  United-States  <=50K   \n",
       "3             0             0              40  United-States  <=50K   \n",
       "4             0             0              40           Cuba  <=50K   \n",
       "\n",
       "    education_summary  \n",
       "0    high_level_grade  \n",
       "1    high_level_grade  \n",
       "2  medium_level_grade  \n",
       "3     low_level_grade  \n",
       "4    high_level_grade  "
      ]
     },
     "execution_count": 78,
     "metadata": {},
     "output_type": "execute_result"
    }
   ],
   "source": [
    "df.head()"
   ]
  },
  {
   "cell_type": "markdown",
   "id": "5e1b0fe2",
   "metadata": {
    "papermill": {
     "duration": 0.056032,
     "end_time": "2023-12-20T18:05:43.914342",
     "exception": false,
     "start_time": "2023-12-20T18:05:43.858310",
     "status": "completed"
    },
    "tags": []
   },
   "source": []
  },
  {
   "cell_type": "markdown",
   "id": "c2992e41",
   "metadata": {
    "papermill": {
     "duration": 0.056676,
     "end_time": "2023-12-20T18:05:44.027058",
     "exception": false,
     "start_time": "2023-12-20T18:05:43.970382",
     "status": "completed"
    },
    "tags": []
   },
   "source": [
    "## Visualize the count of person in each categories for these new education levels (high, medium, low)"
   ]
  },
  {
   "cell_type": "code",
   "execution_count": 79,
   "id": "0894c922",
   "metadata": {
    "execution": {
     "iopub.execute_input": "2023-12-20T18:05:44.141612Z",
     "iopub.status.busy": "2023-12-20T18:05:44.141208Z",
     "iopub.status.idle": "2023-12-20T18:05:44.463275Z",
     "shell.execute_reply": "2023-12-20T18:05:44.462101Z"
    },
    "papermill": {
     "duration": 0.382636,
     "end_time": "2023-12-20T18:05:44.466038",
     "exception": false,
     "start_time": "2023-12-20T18:05:44.083402",
     "status": "completed"
    },
    "tags": []
   },
   "outputs": [
    {
     "data": {
      "image/png": "[encoded data removed]",
      "text/plain": [
       "<Figure size 1200x600 with 1 Axes>"
      ]
     },
     "metadata": {},
     "output_type": "display_data"
    }
   ],
   "source": [
    "plt.figure(figsize=(12,6))\n",
    "\n",
    "sns.countplot(x=\"education_summary\",data=df);"
   ]
  },
  {
   "cell_type": "markdown",
   "id": "127fef64",
   "metadata": {
    "papermill": {
     "duration": 0.056514,
     "end_time": "2023-12-20T18:05:44.584580",
     "exception": false,
     "start_time": "2023-12-20T18:05:44.528066",
     "status": "completed"
    },
    "tags": []
   },
   "source": []
  },
  {
   "cell_type": "markdown",
   "id": "560ce5b6",
   "metadata": {
    "papermill": {
     "duration": 0.05728,
     "end_time": "2023-12-20T18:05:44.698739",
     "exception": false,
     "start_time": "2023-12-20T18:05:44.641459",
     "status": "completed"
    },
    "tags": []
   },
   "source": [
    "Check the count of person in each \"salary\" levels by these new education levels(high, medium, low) and visualize it with countplot"
   ]
  },
  {
   "cell_type": "code",
   "execution_count": 80,
   "id": "2165dca7",
   "metadata": {
    "execution": {
     "iopub.execute_input": "2023-12-20T18:05:44.814490Z",
     "iopub.status.busy": "2023-12-20T18:05:44.814108Z",
     "iopub.status.idle": "2023-12-20T18:05:44.833280Z",
     "shell.execute_reply": "2023-12-20T18:05:44.832154Z"
    },
    "papermill": {
     "duration": 0.080377,
     "end_time": "2023-12-20T18:05:44.835986",
     "exception": false,
     "start_time": "2023-12-20T18:05:44.755609",
     "status": "completed"
    },
    "tags": []
   },
   "outputs": [
    {
     "data": {
      "text/plain": [
       "education_summary   salary\n",
       "high_level_grade    <=50K      4155\n",
       "                    >50K       3909\n",
       "low_level_grade     <=50K      4004\n",
       "                    >50K        244\n",
       "medium_level_grade  <=50K     16539\n",
       "                    >50K       3686\n",
       "Name: count, dtype: int64"
      ]
     },
     "execution_count": 80,
     "metadata": {},
     "output_type": "execute_result"
    }
   ],
   "source": [
    "df.groupby(\"education_summary\")[\"salary\"].value_counts()"
   ]
  },
  {
   "cell_type": "code",
   "execution_count": 81,
   "id": "155ddf01",
   "metadata": {
    "execution": {
     "iopub.execute_input": "2023-12-20T18:05:44.954178Z",
     "iopub.status.busy": "2023-12-20T18:05:44.953802Z",
     "iopub.status.idle": "2023-12-20T18:05:44.962989Z",
     "shell.execute_reply": "2023-12-20T18:05:44.961878Z"
    },
    "papermill": {
     "duration": 0.070127,
     "end_time": "2023-12-20T18:05:44.965158",
     "exception": false,
     "start_time": "2023-12-20T18:05:44.895031",
     "status": "completed"
    },
    "tags": []
   },
   "outputs": [
    {
     "data": {
      "text/plain": [
       "0          high_level_grade\n",
       "1          high_level_grade\n",
       "2        medium_level_grade\n",
       "3           low_level_grade\n",
       "4          high_level_grade\n",
       "                ...        \n",
       "32556    medium_level_grade\n",
       "32557    medium_level_grade\n",
       "32558    medium_level_grade\n",
       "32559    medium_level_grade\n",
       "32560    medium_level_grade\n",
       "Name: education_summary, Length: 32537, dtype: object"
      ]
     },
     "execution_count": 81,
     "metadata": {},
     "output_type": "execute_result"
    }
   ],
   "source": [
    "df.education_summary"
   ]
  },
  {
   "cell_type": "code",
   "execution_count": 82,
   "id": "0e0dae3b",
   "metadata": {
    "execution": {
     "iopub.execute_input": "2023-12-20T18:05:45.083275Z",
     "iopub.status.busy": "2023-12-20T18:05:45.082244Z",
     "iopub.status.idle": "2023-12-20T18:05:45.098817Z",
     "shell.execute_reply": "2023-12-20T18:05:45.097698Z"
    },
    "papermill": {
     "duration": 0.080128,
     "end_time": "2023-12-20T18:05:45.101858",
     "exception": false,
     "start_time": "2023-12-20T18:05:45.021730",
     "status": "completed"
    },
    "tags": []
   },
   "outputs": [
    {
     "data": {
      "text/plain": [
       "education_summary\n",
       "high_level_grade       8064\n",
       "low_level_grade        4248\n",
       "medium_level_grade    20225\n",
       "Name: salary, dtype: int64"
      ]
     },
     "execution_count": 82,
     "metadata": {},
     "output_type": "execute_result"
    }
   ],
   "source": [
    "df.groupby(\"education_summary\")[\"salary\"].count()"
   ]
  },
  {
   "cell_type": "code",
   "execution_count": 83,
   "id": "515b4a52",
   "metadata": {
    "execution": {
     "iopub.execute_input": "2023-12-20T18:05:45.219499Z",
     "iopub.status.busy": "2023-12-20T18:05:45.218839Z",
     "iopub.status.idle": "2023-12-20T18:05:45.238154Z",
     "shell.execute_reply": "2023-12-20T18:05:45.236913Z"
    },
    "papermill": {
     "duration": 0.081815,
     "end_time": "2023-12-20T18:05:45.240712",
     "exception": false,
     "start_time": "2023-12-20T18:05:45.158897",
     "status": "completed"
    },
    "tags": []
   },
   "outputs": [
    {
     "data": {
      "text/plain": [
       "education_summary   salary\n",
       "high_level_grade    <=50K      4155\n",
       "                    >50K       3909\n",
       "low_level_grade     <=50K      4004\n",
       "                    >50K        244\n",
       "medium_level_grade  <=50K     16539\n",
       "                    >50K       3686\n",
       "Name: count, dtype: int64"
      ]
     },
     "execution_count": 83,
     "metadata": {},
     "output_type": "execute_result"
    }
   ],
   "source": [
    "df.groupby(\"education_summary\")[\"salary\"].value_counts()"
   ]
  },
  {
   "cell_type": "raw",
   "id": "773db1ef",
   "metadata": {
    "papermill": {
     "duration": 0.0576,
     "end_time": "2023-12-20T18:05:45.356568",
     "exception": false,
     "start_time": "2023-12-20T18:05:45.298968",
     "status": "completed"
    },
    "tags": []
   },
   "source": []
  },
  {
   "cell_type": "code",
   "execution_count": null,
   "id": "95ced15a",
   "metadata": {
    "papermill": {
     "duration": 0.057523,
     "end_time": "2023-12-20T18:05:45.471182",
     "exception": false,
     "start_time": "2023-12-20T18:05:45.413659",
     "status": "completed"
    },
    "tags": []
   },
   "outputs": [],
   "source": []
  }
 ],
 "metadata": {
  "kaggle": {
   "accelerator": "none",
   "dataSources": [
    {
     "datasetId": 1916558,
     "sourceId": 3148964,
     "sourceType": "datasetVersion"
    }
   ],
   "dockerImageVersionId": 30587,
   "isGpuEnabled": false,
   "isInternetEnabled": false,
   "language": "python",
   "sourceType": "notebook"
  },
  "kernelspec": {
   "display_name": "Python 3",
   "language": "python",
   "name": "python3"
  },
  "language_info": {
   "codemirror_mode": {
    "name": "ipython",
    "version": 3
   },
   "file_extension": ".py",
   "mimetype": "text/x-python",
   "name": "python",
   "nbconvert_exporter": "python",
   "pygments_lexer": "ipython3",
   "version": "3.10.12"
  },
  "papermill": {
   "default_parameters": {},
   "duration": 30.123209,
   "end_time": "2023-12-20T18:05:46.254406",
   "environment_variables": {},
   "exception": null,
   "input_path": "__notebook__.ipynb",
   "output_path": "__notebook__.ipynb",
   "parameters": {},
   "start_time": "2023-12-20T18:05:16.131197",
   "version": "2.4.0"
  }
 },
 "nbformat": 4,
 "nbformat_minor": 5
}
